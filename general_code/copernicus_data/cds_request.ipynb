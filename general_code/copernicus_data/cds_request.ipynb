{
 "cells": [
  {
   "cell_type": "code",
   "execution_count": 1,
   "id": "3a93d3f9",
   "metadata": {},
   "outputs": [],
   "source": [
    "import xarray as xr\n",
    "from dask.diagnostics import ProgressBar\n",
    "import pandas as pd\n",
    "from shapely.geometry import Polygon, MultiPolygon, Point\n",
    "import geopandas as gpd\n",
    "import numpy as np\n",
    "import cartopy.crs as ccrs\n",
    "import cartopy.feature as cfeature\n",
    "from tqdm import tqdm  # Optional: For progress tracking\n",
    "\n",
    "import glob\n",
    "\n"
   ]
  },
  {
   "cell_type": "code",
   "execution_count": 2,
   "id": "641f96e6",
   "metadata": {},
   "outputs": [],
   "source": [
    "\n",
    "import unicodedata\n",
    "\n",
    "# Function to normalize the names\n",
    "def normalize_municipality_name(name):\n",
    "    if type(name) == float:\n",
    "        return name\n",
    "    else:\n",
    "        # Normalize the string (remove diacritical marks)\n",
    "        name_without_diacritics = unicodedata.normalize('NFKD', name).encode('ascii', 'ignore').decode('ascii')\n",
    "        # Convert to lowercase\n",
    "        return name_without_diacritics.lower()\n",
    "\n",
    "mun_gdf = gpd.read_file(r'/Volumes/Dhruv_External_Disk/portugal_borders/concelhos-shapefile/concelhos.shp')\n",
    "mun_metadata  = pd.read_excel(r'/Volumes/Dhruv_External_Disk/portugal_borders/concelhos-metadata.xlsx', dtype={'dicofre' : 'string'})\n",
    "mun_metadata = mun_metadata[['dicofre','designacao']]\n",
    "\n",
    "mun_gdf = mun_gdf.merge(mun_metadata, left_on='CCA_2', right_on='dicofre').drop(columns='NAME_2')\n",
    "mun_gdf = mun_gdf.rename(columns={'designacao': 'NAME_2'})\n",
    "mun_gdf['concelho'] = mun_gdf['NAME_2'].map(normalize_municipality_name)\n",
    "mun_gdf = mun_gdf[~mun_gdf['NAME_1'].isin(['Azores', 'Madeira'])]\n",
    "west_pt, south_pt, east_pt, north_pt = mun_gdf.total_bounds"
   ]
  },
  {
   "cell_type": "code",
   "execution_count": 3,
   "id": "ace6adf7",
   "metadata": {},
   "outputs": [],
   "source": [
    "nuts = gpd.read_file(r'/Volumes/Dhruv_External_Disk/portugal_borders/NUTS_RG_20M_2024_4326.shp/NUTS_RG_20M_2024_4326.shp')\n",
    "nuts['NUTS_NAME'] = nuts['NUTS_NAME'].map(normalize_municipality_name)\n",
    "\n",
    "nuts_iberia = nuts[(nuts['CNTR_CODE'].isin(['PT', 'ES'])) &  (nuts['LEVL_CODE'] == 2) & (~nuts['NUTS_NAME'].isin(['canarias', 'regiao autonoma dos acores', 'regiao autonoma da madeira', 'illes balears']))]\n",
    "west, south, east, north = nuts_iberia.total_bounds"
   ]
  },
  {
   "cell_type": "code",
   "execution_count": 4,
   "id": "e5bcf138",
   "metadata": {},
   "outputs": [
    {
     "data": {
      "text/plain": [
       "{'min_lat': 35.271704476000025,\n",
       " 'max_lat': 43.735114829000054,\n",
       " 'min_lon': -9.490672837999966,\n",
       " 'max_lon': 3.25861242000002}"
      ]
     },
     "execution_count": 4,
     "metadata": {},
     "output_type": "execute_result"
    }
   ],
   "source": [
    "IBERIA_BBOX = {\n",
    "    \"min_lat\": south,  # Minimum latitude\n",
    "    \"max_lat\": north,  # Maximum latitude\n",
    "    \"min_lon\": west,   # Minimum longitude\n",
    "    \"max_lon\": east    # Maximum longitude\n",
    "}\n",
    "IBERIA_BBOX"
   ]
  },
  {
   "cell_type": "code",
   "execution_count": null,
   "id": "b7264a4f",
   "metadata": {},
   "outputs": [
    {
     "name": "stdout",
     "output_type": "stream",
     "text": [
      "{'min_lat': 35.2, 'max_lat': 43.8, 'min_lon': -9.5, 'max_lon': 3.3}\n"
     ]
    }
   ],
   "source": [
    "# import math\n",
    "\n",
    "# def round_bbox(north, south, west, east):\n",
    "#     \"\"\"\n",
    "#     Round each coordinate to the nearest 0.1° according to:\n",
    "#       north, east -> round up\n",
    "#       south, west -> round down\n",
    "#     Returns a dict ready to drop into your CDS request.\n",
    "#     \"\"\"\n",
    "#     north_1dp = math.ceil(north * 10) / 10       # up\n",
    "#     south_1dp = math.floor(south * 10) / 10      # down\n",
    "#     east_1dp  = math.ceil(east  * 10) / 10       # up\n",
    "#     west_1dp  = math.floor(west  * 10) / 10      # down\n",
    "\n",
    "#     return {\n",
    "#         \"min_lat\": south_1dp,\n",
    "#         \"max_lat\": north_1dp,\n",
    "#         \"min_lon\": west_1dp,\n",
    "#         \"max_lon\": east_1dp\n",
    "#     }\n",
    "\n",
    "# # --- example ---\n",
    "\n",
    "# IBERIA_BBOX = round_bbox(north, south, west, east)\n",
    "# print(IBERIA_BBOX)\n"
   ]
  },
  {
   "cell_type": "markdown",
   "id": "dafba47c",
   "metadata": {},
   "source": [
    "### Daily Temperature Means"
   ]
  },
  {
   "cell_type": "code",
   "execution_count": 5,
   "id": "2bd00c7c",
   "metadata": {},
   "outputs": [],
   "source": [
    "import cdsapi, pathlib, time, concurrent.futures\n",
    "\n",
    "# ---- edit your bounding box here ----\n",
    "\n",
    "\n",
    "OUTDIR = pathlib.Path(\"/Volumes/Dhruv_External_Disk/climate_data/temperature/daily_data/daily_means\")\n",
    "OUTDIR.mkdir(parents=True, exist_ok=True)\n",
    "\n",
    "def _day_list():\n",
    "    return [f\"{d:02d}\" for d in range(1, 32)]\n",
    "def _month_list():\n",
    "    return [f\"{m:02d}\" for m in range(1, 13)]\n",
    "def _hour_list():\n",
    "    return [f\"{h:02d}:00\" for h in range(24)]\n"
   ]
  },
  {
   "cell_type": "code",
   "execution_count": 10,
   "id": "801bd1bc",
   "metadata": {},
   "outputs": [
    {
     "name": "stderr",
     "output_type": "stream",
     "text": [
      "2025-07-14 15:41:54,589 INFO [2024-09-26T00:00:00] Watch our [Forum](https://forum.ecmwf.int/) for Announcements, news and other discussed topics.\n",
      "2025-07-14 15:41:55,076 INFO Request ID is 3c83c91b-8775-4b28-8e56-5570b326aacc\n",
      "2025-07-14 15:41:55,167 INFO status has been updated to accepted\n",
      "2025-07-14 15:42:03,829 INFO status has been updated to running\n",
      "2025-07-14 16:00:15,912 INFO status has been updated to successful\n"
     ]
    },
    {
     "data": {
      "application/vnd.jupyter.widget-view+json": {
       "model_id": "c9e70d7b4e30472bbdcfa42fb4634ea5",
       "version_major": 2,
       "version_minor": 0
      },
      "text/plain": [
       "292f476247a6a62ba46fb8b6f24bf85c.nc:   0%|          | 0.00/6.25M [00:00<?, ?B/s]"
      ]
     },
     "metadata": {},
     "output_type": "display_data"
    },
    {
     "name": "stderr",
     "output_type": "stream",
     "text": [
      "2025-07-14 16:00:18,187 INFO [2024-09-26T00:00:00] Watch our [Forum](https://forum.ecmwf.int/) for Announcements, news and other discussed topics.\n",
      "2025-07-14 16:00:18,558 INFO Request ID is 25c4ef82-a811-4729-b61d-58cabd20f5fe\n",
      "2025-07-14 16:00:18,654 INFO status has been updated to accepted\n",
      "2025-07-14 16:00:39,906 INFO status has been updated to running\n",
      "2025-07-14 16:22:39,654 INFO status has been updated to successful\n"
     ]
    },
    {
     "data": {
      "application/vnd.jupyter.widget-view+json": {
       "model_id": "d68e5e96cbda40abaf3d23dbce4a0c5e",
       "version_major": 2,
       "version_minor": 0
      },
      "text/plain": [
       "a1b21fb8436c4ed2b49b10bd942ea4f0.nc:   0%|          | 0.00/6.24M [00:00<?, ?B/s]"
      ]
     },
     "metadata": {},
     "output_type": "display_data"
    },
    {
     "name": "stderr",
     "output_type": "stream",
     "text": [
      "2025-07-14 16:22:41,707 INFO [2024-09-26T00:00:00] Watch our [Forum](https://forum.ecmwf.int/) for Announcements, news and other discussed topics.\n",
      "2025-07-14 16:22:42,273 INFO Request ID is d6c5a592-48f4-45fe-a229-8e0b6c9cf331\n",
      "2025-07-14 16:22:42,347 INFO status has been updated to accepted\n",
      "2025-07-14 16:23:32,763 INFO status has been updated to running\n",
      "2025-07-14 16:41:03,729 INFO status has been updated to successful\n"
     ]
    },
    {
     "data": {
      "application/vnd.jupyter.widget-view+json": {
       "model_id": "f5d25fc3d0d047399be90905999a15a4",
       "version_major": 2,
       "version_minor": 0
      },
      "text/plain": [
       "1c3c24260d90b533f373fccf6ad96775.nc:   0%|          | 0.00/6.24M [00:00<?, ?B/s]"
      ]
     },
     "metadata": {},
     "output_type": "display_data"
    },
    {
     "name": "stderr",
     "output_type": "stream",
     "text": [
      "2025-07-14 16:41:15,416 INFO [2024-09-26T00:00:00] Watch our [Forum](https://forum.ecmwf.int/) for Announcements, news and other discussed topics.\n",
      "2025-07-14 16:41:15,645 INFO Request ID is 40c332f3-b2fe-4ff0-82dc-80ad8a0ab6e1\n",
      "2025-07-14 16:41:15,969 INFO status has been updated to accepted\n",
      "2025-07-14 16:41:37,270 INFO status has been updated to running\n",
      "2025-07-14 17:03:37,318 INFO status has been updated to successful\n"
     ]
    },
    {
     "data": {
      "application/vnd.jupyter.widget-view+json": {
       "model_id": "ec6e9402c2334a00ae11f4c36a01f449",
       "version_major": 2,
       "version_minor": 0
      },
      "text/plain": [
       "4df01bde22af53bd4c7466806c18d107.nc:   0%|          | 0.00/6.24M [00:00<?, ?B/s]"
      ]
     },
     "metadata": {},
     "output_type": "display_data"
    }
   ],
   "source": [
    "def download_daily_mean(year):\n",
    "    req = {\n",
    "        \"variable\": [\"2m_temperature\"],\n",
    "        \"year\": [str(year)],\n",
    "        \"month\": _month_list(),\n",
    "        \"day\": _day_list(),\n",
    "        \"daily_statistic\": \"daily_mean\",\n",
    "        \"time_zone\": \"utc+00:00\",\n",
    "        \"frequency\": \"1_hourly\",\n",
    "        \"area\": [north, west, south, \n",
    "        east],\n",
    "        \"format\": \"grib\"\n",
    "    }\n",
    "    target = OUTDIR / f\"tmean_daily_{year}.grib\"\n",
    "    if target.exists():\n",
    "        print(f\"✓ {target.name} exists - skip\"); return\n",
    "    cdsapi.Client().retrieve(\"derived-era5-land-daily-statistics\", req, str(target))\n",
    "\n",
    "for yr in range(2020, 2024): #was 1991\n",
    "    download_daily_mean(yr)\n"
   ]
  },
  {
   "cell_type": "code",
   "execution_count": 7,
   "id": "07a5c1ec",
   "metadata": {},
   "outputs": [
    {
     "name": "stderr",
     "output_type": "stream",
     "text": [
      "2025-07-17 15:16:03,922 INFO [2024-09-26T00:00:00] Watch our [Forum](https://forum.ecmwf.int/) for Announcements, news and other discussed topics.\n",
      "2025-07-17 15:16:04,334 INFO Request ID is cbcf7116-994d-436d-9d88-0eae484e9ca3\n",
      "2025-07-17 15:16:04,414 INFO status has been updated to accepted\n",
      "2025-07-17 15:16:54,672 INFO status has been updated to running\n",
      "2025-07-17 15:38:25,727 INFO status has been updated to successful\n"
     ]
    },
    {
     "data": {
      "application/vnd.jupyter.widget-view+json": {
       "model_id": "c75a774612484a0d9f024408576045f9",
       "version_major": 2,
       "version_minor": 0
      },
      "text/plain": [
       "5ae1c00f2811313214917ebb1b1194ca.nc:   0%|          | 0.00/6.23M [00:00<?, ?B/s]"
      ]
     },
     "metadata": {},
     "output_type": "display_data"
    },
    {
     "name": "stderr",
     "output_type": "stream",
     "text": [
      "2025-07-17 15:38:27,886 INFO [2024-09-26T00:00:00] Watch our [Forum](https://forum.ecmwf.int/) for Announcements, news and other discussed topics.\n",
      "2025-07-17 15:38:28,100 INFO Request ID is b6c50458-53db-476d-bb7d-c47a7169ac23\n",
      "2025-07-17 15:38:28,204 INFO status has been updated to accepted\n",
      "2025-07-17 15:39:00,987 INFO status has been updated to running\n",
      "2025-07-17 16:00:49,991 INFO status has been updated to successful\n"
     ]
    },
    {
     "data": {
      "application/vnd.jupyter.widget-view+json": {
       "model_id": "5d6759ffb5b4497083df5e63100bc2d4",
       "version_major": 2,
       "version_minor": 0
      },
      "text/plain": [
       "6b6ea35a5f0041e3bf51442d56a3652b.nc:   0%|          | 0.00/6.25M [00:00<?, ?B/s]"
      ]
     },
     "metadata": {},
     "output_type": "display_data"
    }
   ],
   "source": [
    "def download_daily_mean(year):\n",
    "    req = {\n",
    "        \"variable\": [\"2m_temperature\"],\n",
    "        \"year\": [str(year)],\n",
    "        \"month\": _month_list(),\n",
    "        \"day\": _day_list(),\n",
    "        \"daily_statistic\": \"daily_mean\",\n",
    "        \"time_zone\": \"utc+00:00\",\n",
    "        \"frequency\": \"1_hourly\",\n",
    "        \"area\": [IBERIA_BBOX['max_lat'], IBERIA_BBOX['min_lon'], IBERIA_BBOX['min_lat'], IBERIA_BBOX['max_lon']],\n",
    "        \"format\": \"grib\"\n",
    "    }\n",
    "    target = OUTDIR / f\"tmean_daily_{year}.grib\"\n",
    "    if target.exists():\n",
    "        print(f\"✓ {target.name} exists - skip\"); return\n",
    "    cdsapi.Client().retrieve(\"derived-era5-land-daily-statistics\", req, str(target))\n",
    "\n",
    "for yr in range(1959, 1961):\n",
    "    download_daily_mean(yr)\n"
   ]
  },
  {
   "cell_type": "markdown",
   "id": "fd6c8cec",
   "metadata": {},
   "source": [
    "### Daily Temperature Max"
   ]
  },
  {
   "cell_type": "code",
   "execution_count": 5,
   "id": "fe36e830",
   "metadata": {},
   "outputs": [],
   "source": [
    "import cdsapi, pathlib, time, concurrent.futures\n",
    "\n",
    "# ---- edit your bounding box here ----\n",
    "\n",
    "\n",
    "OUTDIR = pathlib.Path(\"/Volumes/Dhruv_External_Disk/climate_data/temperature/daily_data/daily_max\")\n",
    "OUTDIR.mkdir(parents=True, exist_ok=True)\n",
    "\n",
    "def _day_list():\n",
    "    return [f\"{d:02d}\" for d in range(1, 32)]\n",
    "def _month_list():\n",
    "    return [f\"{m:02d}\" for m in range(1, 13)]\n",
    "def _hour_list():\n",
    "    return [f\"{h:02d}:00\" for h in range(24)]\n"
   ]
  },
  {
   "cell_type": "code",
   "execution_count": 7,
   "id": "bc9ad8de",
   "metadata": {},
   "outputs": [
    {
     "name": "stderr",
     "output_type": "stream",
     "text": [
      "2025-09-05 10:55:24,697 INFO [2024-09-26T00:00:00] Watch our [Forum](https://forum.ecmwf.int/) for Announcements, news and other discussed topics.\n",
      "2025-09-05 10:55:24,964 INFO Request ID is 4299a29b-5549-47a2-a0c2-61606392333d\n",
      "2025-09-05 10:55:25,061 INFO status has been updated to accepted\n",
      "2025-09-05 10:55:38,868 INFO status has been updated to running\n",
      "2025-09-05 11:15:46,755 INFO status has been updated to successful\n"
     ]
    },
    {
     "data": {
      "application/vnd.jupyter.widget-view+json": {
       "model_id": "99de0dbd15cc45e9a6442583f4a8e3ad",
       "version_major": 2,
       "version_minor": 0
      },
      "text/plain": [
       "879ead4c4779094deb08eba5e94cb230.nc:   0%|          | 0.00/5.44M [00:00<?, ?B/s]"
      ]
     },
     "metadata": {},
     "output_type": "display_data"
    },
    {
     "name": "stderr",
     "output_type": "stream",
     "text": [
      "2025-09-05 11:15:49,140 INFO [2024-09-26T00:00:00] Watch our [Forum](https://forum.ecmwf.int/) for Announcements, news and other discussed topics.\n",
      "2025-09-05 11:15:49,403 INFO Request ID is a2ba8758-16b1-44dc-9319-2a1f2e57c7a0\n",
      "2025-09-05 11:15:49,485 INFO status has been updated to accepted\n",
      "2025-09-05 11:16:04,806 INFO status has been updated to running\n",
      "2025-09-05 11:36:13,561 INFO status has been updated to successful\n"
     ]
    },
    {
     "data": {
      "application/vnd.jupyter.widget-view+json": {
       "model_id": "ecf46fe353ea464aa76ed56590ec9caf",
       "version_major": 2,
       "version_minor": 0
      },
      "text/plain": [
       "1dd812ddbd3bf1b5cf3b98467a5a9a9a.nc:   0%|          | 0.00/5.43M [00:00<?, ?B/s]"
      ]
     },
     "metadata": {},
     "output_type": "display_data"
    },
    {
     "name": "stderr",
     "output_type": "stream",
     "text": [
      "2025-09-05 11:36:14,912 INFO [2024-09-26T00:00:00] Watch our [Forum](https://forum.ecmwf.int/) for Announcements, news and other discussed topics.\n",
      "2025-09-05 11:36:15,142 INFO Request ID is db00b656-6e0c-417a-8866-43105b137fdc\n",
      "2025-09-05 11:36:15,231 INFO status has been updated to accepted\n",
      "2025-09-05 11:36:23,758 INFO status has been updated to running\n",
      "2025-09-05 11:54:36,386 INFO status has been updated to successful\n"
     ]
    },
    {
     "data": {
      "application/vnd.jupyter.widget-view+json": {
       "model_id": "31a4573b01054b45a4f5be6072e5c4c4",
       "version_major": 2,
       "version_minor": 0
      },
      "text/plain": [
       "643b8babd95795c7abafcd82c7f6d356.nc:   0%|          | 0.00/5.43M [00:00<?, ?B/s]"
      ]
     },
     "metadata": {},
     "output_type": "display_data"
    },
    {
     "name": "stderr",
     "output_type": "stream",
     "text": [
      "2025-09-05 11:54:37,681 INFO [2024-09-26T00:00:00] Watch our [Forum](https://forum.ecmwf.int/) for Announcements, news and other discussed topics.\n",
      "2025-09-05 11:54:37,883 INFO Request ID is 8aba7c9c-4353-41a6-b334-f5f4252423b6\n",
      "2025-09-05 11:54:37,944 INFO status has been updated to accepted\n",
      "2025-09-05 11:55:12,908 INFO status has been updated to running\n",
      "2025-09-05 12:24:58,661 INFO status has been updated to successful\n"
     ]
    },
    {
     "data": {
      "application/vnd.jupyter.widget-view+json": {
       "model_id": "cc39eca14a42483c97256dcb7fc88df3",
       "version_major": 2,
       "version_minor": 0
      },
      "text/plain": [
       "26c8093415953cead1045e6211e1322c.nc:   0%|          | 0.00/5.46M [00:00<?, ?B/s]"
      ]
     },
     "metadata": {},
     "output_type": "display_data"
    },
    {
     "name": "stderr",
     "output_type": "stream",
     "text": [
      "2025-09-05 12:25:00,133 INFO [2024-09-26T00:00:00] Watch our [Forum](https://forum.ecmwf.int/) for Announcements, news and other discussed topics.\n",
      "2025-09-05 12:25:00,315 INFO Request ID is 703bfd4f-b9cd-4f49-b960-54b046c8a740\n",
      "2025-09-05 12:25:00,760 INFO status has been updated to accepted\n",
      "Recovering from connection error [('Connection aborted.', RemoteDisconnected('Remote end closed connection without response'))], attemps 1 of 500\n",
      "Retrying in 120 seconds\n",
      "2025-09-05 13:15:56,745 INFO status has been updated to successful\n"
     ]
    },
    {
     "data": {
      "application/vnd.jupyter.widget-view+json": {
       "model_id": "12a88199263241fe94715d4e6d0f64d1",
       "version_major": 2,
       "version_minor": 0
      },
      "text/plain": [
       "da49abc9378601a5ce05861a965d1082.nc:   0%|          | 0.00/5.44M [00:00<?, ?B/s]"
      ]
     },
     "metadata": {},
     "output_type": "display_data"
    }
   ],
   "source": [
    "def download_daily_mean(year):\n",
    "    req = {\n",
    "        \"variable\": [\"2m_temperature\"],\n",
    "        \"year\": [str(year)],\n",
    "        \"month\": _month_list(),\n",
    "        \"day\": _day_list(),\n",
    "        \"daily_statistic\": \"daily_maximum\",\n",
    "        \"time_zone\": \"utc+00:00\",\n",
    "        \"frequency\": \"1_hourly\",\n",
    "        \"area\": [north, west, south, \n",
    "        east],\n",
    "        \"format\": \"grib\"\n",
    "    }\n",
    "    target = OUTDIR / f\"tmean_daily_{year}.grib\"\n",
    "    if target.exists():\n",
    "        print(f\"✓ {target.name} exists - skip\"); return\n",
    "    cdsapi.Client().retrieve(\"derived-era5-land-daily-statistics\", req, str(target))\n",
    "\n",
    "for yr in [1981, 1982, 1974, 1960, 1953]: #was 1991\n",
    "    download_daily_mean(yr)\n"
   ]
  },
  {
   "cell_type": "code",
   "execution_count": 10,
   "id": "75f3758e",
   "metadata": {},
   "outputs": [
    {
     "name": "stderr",
     "output_type": "stream",
     "text": [
      "2025-09-09 12:00:24,615 INFO [2024-09-26T00:00:00] Watch our [Forum](https://forum.ecmwf.int/) for Announcements, news and other discussed topics.\n",
      "2025-09-09 12:00:24,834 INFO Request ID is de365a12-091b-489a-acbe-9523903e4a10\n",
      "2025-09-09 12:00:24,909 INFO status has been updated to accepted\n",
      "2025-09-09 12:00:38,634 INFO status has been updated to running\n",
      "2025-09-09 12:20:46,186 INFO status has been updated to successful\n"
     ]
    },
    {
     "data": {
      "application/vnd.jupyter.widget-view+json": {
       "model_id": "09ababa2763e4877b7d565b4e9814e09",
       "version_major": 2,
       "version_minor": 0
      },
      "text/plain": [
       "d4116d387399772111f5c59ff51403f2.nc:   0%|          | 0.00/5.46M [00:00<?, ?B/s]"
      ]
     },
     "metadata": {},
     "output_type": "display_data"
    },
    {
     "name": "stderr",
     "output_type": "stream",
     "text": [
      "2025-09-09 12:20:47,458 INFO [2024-09-26T00:00:00] Watch our [Forum](https://forum.ecmwf.int/) for Announcements, news and other discussed topics.\n",
      "2025-09-09 12:20:47,695 INFO Request ID is eaeeb1fa-1aa1-4db5-a372-5387452b32b6\n",
      "2025-09-09 12:20:47,761 INFO status has been updated to accepted\n",
      "2025-09-09 12:49:10,060 INFO status has been updated to running\n",
      "2025-09-09 13:07:12,900 INFO status has been updated to successful\n"
     ]
    },
    {
     "data": {
      "application/vnd.jupyter.widget-view+json": {
       "model_id": "1a5ac82a213b4612b301e2974637a86e",
       "version_major": 2,
       "version_minor": 0
      },
      "text/plain": [
       "47433ccf262f4d74a48f4e2249961e34.nc:   0%|          | 0.00/5.45M [00:00<?, ?B/s]"
      ]
     },
     "metadata": {},
     "output_type": "display_data"
    },
    {
     "name": "stderr",
     "output_type": "stream",
     "text": [
      "2025-09-09 13:07:15,785 INFO [2024-09-26T00:00:00] Watch our [Forum](https://forum.ecmwf.int/) for Announcements, news and other discussed topics.\n",
      "2025-09-09 13:07:16,111 INFO Request ID is 9f676624-27c2-4262-b853-b55e25aa774c\n",
      "2025-09-09 13:07:16,204 INFO status has been updated to accepted\n",
      "2025-09-09 13:19:36,443 INFO status has been updated to running\n",
      "2025-09-09 13:39:19,109 INFO status has been updated to successful\n"
     ]
    },
    {
     "data": {
      "application/vnd.jupyter.widget-view+json": {
       "model_id": "fd2bd8aa5198440aa0d834043a3e67a8",
       "version_major": 2,
       "version_minor": 0
      },
      "text/plain": [
       "cf980f59bf373187ac79006fe38b540b.nc:   0%|          | 0.00/5.45M [00:00<?, ?B/s]"
      ]
     },
     "metadata": {},
     "output_type": "display_data"
    },
    {
     "name": "stderr",
     "output_type": "stream",
     "text": [
      "2025-09-09 13:39:22,138 INFO [2024-09-26T00:00:00] Watch our [Forum](https://forum.ecmwf.int/) for Announcements, news and other discussed topics.\n",
      "2025-09-09 13:39:22,360 INFO Request ID is 1c5d4a5b-9d0a-41b2-a382-e5f28fdea45a\n",
      "2025-09-09 13:39:22,832 INFO status has been updated to accepted\n",
      "Recovering from connection error [('Connection aborted.', RemoteDisconnected('Remote end closed connection without response'))], attemps 1 of 500\n",
      "Retrying in 120 seconds\n",
      "2025-09-09 14:10:22,299 INFO status has been updated to running\n",
      "2025-09-09 14:30:25,885 INFO status has been updated to successful\n"
     ]
    },
    {
     "data": {
      "application/vnd.jupyter.widget-view+json": {
       "model_id": "42a98662649745869d667c0235b437c9",
       "version_major": 2,
       "version_minor": 0
      },
      "text/plain": [
       "8c625de81a80087b7caa460ef64beddc.nc:   0%|          | 0.00/5.45M [00:00<?, ?B/s]"
      ]
     },
     "metadata": {},
     "output_type": "display_data"
    },
    {
     "name": "stderr",
     "output_type": "stream",
     "text": [
      "2025-09-09 14:30:29,370 INFO [2024-09-26T00:00:00] Watch our [Forum](https://forum.ecmwf.int/) for Announcements, news and other discussed topics.\n",
      "2025-09-09 14:30:29,756 INFO Request ID is 0ea2f133-cf19-44f9-b1f1-99c1d6f12d05\n",
      "2025-09-09 14:30:29,957 INFO status has been updated to accepted\n",
      "2025-09-09 15:10:54,891 INFO status has been updated to running\n",
      "2025-09-09 15:30:57,302 INFO status has been updated to successful\n"
     ]
    },
    {
     "data": {
      "application/vnd.jupyter.widget-view+json": {
       "model_id": "1ec206d9c75d4db696d0c5e62da13dcf",
       "version_major": 2,
       "version_minor": 0
      },
      "text/plain": [
       "966b999b60ec669f46a63ceeb44718d5.nc:   0%|          | 0.00/5.47M [00:00<?, ?B/s]"
      ]
     },
     "metadata": {},
     "output_type": "display_data"
    },
    {
     "name": "stderr",
     "output_type": "stream",
     "text": [
      "2025-09-09 15:30:59,040 INFO [2024-09-26T00:00:00] Watch our [Forum](https://forum.ecmwf.int/) for Announcements, news and other discussed topics.\n",
      "2025-09-09 15:30:59,410 INFO Request ID is 976b7d2e-aeb6-44b1-be20-fb86733908b6\n",
      "2025-09-09 15:30:59,494 INFO status has been updated to accepted\n",
      "2025-09-09 16:45:27,641 INFO status has been updated to running\n",
      "2025-09-09 17:05:30,484 INFO status has been updated to successful\n"
     ]
    },
    {
     "data": {
      "application/vnd.jupyter.widget-view+json": {
       "model_id": "d57285f9be2348a89620145b478fc8ff",
       "version_major": 2,
       "version_minor": 0
      },
      "text/plain": [
       "8d1645d0d7723d1f8670667e8513bf15.nc:   0%|          | 0.00/5.45M [00:00<?, ?B/s]"
      ]
     },
     "metadata": {},
     "output_type": "display_data"
    }
   ],
   "source": [
    "def download_daily_mean(year):\n",
    "    req = {\n",
    "        \"variable\": [\"2m_temperature\"],\n",
    "        \"year\": [str(year)],\n",
    "        \"month\": _month_list(),\n",
    "        \"day\": _day_list(),\n",
    "        \"daily_statistic\": \"daily_maximum\",\n",
    "        \"time_zone\": \"utc+00:00\",\n",
    "        \"frequency\": \"1_hourly\",\n",
    "        \"area\": [north, west, south, \n",
    "        east],\n",
    "        \"format\": \"grib\"\n",
    "    }\n",
    "    target = OUTDIR / f\"tmean_daily_{year}.grib\"\n",
    "    if target.exists():\n",
    "        print(f\"✓ {target.name} exists - skip\"); return\n",
    "    cdsapi.Client().retrieve(\"derived-era5-land-daily-statistics\", req, str(target))\n",
    "\n",
    "for yr in range(2004, 2010): #was 1991\n",
    "    download_daily_mean(yr)\n"
   ]
  },
  {
   "cell_type": "code",
   "execution_count": 6,
   "id": "97b36f6a",
   "metadata": {},
   "outputs": [
    {
     "name": "stderr",
     "output_type": "stream",
     "text": [
      "2025-09-11 14:13:41,878 INFO [2024-09-26T00:00:00] Watch our [Forum](https://forum.ecmwf.int/) for Announcements, news and other discussed topics.\n",
      "2025-09-11 14:13:42,244 INFO Request ID is 44a71d1a-cba5-47e7-8e91-ecad4818a25c\n",
      "2025-09-11 14:13:42,321 INFO status has been updated to accepted\n",
      "Recovering from connection error [('Connection aborted.', RemoteDisconnected('Remote end closed connection without response'))], attemps 1 of 500\n",
      "Retrying in 120 seconds\n",
      "2025-09-11 15:31:32,409 INFO status has been updated to running\n",
      "2025-09-11 15:47:35,012 INFO status has been updated to successful\n"
     ]
    },
    {
     "data": {
      "application/vnd.jupyter.widget-view+json": {
       "model_id": "96250bc73d5449aa9640f877feb78ac0",
       "version_major": 2,
       "version_minor": 0
      },
      "text/plain": [
       "fbb9404c27283cda24ec3d4499db9d9f.nc:   0%|          | 0.00/5.45M [00:00<?, ?B/s]"
      ]
     },
     "metadata": {},
     "output_type": "display_data"
    },
    {
     "name": "stderr",
     "output_type": "stream",
     "text": [
      "2025-09-11 15:47:36,911 INFO [2024-09-26T00:00:00] Watch our [Forum](https://forum.ecmwf.int/) for Announcements, news and other discussed topics.\n",
      "2025-09-11 15:47:37,551 INFO Request ID is 540eaa80-5ddd-4ef0-a0ab-8c7807b7a5fd\n",
      "2025-09-11 15:47:37,635 INFO status has been updated to accepted\n",
      "2025-09-11 16:46:03,656 INFO status has been updated to running\n",
      "2025-09-11 17:02:06,037 INFO status has been updated to successful\n"
     ]
    },
    {
     "data": {
      "application/vnd.jupyter.widget-view+json": {
       "model_id": "5f5406e2a5f746ff8bde684111679ef2",
       "version_major": 2,
       "version_minor": 0
      },
      "text/plain": [
       "35f1216337644b6815c0a5d682cbce04.nc:   0%|          | 0.00/5.44M [00:00<?, ?B/s]"
      ]
     },
     "metadata": {},
     "output_type": "display_data"
    },
    {
     "name": "stderr",
     "output_type": "stream",
     "text": [
      "2025-09-11 17:02:08,108 INFO [2024-09-26T00:00:00] Watch our [Forum](https://forum.ecmwf.int/) for Announcements, news and other discussed topics.\n",
      "2025-09-11 17:02:08,332 INFO Request ID is fdcbdfec-bff9-4c89-9f5a-7b416bfb1bff\n",
      "2025-09-11 17:02:08,419 INFO status has been updated to accepted\n",
      "2025-09-11 17:53:48,662 INFO status has been updated to running\n",
      "Recovering from connection error [('Connection aborted.', RemoteDisconnected('Remote end closed connection without response'))], attemps 1 of 500\n",
      "Retrying in 120 seconds\n",
      "Recovering from connection error [HTTPSConnectionPool(host='cds.climate.copernicus.eu', port=443): Read timed out. (read timeout=60)], attemps 1 of 500\n",
      "Retrying in 120 seconds\n",
      "2025-09-11 18:14:41,571 INFO status has been updated to successful\n"
     ]
    },
    {
     "data": {
      "application/vnd.jupyter.widget-view+json": {
       "model_id": "b3b867494c7042129b2481f61d6f3e54",
       "version_major": 2,
       "version_minor": 0
      },
      "text/plain": [
       "b5d914729c7780e7092ae9b0d84402df.nc:   0%|          | 0.00/5.44M [00:00<?, ?B/s]"
      ]
     },
     "metadata": {},
     "output_type": "display_data"
    },
    {
     "name": "stderr",
     "output_type": "stream",
     "text": [
      "2025-09-11 18:14:44,826 INFO [2024-09-26T00:00:00] Watch our [Forum](https://forum.ecmwf.int/) for Announcements, news and other discussed topics.\n",
      "2025-09-11 18:14:45,271 INFO Request ID is c5cd7e9c-eabd-4e7e-9e54-43862e4c9773\n",
      "2025-09-11 18:14:45,348 INFO status has been updated to accepted\n",
      "Recovering from connection error [('Connection aborted.', RemoteDisconnected('Remote end closed connection without response'))], attemps 1 of 500\n",
      "Retrying in 120 seconds\n",
      "2025-09-11 18:57:09,420 INFO status has been updated to running\n",
      "Recovering from connection error [HTTPSConnectionPool(host='cds.climate.copernicus.eu', port=443): Read timed out. (read timeout=60)], attemps 1 of 500\n",
      "Retrying in 120 seconds\n",
      "2025-09-11 19:15:13,760 INFO status has been updated to successful\n"
     ]
    },
    {
     "data": {
      "application/vnd.jupyter.widget-view+json": {
       "model_id": "c9a6efd2e61f450580144b251aa28068",
       "version_major": 2,
       "version_minor": 0
      },
      "text/plain": [
       "c876f9a43f4a2192b45c0486ebeb3bd0.nc:   0%|          | 0.00/5.44M [00:00<?, ?B/s]"
      ]
     },
     "metadata": {},
     "output_type": "display_data"
    },
    {
     "name": "stderr",
     "output_type": "stream",
     "text": [
      "2025-09-11 19:15:15,707 INFO [2024-09-26T00:00:00] Watch our [Forum](https://forum.ecmwf.int/) for Announcements, news and other discussed topics.\n",
      "2025-09-11 19:15:15,948 INFO Request ID is fe3f11a7-8c48-436d-a04e-6fda49a09374\n",
      "2025-09-11 19:15:16,013 INFO status has been updated to accepted\n",
      "Recovering from connection error [HTTPSConnectionPool(host='cds.climate.copernicus.eu', port=443): Read timed out. (read timeout=60)], attemps 1 of 500\n",
      "Retrying in 120 seconds\n"
     ]
    },
    {
     "ename": "KeyboardInterrupt",
     "evalue": "",
     "output_type": "error",
     "traceback": [
      "\u001b[0;31m---------------------------------------------------------------------------\u001b[0m",
      "\u001b[0;31mKeyboardInterrupt\u001b[0m                         Traceback (most recent call last)",
      "Cell \u001b[0;32mIn[6], line 20\u001b[0m\n\u001b[1;32m     17\u001b[0m     cdsapi\u001b[38;5;241m.\u001b[39mClient()\u001b[38;5;241m.\u001b[39mretrieve(\u001b[38;5;124m\"\u001b[39m\u001b[38;5;124mderived-era5-land-daily-statistics\u001b[39m\u001b[38;5;124m\"\u001b[39m, req, \u001b[38;5;28mstr\u001b[39m(target))\n\u001b[1;32m     19\u001b[0m \u001b[38;5;28;01mfor\u001b[39;00m yr \u001b[38;5;129;01min\u001b[39;00m \u001b[38;5;28mrange\u001b[39m(\u001b[38;5;241m2020\u001b[39m, \u001b[38;5;241m2025\u001b[39m): \u001b[38;5;66;03m#was 1991\u001b[39;00m\n\u001b[0;32m---> 20\u001b[0m     \u001b[43mdownload_daily_mean\u001b[49m\u001b[43m(\u001b[49m\u001b[43myr\u001b[49m\u001b[43m)\u001b[49m\n",
      "Cell \u001b[0;32mIn[6], line 17\u001b[0m, in \u001b[0;36mdownload_daily_mean\u001b[0;34m(year)\u001b[0m\n\u001b[1;32m     15\u001b[0m \u001b[38;5;28;01mif\u001b[39;00m target\u001b[38;5;241m.\u001b[39mexists():\n\u001b[1;32m     16\u001b[0m     \u001b[38;5;28mprint\u001b[39m(\u001b[38;5;124mf\u001b[39m\u001b[38;5;124m\"\u001b[39m\u001b[38;5;124m✓ \u001b[39m\u001b[38;5;132;01m{\u001b[39;00mtarget\u001b[38;5;241m.\u001b[39mname\u001b[38;5;132;01m}\u001b[39;00m\u001b[38;5;124m exists - skip\u001b[39m\u001b[38;5;124m\"\u001b[39m); \u001b[38;5;28;01mreturn\u001b[39;00m\n\u001b[0;32m---> 17\u001b[0m \u001b[43mcdsapi\u001b[49m\u001b[38;5;241;43m.\u001b[39;49m\u001b[43mClient\u001b[49m\u001b[43m(\u001b[49m\u001b[43m)\u001b[49m\u001b[38;5;241;43m.\u001b[39;49m\u001b[43mretrieve\u001b[49m\u001b[43m(\u001b[49m\u001b[38;5;124;43m\"\u001b[39;49m\u001b[38;5;124;43mderived-era5-land-daily-statistics\u001b[39;49m\u001b[38;5;124;43m\"\u001b[39;49m\u001b[43m,\u001b[49m\u001b[43m \u001b[49m\u001b[43mreq\u001b[49m\u001b[43m,\u001b[49m\u001b[43m \u001b[49m\u001b[38;5;28;43mstr\u001b[39;49m\u001b[43m(\u001b[49m\u001b[43mtarget\u001b[49m\u001b[43m)\u001b[49m\u001b[43m)\u001b[49m\n",
      "File \u001b[0;32m/Library/Frameworks/Python.framework/Versions/3.12/lib/python3.12/site-packages/datapi/legacy_api_client.py:169\u001b[0m, in \u001b[0;36mLegacyApiClient.retrieve\u001b[0;34m(self, name, request, target)\u001b[0m\n\u001b[1;32m    167\u001b[0m submitted: Remote \u001b[38;5;241m|\u001b[39m Results\n\u001b[1;32m    168\u001b[0m \u001b[38;5;28;01mif\u001b[39;00m \u001b[38;5;28mself\u001b[39m\u001b[38;5;241m.\u001b[39mwait_until_complete:\n\u001b[0;32m--> 169\u001b[0m     submitted \u001b[38;5;241m=\u001b[39m \u001b[38;5;28;43mself\u001b[39;49m\u001b[38;5;241;43m.\u001b[39;49m\u001b[43mclient\u001b[49m\u001b[38;5;241;43m.\u001b[39;49m\u001b[43msubmit_and_wait_on_results\u001b[49m\u001b[43m(\u001b[49m\n\u001b[1;32m    170\u001b[0m \u001b[43m        \u001b[49m\u001b[43mcollection_id\u001b[49m\u001b[38;5;241;43m=\u001b[39;49m\u001b[43mname\u001b[49m\u001b[43m,\u001b[49m\n\u001b[1;32m    171\u001b[0m \u001b[43m        \u001b[49m\u001b[43mrequest\u001b[49m\u001b[38;5;241;43m=\u001b[39;49m\u001b[43mrequest\u001b[49m\u001b[43m,\u001b[49m\n\u001b[1;32m    172\u001b[0m \u001b[43m    \u001b[49m\u001b[43m)\u001b[49m\n\u001b[1;32m    173\u001b[0m \u001b[38;5;28;01melse\u001b[39;00m:\n\u001b[1;32m    174\u001b[0m     submitted \u001b[38;5;241m=\u001b[39m \u001b[38;5;28mself\u001b[39m\u001b[38;5;241m.\u001b[39mclient\u001b[38;5;241m.\u001b[39msubmit(\n\u001b[1;32m    175\u001b[0m         collection_id\u001b[38;5;241m=\u001b[39mname,\n\u001b[1;32m    176\u001b[0m         request\u001b[38;5;241m=\u001b[39mrequest,\n\u001b[1;32m    177\u001b[0m     )\n",
      "File \u001b[0;32m/Library/Frameworks/Python.framework/Versions/3.12/lib/python3.12/site-packages/datapi/api_client.py:413\u001b[0m, in \u001b[0;36mApiClient.submit_and_wait_on_results\u001b[0;34m(self, collection_id, request)\u001b[0m\n\u001b[1;32m    397\u001b[0m \u001b[38;5;28;01mdef\u001b[39;00m \u001b[38;5;21msubmit_and_wait_on_results\u001b[39m(\n\u001b[1;32m    398\u001b[0m     \u001b[38;5;28mself\u001b[39m, collection_id: \u001b[38;5;28mstr\u001b[39m, request: \u001b[38;5;28mdict\u001b[39m[\u001b[38;5;28mstr\u001b[39m, Any]\n\u001b[1;32m    399\u001b[0m ) \u001b[38;5;241m-\u001b[39m\u001b[38;5;241m>\u001b[39m datapi\u001b[38;5;241m.\u001b[39mResults:\n\u001b[1;32m    400\u001b[0m \u001b[38;5;250m    \u001b[39m\u001b[38;5;124;03m\"\"\"Submit a request and wait for the results to be ready.\u001b[39;00m\n\u001b[1;32m    401\u001b[0m \n\u001b[1;32m    402\u001b[0m \u001b[38;5;124;03m    Parameters\u001b[39;00m\n\u001b[0;32m   (...)\u001b[0m\n\u001b[1;32m    411\u001b[0m \u001b[38;5;124;03m    datapi.Results\u001b[39;00m\n\u001b[1;32m    412\u001b[0m \u001b[38;5;124;03m    \"\"\"\u001b[39;00m\n\u001b[0;32m--> 413\u001b[0m     \u001b[38;5;28;01mreturn\u001b[39;00m \u001b[38;5;28;43mself\u001b[39;49m\u001b[38;5;241;43m.\u001b[39;49m\u001b[43m_retrieve_api\u001b[49m\u001b[38;5;241;43m.\u001b[39;49m\u001b[43msubmit\u001b[49m\u001b[43m(\u001b[49m\u001b[43mcollection_id\u001b[49m\u001b[43m,\u001b[49m\u001b[43m \u001b[49m\u001b[43mrequest\u001b[49m\u001b[43m)\u001b[49m\u001b[38;5;241;43m.\u001b[39;49m\u001b[43mmake_results\u001b[49m\u001b[43m(\u001b[49m\u001b[43m)\u001b[49m\n",
      "File \u001b[0;32m/Library/Frameworks/Python.framework/Versions/3.12/lib/python3.12/site-packages/datapi/processing.py:489\u001b[0m, in \u001b[0;36mRemote.make_results\u001b[0;34m(self, wait)\u001b[0m\n\u001b[1;32m    487\u001b[0m \u001b[38;5;28;01mdef\u001b[39;00m \u001b[38;5;21mmake_results\u001b[39m(\u001b[38;5;28mself\u001b[39m, wait: \u001b[38;5;28mbool\u001b[39m \u001b[38;5;241m=\u001b[39m \u001b[38;5;28;01mTrue\u001b[39;00m) \u001b[38;5;241m-\u001b[39m\u001b[38;5;241m>\u001b[39m Results:\n\u001b[1;32m    488\u001b[0m     \u001b[38;5;28;01mif\u001b[39;00m wait:\n\u001b[0;32m--> 489\u001b[0m         \u001b[38;5;28;43mself\u001b[39;49m\u001b[38;5;241;43m.\u001b[39;49m\u001b[43m_wait_on_results\u001b[49m\u001b[43m(\u001b[49m\u001b[43m)\u001b[49m\n\u001b[1;32m    490\u001b[0m     response \u001b[38;5;241m=\u001b[39m \u001b[38;5;28mself\u001b[39m\u001b[38;5;241m.\u001b[39m_get_api_response(\u001b[38;5;124m\"\u001b[39m\u001b[38;5;124mget\u001b[39m\u001b[38;5;124m\"\u001b[39m)\n\u001b[1;32m    491\u001b[0m     \u001b[38;5;28;01mtry\u001b[39;00m:\n",
      "File \u001b[0;32m/Library/Frameworks/Python.framework/Versions/3.12/lib/python3.12/site-packages/datapi/processing.py:467\u001b[0m, in \u001b[0;36mRemote._wait_on_results\u001b[0;34m(self)\u001b[0m\n\u001b[1;32m    465\u001b[0m \u001b[38;5;28;01mdef\u001b[39;00m \u001b[38;5;21m_wait_on_results\u001b[39m(\u001b[38;5;28mself\u001b[39m) \u001b[38;5;241m-\u001b[39m\u001b[38;5;241m>\u001b[39m \u001b[38;5;28;01mNone\u001b[39;00m:\n\u001b[1;32m    466\u001b[0m     sleep \u001b[38;5;241m=\u001b[39m \u001b[38;5;241m1.0\u001b[39m\n\u001b[0;32m--> 467\u001b[0m     \u001b[38;5;28;01mwhile\u001b[39;00m \u001b[38;5;129;01mnot\u001b[39;00m \u001b[38;5;28;43mself\u001b[39;49m\u001b[38;5;241;43m.\u001b[39;49m\u001b[43mresults_ready\u001b[49m:\n\u001b[1;32m    468\u001b[0m         \u001b[38;5;28mself\u001b[39m\u001b[38;5;241m.\u001b[39mdebug(\u001b[38;5;124mf\u001b[39m\u001b[38;5;124m\"\u001b[39m\u001b[38;5;124mresults not ready, waiting for \u001b[39m\u001b[38;5;132;01m{\u001b[39;00msleep\u001b[38;5;132;01m}\u001b[39;00m\u001b[38;5;124m seconds\u001b[39m\u001b[38;5;124m\"\u001b[39m)\n\u001b[1;32m    469\u001b[0m         time\u001b[38;5;241m.\u001b[39msleep(sleep)\n",
      "File \u001b[0;32m/Library/Frameworks/Python.framework/Versions/3.12/lib/python3.12/site-packages/datapi/processing.py:475\u001b[0m, in \u001b[0;36mRemote.results_ready\u001b[0;34m(self)\u001b[0m\n\u001b[1;32m    472\u001b[0m \u001b[38;5;129m@property\u001b[39m\n\u001b[1;32m    473\u001b[0m \u001b[38;5;28;01mdef\u001b[39;00m \u001b[38;5;21mresults_ready\u001b[39m(\u001b[38;5;28mself\u001b[39m) \u001b[38;5;241m-\u001b[39m\u001b[38;5;241m>\u001b[39m \u001b[38;5;28mbool\u001b[39m:\n\u001b[1;32m    474\u001b[0m \u001b[38;5;250m    \u001b[39m\u001b[38;5;124;03m\"\"\"Check if results are ready.\"\"\"\u001b[39;00m\n\u001b[0;32m--> 475\u001b[0m     status \u001b[38;5;241m=\u001b[39m \u001b[38;5;28;43mself\u001b[39;49m\u001b[38;5;241;43m.\u001b[39;49m\u001b[43mstatus\u001b[49m\n\u001b[1;32m    476\u001b[0m     \u001b[38;5;28;01mif\u001b[39;00m status \u001b[38;5;241m==\u001b[39m \u001b[38;5;124m\"\u001b[39m\u001b[38;5;124msuccessful\u001b[39m\u001b[38;5;124m\"\u001b[39m:\n\u001b[1;32m    477\u001b[0m         \u001b[38;5;28;01mreturn\u001b[39;00m \u001b[38;5;28;01mTrue\u001b[39;00m\n",
      "File \u001b[0;32m/Library/Frameworks/Python.framework/Versions/3.12/lib/python3.12/site-packages/datapi/processing.py:439\u001b[0m, in \u001b[0;36mRemote.status\u001b[0;34m(self)\u001b[0m\n\u001b[1;32m    436\u001b[0m \u001b[38;5;129m@property\u001b[39m\n\u001b[1;32m    437\u001b[0m \u001b[38;5;28;01mdef\u001b[39;00m \u001b[38;5;21mstatus\u001b[39m(\u001b[38;5;28mself\u001b[39m) \u001b[38;5;241m-\u001b[39m\u001b[38;5;241m>\u001b[39m \u001b[38;5;28mstr\u001b[39m:\n\u001b[1;32m    438\u001b[0m \u001b[38;5;250m    \u001b[39m\u001b[38;5;124;03m\"\"\"Request status.\"\"\"\u001b[39;00m\n\u001b[0;32m--> 439\u001b[0m     reply \u001b[38;5;241m=\u001b[39m \u001b[38;5;28;43mself\u001b[39;49m\u001b[38;5;241;43m.\u001b[39;49m\u001b[43mjson\u001b[49m\n\u001b[1;32m    440\u001b[0m     \u001b[38;5;28mself\u001b[39m\u001b[38;5;241m.\u001b[39m_log_metadata(reply\u001b[38;5;241m.\u001b[39mget(\u001b[38;5;124m\"\u001b[39m\u001b[38;5;124mmetadata\u001b[39m\u001b[38;5;124m\"\u001b[39m, {}))\n\u001b[1;32m    442\u001b[0m     status \u001b[38;5;241m=\u001b[39m reply[\u001b[38;5;124m\"\u001b[39m\u001b[38;5;124mstatus\u001b[39m\u001b[38;5;124m\"\u001b[39m]\n",
      "File \u001b[0;32m/Library/Frameworks/Python.framework/Versions/3.12/lib/python3.12/site-packages/datapi/processing.py:424\u001b[0m, in \u001b[0;36mRemote.json\u001b[0;34m(self)\u001b[0m\n\u001b[1;32m    422\u001b[0m \u001b[38;5;28;01mif\u001b[39;00m \u001b[38;5;28mself\u001b[39m\u001b[38;5;241m.\u001b[39mlog_start_time:\n\u001b[1;32m    423\u001b[0m     params[\u001b[38;5;124m\"\u001b[39m\u001b[38;5;124mlogStartTime\u001b[39m\u001b[38;5;124m\"\u001b[39m] \u001b[38;5;241m=\u001b[39m \u001b[38;5;28mself\u001b[39m\u001b[38;5;241m.\u001b[39mlog_start_time\n\u001b[0;32m--> 424\u001b[0m \u001b[38;5;28;01mreturn\u001b[39;00m \u001b[38;5;28;43mself\u001b[39;49m\u001b[38;5;241;43m.\u001b[39;49m\u001b[43m_get_api_response\u001b[49m\u001b[43m(\u001b[49m\u001b[38;5;124;43m\"\u001b[39;49m\u001b[38;5;124;43mget\u001b[39;49m\u001b[38;5;124;43m\"\u001b[39;49m\u001b[43m,\u001b[49m\u001b[43m \u001b[49m\u001b[43mparams\u001b[49m\u001b[38;5;241;43m=\u001b[39;49m\u001b[43mparams\u001b[49m\u001b[43m)\u001b[49m\u001b[38;5;241m.\u001b[39m_json_dict\n",
      "File \u001b[0;32m/Library/Frameworks/Python.framework/Versions/3.12/lib/python3.12/site-packages/datapi/processing.py:409\u001b[0m, in \u001b[0;36mRemote._get_api_response\u001b[0;34m(self, method, **kwargs)\u001b[0m\n\u001b[1;32m    408\u001b[0m \u001b[38;5;28;01mdef\u001b[39;00m \u001b[38;5;21m_get_api_response\u001b[39m(\u001b[38;5;28mself\u001b[39m, method: \u001b[38;5;28mstr\u001b[39m, \u001b[38;5;241m*\u001b[39m\u001b[38;5;241m*\u001b[39mkwargs: Any) \u001b[38;5;241m-\u001b[39m\u001b[38;5;241m>\u001b[39m ApiResponse:\n\u001b[0;32m--> 409\u001b[0m     \u001b[38;5;28;01mreturn\u001b[39;00m \u001b[43mApiResponse\u001b[49m\u001b[38;5;241;43m.\u001b[39;49m\u001b[43mfrom_request\u001b[49m\u001b[43m(\u001b[49m\n\u001b[1;32m    410\u001b[0m \u001b[43m        \u001b[49m\u001b[43mmethod\u001b[49m\u001b[43m,\u001b[49m\u001b[43m \u001b[49m\u001b[38;5;28;43mself\u001b[39;49m\u001b[38;5;241;43m.\u001b[39;49m\u001b[43murl\u001b[49m\u001b[43m,\u001b[49m\u001b[43m \u001b[49m\u001b[38;5;241;43m*\u001b[39;49m\u001b[38;5;241;43m*\u001b[39;49m\u001b[38;5;28;43mself\u001b[39;49m\u001b[38;5;241;43m.\u001b[39;49m\u001b[43m_request_kwargs\u001b[49m\u001b[43m,\u001b[49m\u001b[43m \u001b[49m\u001b[38;5;241;43m*\u001b[39;49m\u001b[38;5;241;43m*\u001b[39;49m\u001b[43mkwargs\u001b[49m\n\u001b[1;32m    411\u001b[0m \u001b[43m    \u001b[49m\u001b[43m)\u001b[49m\n",
      "File \u001b[0;32m/Library/Frameworks/Python.framework/Versions/3.12/lib/python3.12/site-packages/datapi/processing.py:172\u001b[0m, in \u001b[0;36mApiResponse.from_request\u001b[0;34m(cls, method, url, headers, session, retry_options, request_options, download_options, sleep_max, cleanup, log_callback, log_messages, **kwargs)\u001b[0m\n\u001b[1;32m    166\u001b[0m inputs \u001b[38;5;241m=\u001b[39m kwargs\u001b[38;5;241m.\u001b[39mget(\u001b[38;5;124m\"\u001b[39m\u001b[38;5;124mjson\u001b[39m\u001b[38;5;124m\"\u001b[39m, {})\u001b[38;5;241m.\u001b[39mget(\u001b[38;5;124m\"\u001b[39m\u001b[38;5;124minputs\u001b[39m\u001b[38;5;124m\"\u001b[39m, {})\n\u001b[1;32m    167\u001b[0m log(\n\u001b[1;32m    168\u001b[0m     logging\u001b[38;5;241m.\u001b[39mDEBUG,\n\u001b[1;32m    169\u001b[0m     \u001b[38;5;124mf\u001b[39m\u001b[38;5;124m\"\u001b[39m\u001b[38;5;132;01m{\u001b[39;00mmethod\u001b[38;5;241m.\u001b[39mupper()\u001b[38;5;132;01m}\u001b[39;00m\u001b[38;5;124m \u001b[39m\u001b[38;5;132;01m{\u001b[39;00murl\u001b[38;5;132;01m}\u001b[39;00m\u001b[38;5;124m \u001b[39m\u001b[38;5;132;01m{\u001b[39;00minputs\u001b[38;5;250m \u001b[39m\u001b[38;5;129;01mor\u001b[39;00m\u001b[38;5;250m \u001b[39m\u001b[38;5;124m'\u001b[39m\u001b[38;5;124m'\u001b[39m\u001b[38;5;132;01m}\u001b[39;00m\u001b[38;5;124m\"\u001b[39m\u001b[38;5;241m.\u001b[39mstrip(),\n\u001b[1;32m    170\u001b[0m     callback\u001b[38;5;241m=\u001b[39mlog_callback,\n\u001b[1;32m    171\u001b[0m )\n\u001b[0;32m--> 172\u001b[0m response \u001b[38;5;241m=\u001b[39m \u001b[43mrobust_request\u001b[49m\u001b[43m(\u001b[49m\n\u001b[1;32m    173\u001b[0m \u001b[43m    \u001b[49m\u001b[43mmethod\u001b[49m\u001b[43m,\u001b[49m\u001b[43m \u001b[49m\u001b[43murl\u001b[49m\u001b[43m,\u001b[49m\u001b[43m \u001b[49m\u001b[43mheaders\u001b[49m\u001b[38;5;241;43m=\u001b[39;49m\u001b[43mheaders\u001b[49m\u001b[43m,\u001b[49m\u001b[43m \u001b[49m\u001b[38;5;241;43m*\u001b[39;49m\u001b[38;5;241;43m*\u001b[39;49m\u001b[43mrequest_options\u001b[49m\u001b[43m,\u001b[49m\u001b[43m \u001b[49m\u001b[38;5;241;43m*\u001b[39;49m\u001b[38;5;241;43m*\u001b[39;49m\u001b[43mkwargs\u001b[49m\n\u001b[1;32m    174\u001b[0m \u001b[43m\u001b[49m\u001b[43m)\u001b[49m\n\u001b[1;32m    175\u001b[0m log(logging\u001b[38;5;241m.\u001b[39mDEBUG, \u001b[38;5;124mf\u001b[39m\u001b[38;5;124m\"\u001b[39m\u001b[38;5;124mREPLY \u001b[39m\u001b[38;5;132;01m{\u001b[39;00mresponse\u001b[38;5;241m.\u001b[39mtext\u001b[38;5;132;01m}\u001b[39;00m\u001b[38;5;124m\"\u001b[39m, callback\u001b[38;5;241m=\u001b[39mlog_callback)\n\u001b[1;32m    177\u001b[0m cads_raise_for_status(response)\n",
      "File \u001b[0;32m/Library/Frameworks/Python.framework/Versions/3.12/lib/python3.12/site-packages/multiurl/http.py:521\u001b[0m, in \u001b[0;36mrobust.<locals>.wrapped\u001b[0;34m(url, *args, **kwargs)\u001b[0m\n\u001b[1;32m    519\u001b[0m \u001b[38;5;28;01melse\u001b[39;00m:\n\u001b[1;32m    520\u001b[0m     LOG\u001b[38;5;241m.\u001b[39mwarning(\u001b[38;5;124m\"\u001b[39m\u001b[38;5;124mRetrying in \u001b[39m\u001b[38;5;132;01m%s\u001b[39;00m\u001b[38;5;124m seconds\u001b[39m\u001b[38;5;124m\"\u001b[39m, retry_after)\n\u001b[0;32m--> 521\u001b[0m     \u001b[43mtime\u001b[49m\u001b[38;5;241;43m.\u001b[39;49m\u001b[43msleep\u001b[49m\u001b[43m(\u001b[49m\u001b[43mretry_after\u001b[49m\u001b[43m)\u001b[49m\n\u001b[1;32m    522\u001b[0m     LOG\u001b[38;5;241m.\u001b[39minfo(\u001b[38;5;124m\"\u001b[39m\u001b[38;5;124mRetrying now...\u001b[39m\u001b[38;5;124m\"\u001b[39m)\n",
      "\u001b[0;31mKeyboardInterrupt\u001b[0m: "
     ]
    }
   ],
   "source": [
    "def download_daily_mean(year):\n",
    "    req = {\n",
    "        \"variable\": [\"2m_temperature\"],\n",
    "        \"year\": [str(year)],\n",
    "        \"month\": _month_list(),\n",
    "        \"day\": _day_list(),\n",
    "        \"daily_statistic\": \"daily_maximum\",\n",
    "        \"time_zone\": \"utc+00:00\",\n",
    "        \"frequency\": \"1_hourly\",\n",
    "        \"area\": [north, west, south, \n",
    "        east],\n",
    "        \"format\": \"grib\"\n",
    "    }\n",
    "    target = OUTDIR / f\"tmean_daily_{year}.grib\"\n",
    "    if target.exists():\n",
    "        print(f\"✓ {target.name} exists - skip\"); return\n",
    "    cdsapi.Client().retrieve(\"derived-era5-land-daily-statistics\", req, str(target))\n",
    "\n",
    "for yr in range(2020, 2025): #was 1991\n",
    "    download_daily_mean(yr)\n"
   ]
  },
  {
   "cell_type": "markdown",
   "id": "63eb6e0d",
   "metadata": {},
   "source": [
    "### Daily Temperature Min"
   ]
  },
  {
   "cell_type": "code",
   "execution_count": 5,
   "id": "25649304",
   "metadata": {},
   "outputs": [],
   "source": [
    "import cdsapi, pathlib, time, concurrent.futures\n",
    "\n",
    "# ---- edit your bounding box here ----\n",
    "\n",
    "\n",
    "OUTDIR = pathlib.Path(\"/Volumes/Dhruv_External_Disk/climate_data/temperature/daily_data/daily_min\")\n",
    "OUTDIR.mkdir(parents=True, exist_ok=True)\n",
    "\n",
    "def _day_list():\n",
    "    return [f\"{d:02d}\" for d in range(1, 32)]\n",
    "def _month_list():\n",
    "    return [f\"{m:02d}\" for m in range(1, 13)]\n",
    "def _hour_list():\n",
    "    return [f\"{h:02d}:00\" for h in range(24)]\n"
   ]
  },
  {
   "cell_type": "code",
   "execution_count": null,
   "id": "8588f6a4",
   "metadata": {},
   "outputs": [
    {
     "name": "stderr",
     "output_type": "stream",
     "text": [
      "2025-09-18 11:34:38,276 INFO [2025-09-03T00:00:00] To improve our C3S service, we need to hear from you! Please complete this very short [survey](https://confluence.ecmwf.int/x/E7uBEQ/). Thank you.\n",
      "2025-09-18 11:34:38,277 INFO [2024-09-26T00:00:00] Watch our [Forum](https://forum.ecmwf.int/) for Announcements, news and other discussed topics.\n",
      "2025-09-18 11:34:38,571 INFO Request ID is 6399ed1b-f0cd-43ea-b73f-4aeb835dacfe\n",
      "2025-09-18 11:34:38,645 INFO status has been updated to accepted\n",
      "2025-09-18 11:34:47,101 INFO status has been updated to running\n",
      "2025-09-18 11:57:01,040 INFO status has been updated to successful\n"
     ]
    },
    {
     "data": {
      "application/vnd.jupyter.widget-view+json": {
       "model_id": "b7cb955805534a1e9d50e9a3aa484338",
       "version_major": 2,
       "version_minor": 0
      },
      "text/plain": [
       "8ad9065f68c274c8b46eff50f92a8137.nc:   0%|          | 0.00/5.48M [00:00<?, ?B/s]"
      ]
     },
     "metadata": {},
     "output_type": "display_data"
    },
    {
     "name": "stderr",
     "output_type": "stream",
     "text": [
      "2025-09-18 11:57:03,181 INFO [2025-09-03T00:00:00] To improve our C3S service, we need to hear from you! Please complete this very short [survey](https://confluence.ecmwf.int/x/E7uBEQ/). Thank you.\n",
      "2025-09-18 11:57:03,182 INFO [2024-09-26T00:00:00] Watch our [Forum](https://forum.ecmwf.int/) for Announcements, news and other discussed topics.\n",
      "2025-09-18 11:57:03,614 INFO Request ID is 9236297b-80e3-4f2c-a8f3-fb7afdf3633e\n",
      "2025-09-18 11:57:03,693 INFO status has been updated to accepted\n",
      "Recovering from HTTP error [500 Internal Server Error], attemps 1 of 500\n",
      "Retrying in 120 seconds\n",
      "Recovering from HTTP error [500 Internal Server Error], attemps 1 of 500\n",
      "Retrying in 120 seconds\n",
      "Recovering from HTTP error [500 Internal Server Error], attemps 2 of 500\n",
      "Retrying in 120 seconds\n",
      "Recovering from connection error [('Connection aborted.', RemoteDisconnected('Remote end closed connection without response'))], attemps 1 of 500\n",
      "Retrying in 120 seconds\n",
      "2025-09-18 13:19:40,073 INFO status has been updated to running\n",
      "Recovering from connection error [('Connection aborted.', RemoteDisconnected('Remote end closed connection without response'))], attemps 1 of 500\n",
      "Retrying in 120 seconds\n",
      "2025-09-18 13:36:51,835 INFO status has been updated to successful\n"
     ]
    },
    {
     "data": {
      "application/vnd.jupyter.widget-view+json": {
       "model_id": "b2b47ab0c38c470198038fe4ff5da617",
       "version_major": 2,
       "version_minor": 0
      },
      "text/plain": [
       "151e52cdca165892d85e7fd2e82fa4a9.nc:   0%|          | 0.00/5.49M [00:00<?, ?B/s]"
      ]
     },
     "metadata": {},
     "output_type": "display_data"
    },
    {
     "name": "stderr",
     "output_type": "stream",
     "text": [
      "2025-09-18 13:36:54,685 INFO [2025-09-03T00:00:00] To improve our C3S service, we need to hear from you! Please complete this very short [survey](https://confluence.ecmwf.int/x/E7uBEQ/). Thank you.\n",
      "2025-09-18 13:36:54,686 INFO [2024-09-26T00:00:00] Watch our [Forum](https://forum.ecmwf.int/) for Announcements, news and other discussed topics.\n",
      "2025-09-18 13:36:54,934 INFO Request ID is 2c094c1b-6b51-40a6-b136-1e208014604b\n",
      "2025-09-18 13:36:55,180 INFO status has been updated to accepted\n",
      "Recovering from HTTP error [500 Internal Server Error], attemps 1 of 500\n",
      "Retrying in 120 seconds\n",
      "2025-09-18 14:46:18,472 INFO status has been updated to running\n",
      "Recovering from HTTP error [500 Internal Server Error], attemps 1 of 500\n",
      "Retrying in 120 seconds\n",
      "Recovering from HTTP error [500 Internal Server Error], attemps 1 of 500\n",
      "Retrying in 120 seconds\n",
      "2025-09-18 15:04:28,370 INFO status has been updated to successful\n"
     ]
    },
    {
     "data": {
      "application/vnd.jupyter.widget-view+json": {
       "model_id": "1bc5552cfd78482f946a280dd04f1487",
       "version_major": 2,
       "version_minor": 0
      },
      "text/plain": [
       "1f703b936afd7c99b49d05ad64d06381.nc:   0%|          | 0.00/5.48M [00:00<?, ?B/s]"
      ]
     },
     "metadata": {},
     "output_type": "display_data"
    },
    {
     "name": "stderr",
     "output_type": "stream",
     "text": [
      "2025-09-18 15:04:30,736 INFO [2025-09-03T00:00:00] To improve our C3S service, we need to hear from you! Please complete this very short [survey](https://confluence.ecmwf.int/x/E7uBEQ/). Thank you.\n",
      "2025-09-18 15:04:30,737 INFO [2024-09-26T00:00:00] Watch our [Forum](https://forum.ecmwf.int/) for Announcements, news and other discussed topics.\n",
      "2025-09-18 15:04:31,371 INFO Request ID is c98e7027-9dbc-4f27-8181-cc9cee7bba38\n",
      "2025-09-18 15:04:31,563 INFO status has been updated to accepted\n",
      "Recovering from HTTP error [500 Internal Server Error], attemps 1 of 500\n",
      "Retrying in 120 seconds\n",
      "Recovering from HTTP error [500 Internal Server Error], attemps 2 of 500\n",
      "Retrying in 120 seconds\n",
      "Recovering from HTTP error [500 Internal Server Error], attemps 1 of 500\n",
      "Retrying in 120 seconds\n",
      "Recovering from HTTP error [500 Internal Server Error], attemps 1 of 500\n",
      "Retrying in 120 seconds\n",
      "2025-09-18 16:39:47,571 INFO status has been updated to running\n",
      "2025-09-18 17:08:07,209 INFO status has been updated to successful\n"
     ]
    },
    {
     "data": {
      "application/vnd.jupyter.widget-view+json": {
       "model_id": "168b65b0f56741f1861303cd0388878a",
       "version_major": 2,
       "version_minor": 0
      },
      "text/plain": [
       "481377163f06766147991b21203c57b8.nc:   0%|          | 0.00/5.48M [00:00<?, ?B/s]"
      ]
     },
     "metadata": {},
     "output_type": "display_data"
    },
    {
     "name": "stderr",
     "output_type": "stream",
     "text": [
      "2025-09-18 17:08:09,591 INFO [2025-09-03T00:00:00] To improve our C3S service, we need to hear from you! Please complete this very short [survey](https://confluence.ecmwf.int/x/E7uBEQ/). Thank you.\n",
      "2025-09-18 17:08:09,592 INFO [2024-09-26T00:00:00] Watch our [Forum](https://forum.ecmwf.int/) for Announcements, news and other discussed topics.\n",
      "2025-09-18 17:08:09,805 INFO Request ID is 8b8952b0-729a-48e3-ad17-79ad8e333fa6\n",
      "2025-09-18 17:08:10,034 INFO status has been updated to accepted\n",
      "Recovering from connection error [('Connection aborted.', RemoteDisconnected('Remote end closed connection without response'))], attemps 1 of 500\n",
      "Retrying in 120 seconds\n"
     ]
    },
    {
     "ename": "KeyboardInterrupt",
     "evalue": "",
     "output_type": "error",
     "traceback": [
      "\u001b[0;31m---------------------------------------------------------------------------\u001b[0m",
      "\u001b[0;31mKeyboardInterrupt\u001b[0m                         Traceback (most recent call last)",
      "Cell \u001b[0;32mIn[6], line 20\u001b[0m\n\u001b[1;32m     17\u001b[0m     cdsapi\u001b[38;5;241m.\u001b[39mClient()\u001b[38;5;241m.\u001b[39mretrieve(\u001b[38;5;124m\"\u001b[39m\u001b[38;5;124mderived-era5-land-daily-statistics\u001b[39m\u001b[38;5;124m\"\u001b[39m, req, \u001b[38;5;28mstr\u001b[39m(target))\n\u001b[1;32m     19\u001b[0m \u001b[38;5;28;01mfor\u001b[39;00m yr \u001b[38;5;129;01min\u001b[39;00m \u001b[38;5;28mrange\u001b[39m(\u001b[38;5;241m1967\u001b[39m, \u001b[38;5;241m1980\u001b[39m): \u001b[38;5;66;03m#was 1991\u001b[39;00m\n\u001b[0;32m---> 20\u001b[0m     \u001b[43mdownload_daily_mean\u001b[49m\u001b[43m(\u001b[49m\u001b[43myr\u001b[49m\u001b[43m)\u001b[49m\n",
      "Cell \u001b[0;32mIn[6], line 17\u001b[0m, in \u001b[0;36mdownload_daily_mean\u001b[0;34m(year)\u001b[0m\n\u001b[1;32m     15\u001b[0m \u001b[38;5;28;01mif\u001b[39;00m target\u001b[38;5;241m.\u001b[39mexists():\n\u001b[1;32m     16\u001b[0m     \u001b[38;5;28mprint\u001b[39m(\u001b[38;5;124mf\u001b[39m\u001b[38;5;124m\"\u001b[39m\u001b[38;5;124m✓ \u001b[39m\u001b[38;5;132;01m{\u001b[39;00mtarget\u001b[38;5;241m.\u001b[39mname\u001b[38;5;132;01m}\u001b[39;00m\u001b[38;5;124m exists - skip\u001b[39m\u001b[38;5;124m\"\u001b[39m); \u001b[38;5;28;01mreturn\u001b[39;00m\n\u001b[0;32m---> 17\u001b[0m \u001b[43mcdsapi\u001b[49m\u001b[38;5;241;43m.\u001b[39;49m\u001b[43mClient\u001b[49m\u001b[43m(\u001b[49m\u001b[43m)\u001b[49m\u001b[38;5;241;43m.\u001b[39;49m\u001b[43mretrieve\u001b[49m\u001b[43m(\u001b[49m\u001b[38;5;124;43m\"\u001b[39;49m\u001b[38;5;124;43mderived-era5-land-daily-statistics\u001b[39;49m\u001b[38;5;124;43m\"\u001b[39;49m\u001b[43m,\u001b[49m\u001b[43m \u001b[49m\u001b[43mreq\u001b[49m\u001b[43m,\u001b[49m\u001b[43m \u001b[49m\u001b[38;5;28;43mstr\u001b[39;49m\u001b[43m(\u001b[49m\u001b[43mtarget\u001b[49m\u001b[43m)\u001b[49m\u001b[43m)\u001b[49m\n",
      "File \u001b[0;32m/Library/Frameworks/Python.framework/Versions/3.12/lib/python3.12/site-packages/datapi/legacy_api_client.py:169\u001b[0m, in \u001b[0;36mLegacyApiClient.retrieve\u001b[0;34m(self, name, request, target)\u001b[0m\n\u001b[1;32m    167\u001b[0m submitted: Remote \u001b[38;5;241m|\u001b[39m Results\n\u001b[1;32m    168\u001b[0m \u001b[38;5;28;01mif\u001b[39;00m \u001b[38;5;28mself\u001b[39m\u001b[38;5;241m.\u001b[39mwait_until_complete:\n\u001b[0;32m--> 169\u001b[0m     submitted \u001b[38;5;241m=\u001b[39m \u001b[38;5;28;43mself\u001b[39;49m\u001b[38;5;241;43m.\u001b[39;49m\u001b[43mclient\u001b[49m\u001b[38;5;241;43m.\u001b[39;49m\u001b[43msubmit_and_wait_on_results\u001b[49m\u001b[43m(\u001b[49m\n\u001b[1;32m    170\u001b[0m \u001b[43m        \u001b[49m\u001b[43mcollection_id\u001b[49m\u001b[38;5;241;43m=\u001b[39;49m\u001b[43mname\u001b[49m\u001b[43m,\u001b[49m\n\u001b[1;32m    171\u001b[0m \u001b[43m        \u001b[49m\u001b[43mrequest\u001b[49m\u001b[38;5;241;43m=\u001b[39;49m\u001b[43mrequest\u001b[49m\u001b[43m,\u001b[49m\n\u001b[1;32m    172\u001b[0m \u001b[43m    \u001b[49m\u001b[43m)\u001b[49m\n\u001b[1;32m    173\u001b[0m \u001b[38;5;28;01melse\u001b[39;00m:\n\u001b[1;32m    174\u001b[0m     submitted \u001b[38;5;241m=\u001b[39m \u001b[38;5;28mself\u001b[39m\u001b[38;5;241m.\u001b[39mclient\u001b[38;5;241m.\u001b[39msubmit(\n\u001b[1;32m    175\u001b[0m         collection_id\u001b[38;5;241m=\u001b[39mname,\n\u001b[1;32m    176\u001b[0m         request\u001b[38;5;241m=\u001b[39mrequest,\n\u001b[1;32m    177\u001b[0m     )\n",
      "File \u001b[0;32m/Library/Frameworks/Python.framework/Versions/3.12/lib/python3.12/site-packages/datapi/api_client.py:413\u001b[0m, in \u001b[0;36mApiClient.submit_and_wait_on_results\u001b[0;34m(self, collection_id, request)\u001b[0m\n\u001b[1;32m    397\u001b[0m \u001b[38;5;28;01mdef\u001b[39;00m \u001b[38;5;21msubmit_and_wait_on_results\u001b[39m(\n\u001b[1;32m    398\u001b[0m     \u001b[38;5;28mself\u001b[39m, collection_id: \u001b[38;5;28mstr\u001b[39m, request: \u001b[38;5;28mdict\u001b[39m[\u001b[38;5;28mstr\u001b[39m, Any]\n\u001b[1;32m    399\u001b[0m ) \u001b[38;5;241m-\u001b[39m\u001b[38;5;241m>\u001b[39m datapi\u001b[38;5;241m.\u001b[39mResults:\n\u001b[1;32m    400\u001b[0m \u001b[38;5;250m    \u001b[39m\u001b[38;5;124;03m\"\"\"Submit a request and wait for the results to be ready.\u001b[39;00m\n\u001b[1;32m    401\u001b[0m \n\u001b[1;32m    402\u001b[0m \u001b[38;5;124;03m    Parameters\u001b[39;00m\n\u001b[0;32m   (...)\u001b[0m\n\u001b[1;32m    411\u001b[0m \u001b[38;5;124;03m    datapi.Results\u001b[39;00m\n\u001b[1;32m    412\u001b[0m \u001b[38;5;124;03m    \"\"\"\u001b[39;00m\n\u001b[0;32m--> 413\u001b[0m     \u001b[38;5;28;01mreturn\u001b[39;00m \u001b[38;5;28;43mself\u001b[39;49m\u001b[38;5;241;43m.\u001b[39;49m\u001b[43m_retrieve_api\u001b[49m\u001b[38;5;241;43m.\u001b[39;49m\u001b[43msubmit\u001b[49m\u001b[43m(\u001b[49m\u001b[43mcollection_id\u001b[49m\u001b[43m,\u001b[49m\u001b[43m \u001b[49m\u001b[43mrequest\u001b[49m\u001b[43m)\u001b[49m\u001b[38;5;241;43m.\u001b[39;49m\u001b[43mmake_results\u001b[49m\u001b[43m(\u001b[49m\u001b[43m)\u001b[49m\n",
      "File \u001b[0;32m/Library/Frameworks/Python.framework/Versions/3.12/lib/python3.12/site-packages/datapi/processing.py:489\u001b[0m, in \u001b[0;36mRemote.make_results\u001b[0;34m(self, wait)\u001b[0m\n\u001b[1;32m    487\u001b[0m \u001b[38;5;28;01mdef\u001b[39;00m \u001b[38;5;21mmake_results\u001b[39m(\u001b[38;5;28mself\u001b[39m, wait: \u001b[38;5;28mbool\u001b[39m \u001b[38;5;241m=\u001b[39m \u001b[38;5;28;01mTrue\u001b[39;00m) \u001b[38;5;241m-\u001b[39m\u001b[38;5;241m>\u001b[39m Results:\n\u001b[1;32m    488\u001b[0m     \u001b[38;5;28;01mif\u001b[39;00m wait:\n\u001b[0;32m--> 489\u001b[0m         \u001b[38;5;28;43mself\u001b[39;49m\u001b[38;5;241;43m.\u001b[39;49m\u001b[43m_wait_on_results\u001b[49m\u001b[43m(\u001b[49m\u001b[43m)\u001b[49m\n\u001b[1;32m    490\u001b[0m     response \u001b[38;5;241m=\u001b[39m \u001b[38;5;28mself\u001b[39m\u001b[38;5;241m.\u001b[39m_get_api_response(\u001b[38;5;124m\"\u001b[39m\u001b[38;5;124mget\u001b[39m\u001b[38;5;124m\"\u001b[39m)\n\u001b[1;32m    491\u001b[0m     \u001b[38;5;28;01mtry\u001b[39;00m:\n",
      "File \u001b[0;32m/Library/Frameworks/Python.framework/Versions/3.12/lib/python3.12/site-packages/datapi/processing.py:469\u001b[0m, in \u001b[0;36mRemote._wait_on_results\u001b[0;34m(self)\u001b[0m\n\u001b[1;32m    467\u001b[0m \u001b[38;5;28;01mwhile\u001b[39;00m \u001b[38;5;129;01mnot\u001b[39;00m \u001b[38;5;28mself\u001b[39m\u001b[38;5;241m.\u001b[39mresults_ready:\n\u001b[1;32m    468\u001b[0m     \u001b[38;5;28mself\u001b[39m\u001b[38;5;241m.\u001b[39mdebug(\u001b[38;5;124mf\u001b[39m\u001b[38;5;124m\"\u001b[39m\u001b[38;5;124mresults not ready, waiting for \u001b[39m\u001b[38;5;132;01m{\u001b[39;00msleep\u001b[38;5;132;01m}\u001b[39;00m\u001b[38;5;124m seconds\u001b[39m\u001b[38;5;124m\"\u001b[39m)\n\u001b[0;32m--> 469\u001b[0m     \u001b[43mtime\u001b[49m\u001b[38;5;241;43m.\u001b[39;49m\u001b[43msleep\u001b[49m\u001b[43m(\u001b[49m\u001b[43msleep\u001b[49m\u001b[43m)\u001b[49m\n\u001b[1;32m    470\u001b[0m     sleep \u001b[38;5;241m=\u001b[39m \u001b[38;5;28mmin\u001b[39m(sleep \u001b[38;5;241m*\u001b[39m \u001b[38;5;241m1.5\u001b[39m, \u001b[38;5;28mself\u001b[39m\u001b[38;5;241m.\u001b[39msleep_max)\n",
      "\u001b[0;31mKeyboardInterrupt\u001b[0m: "
     ]
    }
   ],
   "source": [
    "def download_daily_mean(year):\n",
    "    req = {\n",
    "        \"variable\": [\"2m_temperature\"],\n",
    "        \"year\": [str(year)],\n",
    "        \"month\": _month_list(),\n",
    "        \"day\": _day_list(),\n",
    "        \"daily_statistic\": \"daily_minimum\",\n",
    "        \"time_zone\": \"utc+00:00\",\n",
    "        \"frequency\": \"1_hourly\",\n",
    "        \"area\": [north, west, south, \n",
    "        east],\n",
    "        \"format\": \"grib\"\n",
    "    }\n",
    "    target = OUTDIR / f\"tmin_daily_{year}.grib\"\n",
    "    if target.exists():\n",
    "        print(f\"✓ {target.name} exists - skip\"); return\n",
    "    cdsapi.Client().retrieve(\"derived-era5-land-daily-statistics\", req, str(target))\n",
    "\n",
    "for yr in range(1972, 1980): #was 1991\n",
    "    download_daily_mean(yr)\n"
   ]
  },
  {
   "cell_type": "code",
   "execution_count": null,
   "id": "c487aab2",
   "metadata": {},
   "outputs": [
    {
     "name": "stderr",
     "output_type": "stream",
     "text": [
      "2025-09-09 12:00:24,615 INFO [2024-09-26T00:00:00] Watch our [Forum](https://forum.ecmwf.int/) for Announcements, news and other discussed topics.\n",
      "2025-09-09 12:00:24,834 INFO Request ID is de365a12-091b-489a-acbe-9523903e4a10\n",
      "2025-09-09 12:00:24,909 INFO status has been updated to accepted\n",
      "2025-09-09 12:00:38,634 INFO status has been updated to running\n",
      "2025-09-09 12:20:46,186 INFO status has been updated to successful\n"
     ]
    },
    {
     "data": {
      "application/vnd.jupyter.widget-view+json": {
       "model_id": "09ababa2763e4877b7d565b4e9814e09",
       "version_major": 2,
       "version_minor": 0
      },
      "text/plain": [
       "d4116d387399772111f5c59ff51403f2.nc:   0%|          | 0.00/5.46M [00:00<?, ?B/s]"
      ]
     },
     "metadata": {},
     "output_type": "display_data"
    },
    {
     "name": "stderr",
     "output_type": "stream",
     "text": [
      "2025-09-09 12:20:47,458 INFO [2024-09-26T00:00:00] Watch our [Forum](https://forum.ecmwf.int/) for Announcements, news and other discussed topics.\n",
      "2025-09-09 12:20:47,695 INFO Request ID is eaeeb1fa-1aa1-4db5-a372-5387452b32b6\n",
      "2025-09-09 12:20:47,761 INFO status has been updated to accepted\n",
      "2025-09-09 12:49:10,060 INFO status has been updated to running\n",
      "2025-09-09 13:07:12,900 INFO status has been updated to successful\n"
     ]
    },
    {
     "data": {
      "application/vnd.jupyter.widget-view+json": {
       "model_id": "1a5ac82a213b4612b301e2974637a86e",
       "version_major": 2,
       "version_minor": 0
      },
      "text/plain": [
       "47433ccf262f4d74a48f4e2249961e34.nc:   0%|          | 0.00/5.45M [00:00<?, ?B/s]"
      ]
     },
     "metadata": {},
     "output_type": "display_data"
    },
    {
     "name": "stderr",
     "output_type": "stream",
     "text": [
      "2025-09-09 13:07:15,785 INFO [2024-09-26T00:00:00] Watch our [Forum](https://forum.ecmwf.int/) for Announcements, news and other discussed topics.\n",
      "2025-09-09 13:07:16,111 INFO Request ID is 9f676624-27c2-4262-b853-b55e25aa774c\n",
      "2025-09-09 13:07:16,204 INFO status has been updated to accepted\n",
      "2025-09-09 13:19:36,443 INFO status has been updated to running\n",
      "2025-09-09 13:39:19,109 INFO status has been updated to successful\n"
     ]
    },
    {
     "data": {
      "application/vnd.jupyter.widget-view+json": {
       "model_id": "fd2bd8aa5198440aa0d834043a3e67a8",
       "version_major": 2,
       "version_minor": 0
      },
      "text/plain": [
       "cf980f59bf373187ac79006fe38b540b.nc:   0%|          | 0.00/5.45M [00:00<?, ?B/s]"
      ]
     },
     "metadata": {},
     "output_type": "display_data"
    },
    {
     "name": "stderr",
     "output_type": "stream",
     "text": [
      "2025-09-09 13:39:22,138 INFO [2024-09-26T00:00:00] Watch our [Forum](https://forum.ecmwf.int/) for Announcements, news and other discussed topics.\n",
      "2025-09-09 13:39:22,360 INFO Request ID is 1c5d4a5b-9d0a-41b2-a382-e5f28fdea45a\n",
      "2025-09-09 13:39:22,832 INFO status has been updated to accepted\n",
      "Recovering from connection error [('Connection aborted.', RemoteDisconnected('Remote end closed connection without response'))], attemps 1 of 500\n",
      "Retrying in 120 seconds\n",
      "2025-09-09 14:10:22,299 INFO status has been updated to running\n",
      "2025-09-09 14:30:25,885 INFO status has been updated to successful\n"
     ]
    },
    {
     "data": {
      "application/vnd.jupyter.widget-view+json": {
       "model_id": "42a98662649745869d667c0235b437c9",
       "version_major": 2,
       "version_minor": 0
      },
      "text/plain": [
       "8c625de81a80087b7caa460ef64beddc.nc:   0%|          | 0.00/5.45M [00:00<?, ?B/s]"
      ]
     },
     "metadata": {},
     "output_type": "display_data"
    },
    {
     "name": "stderr",
     "output_type": "stream",
     "text": [
      "2025-09-09 14:30:29,370 INFO [2024-09-26T00:00:00] Watch our [Forum](https://forum.ecmwf.int/) for Announcements, news and other discussed topics.\n",
      "2025-09-09 14:30:29,756 INFO Request ID is 0ea2f133-cf19-44f9-b1f1-99c1d6f12d05\n",
      "2025-09-09 14:30:29,957 INFO status has been updated to accepted\n",
      "2025-09-09 15:10:54,891 INFO status has been updated to running\n",
      "2025-09-09 15:30:57,302 INFO status has been updated to successful\n"
     ]
    },
    {
     "data": {
      "application/vnd.jupyter.widget-view+json": {
       "model_id": "1ec206d9c75d4db696d0c5e62da13dcf",
       "version_major": 2,
       "version_minor": 0
      },
      "text/plain": [
       "966b999b60ec669f46a63ceeb44718d5.nc:   0%|          | 0.00/5.47M [00:00<?, ?B/s]"
      ]
     },
     "metadata": {},
     "output_type": "display_data"
    },
    {
     "name": "stderr",
     "output_type": "stream",
     "text": [
      "2025-09-09 15:30:59,040 INFO [2024-09-26T00:00:00] Watch our [Forum](https://forum.ecmwf.int/) for Announcements, news and other discussed topics.\n",
      "2025-09-09 15:30:59,410 INFO Request ID is 976b7d2e-aeb6-44b1-be20-fb86733908b6\n",
      "2025-09-09 15:30:59,494 INFO status has been updated to accepted\n",
      "2025-09-09 16:45:27,641 INFO status has been updated to running\n",
      "2025-09-09 17:05:30,484 INFO status has been updated to successful\n"
     ]
    },
    {
     "data": {
      "application/vnd.jupyter.widget-view+json": {
       "model_id": "d57285f9be2348a89620145b478fc8ff",
       "version_major": 2,
       "version_minor": 0
      },
      "text/plain": [
       "8d1645d0d7723d1f8670667e8513bf15.nc:   0%|          | 0.00/5.45M [00:00<?, ?B/s]"
      ]
     },
     "metadata": {},
     "output_type": "display_data"
    }
   ],
   "source": [
    "def download_daily_mean(year):\n",
    "    req = {\n",
    "        \"variable\": [\"2m_temperature\"],\n",
    "        \"year\": [str(year)],\n",
    "        \"month\": _month_list(),\n",
    "        \"day\": _day_list(),\n",
    "        \"daily_statistic\": \"daily_minimum\",\n",
    "        \"time_zone\": \"utc+00:00\",\n",
    "        \"frequency\": \"1_hourly\",\n",
    "        \"area\": [north, west, south, \n",
    "        east],\n",
    "        \"format\": \"grib\"\n",
    "    }\n",
    "    target = OUTDIR / f\"tmin_daily_{year}.grib\"\n",
    "    if target.exists():\n",
    "        print(f\"✓ {target.name} exists - skip\"); return\n",
    "    cdsapi.Client().retrieve(\"derived-era5-land-daily-statistics\", req, str(target))\n",
    "\n",
    "for yr in range(1980, 2010): #was 1991\n",
    "    download_daily_mean(yr)\n"
   ]
  },
  {
   "cell_type": "code",
   "execution_count": null,
   "id": "4ebc0e5d",
   "metadata": {},
   "outputs": [
    {
     "name": "stderr",
     "output_type": "stream",
     "text": [
      "2025-09-11 14:13:41,878 INFO [2024-09-26T00:00:00] Watch our [Forum](https://forum.ecmwf.int/) for Announcements, news and other discussed topics.\n",
      "2025-09-11 14:13:42,244 INFO Request ID is 44a71d1a-cba5-47e7-8e91-ecad4818a25c\n",
      "2025-09-11 14:13:42,321 INFO status has been updated to accepted\n",
      "Recovering from connection error [('Connection aborted.', RemoteDisconnected('Remote end closed connection without response'))], attemps 1 of 500\n",
      "Retrying in 120 seconds\n",
      "2025-09-11 15:31:32,409 INFO status has been updated to running\n",
      "2025-09-11 15:47:35,012 INFO status has been updated to successful\n"
     ]
    },
    {
     "data": {
      "application/vnd.jupyter.widget-view+json": {
       "model_id": "96250bc73d5449aa9640f877feb78ac0",
       "version_major": 2,
       "version_minor": 0
      },
      "text/plain": [
       "fbb9404c27283cda24ec3d4499db9d9f.nc:   0%|          | 0.00/5.45M [00:00<?, ?B/s]"
      ]
     },
     "metadata": {},
     "output_type": "display_data"
    },
    {
     "name": "stderr",
     "output_type": "stream",
     "text": [
      "2025-09-11 15:47:36,911 INFO [2024-09-26T00:00:00] Watch our [Forum](https://forum.ecmwf.int/) for Announcements, news and other discussed topics.\n",
      "2025-09-11 15:47:37,551 INFO Request ID is 540eaa80-5ddd-4ef0-a0ab-8c7807b7a5fd\n",
      "2025-09-11 15:47:37,635 INFO status has been updated to accepted\n",
      "2025-09-11 16:46:03,656 INFO status has been updated to running\n",
      "2025-09-11 17:02:06,037 INFO status has been updated to successful\n"
     ]
    },
    {
     "data": {
      "application/vnd.jupyter.widget-view+json": {
       "model_id": "5f5406e2a5f746ff8bde684111679ef2",
       "version_major": 2,
       "version_minor": 0
      },
      "text/plain": [
       "35f1216337644b6815c0a5d682cbce04.nc:   0%|          | 0.00/5.44M [00:00<?, ?B/s]"
      ]
     },
     "metadata": {},
     "output_type": "display_data"
    },
    {
     "name": "stderr",
     "output_type": "stream",
     "text": [
      "2025-09-11 17:02:08,108 INFO [2024-09-26T00:00:00] Watch our [Forum](https://forum.ecmwf.int/) for Announcements, news and other discussed topics.\n",
      "2025-09-11 17:02:08,332 INFO Request ID is fdcbdfec-bff9-4c89-9f5a-7b416bfb1bff\n",
      "2025-09-11 17:02:08,419 INFO status has been updated to accepted\n",
      "2025-09-11 17:53:48,662 INFO status has been updated to running\n",
      "Recovering from connection error [('Connection aborted.', RemoteDisconnected('Remote end closed connection without response'))], attemps 1 of 500\n",
      "Retrying in 120 seconds\n",
      "Recovering from connection error [HTTPSConnectionPool(host='cds.climate.copernicus.eu', port=443): Read timed out. (read timeout=60)], attemps 1 of 500\n",
      "Retrying in 120 seconds\n",
      "2025-09-11 18:14:41,571 INFO status has been updated to successful\n"
     ]
    },
    {
     "data": {
      "application/vnd.jupyter.widget-view+json": {
       "model_id": "b3b867494c7042129b2481f61d6f3e54",
       "version_major": 2,
       "version_minor": 0
      },
      "text/plain": [
       "b5d914729c7780e7092ae9b0d84402df.nc:   0%|          | 0.00/5.44M [00:00<?, ?B/s]"
      ]
     },
     "metadata": {},
     "output_type": "display_data"
    },
    {
     "name": "stderr",
     "output_type": "stream",
     "text": [
      "2025-09-11 18:14:44,826 INFO [2024-09-26T00:00:00] Watch our [Forum](https://forum.ecmwf.int/) for Announcements, news and other discussed topics.\n",
      "2025-09-11 18:14:45,271 INFO Request ID is c5cd7e9c-eabd-4e7e-9e54-43862e4c9773\n",
      "2025-09-11 18:14:45,348 INFO status has been updated to accepted\n",
      "Recovering from connection error [('Connection aborted.', RemoteDisconnected('Remote end closed connection without response'))], attemps 1 of 500\n",
      "Retrying in 120 seconds\n",
      "2025-09-11 18:57:09,420 INFO status has been updated to running\n",
      "Recovering from connection error [HTTPSConnectionPool(host='cds.climate.copernicus.eu', port=443): Read timed out. (read timeout=60)], attemps 1 of 500\n",
      "Retrying in 120 seconds\n",
      "2025-09-11 19:15:13,760 INFO status has been updated to successful\n"
     ]
    },
    {
     "data": {
      "application/vnd.jupyter.widget-view+json": {
       "model_id": "c9a6efd2e61f450580144b251aa28068",
       "version_major": 2,
       "version_minor": 0
      },
      "text/plain": [
       "c876f9a43f4a2192b45c0486ebeb3bd0.nc:   0%|          | 0.00/5.44M [00:00<?, ?B/s]"
      ]
     },
     "metadata": {},
     "output_type": "display_data"
    },
    {
     "name": "stderr",
     "output_type": "stream",
     "text": [
      "2025-09-11 19:15:15,707 INFO [2024-09-26T00:00:00] Watch our [Forum](https://forum.ecmwf.int/) for Announcements, news and other discussed topics.\n",
      "2025-09-11 19:15:15,948 INFO Request ID is fe3f11a7-8c48-436d-a04e-6fda49a09374\n",
      "2025-09-11 19:15:16,013 INFO status has been updated to accepted\n",
      "Recovering from connection error [HTTPSConnectionPool(host='cds.climate.copernicus.eu', port=443): Read timed out. (read timeout=60)], attemps 1 of 500\n",
      "Retrying in 120 seconds\n"
     ]
    },
    {
     "ename": "KeyboardInterrupt",
     "evalue": "",
     "output_type": "error",
     "traceback": [
      "\u001b[0;31m---------------------------------------------------------------------------\u001b[0m\n",
      "\u001b[0;31mKeyboardInterrupt\u001b[0m                         Traceback (most recent call last)\n",
      "Cell \u001b[0;32mIn[6], line 20\u001b[0m\n",
      "\u001b[1;32m     17\u001b[0m     cdsapi\u001b[38;5;241m.\u001b[39mClient()\u001b[38;5;241m.\u001b[39mretrieve(\u001b[38;5;124m\"\u001b[39m\u001b[38;5;124mderived-era5-land-daily-statistics\u001b[39m\u001b[38;5;124m\"\u001b[39m, req, \u001b[38;5;28mstr\u001b[39m(target))\n",
      "\u001b[1;32m     19\u001b[0m \u001b[38;5;28;01mfor\u001b[39;00m yr \u001b[38;5;129;01min\u001b[39;00m \u001b[38;5;28mrange\u001b[39m(\u001b[38;5;241m2020\u001b[39m, \u001b[38;5;241m2025\u001b[39m): \u001b[38;5;66;03m#was 1991\u001b[39;00m\n",
      "\u001b[0;32m---> 20\u001b[0m     \u001b[43mdownload_daily_mean\u001b[49m\u001b[43m(\u001b[49m\u001b[43myr\u001b[49m\u001b[43m)\u001b[49m\n",
      "\n",
      "Cell \u001b[0;32mIn[6], line 17\u001b[0m, in \u001b[0;36mdownload_daily_mean\u001b[0;34m(year)\u001b[0m\n",
      "\u001b[1;32m     15\u001b[0m \u001b[38;5;28;01mif\u001b[39;00m target\u001b[38;5;241m.\u001b[39mexists():\n",
      "\u001b[1;32m     16\u001b[0m     \u001b[38;5;28mprint\u001b[39m(\u001b[38;5;124mf\u001b[39m\u001b[38;5;124m\"\u001b[39m\u001b[38;5;124m✓ \u001b[39m\u001b[38;5;132;01m{\u001b[39;00mtarget\u001b[38;5;241m.\u001b[39mname\u001b[38;5;132;01m}\u001b[39;00m\u001b[38;5;124m exists - skip\u001b[39m\u001b[38;5;124m\"\u001b[39m); \u001b[38;5;28;01mreturn\u001b[39;00m\n",
      "\u001b[0;32m---> 17\u001b[0m \u001b[43mcdsapi\u001b[49m\u001b[38;5;241;43m.\u001b[39;49m\u001b[43mClient\u001b[49m\u001b[43m(\u001b[49m\u001b[43m)\u001b[49m\u001b[38;5;241;43m.\u001b[39;49m\u001b[43mretrieve\u001b[49m\u001b[43m(\u001b[49m\u001b[38;5;124;43m\"\u001b[39;49m\u001b[38;5;124;43mderived-era5-land-daily-statistics\u001b[39;49m\u001b[38;5;124;43m\"\u001b[39;49m\u001b[43m,\u001b[49m\u001b[43m \u001b[49m\u001b[43mreq\u001b[49m\u001b[43m,\u001b[49m\u001b[43m \u001b[49m\u001b[38;5;28;43mstr\u001b[39;49m\u001b[43m(\u001b[49m\u001b[43mtarget\u001b[49m\u001b[43m)\u001b[49m\u001b[43m)\u001b[49m\n",
      "\n",
      "File \u001b[0;32m/Library/Frameworks/Python.framework/Versions/3.12/lib/python3.12/site-packages/datapi/legacy_api_client.py:169\u001b[0m, in \u001b[0;36mLegacyApiClient.retrieve\u001b[0;34m(self, name, request, target)\u001b[0m\n",
      "\u001b[1;32m    167\u001b[0m submitted: Remote \u001b[38;5;241m|\u001b[39m Results\n",
      "\u001b[1;32m    168\u001b[0m \u001b[38;5;28;01mif\u001b[39;00m \u001b[38;5;28mself\u001b[39m\u001b[38;5;241m.\u001b[39mwait_until_complete:\n",
      "\u001b[0;32m--> 169\u001b[0m     submitted \u001b[38;5;241m=\u001b[39m \u001b[38;5;28;43mself\u001b[39;49m\u001b[38;5;241;43m.\u001b[39;49m\u001b[43mclient\u001b[49m\u001b[38;5;241;43m.\u001b[39;49m\u001b[43msubmit_and_wait_on_results\u001b[49m\u001b[43m(\u001b[49m\n",
      "\u001b[1;32m    170\u001b[0m \u001b[43m        \u001b[49m\u001b[43mcollection_id\u001b[49m\u001b[38;5;241;43m=\u001b[39;49m\u001b[43mname\u001b[49m\u001b[43m,\u001b[49m\n",
      "\u001b[1;32m    171\u001b[0m \u001b[43m        \u001b[49m\u001b[43mrequest\u001b[49m\u001b[38;5;241;43m=\u001b[39;49m\u001b[43mrequest\u001b[49m\u001b[43m,\u001b[49m\n",
      "\u001b[1;32m    172\u001b[0m \u001b[43m    \u001b[49m\u001b[43m)\u001b[49m\n",
      "\u001b[1;32m    173\u001b[0m \u001b[38;5;28;01melse\u001b[39;00m:\n",
      "\u001b[1;32m    174\u001b[0m     submitted \u001b[38;5;241m=\u001b[39m \u001b[38;5;28mself\u001b[39m\u001b[38;5;241m.\u001b[39mclient\u001b[38;5;241m.\u001b[39msubmit(\n",
      "\u001b[1;32m    175\u001b[0m         collection_id\u001b[38;5;241m=\u001b[39mname,\n",
      "\u001b[1;32m    176\u001b[0m         request\u001b[38;5;241m=\u001b[39mrequest,\n",
      "\u001b[1;32m    177\u001b[0m     )\n",
      "\n",
      "File \u001b[0;32m/Library/Frameworks/Python.framework/Versions/3.12/lib/python3.12/site-packages/datapi/api_client.py:413\u001b[0m, in \u001b[0;36mApiClient.submit_and_wait_on_results\u001b[0;34m(self, collection_id, request)\u001b[0m\n",
      "\u001b[1;32m    397\u001b[0m \u001b[38;5;28;01mdef\u001b[39;00m \u001b[38;5;21msubmit_and_wait_on_results\u001b[39m(\n",
      "\u001b[1;32m    398\u001b[0m     \u001b[38;5;28mself\u001b[39m, collection_id: \u001b[38;5;28mstr\u001b[39m, request: \u001b[38;5;28mdict\u001b[39m[\u001b[38;5;28mstr\u001b[39m, Any]\n",
      "\u001b[1;32m    399\u001b[0m ) \u001b[38;5;241m-\u001b[39m\u001b[38;5;241m>\u001b[39m datapi\u001b[38;5;241m.\u001b[39mResults:\n",
      "\u001b[1;32m    400\u001b[0m \u001b[38;5;250m    \u001b[39m\u001b[38;5;124;03m\"\"\"Submit a request and wait for the results to be ready.\u001b[39;00m\n",
      "\u001b[1;32m    401\u001b[0m \n",
      "\u001b[1;32m    402\u001b[0m \u001b[38;5;124;03m    Parameters\u001b[39;00m\n",
      "\u001b[0;32m   (...)\u001b[0m\n",
      "\u001b[1;32m    411\u001b[0m \u001b[38;5;124;03m    datapi.Results\u001b[39;00m\n",
      "\u001b[1;32m    412\u001b[0m \u001b[38;5;124;03m    \"\"\"\u001b[39;00m\n",
      "\u001b[0;32m--> 413\u001b[0m     \u001b[38;5;28;01mreturn\u001b[39;00m \u001b[38;5;28;43mself\u001b[39;49m\u001b[38;5;241;43m.\u001b[39;49m\u001b[43m_retrieve_api\u001b[49m\u001b[38;5;241;43m.\u001b[39;49m\u001b[43msubmit\u001b[49m\u001b[43m(\u001b[49m\u001b[43mcollection_id\u001b[49m\u001b[43m,\u001b[49m\u001b[43m \u001b[49m\u001b[43mrequest\u001b[49m\u001b[43m)\u001b[49m\u001b[38;5;241;43m.\u001b[39;49m\u001b[43mmake_results\u001b[49m\u001b[43m(\u001b[49m\u001b[43m)\u001b[49m\n",
      "\n",
      "File \u001b[0;32m/Library/Frameworks/Python.framework/Versions/3.12/lib/python3.12/site-packages/datapi/processing.py:489\u001b[0m, in \u001b[0;36mRemote.make_results\u001b[0;34m(self, wait)\u001b[0m\n",
      "\u001b[1;32m    487\u001b[0m \u001b[38;5;28;01mdef\u001b[39;00m \u001b[38;5;21mmake_results\u001b[39m(\u001b[38;5;28mself\u001b[39m, wait: \u001b[38;5;28mbool\u001b[39m \u001b[38;5;241m=\u001b[39m \u001b[38;5;28;01mTrue\u001b[39;00m) \u001b[38;5;241m-\u001b[39m\u001b[38;5;241m>\u001b[39m Results:\n",
      "\u001b[1;32m    488\u001b[0m     \u001b[38;5;28;01mif\u001b[39;00m wait:\n",
      "\u001b[0;32m--> 489\u001b[0m         \u001b[38;5;28;43mself\u001b[39;49m\u001b[38;5;241;43m.\u001b[39;49m\u001b[43m_wait_on_results\u001b[49m\u001b[43m(\u001b[49m\u001b[43m)\u001b[49m\n",
      "\u001b[1;32m    490\u001b[0m     response \u001b[38;5;241m=\u001b[39m \u001b[38;5;28mself\u001b[39m\u001b[38;5;241m.\u001b[39m_get_api_response(\u001b[38;5;124m\"\u001b[39m\u001b[38;5;124mget\u001b[39m\u001b[38;5;124m\"\u001b[39m)\n",
      "\u001b[1;32m    491\u001b[0m     \u001b[38;5;28;01mtry\u001b[39;00m:\n",
      "\n",
      "File \u001b[0;32m/Library/Frameworks/Python.framework/Versions/3.12/lib/python3.12/site-packages/datapi/processing.py:467\u001b[0m, in \u001b[0;36mRemote._wait_on_results\u001b[0;34m(self)\u001b[0m\n",
      "\u001b[1;32m    465\u001b[0m \u001b[38;5;28;01mdef\u001b[39;00m \u001b[38;5;21m_wait_on_results\u001b[39m(\u001b[38;5;28mself\u001b[39m) \u001b[38;5;241m-\u001b[39m\u001b[38;5;241m>\u001b[39m \u001b[38;5;28;01mNone\u001b[39;00m:\n",
      "\u001b[1;32m    466\u001b[0m     sleep \u001b[38;5;241m=\u001b[39m \u001b[38;5;241m1.0\u001b[39m\n",
      "\u001b[0;32m--> 467\u001b[0m     \u001b[38;5;28;01mwhile\u001b[39;00m \u001b[38;5;129;01mnot\u001b[39;00m \u001b[38;5;28;43mself\u001b[39;49m\u001b[38;5;241;43m.\u001b[39;49m\u001b[43mresults_ready\u001b[49m:\n",
      "\u001b[1;32m    468\u001b[0m         \u001b[38;5;28mself\u001b[39m\u001b[38;5;241m.\u001b[39mdebug(\u001b[38;5;124mf\u001b[39m\u001b[38;5;124m\"\u001b[39m\u001b[38;5;124mresults not ready, waiting for \u001b[39m\u001b[38;5;132;01m{\u001b[39;00msleep\u001b[38;5;132;01m}\u001b[39;00m\u001b[38;5;124m seconds\u001b[39m\u001b[38;5;124m\"\u001b[39m)\n",
      "\u001b[1;32m    469\u001b[0m         time\u001b[38;5;241m.\u001b[39msleep(sleep)\n",
      "\n",
      "File \u001b[0;32m/Library/Frameworks/Python.framework/Versions/3.12/lib/python3.12/site-packages/datapi/processing.py:475\u001b[0m, in \u001b[0;36mRemote.results_ready\u001b[0;34m(self)\u001b[0m\n",
      "\u001b[1;32m    472\u001b[0m \u001b[38;5;129m@property\u001b[39m\n",
      "\u001b[1;32m    473\u001b[0m \u001b[38;5;28;01mdef\u001b[39;00m \u001b[38;5;21mresults_ready\u001b[39m(\u001b[38;5;28mself\u001b[39m) \u001b[38;5;241m-\u001b[39m\u001b[38;5;241m>\u001b[39m \u001b[38;5;28mbool\u001b[39m:\n",
      "\u001b[1;32m    474\u001b[0m \u001b[38;5;250m    \u001b[39m\u001b[38;5;124;03m\"\"\"Check if results are ready.\"\"\"\u001b[39;00m\n",
      "\u001b[0;32m--> 475\u001b[0m     status \u001b[38;5;241m=\u001b[39m \u001b[38;5;28;43mself\u001b[39;49m\u001b[38;5;241;43m.\u001b[39;49m\u001b[43mstatus\u001b[49m\n",
      "\u001b[1;32m    476\u001b[0m     \u001b[38;5;28;01mif\u001b[39;00m status \u001b[38;5;241m==\u001b[39m \u001b[38;5;124m\"\u001b[39m\u001b[38;5;124msuccessful\u001b[39m\u001b[38;5;124m\"\u001b[39m:\n",
      "\u001b[1;32m    477\u001b[0m         \u001b[38;5;28;01mreturn\u001b[39;00m \u001b[38;5;28;01mTrue\u001b[39;00m\n",
      "\n",
      "File \u001b[0;32m/Library/Frameworks/Python.framework/Versions/3.12/lib/python3.12/site-packages/datapi/processing.py:439\u001b[0m, in \u001b[0;36mRemote.status\u001b[0;34m(self)\u001b[0m\n",
      "\u001b[1;32m    436\u001b[0m \u001b[38;5;129m@property\u001b[39m\n",
      "\u001b[1;32m    437\u001b[0m \u001b[38;5;28;01mdef\u001b[39;00m \u001b[38;5;21mstatus\u001b[39m(\u001b[38;5;28mself\u001b[39m) \u001b[38;5;241m-\u001b[39m\u001b[38;5;241m>\u001b[39m \u001b[38;5;28mstr\u001b[39m:\n",
      "\u001b[1;32m    438\u001b[0m \u001b[38;5;250m    \u001b[39m\u001b[38;5;124;03m\"\"\"Request status.\"\"\"\u001b[39;00m\n",
      "\u001b[0;32m--> 439\u001b[0m     reply \u001b[38;5;241m=\u001b[39m \u001b[38;5;28;43mself\u001b[39;49m\u001b[38;5;241;43m.\u001b[39;49m\u001b[43mjson\u001b[49m\n",
      "\u001b[1;32m    440\u001b[0m     \u001b[38;5;28mself\u001b[39m\u001b[38;5;241m.\u001b[39m_log_metadata(reply\u001b[38;5;241m.\u001b[39mget(\u001b[38;5;124m\"\u001b[39m\u001b[38;5;124mmetadata\u001b[39m\u001b[38;5;124m\"\u001b[39m, {}))\n",
      "\u001b[1;32m    442\u001b[0m     status \u001b[38;5;241m=\u001b[39m reply[\u001b[38;5;124m\"\u001b[39m\u001b[38;5;124mstatus\u001b[39m\u001b[38;5;124m\"\u001b[39m]\n",
      "\n",
      "File \u001b[0;32m/Library/Frameworks/Python.framework/Versions/3.12/lib/python3.12/site-packages/datapi/processing.py:424\u001b[0m, in \u001b[0;36mRemote.json\u001b[0;34m(self)\u001b[0m\n",
      "\u001b[1;32m    422\u001b[0m \u001b[38;5;28;01mif\u001b[39;00m \u001b[38;5;28mself\u001b[39m\u001b[38;5;241m.\u001b[39mlog_start_time:\n",
      "\u001b[1;32m    423\u001b[0m     params[\u001b[38;5;124m\"\u001b[39m\u001b[38;5;124mlogStartTime\u001b[39m\u001b[38;5;124m\"\u001b[39m] \u001b[38;5;241m=\u001b[39m \u001b[38;5;28mself\u001b[39m\u001b[38;5;241m.\u001b[39mlog_start_time\n",
      "\u001b[0;32m--> 424\u001b[0m \u001b[38;5;28;01mreturn\u001b[39;00m \u001b[38;5;28;43mself\u001b[39;49m\u001b[38;5;241;43m.\u001b[39;49m\u001b[43m_get_api_response\u001b[49m\u001b[43m(\u001b[49m\u001b[38;5;124;43m\"\u001b[39;49m\u001b[38;5;124;43mget\u001b[39;49m\u001b[38;5;124;43m\"\u001b[39;49m\u001b[43m,\u001b[49m\u001b[43m \u001b[49m\u001b[43mparams\u001b[49m\u001b[38;5;241;43m=\u001b[39;49m\u001b[43mparams\u001b[49m\u001b[43m)\u001b[49m\u001b[38;5;241m.\u001b[39m_json_dict\n",
      "\n",
      "File \u001b[0;32m/Library/Frameworks/Python.framework/Versions/3.12/lib/python3.12/site-packages/datapi/processing.py:409\u001b[0m, in \u001b[0;36mRemote._get_api_response\u001b[0;34m(self, method, **kwargs)\u001b[0m\n",
      "\u001b[1;32m    408\u001b[0m \u001b[38;5;28;01mdef\u001b[39;00m \u001b[38;5;21m_get_api_response\u001b[39m(\u001b[38;5;28mself\u001b[39m, method: \u001b[38;5;28mstr\u001b[39m, \u001b[38;5;241m*\u001b[39m\u001b[38;5;241m*\u001b[39mkwargs: Any) \u001b[38;5;241m-\u001b[39m\u001b[38;5;241m>\u001b[39m ApiResponse:\n",
      "\u001b[0;32m--> 409\u001b[0m     \u001b[38;5;28;01mreturn\u001b[39;00m \u001b[43mApiResponse\u001b[49m\u001b[38;5;241;43m.\u001b[39;49m\u001b[43mfrom_request\u001b[49m\u001b[43m(\u001b[49m\n",
      "\u001b[1;32m    410\u001b[0m \u001b[43m        \u001b[49m\u001b[43mmethod\u001b[49m\u001b[43m,\u001b[49m\u001b[43m \u001b[49m\u001b[38;5;28;43mself\u001b[39;49m\u001b[38;5;241;43m.\u001b[39;49m\u001b[43murl\u001b[49m\u001b[43m,\u001b[49m\u001b[43m \u001b[49m\u001b[38;5;241;43m*\u001b[39;49m\u001b[38;5;241;43m*\u001b[39;49m\u001b[38;5;28;43mself\u001b[39;49m\u001b[38;5;241;43m.\u001b[39;49m\u001b[43m_request_kwargs\u001b[49m\u001b[43m,\u001b[49m\u001b[43m \u001b[49m\u001b[38;5;241;43m*\u001b[39;49m\u001b[38;5;241;43m*\u001b[39;49m\u001b[43mkwargs\u001b[49m\n",
      "\u001b[1;32m    411\u001b[0m \u001b[43m    \u001b[49m\u001b[43m)\u001b[49m\n",
      "\n",
      "File \u001b[0;32m/Library/Frameworks/Python.framework/Versions/3.12/lib/python3.12/site-packages/datapi/processing.py:172\u001b[0m, in \u001b[0;36mApiResponse.from_request\u001b[0;34m(cls, method, url, headers, session, retry_options, request_options, download_options, sleep_max, cleanup, log_callback, log_messages, **kwargs)\u001b[0m\n",
      "\u001b[1;32m    166\u001b[0m inputs \u001b[38;5;241m=\u001b[39m kwargs\u001b[38;5;241m.\u001b[39mget(\u001b[38;5;124m\"\u001b[39m\u001b[38;5;124mjson\u001b[39m\u001b[38;5;124m\"\u001b[39m, {})\u001b[38;5;241m.\u001b[39mget(\u001b[38;5;124m\"\u001b[39m\u001b[38;5;124minputs\u001b[39m\u001b[38;5;124m\"\u001b[39m, {})\n",
      "\u001b[1;32m    167\u001b[0m log(\n",
      "\u001b[1;32m    168\u001b[0m     logging\u001b[38;5;241m.\u001b[39mDEBUG,\n",
      "\u001b[1;32m    169\u001b[0m     \u001b[38;5;124mf\u001b[39m\u001b[38;5;124m\"\u001b[39m\u001b[38;5;132;01m{\u001b[39;00mmethod\u001b[38;5;241m.\u001b[39mupper()\u001b[38;5;132;01m}\u001b[39;00m\u001b[38;5;124m \u001b[39m\u001b[38;5;132;01m{\u001b[39;00murl\u001b[38;5;132;01m}\u001b[39;00m\u001b[38;5;124m \u001b[39m\u001b[38;5;132;01m{\u001b[39;00minputs\u001b[38;5;250m \u001b[39m\u001b[38;5;129;01mor\u001b[39;00m\u001b[38;5;250m \u001b[39m\u001b[38;5;124m'\u001b[39m\u001b[38;5;124m'\u001b[39m\u001b[38;5;132;01m}\u001b[39;00m\u001b[38;5;124m\"\u001b[39m\u001b[38;5;241m.\u001b[39mstrip(),\n",
      "\u001b[1;32m    170\u001b[0m     callback\u001b[38;5;241m=\u001b[39mlog_callback,\n",
      "\u001b[1;32m    171\u001b[0m )\n",
      "\u001b[0;32m--> 172\u001b[0m response \u001b[38;5;241m=\u001b[39m \u001b[43mrobust_request\u001b[49m\u001b[43m(\u001b[49m\n",
      "\u001b[1;32m    173\u001b[0m \u001b[43m    \u001b[49m\u001b[43mmethod\u001b[49m\u001b[43m,\u001b[49m\u001b[43m \u001b[49m\u001b[43murl\u001b[49m\u001b[43m,\u001b[49m\u001b[43m \u001b[49m\u001b[43mheaders\u001b[49m\u001b[38;5;241;43m=\u001b[39;49m\u001b[43mheaders\u001b[49m\u001b[43m,\u001b[49m\u001b[43m \u001b[49m\u001b[38;5;241;43m*\u001b[39;49m\u001b[38;5;241;43m*\u001b[39;49m\u001b[43mrequest_options\u001b[49m\u001b[43m,\u001b[49m\u001b[43m \u001b[49m\u001b[38;5;241;43m*\u001b[39;49m\u001b[38;5;241;43m*\u001b[39;49m\u001b[43mkwargs\u001b[49m\n",
      "\u001b[1;32m    174\u001b[0m \u001b[43m\u001b[49m\u001b[43m)\u001b[49m\n",
      "\u001b[1;32m    175\u001b[0m log(logging\u001b[38;5;241m.\u001b[39mDEBUG, \u001b[38;5;124mf\u001b[39m\u001b[38;5;124m\"\u001b[39m\u001b[38;5;124mREPLY \u001b[39m\u001b[38;5;132;01m{\u001b[39;00mresponse\u001b[38;5;241m.\u001b[39mtext\u001b[38;5;132;01m}\u001b[39;00m\u001b[38;5;124m\"\u001b[39m, callback\u001b[38;5;241m=\u001b[39mlog_callback)\n",
      "\u001b[1;32m    177\u001b[0m cads_raise_for_status(response)\n",
      "\n",
      "File \u001b[0;32m/Library/Frameworks/Python.framework/Versions/3.12/lib/python3.12/site-packages/multiurl/http.py:521\u001b[0m, in \u001b[0;36mrobust.<locals>.wrapped\u001b[0;34m(url, *args, **kwargs)\u001b[0m\n",
      "\u001b[1;32m    519\u001b[0m \u001b[38;5;28;01melse\u001b[39;00m:\n",
      "\u001b[1;32m    520\u001b[0m     LOG\u001b[38;5;241m.\u001b[39mwarning(\u001b[38;5;124m\"\u001b[39m\u001b[38;5;124mRetrying in \u001b[39m\u001b[38;5;132;01m%s\u001b[39;00m\u001b[38;5;124m seconds\u001b[39m\u001b[38;5;124m\"\u001b[39m, retry_after)\n",
      "\u001b[0;32m--> 521\u001b[0m     \u001b[43mtime\u001b[49m\u001b[38;5;241;43m.\u001b[39;49m\u001b[43msleep\u001b[49m\u001b[43m(\u001b[49m\u001b[43mretry_after\u001b[49m\u001b[43m)\u001b[49m\n",
      "\u001b[1;32m    522\u001b[0m     LOG\u001b[38;5;241m.\u001b[39minfo(\u001b[38;5;124m\"\u001b[39m\u001b[38;5;124mRetrying now...\u001b[39m\u001b[38;5;124m\"\u001b[39m)\n",
      "\n",
      "\u001b[0;31mKeyboardInterrupt\u001b[0m: "
     ]
    }
   ],
   "source": [
    "def download_daily_mean(year):\n",
    "    req = {\n",
    "        \"variable\": [\"2m_temperature\"],\n",
    "        \"year\": [str(year)],\n",
    "        \"month\": _month_list(),\n",
    "        \"day\": _day_list(),\n",
    "        \"daily_statistic\": \"daily_minimum\",\n",
    "        \"time_zone\": \"utc+00:00\",\n",
    "        \"frequency\": \"1_hourly\",\n",
    "        \"area\": [north, west, south, \n",
    "        east],\n",
    "        \"format\": \"grib\"\n",
    "    }\n",
    "    target = OUTDIR / f\"tmin_daily_{year}.grib\"\n",
    "    if target.exists():\n",
    "        print(f\"✓ {target.name} exists - skip\"); return\n",
    "    cdsapi.Client().retrieve(\"derived-era5-land-daily-statistics\", req, str(target))\n",
    "\n",
    "for yr in range(2010, 2024): #was 1991\n",
    "    download_daily_mean(yr)\n"
   ]
  },
  {
   "cell_type": "markdown",
   "id": "812301ac",
   "metadata": {},
   "source": [
    "### Hourly Precipitation  "
   ]
  },
  {
   "cell_type": "code",
   "execution_count": 5,
   "id": "f32ad27d",
   "metadata": {},
   "outputs": [],
   "source": [
    "import cdsapi, pathlib, time, concurrent.futures\n",
    "\n",
    "# ---- edit your bounding box here ----\n",
    "\n",
    "\n",
    "OUTDIR = pathlib.Path(\"/Volumes/Dhruv_External_Disk/climate_data/precipitation/hourly\")\n",
    "OUTDIR.mkdir(parents=True, exist_ok=True)\n",
    "\n",
    "def _day_list():\n",
    "    return [f\"{d:02d}\" for d in range(1, 32)]\n",
    "def _month_list():\n",
    "    return [f\"{m:02d}\" for m in range(1, 13)]\n",
    "def _hour_list():\n",
    "    return [f\"{h:02d}:00\" for h in range(24)]\n"
   ]
  },
  {
   "cell_type": "code",
   "execution_count": 6,
   "id": "d67ab445",
   "metadata": {},
   "outputs": [
    {
     "name": "stderr",
     "output_type": "stream",
     "text": [
      "2025-07-29 12:59:37,477 INFO [2024-09-26T00:00:00] Watch our [Forum](https://forum.ecmwf.int/) for Announcements, news and other discussed topics.\n",
      "2025-07-29 12:59:37,653 INFO Request ID is c0b884e7-c2f9-4d76-afb9-475b7c6fd7e1\n",
      "2025-07-29 12:59:37,736 INFO status has been updated to accepted\n",
      "2025-07-29 12:59:51,340 INFO status has been updated to running\n"
     ]
    },
    {
     "ename": "KeyboardInterrupt",
     "evalue": "",
     "output_type": "error",
     "traceback": [
      "\u001b[0;31m---------------------------------------------------------------------------\u001b[0m",
      "\u001b[0;31mKeyboardInterrupt\u001b[0m                         Traceback (most recent call last)",
      "Cell \u001b[0;32mIn[6], line 27\u001b[0m\n\u001b[1;32m     24\u001b[0m     cdsapi\u001b[38;5;241m.\u001b[39mClient()\u001b[38;5;241m.\u001b[39mretrieve(\u001b[38;5;124m\"\u001b[39m\u001b[38;5;124mreanalysis-era5-land\u001b[39m\u001b[38;5;124m\"\u001b[39m, req, \u001b[38;5;28mstr\u001b[39m(target))\n\u001b[1;32m     26\u001b[0m \u001b[38;5;28;01mfor\u001b[39;00m yr \u001b[38;5;129;01min\u001b[39;00m \u001b[38;5;28mrange\u001b[39m(\u001b[38;5;241m1960\u001b[39m, \u001b[38;5;241m1961\u001b[39m): \u001b[38;5;66;03m#upto 1966 done. \u001b[39;00m\n\u001b[0;32m---> 27\u001b[0m     \u001b[43mdownload_daily_mean\u001b[49m\u001b[43m(\u001b[49m\u001b[43myr\u001b[49m\u001b[43m)\u001b[49m\n",
      "Cell \u001b[0;32mIn[6], line 24\u001b[0m, in \u001b[0;36mdownload_daily_mean\u001b[0;34m(year)\u001b[0m\n\u001b[1;32m     22\u001b[0m \u001b[38;5;28;01mif\u001b[39;00m target\u001b[38;5;241m.\u001b[39mexists():\n\u001b[1;32m     23\u001b[0m     \u001b[38;5;28mprint\u001b[39m(\u001b[38;5;124mf\u001b[39m\u001b[38;5;124m\"\u001b[39m\u001b[38;5;124m✓ \u001b[39m\u001b[38;5;132;01m{\u001b[39;00mtarget\u001b[38;5;241m.\u001b[39mname\u001b[38;5;132;01m}\u001b[39;00m\u001b[38;5;124m exists - skip\u001b[39m\u001b[38;5;124m\"\u001b[39m); \u001b[38;5;28;01mreturn\u001b[39;00m\n\u001b[0;32m---> 24\u001b[0m \u001b[43mcdsapi\u001b[49m\u001b[38;5;241;43m.\u001b[39;49m\u001b[43mClient\u001b[49m\u001b[43m(\u001b[49m\u001b[43m)\u001b[49m\u001b[38;5;241;43m.\u001b[39;49m\u001b[43mretrieve\u001b[49m\u001b[43m(\u001b[49m\u001b[38;5;124;43m\"\u001b[39;49m\u001b[38;5;124;43mreanalysis-era5-land\u001b[39;49m\u001b[38;5;124;43m\"\u001b[39;49m\u001b[43m,\u001b[49m\u001b[43m \u001b[49m\u001b[43mreq\u001b[49m\u001b[43m,\u001b[49m\u001b[43m \u001b[49m\u001b[38;5;28;43mstr\u001b[39;49m\u001b[43m(\u001b[49m\u001b[43mtarget\u001b[49m\u001b[43m)\u001b[49m\u001b[43m)\u001b[49m\n",
      "File \u001b[0;32m/Library/Frameworks/Python.framework/Versions/3.12/lib/python3.12/site-packages/datapi/legacy_api_client.py:169\u001b[0m, in \u001b[0;36mLegacyApiClient.retrieve\u001b[0;34m(self, name, request, target)\u001b[0m\n\u001b[1;32m    167\u001b[0m submitted: Remote \u001b[38;5;241m|\u001b[39m Results\n\u001b[1;32m    168\u001b[0m \u001b[38;5;28;01mif\u001b[39;00m \u001b[38;5;28mself\u001b[39m\u001b[38;5;241m.\u001b[39mwait_until_complete:\n\u001b[0;32m--> 169\u001b[0m     submitted \u001b[38;5;241m=\u001b[39m \u001b[38;5;28;43mself\u001b[39;49m\u001b[38;5;241;43m.\u001b[39;49m\u001b[43mclient\u001b[49m\u001b[38;5;241;43m.\u001b[39;49m\u001b[43msubmit_and_wait_on_results\u001b[49m\u001b[43m(\u001b[49m\n\u001b[1;32m    170\u001b[0m \u001b[43m        \u001b[49m\u001b[43mcollection_id\u001b[49m\u001b[38;5;241;43m=\u001b[39;49m\u001b[43mname\u001b[49m\u001b[43m,\u001b[49m\n\u001b[1;32m    171\u001b[0m \u001b[43m        \u001b[49m\u001b[43mrequest\u001b[49m\u001b[38;5;241;43m=\u001b[39;49m\u001b[43mrequest\u001b[49m\u001b[43m,\u001b[49m\n\u001b[1;32m    172\u001b[0m \u001b[43m    \u001b[49m\u001b[43m)\u001b[49m\n\u001b[1;32m    173\u001b[0m \u001b[38;5;28;01melse\u001b[39;00m:\n\u001b[1;32m    174\u001b[0m     submitted \u001b[38;5;241m=\u001b[39m \u001b[38;5;28mself\u001b[39m\u001b[38;5;241m.\u001b[39mclient\u001b[38;5;241m.\u001b[39msubmit(\n\u001b[1;32m    175\u001b[0m         collection_id\u001b[38;5;241m=\u001b[39mname,\n\u001b[1;32m    176\u001b[0m         request\u001b[38;5;241m=\u001b[39mrequest,\n\u001b[1;32m    177\u001b[0m     )\n",
      "File \u001b[0;32m/Library/Frameworks/Python.framework/Versions/3.12/lib/python3.12/site-packages/datapi/api_client.py:413\u001b[0m, in \u001b[0;36mApiClient.submit_and_wait_on_results\u001b[0;34m(self, collection_id, request)\u001b[0m\n\u001b[1;32m    397\u001b[0m \u001b[38;5;28;01mdef\u001b[39;00m \u001b[38;5;21msubmit_and_wait_on_results\u001b[39m(\n\u001b[1;32m    398\u001b[0m     \u001b[38;5;28mself\u001b[39m, collection_id: \u001b[38;5;28mstr\u001b[39m, request: \u001b[38;5;28mdict\u001b[39m[\u001b[38;5;28mstr\u001b[39m, Any]\n\u001b[1;32m    399\u001b[0m ) \u001b[38;5;241m-\u001b[39m\u001b[38;5;241m>\u001b[39m datapi\u001b[38;5;241m.\u001b[39mResults:\n\u001b[1;32m    400\u001b[0m \u001b[38;5;250m    \u001b[39m\u001b[38;5;124;03m\"\"\"Submit a request and wait for the results to be ready.\u001b[39;00m\n\u001b[1;32m    401\u001b[0m \n\u001b[1;32m    402\u001b[0m \u001b[38;5;124;03m    Parameters\u001b[39;00m\n\u001b[0;32m   (...)\u001b[0m\n\u001b[1;32m    411\u001b[0m \u001b[38;5;124;03m    datapi.Results\u001b[39;00m\n\u001b[1;32m    412\u001b[0m \u001b[38;5;124;03m    \"\"\"\u001b[39;00m\n\u001b[0;32m--> 413\u001b[0m     \u001b[38;5;28;01mreturn\u001b[39;00m \u001b[38;5;28;43mself\u001b[39;49m\u001b[38;5;241;43m.\u001b[39;49m\u001b[43m_retrieve_api\u001b[49m\u001b[38;5;241;43m.\u001b[39;49m\u001b[43msubmit\u001b[49m\u001b[43m(\u001b[49m\u001b[43mcollection_id\u001b[49m\u001b[43m,\u001b[49m\u001b[43m \u001b[49m\u001b[43mrequest\u001b[49m\u001b[43m)\u001b[49m\u001b[38;5;241;43m.\u001b[39;49m\u001b[43mmake_results\u001b[49m\u001b[43m(\u001b[49m\u001b[43m)\u001b[49m\n",
      "File \u001b[0;32m/Library/Frameworks/Python.framework/Versions/3.12/lib/python3.12/site-packages/datapi/processing.py:489\u001b[0m, in \u001b[0;36mRemote.make_results\u001b[0;34m(self, wait)\u001b[0m\n\u001b[1;32m    487\u001b[0m \u001b[38;5;28;01mdef\u001b[39;00m \u001b[38;5;21mmake_results\u001b[39m(\u001b[38;5;28mself\u001b[39m, wait: \u001b[38;5;28mbool\u001b[39m \u001b[38;5;241m=\u001b[39m \u001b[38;5;28;01mTrue\u001b[39;00m) \u001b[38;5;241m-\u001b[39m\u001b[38;5;241m>\u001b[39m Results:\n\u001b[1;32m    488\u001b[0m     \u001b[38;5;28;01mif\u001b[39;00m wait:\n\u001b[0;32m--> 489\u001b[0m         \u001b[38;5;28;43mself\u001b[39;49m\u001b[38;5;241;43m.\u001b[39;49m\u001b[43m_wait_on_results\u001b[49m\u001b[43m(\u001b[49m\u001b[43m)\u001b[49m\n\u001b[1;32m    490\u001b[0m     response \u001b[38;5;241m=\u001b[39m \u001b[38;5;28mself\u001b[39m\u001b[38;5;241m.\u001b[39m_get_api_response(\u001b[38;5;124m\"\u001b[39m\u001b[38;5;124mget\u001b[39m\u001b[38;5;124m\"\u001b[39m)\n\u001b[1;32m    491\u001b[0m     \u001b[38;5;28;01mtry\u001b[39;00m:\n",
      "File \u001b[0;32m/Library/Frameworks/Python.framework/Versions/3.12/lib/python3.12/site-packages/datapi/processing.py:469\u001b[0m, in \u001b[0;36mRemote._wait_on_results\u001b[0;34m(self)\u001b[0m\n\u001b[1;32m    467\u001b[0m \u001b[38;5;28;01mwhile\u001b[39;00m \u001b[38;5;129;01mnot\u001b[39;00m \u001b[38;5;28mself\u001b[39m\u001b[38;5;241m.\u001b[39mresults_ready:\n\u001b[1;32m    468\u001b[0m     \u001b[38;5;28mself\u001b[39m\u001b[38;5;241m.\u001b[39mdebug(\u001b[38;5;124mf\u001b[39m\u001b[38;5;124m\"\u001b[39m\u001b[38;5;124mresults not ready, waiting for \u001b[39m\u001b[38;5;132;01m{\u001b[39;00msleep\u001b[38;5;132;01m}\u001b[39;00m\u001b[38;5;124m seconds\u001b[39m\u001b[38;5;124m\"\u001b[39m)\n\u001b[0;32m--> 469\u001b[0m     \u001b[43mtime\u001b[49m\u001b[38;5;241;43m.\u001b[39;49m\u001b[43msleep\u001b[49m\u001b[43m(\u001b[49m\u001b[43msleep\u001b[49m\u001b[43m)\u001b[49m\n\u001b[1;32m    470\u001b[0m     sleep \u001b[38;5;241m=\u001b[39m \u001b[38;5;28mmin\u001b[39m(sleep \u001b[38;5;241m*\u001b[39m \u001b[38;5;241m1.5\u001b[39m, \u001b[38;5;28mself\u001b[39m\u001b[38;5;241m.\u001b[39msleep_max)\n",
      "\u001b[0;31mKeyboardInterrupt\u001b[0m: "
     ]
    }
   ],
   "source": [
    "def download_daily_mean(year):\n",
    "    req = {\n",
    "        \"variable\": [\"total_precipitation\"],\n",
    "        \"year\": [str(year)],\n",
    "        \"month\": _month_list(),\n",
    "        \"day\": _day_list(),\n",
    "        \"time\": [\n",
    "            \"00:00\", \"01:00\", \"02:00\",\n",
    "            \"03:00\", \"04:00\", \"05:00\",\n",
    "            \"06:00\", \"07:00\", \"08:00\",\n",
    "            \"09:00\", \"10:00\", \"11:00\",\n",
    "            \"12:00\", \"13:00\", \"14:00\",\n",
    "            \"15:00\", \"16:00\", \"17:00\",\n",
    "            \"18:00\", \"19:00\", \"20:00\",\n",
    "            \"21:00\", \"22:00\", \"23:00\"\n",
    "        ],\n",
    "        \"data_format\": \"grib\",\n",
    "        \"download_format\": \"unarchived\",\n",
    "        \"area\": [IBERIA_BBOX['max_lat'], IBERIA_BBOX['min_lon'], IBERIA_BBOX['min_lat'], IBERIA_BBOX['max_lon']]\n",
    "    }\n",
    "    target = OUTDIR / f\"tp_hourly_{year}.grib\"\n",
    "    if target.exists():\n",
    "        print(f\"✓ {target.name} exists - skip\"); return\n",
    "    cdsapi.Client().retrieve(\"reanalysis-era5-land\", req, str(target))\n",
    "\n",
    "for yr in range(1960, 1961): #upto 1966 done. \n",
    "    download_daily_mean(yr)\n"
   ]
  },
  {
   "cell_type": "code",
   "execution_count": 14,
   "id": "8890d122",
   "metadata": {},
   "outputs": [
    {
     "name": "stderr",
     "output_type": "stream",
     "text": [
      "2025-06-11 13:16:54,743 INFO [2025-06-10T00:00:00] To improve our C3S service, we need to hear from you! Please complete this very short [survey](https://confluence.ecmwf.int/x/E7uBEQ/). Thank you.\n",
      "2025-06-11 13:16:54,743 INFO [2024-09-26T00:00:00] Watch our [Forum](https://forum.ecmwf.int/) for Announcements, news and other discussed topics.\n",
      "2025-06-11 13:16:55,034 INFO Request ID is 3dba523e-e75e-4c2d-8cc0-586c0503439f\n",
      "2025-06-11 13:16:55,234 INFO status has been updated to accepted\n",
      "2025-06-11 13:17:16,546 INFO status has been updated to running\n",
      "2025-06-11 13:45:19,144 INFO status has been updated to successful\n"
     ]
    },
    {
     "data": {
      "application/vnd.jupyter.widget-view+json": {
       "model_id": "727cf8277aeb46469b0da97909984e90",
       "version_major": 2,
       "version_minor": 0
      },
      "text/plain": [
       "f6836341ce8de21f31eaab1feb576f25.grib:   0%|          | 0.00/194M [00:00<?, ?B/s]"
      ]
     },
     "metadata": {},
     "output_type": "display_data"
    },
    {
     "name": "stderr",
     "output_type": "stream",
     "text": [
      "2025-06-11 13:45:51,547 INFO [2025-06-10T00:00:00] To improve our C3S service, we need to hear from you! Please complete this very short [survey](https://confluence.ecmwf.int/x/E7uBEQ/). Thank you.\n",
      "2025-06-11 13:45:51,549 INFO [2024-09-26T00:00:00] Watch our [Forum](https://forum.ecmwf.int/) for Announcements, news and other discussed topics.\n",
      "2025-06-11 13:45:51,830 INFO Request ID is 70a45097-fe26-4f94-b6ba-6aa0afd1c782\n",
      "2025-06-11 13:45:51,935 INFO status has been updated to accepted\n",
      "2025-06-11 13:46:13,523 INFO status has been updated to running\n",
      "2025-06-11 14:18:16,082 INFO status has been updated to successful\n"
     ]
    },
    {
     "data": {
      "application/vnd.jupyter.widget-view+json": {
       "model_id": "29fc490fb94a4393950a97b2d1a8b523",
       "version_major": 2,
       "version_minor": 0
      },
      "text/plain": [
       "f5f4cd28cc38c94fa1ecd804be1a242a.grib:   0%|          | 0.00/193M [00:00<?, ?B/s]"
      ]
     },
     "metadata": {},
     "output_type": "display_data"
    },
    {
     "name": "stderr",
     "output_type": "stream",
     "text": [
      "2025-06-11 14:19:37,614 INFO [2025-06-10T00:00:00] To improve our C3S service, we need to hear from you! Please complete this very short [survey](https://confluence.ecmwf.int/x/E7uBEQ/). Thank you.\n",
      "2025-06-11 14:19:37,615 INFO [2024-09-26T00:00:00] Watch our [Forum](https://forum.ecmwf.int/) for Announcements, news and other discussed topics.\n",
      "2025-06-11 14:19:37,999 INFO Request ID is 86e91489-a1cd-430e-a179-9347f02d2106\n",
      "2025-06-11 14:19:38,091 INFO status has been updated to accepted\n",
      "2025-06-11 14:19:51,772 INFO status has been updated to running\n",
      "2025-06-11 14:50:06,428 INFO status has been updated to successful\n"
     ]
    },
    {
     "data": {
      "application/vnd.jupyter.widget-view+json": {
       "model_id": "b9f27c4379404be089b5d6bfde45c739",
       "version_major": 2,
       "version_minor": 0
      },
      "text/plain": [
       "a05e549349db7fa4f6b3c248f392e2c2.grib:   0%|          | 0.00/193M [00:00<?, ?B/s]"
      ]
     },
     "metadata": {},
     "output_type": "display_data"
    },
    {
     "name": "stderr",
     "output_type": "stream",
     "text": [
      "2025-06-11 14:50:36,640 INFO [2025-06-10T00:00:00] To improve our C3S service, we need to hear from you! Please complete this very short [survey](https://confluence.ecmwf.int/x/E7uBEQ/). Thank you.\n",
      "2025-06-11 14:50:36,640 INFO [2024-09-26T00:00:00] Watch our [Forum](https://forum.ecmwf.int/) for Announcements, news and other discussed topics.\n",
      "2025-06-11 14:50:36,853 INFO Request ID is 6eeeb0d2-18a8-4b64-af2d-59a58cf34b56\n",
      "2025-06-11 14:50:36,912 INFO status has been updated to accepted\n",
      "2025-06-11 14:53:30,062 INFO status has been updated to running\n",
      "Recovering from connection error [('Connection aborted.', RemoteDisconnected('Remote end closed connection without response'))], attemps 1 of 500\n",
      "Retrying in 120 seconds\n",
      "2025-06-11 15:48:20,270 INFO status has been updated to successful\n"
     ]
    },
    {
     "data": {
      "application/vnd.jupyter.widget-view+json": {
       "model_id": "f863573e495344d79c75b8bcd30095db",
       "version_major": 2,
       "version_minor": 0
      },
      "text/plain": [
       "b57e8f9dbadc228b9c9c2663137023c2.grib:   0%|          | 0.00/193M [00:00<?, ?B/s]"
      ]
     },
     "metadata": {},
     "output_type": "display_data"
    },
    {
     "name": "stderr",
     "output_type": "stream",
     "text": [
      "2025-06-11 15:49:00,263 INFO [2025-06-10T00:00:00] To improve our C3S service, we need to hear from you! Please complete this very short [survey](https://confluence.ecmwf.int/x/E7uBEQ/). Thank you.\n",
      "2025-06-11 15:49:00,263 INFO [2024-09-26T00:00:00] Watch our [Forum](https://forum.ecmwf.int/) for Announcements, news and other discussed topics.\n",
      "2025-06-11 15:49:00,753 INFO Request ID is d9f15aba-988d-48a9-b36a-f6cd2af3c676\n",
      "2025-06-11 15:49:00,830 INFO status has been updated to accepted\n",
      "2025-06-11 15:51:53,325 INFO status has been updated to running\n",
      "2025-06-11 16:21:30,324 INFO status has been updated to successful\n"
     ]
    },
    {
     "data": {
      "application/vnd.jupyter.widget-view+json": {
       "model_id": "d51969708f5c45c08fd70811ebc52088",
       "version_major": 2,
       "version_minor": 0
      },
      "text/plain": [
       "e4eeb85ddfc7456dd96689fd929dc26f.grib:   0%|          | 0.00/194M [00:00<?, ?B/s]"
      ]
     },
     "metadata": {},
     "output_type": "display_data"
    },
    {
     "name": "stderr",
     "output_type": "stream",
     "text": [
      "2025-06-11 16:22:24,055 INFO [2025-06-10T00:00:00] To improve our C3S service, we need to hear from you! Please complete this very short [survey](https://confluence.ecmwf.int/x/E7uBEQ/). Thank you.\n",
      "2025-06-11 16:22:24,055 INFO [2024-09-26T00:00:00] Watch our [Forum](https://forum.ecmwf.int/) for Announcements, news and other discussed topics.\n",
      "2025-06-11 16:22:24,755 INFO Request ID is 396643e1-d89e-41b5-b2a2-fdc810e459e4\n",
      "2025-06-11 16:22:24,847 INFO status has been updated to accepted\n",
      "2025-06-11 16:22:46,442 INFO status has been updated to running\n",
      "2025-06-11 16:52:50,047 INFO status has been updated to successful\n"
     ]
    },
    {
     "data": {
      "application/vnd.jupyter.widget-view+json": {
       "model_id": "8b81c015ba3c46808621a1409a58b04b",
       "version_major": 2,
       "version_minor": 0
      },
      "text/plain": [
       "9218bf7a0b8911d98d1c067cca221f4.grib:   0%|          | 0.00/193M [00:00<?, ?B/s]"
      ]
     },
     "metadata": {},
     "output_type": "display_data"
    },
    {
     "name": "stderr",
     "output_type": "stream",
     "text": [
      "2025-06-11 16:53:20,237 INFO [2025-06-10T00:00:00] To improve our C3S service, we need to hear from you! Please complete this very short [survey](https://confluence.ecmwf.int/x/E7uBEQ/). Thank you.\n",
      "2025-06-11 16:53:20,238 INFO [2024-09-26T00:00:00] Watch our [Forum](https://forum.ecmwf.int/) for Announcements, news and other discussed topics.\n",
      "2025-06-11 16:53:20,735 INFO Request ID is 3443a536-6144-4e9b-99af-3adbedb54634\n",
      "2025-06-11 16:53:20,819 INFO status has been updated to accepted\n",
      "2025-06-11 16:53:53,721 INFO status has been updated to running\n",
      "2025-06-11 17:17:42,484 INFO status has been updated to successful\n"
     ]
    },
    {
     "data": {
      "application/vnd.jupyter.widget-view+json": {
       "model_id": "5dfab2c1992d495f95d5af32aab0415a",
       "version_major": 2,
       "version_minor": 0
      },
      "text/plain": [
       "145b25e15e279e120731a94730ac14f.grib:   0%|          | 0.00/193M [00:00<?, ?B/s]"
      ]
     },
     "metadata": {},
     "output_type": "display_data"
    },
    {
     "name": "stderr",
     "output_type": "stream",
     "text": [
      "2025-06-11 17:18:11,388 INFO [2025-06-10T00:00:00] To improve our C3S service, we need to hear from you! Please complete this very short [survey](https://confluence.ecmwf.int/x/E7uBEQ/). Thank you.\n",
      "2025-06-11 17:18:11,388 INFO [2024-09-26T00:00:00] Watch our [Forum](https://forum.ecmwf.int/) for Announcements, news and other discussed topics.\n",
      "2025-06-11 17:18:11,617 INFO Request ID is 39c6831d-c20f-46d6-8be3-375f4a4d9bb6\n",
      "2025-06-11 17:18:11,699 INFO status has been updated to accepted\n",
      "2025-06-11 17:18:20,425 INFO status has been updated to running\n",
      "2025-06-11 17:46:35,567 INFO status has been updated to successful\n"
     ]
    },
    {
     "data": {
      "application/vnd.jupyter.widget-view+json": {
       "model_id": "3476c81d42404298941883201f947971",
       "version_major": 2,
       "version_minor": 0
      },
      "text/plain": [
       "2dfa8c51a108910731812a922a9aa910.grib:   0%|          | 0.00/193M [00:00<?, ?B/s]"
      ]
     },
     "metadata": {},
     "output_type": "display_data"
    },
    {
     "name": "stderr",
     "output_type": "stream",
     "text": [
      "2025-06-11 17:47:06,824 INFO [2025-06-10T00:00:00] To improve our C3S service, we need to hear from you! Please complete this very short [survey](https://confluence.ecmwf.int/x/E7uBEQ/). Thank you.\n",
      "2025-06-11 17:47:06,825 INFO [2024-09-26T00:00:00] Watch our [Forum](https://forum.ecmwf.int/) for Announcements, news and other discussed topics.\n",
      "2025-06-11 17:47:07,099 INFO Request ID is b5f1dc08-38f4-43db-b9f7-1525d15077d1\n",
      "2025-06-11 17:47:07,160 INFO status has been updated to accepted\n",
      "2025-06-11 17:49:02,118 INFO status has been updated to running\n",
      "2025-06-11 18:19:31,703 INFO status has been updated to successful\n"
     ]
    },
    {
     "data": {
      "application/vnd.jupyter.widget-view+json": {
       "model_id": "161fcd84e78a41df8e9d82b3f918f13f",
       "version_major": 2,
       "version_minor": 0
      },
      "text/plain": [
       "ad998a89249ab3719f724e3c9c22bbce.grib:   0%|          | 0.00/194M [00:00<?, ?B/s]"
      ]
     },
     "metadata": {},
     "output_type": "display_data"
    },
    {
     "name": "stderr",
     "output_type": "stream",
     "text": [
      "2025-06-11 18:20:04,462 INFO [2025-06-10T00:00:00] To improve our C3S service, we need to hear from you! Please complete this very short [survey](https://confluence.ecmwf.int/x/E7uBEQ/). Thank you.\n",
      "2025-06-11 18:20:04,462 INFO [2024-09-26T00:00:00] Watch our [Forum](https://forum.ecmwf.int/) for Announcements, news and other discussed topics.\n",
      "2025-06-11 18:20:05,089 INFO Request ID is 7dcbd3d0-db09-4a9f-ba7c-d12f3f921424\n",
      "2025-06-11 18:20:05,146 INFO status has been updated to accepted\n",
      "2025-06-11 18:20:19,063 INFO status has been updated to running\n",
      "2025-06-11 18:46:33,066 INFO status has been updated to successful\n"
     ]
    },
    {
     "data": {
      "application/vnd.jupyter.widget-view+json": {
       "model_id": "8554765dddce452d8ce60dd25a723719",
       "version_major": 2,
       "version_minor": 0
      },
      "text/plain": [
       "40847d0923cb5cfbb5591286e405689f.grib:   0%|          | 0.00/193M [00:00<?, ?B/s]"
      ]
     },
     "metadata": {},
     "output_type": "display_data"
    },
    {
     "name": "stderr",
     "output_type": "stream",
     "text": [
      "2025-06-11 18:47:50,523 INFO [2025-06-10T00:00:00] To improve our C3S service, we need to hear from you! Please complete this very short [survey](https://confluence.ecmwf.int/x/E7uBEQ/). Thank you.\n",
      "2025-06-11 18:47:50,524 INFO [2024-09-26T00:00:00] Watch our [Forum](https://forum.ecmwf.int/) for Announcements, news and other discussed topics.\n",
      "2025-06-11 18:47:51,530 INFO Request ID is c33707b3-782f-41bd-a8af-0825c0f7b868\n",
      "2025-06-11 18:47:51,654 INFO status has been updated to accepted\n",
      "2025-06-11 18:48:05,457 INFO status has been updated to running\n",
      "2025-06-11 19:30:15,624 INFO status has been updated to successful\n"
     ]
    },
    {
     "data": {
      "application/vnd.jupyter.widget-view+json": {
       "model_id": "475fd67046fc44e98303017e3af6ae44",
       "version_major": 2,
       "version_minor": 0
      },
      "text/plain": [
       "9f597ab77ad536a190f76d96b673f83b.grib:   0%|          | 0.00/193M [00:00<?, ?B/s]"
      ]
     },
     "metadata": {},
     "output_type": "display_data"
    },
    {
     "name": "stderr",
     "output_type": "stream",
     "text": [
      "2025-06-11 19:30:43,575 INFO [2025-06-10T00:00:00] To improve our C3S service, we need to hear from you! Please complete this very short [survey](https://confluence.ecmwf.int/x/E7uBEQ/). Thank you.\n",
      "2025-06-11 19:30:43,576 INFO [2024-09-26T00:00:00] Watch our [Forum](https://forum.ecmwf.int/) for Announcements, news and other discussed topics.\n",
      "2025-06-11 19:30:44,277 INFO Request ID is 7289a50f-2598-443b-b6fc-cfa4cc80ddc9\n",
      "2025-06-11 19:30:44,357 INFO status has been updated to accepted\n",
      "2025-06-11 19:31:05,966 INFO status has been updated to running\n",
      "Recovering from connection error [('Connection aborted.', RemoteDisconnected('Remote end closed connection without response'))], attemps 1 of 500\n",
      "Retrying in 120 seconds\n",
      "2025-06-11 20:04:23,353 INFO status has been updated to successful\n"
     ]
    },
    {
     "data": {
      "application/vnd.jupyter.widget-view+json": {
       "model_id": "247e489b6b3340fba43f8c501da5b2b0",
       "version_major": 2,
       "version_minor": 0
      },
      "text/plain": [
       "18658f0e115c972ac8390670cf416eb5.grib:   0%|          | 0.00/193M [00:00<?, ?B/s]"
      ]
     },
     "metadata": {},
     "output_type": "display_data"
    },
    {
     "name": "stderr",
     "output_type": "stream",
     "text": [
      "2025-06-11 20:04:55,995 INFO [2025-06-10T00:00:00] To improve our C3S service, we need to hear from you! Please complete this very short [survey](https://confluence.ecmwf.int/x/E7uBEQ/). Thank you.\n",
      "2025-06-11 20:04:55,996 INFO [2024-09-26T00:00:00] Watch our [Forum](https://forum.ecmwf.int/) for Announcements, news and other discussed topics.\n",
      "2025-06-11 20:04:56,338 INFO Request ID is 56eb95e3-2b20-4ce2-b6d2-b1f74e9372c7\n",
      "2025-06-11 20:04:56,414 INFO status has been updated to accepted\n",
      "2025-06-11 20:05:29,803 INFO status has been updated to running\n",
      "Recovering from connection error [('Connection aborted.', RemoteDisconnected('Remote end closed connection without response'))], attemps 1 of 500\n",
      "Retrying in 120 seconds\n",
      "2025-06-11 20:44:03,955 INFO status has been updated to successful\n"
     ]
    },
    {
     "data": {
      "application/vnd.jupyter.widget-view+json": {
       "model_id": "f7a0a45f08774d99a0405b7083a544a4",
       "version_major": 2,
       "version_minor": 0
      },
      "text/plain": [
       "578ba32ebc1f99eaa1cd4ad340629481.grib:   0%|          | 0.00/194M [00:00<?, ?B/s]"
      ]
     },
     "metadata": {},
     "output_type": "display_data"
    },
    {
     "name": "stderr",
     "output_type": "stream",
     "text": [
      "2025-06-11 20:45:04,689 INFO [2025-06-10T00:00:00] To improve our C3S service, we need to hear from you! Please complete this very short [survey](https://confluence.ecmwf.int/x/E7uBEQ/). Thank you.\n",
      "2025-06-11 20:45:04,691 INFO [2024-09-26T00:00:00] Watch our [Forum](https://forum.ecmwf.int/) for Announcements, news and other discussed topics.\n",
      "2025-06-11 20:45:05,178 INFO Request ID is ec9259a8-a8b2-462b-a3ec-a2bc44f81efe\n",
      "2025-06-11 20:45:05,264 INFO status has been updated to accepted\n",
      "2025-06-11 20:45:38,103 INFO status has been updated to running\n",
      "Recovering from connection error [('Connection aborted.', RemoteDisconnected('Remote end closed connection without response'))], attemps 1 of 500\n",
      "Retrying in 120 seconds\n",
      "2025-06-11 21:15:36,156 INFO status has been updated to successful\n"
     ]
    },
    {
     "data": {
      "application/vnd.jupyter.widget-view+json": {
       "model_id": "36270388ca7c4ce19e54627f07a39476",
       "version_major": 2,
       "version_minor": 0
      },
      "text/plain": [
       "652dba3a66af0e52f1027621c39aeec0.grib:   0%|          | 0.00/193M [00:00<?, ?B/s]"
      ]
     },
     "metadata": {},
     "output_type": "display_data"
    },
    {
     "name": "stderr",
     "output_type": "stream",
     "text": [
      "2025-06-11 21:16:10,531 INFO [2025-06-10T00:00:00] To improve our C3S service, we need to hear from you! Please complete this very short [survey](https://confluence.ecmwf.int/x/E7uBEQ/). Thank you.\n",
      "2025-06-11 21:16:10,533 INFO [2024-09-26T00:00:00] Watch our [Forum](https://forum.ecmwf.int/) for Announcements, news and other discussed topics.\n",
      "2025-06-11 21:16:11,038 INFO Request ID is c5cb8882-d611-49de-86ea-821be51a16d7\n",
      "2025-06-11 21:16:11,241 INFO status has been updated to accepted\n",
      "2025-06-11 21:16:44,129 INFO status has been updated to running\n",
      "Recovering from connection error [('Connection aborted.', RemoteDisconnected('Remote end closed connection without response'))], attemps 1 of 500\n",
      "Retrying in 120 seconds\n",
      "Recovering from connection error [('Connection aborted.', RemoteDisconnected('Remote end closed connection without response'))], attemps 1 of 500\n",
      "Retrying in 120 seconds\n",
      "2025-06-11 21:48:15,600 INFO status has been updated to successful\n"
     ]
    },
    {
     "data": {
      "application/vnd.jupyter.widget-view+json": {
       "model_id": "f188d7ea38ea4bebadf8338fd2459b92",
       "version_major": 2,
       "version_minor": 0
      },
      "text/plain": [
       "b41a1b8eb1acf7c4ec5bcd6caeb0fcca.grib:   0%|          | 0.00/193M [00:00<?, ?B/s]"
      ]
     },
     "metadata": {},
     "output_type": "display_data"
    },
    {
     "name": "stderr",
     "output_type": "stream",
     "text": [
      "2025-06-11 21:48:51,989 INFO [2025-06-10T00:00:00] To improve our C3S service, we need to hear from you! Please complete this very short [survey](https://confluence.ecmwf.int/x/E7uBEQ/). Thank you.\n",
      "2025-06-11 21:48:51,991 INFO [2024-09-26T00:00:00] Watch our [Forum](https://forum.ecmwf.int/) for Announcements, news and other discussed topics.\n",
      "2025-06-11 21:48:52,245 INFO Request ID is a914f87a-563c-474a-97b5-814f82bafa78\n",
      "2025-06-11 21:48:52,323 INFO status has been updated to accepted\n",
      "2025-06-11 21:49:00,912 INFO status has been updated to running\n",
      "Recovering from connection error [('Connection aborted.', RemoteDisconnected('Remote end closed connection without response'))], attemps 1 of 500\n",
      "Retrying in 120 seconds\n",
      "2025-06-11 22:23:43,722 INFO status has been updated to successful\n"
     ]
    },
    {
     "data": {
      "application/vnd.jupyter.widget-view+json": {
       "model_id": "926d65f26a154fc9aa2bdd46a74cda55",
       "version_major": 2,
       "version_minor": 0
      },
      "text/plain": [
       "230425cab1d0868cfaa7f70f8dbb4d3d.grib:   0%|          | 0.00/193M [00:00<?, ?B/s]"
      ]
     },
     "metadata": {},
     "output_type": "display_data"
    },
    {
     "name": "stderr",
     "output_type": "stream",
     "text": [
      "2025-06-11 22:24:16,211 INFO [2025-06-10T00:00:00] To improve our C3S service, we need to hear from you! Please complete this very short [survey](https://confluence.ecmwf.int/x/E7uBEQ/). Thank you.\n",
      "2025-06-11 22:24:16,213 INFO [2024-09-26T00:00:00] Watch our [Forum](https://forum.ecmwf.int/) for Announcements, news and other discussed topics.\n",
      "2025-06-11 22:24:16,431 INFO Request ID is f47b44cd-d990-4eb8-aa5f-4881be5bed2b\n",
      "2025-06-11 22:24:16,499 INFO status has been updated to accepted\n",
      "2025-06-11 22:24:49,872 INFO status has been updated to running\n",
      "Recovering from connection error [('Connection aborted.', RemoteDisconnected('Remote end closed connection without response'))], attemps 1 of 500\n",
      "Retrying in 120 seconds\n",
      "2025-06-11 22:56:15,287 INFO status has been updated to successful\n"
     ]
    },
    {
     "data": {
      "application/vnd.jupyter.widget-view+json": {
       "model_id": "fb6239eb7f1f4b8d8e01696f0dd47716",
       "version_major": 2,
       "version_minor": 0
      },
      "text/plain": [
       "3bfdd5ba103303b8fbb57aefe1123a5c.grib:   0%|          | 0.00/194M [00:00<?, ?B/s]"
      ]
     },
     "metadata": {},
     "output_type": "display_data"
    },
    {
     "name": "stderr",
     "output_type": "stream",
     "text": [
      "2025-06-11 22:56:44,354 INFO [2025-06-10T00:00:00] To improve our C3S service, we need to hear from you! Please complete this very short [survey](https://confluence.ecmwf.int/x/E7uBEQ/). Thank you.\n",
      "2025-06-11 22:56:44,356 INFO [2024-09-26T00:00:00] Watch our [Forum](https://forum.ecmwf.int/) for Announcements, news and other discussed topics.\n",
      "2025-06-11 22:56:44,623 INFO Request ID is 1ac84ae6-ee70-4e03-99a2-7e8e6f55b9fa\n",
      "2025-06-11 22:56:44,703 INFO status has been updated to accepted\n",
      "2025-06-11 22:58:00,505 INFO status has been updated to running\n",
      "Recovering from connection error [('Connection aborted.', RemoteDisconnected('Remote end closed connection without response'))], attemps 1 of 500\n",
      "Retrying in 120 seconds\n",
      "2025-06-11 23:28:25,037 INFO status has been updated to successful\n"
     ]
    },
    {
     "data": {
      "application/vnd.jupyter.widget-view+json": {
       "model_id": "533dd9bdd9ad4c7f84da4e2435de3fe1",
       "version_major": 2,
       "version_minor": 0
      },
      "text/plain": [
       "da8292dc7b51c8d94ad41f0abb747ce2.grib:   0%|          | 0.00/193M [00:00<?, ?B/s]"
      ]
     },
     "metadata": {},
     "output_type": "display_data"
    },
    {
     "name": "stderr",
     "output_type": "stream",
     "text": [
      "2025-06-11 23:29:09,748 INFO [2025-06-10T00:00:00] To improve our C3S service, we need to hear from you! Please complete this very short [survey](https://confluence.ecmwf.int/x/E7uBEQ/). Thank you.\n",
      "2025-06-11 23:29:09,750 INFO [2024-09-26T00:00:00] Watch our [Forum](https://forum.ecmwf.int/) for Announcements, news and other discussed topics.\n",
      "2025-06-11 23:29:10,161 INFO Request ID is 8e9d7afe-5a8e-48e7-81b4-6a84dcd28c25\n",
      "2025-06-11 23:29:10,241 INFO status has been updated to accepted\n",
      "2025-06-11 23:30:00,276 INFO status has been updated to running\n",
      "Recovering from connection error [('Connection aborted.', RemoteDisconnected('Remote end closed connection without response'))], attemps 1 of 500\n",
      "Retrying in 120 seconds\n",
      "Recovering from connection error [('Connection aborted.', RemoteDisconnected('Remote end closed connection without response'))], attemps 1 of 500\n",
      "Retrying in 120 seconds\n",
      "2025-06-12 00:07:37,068 INFO status has been updated to successful\n"
     ]
    },
    {
     "data": {
      "application/vnd.jupyter.widget-view+json": {
       "model_id": "d0eb4e2cf9734faf9e2e46973dc63924",
       "version_major": 2,
       "version_minor": 0
      },
      "text/plain": [
       "98298329eeb51bd133504a0070681119.grib:   0%|          | 0.00/193M [00:00<?, ?B/s]"
      ]
     },
     "metadata": {},
     "output_type": "display_data"
    },
    {
     "name": "stderr",
     "output_type": "stream",
     "text": [
      "2025-06-12 00:08:23,528 INFO [2025-06-10T00:00:00] To improve our C3S service, we need to hear from you! Please complete this very short [survey](https://confluence.ecmwf.int/x/E7uBEQ/). Thank you.\n",
      "2025-06-12 00:08:23,529 INFO [2024-09-26T00:00:00] Watch our [Forum](https://forum.ecmwf.int/) for Announcements, news and other discussed topics.\n",
      "2025-06-12 00:08:23,911 INFO Request ID is 8c79d1fa-a0c9-488e-98c1-764eb5d30ae0\n",
      "2025-06-12 00:08:24,034 INFO status has been updated to accepted\n",
      "2025-06-12 00:08:57,317 INFO status has been updated to running\n",
      "Recovering from connection error [('Connection aborted.', RemoteDisconnected('Remote end closed connection without response'))], attemps 1 of 500\n",
      "Retrying in 120 seconds\n",
      "Recovering from connection error [('Connection aborted.', RemoteDisconnected('Remote end closed connection without response'))], attemps 1 of 500\n",
      "Retrying in 120 seconds\n",
      "Recovering from connection error [('Connection aborted.', RemoteDisconnected('Remote end closed connection without response'))], attemps 1 of 500\n",
      "Retrying in 120 seconds\n",
      "2025-06-12 00:40:39,567 INFO status has been updated to successful\n"
     ]
    },
    {
     "data": {
      "application/vnd.jupyter.widget-view+json": {
       "model_id": "894d5b556e734290a9a3a400b74c396b",
       "version_major": 2,
       "version_minor": 0
      },
      "text/plain": [
       "c01184f4f3af11d861031d17f814b5cf.grib:   0%|          | 0.00/193M [00:00<?, ?B/s]"
      ]
     },
     "metadata": {},
     "output_type": "display_data"
    },
    {
     "name": "stderr",
     "output_type": "stream",
     "text": [
      "2025-06-12 00:41:39,733 INFO [2025-06-10T00:00:00] To improve our C3S service, we need to hear from you! Please complete this very short [survey](https://confluence.ecmwf.int/x/E7uBEQ/). Thank you.\n",
      "2025-06-12 00:41:39,733 INFO [2024-09-26T00:00:00] Watch our [Forum](https://forum.ecmwf.int/) for Announcements, news and other discussed topics.\n",
      "2025-06-12 00:41:39,956 INFO Request ID is a6622e59-1f25-4dff-9c1f-009fba7dc947\n",
      "2025-06-12 00:41:40,025 INFO status has been updated to accepted\n",
      "Recovering from connection error [('Connection aborted.', RemoteDisconnected('Remote end closed connection without response'))], attemps 1 of 500\n",
      "Retrying in 120 seconds\n",
      "2025-06-12 00:46:15,909 INFO status has been updated to running\n",
      "Recovering from connection error [('Connection aborted.', RemoteDisconnected('Remote end closed connection without response'))], attemps 1 of 500\n",
      "Retrying in 120 seconds\n",
      "2025-06-12 01:11:53,539 INFO status has been updated to successful\n"
     ]
    },
    {
     "data": {
      "application/vnd.jupyter.widget-view+json": {
       "model_id": "f39fd9a78ed740b9a33d54bd7bf1c8f0",
       "version_major": 2,
       "version_minor": 0
      },
      "text/plain": [
       "40ac2ecf3e9fc7885db0b63a3761e828.grib:   0%|          | 0.00/194M [00:00<?, ?B/s]"
      ]
     },
     "metadata": {},
     "output_type": "display_data"
    },
    {
     "name": "stderr",
     "output_type": "stream",
     "text": [
      "2025-06-12 01:12:26,040 INFO [2025-06-10T00:00:00] To improve our C3S service, we need to hear from you! Please complete this very short [survey](https://confluence.ecmwf.int/x/E7uBEQ/). Thank you.\n",
      "2025-06-12 01:12:26,042 INFO [2024-09-26T00:00:00] Watch our [Forum](https://forum.ecmwf.int/) for Announcements, news and other discussed topics.\n",
      "2025-06-12 01:12:26,309 INFO Request ID is 1ad7210f-c9de-44fa-bbd1-36737e7bac6a\n",
      "2025-06-12 01:12:26,390 INFO status has been updated to accepted\n",
      "2025-06-12 01:12:59,233 INFO status has been updated to running\n",
      "Recovering from connection error [('Connection aborted.', RemoteDisconnected('Remote end closed connection without response'))], attemps 1 of 500\n",
      "Retrying in 120 seconds\n",
      "Recovering from connection error [('Connection aborted.', RemoteDisconnected('Remote end closed connection without response'))], attemps 1 of 500\n",
      "Retrying in 120 seconds\n",
      "2025-06-12 01:59:28,993 INFO status has been updated to successful\n"
     ]
    },
    {
     "data": {
      "application/vnd.jupyter.widget-view+json": {
       "model_id": "61cc35ceac184bfa98869e685d9bbc7b",
       "version_major": 2,
       "version_minor": 0
      },
      "text/plain": [
       "dca524868a6d5833b10e20390550ab28.grib:   0%|          | 0.00/193M [00:00<?, ?B/s]"
      ]
     },
     "metadata": {},
     "output_type": "display_data"
    },
    {
     "name": "stderr",
     "output_type": "stream",
     "text": [
      "Recovering from connection error [HTTPSConnectionPool(host='object-store.os-api.cci2.ecmwf.int', port=443): Read timed out.], attemps 1 of 500\n",
      "Retrying in 120 seconds\n"
     ]
    },
    {
     "data": {
      "application/vnd.jupyter.widget-view+json": {
       "model_id": "8db97da43fff402da7f570e34a799d2e",
       "version_major": 2,
       "version_minor": 0
      },
      "text/plain": [
       "dca524868a6d5833b10e20390550ab28.grib:  68%|######7   | 131M/193M [00:00<?, ?B/s]"
      ]
     },
     "metadata": {},
     "output_type": "display_data"
    },
    {
     "name": "stderr",
     "output_type": "stream",
     "text": [
      "2025-06-12 02:10:41,994 INFO [2025-06-10T00:00:00] To improve our C3S service, we need to hear from you! Please complete this very short [survey](https://confluence.ecmwf.int/x/E7uBEQ/). Thank you.\n",
      "2025-06-12 02:10:41,996 INFO [2024-09-26T00:00:00] Watch our [Forum](https://forum.ecmwf.int/) for Announcements, news and other discussed topics.\n",
      "2025-06-12 02:10:42,682 INFO Request ID is 68543f90-b332-4b6d-9506-d21a159b77cc\n",
      "2025-06-12 02:10:42,760 INFO status has been updated to accepted\n",
      "2025-06-12 02:11:15,862 INFO status has been updated to running\n",
      "Recovering from connection error [('Connection aborted.', RemoteDisconnected('Remote end closed connection without response'))], attemps 1 of 500\n",
      "Retrying in 120 seconds\n",
      "2025-06-12 02:41:53,056 INFO status has been updated to successful\n"
     ]
    },
    {
     "data": {
      "application/vnd.jupyter.widget-view+json": {
       "model_id": "e3c2a06d02d347f38031d00cbb485c66",
       "version_major": 2,
       "version_minor": 0
      },
      "text/plain": [
       "a00ad417be5d724403946bfca990bddc.grib:   0%|          | 0.00/193M [00:00<?, ?B/s]"
      ]
     },
     "metadata": {},
     "output_type": "display_data"
    },
    {
     "name": "stderr",
     "output_type": "stream",
     "text": [
      "2025-06-12 02:42:30,659 INFO [2025-06-10T00:00:00] To improve our C3S service, we need to hear from you! Please complete this very short [survey](https://confluence.ecmwf.int/x/E7uBEQ/). Thank you.\n",
      "2025-06-12 02:42:30,661 INFO [2024-09-26T00:00:00] Watch our [Forum](https://forum.ecmwf.int/) for Announcements, news and other discussed topics.\n",
      "2025-06-12 02:42:31,048 INFO Request ID is bc941fe3-9ed7-43e9-8538-ca0d710b6f97\n",
      "2025-06-12 02:42:31,140 INFO status has been updated to accepted\n",
      "2025-06-12 02:43:21,215 INFO status has been updated to running\n",
      "Recovering from connection error [('Connection aborted.', RemoteDisconnected('Remote end closed connection without response'))], attemps 1 of 500\n",
      "Retrying in 120 seconds\n",
      "2025-06-12 03:15:06,673 INFO status has been updated to successful\n"
     ]
    },
    {
     "data": {
      "application/vnd.jupyter.widget-view+json": {
       "model_id": "f8a6e96196814525ad686609669eb308",
       "version_major": 2,
       "version_minor": 0
      },
      "text/plain": [
       "2a752c085db3c0e2621e40f8c855e2d9.grib:   0%|          | 0.00/193M [00:00<?, ?B/s]"
      ]
     },
     "metadata": {},
     "output_type": "display_data"
    },
    {
     "name": "stderr",
     "output_type": "stream",
     "text": [
      "2025-06-12 03:15:47,766 INFO [2025-06-10T00:00:00] To improve our C3S service, we need to hear from you! Please complete this very short [survey](https://confluence.ecmwf.int/x/E7uBEQ/). Thank you.\n",
      "2025-06-12 03:15:47,768 INFO [2024-09-26T00:00:00] Watch our [Forum](https://forum.ecmwf.int/) for Announcements, news and other discussed topics.\n",
      "2025-06-12 03:15:48,183 INFO Request ID is 2b605e63-e212-4b71-8471-840d0f04ad54\n",
      "2025-06-12 03:15:48,245 INFO status has been updated to accepted\n",
      "2025-06-12 03:16:09,579 INFO status has been updated to running\n",
      "Recovering from connection error [('Connection aborted.', RemoteDisconnected('Remote end closed connection without response'))], attemps 1 of 500\n",
      "Retrying in 120 seconds\n",
      "2025-06-12 03:44:47,153 INFO status has been updated to successful\n"
     ]
    },
    {
     "data": {
      "application/vnd.jupyter.widget-view+json": {
       "model_id": "c67941f80e3a4b998a86c61657d0fd45",
       "version_major": 2,
       "version_minor": 0
      },
      "text/plain": [
       "d542b1aa2810ecd27824cf4be6c2579e.grib:   0%|          | 0.00/194M [00:00<?, ?B/s]"
      ]
     },
     "metadata": {},
     "output_type": "display_data"
    },
    {
     "name": "stderr",
     "output_type": "stream",
     "text": [
      "2025-06-12 03:45:15,392 INFO [2025-06-10T00:00:00] To improve our C3S service, we need to hear from you! Please complete this very short [survey](https://confluence.ecmwf.int/x/E7uBEQ/). Thank you.\n",
      "2025-06-12 03:45:15,393 INFO [2024-09-26T00:00:00] Watch our [Forum](https://forum.ecmwf.int/) for Announcements, news and other discussed topics.\n",
      "2025-06-12 03:45:15,601 INFO Request ID is fe230925-0b06-4571-bf86-f4f79200bf00\n",
      "2025-06-12 03:45:15,686 INFO status has been updated to accepted\n",
      "2025-06-12 03:45:48,821 INFO status has been updated to running\n",
      "Recovering from connection error [('Connection aborted.', RemoteDisconnected('Remote end closed connection without response'))], attemps 1 of 500\n",
      "Retrying in 120 seconds\n",
      "2025-06-12 04:16:43,626 INFO status has been updated to successful\n"
     ]
    },
    {
     "data": {
      "application/vnd.jupyter.widget-view+json": {
       "model_id": "4155d386f6df466697ea9270fd8a21a6",
       "version_major": 2,
       "version_minor": 0
      },
      "text/plain": [
       "dadfb3ed7a2792755287995f8dcadf7a.grib:   0%|          | 0.00/193M [00:00<?, ?B/s]"
      ]
     },
     "metadata": {},
     "output_type": "display_data"
    },
    {
     "name": "stderr",
     "output_type": "stream",
     "text": [
      "2025-06-12 04:19:21,387 INFO [2025-06-10T00:00:00] To improve our C3S service, we need to hear from you! Please complete this very short [survey](https://confluence.ecmwf.int/x/E7uBEQ/). Thank you.\n",
      "2025-06-12 04:19:21,388 INFO [2024-09-26T00:00:00] Watch our [Forum](https://forum.ecmwf.int/) for Announcements, news and other discussed topics.\n",
      "2025-06-12 04:19:21,772 INFO Request ID is fbf91c35-cbfe-4cbf-a776-aea7b08f39c6\n",
      "2025-06-12 04:19:21,882 INFO status has been updated to accepted\n",
      "Recovering from connection error [('Connection aborted.', RemoteDisconnected('Remote end closed connection without response'))], attemps 1 of 500\n",
      "Retrying in 120 seconds\n",
      "2025-06-12 04:48:11,597 INFO status has been updated to successful\n"
     ]
    },
    {
     "data": {
      "application/vnd.jupyter.widget-view+json": {
       "model_id": "2003243de090492aa04443a1d226bb83",
       "version_major": 2,
       "version_minor": 0
      },
      "text/plain": [
       "c26f28cb6b19ec4c3efa7bbc18337608.grib:   0%|          | 0.00/193M [00:00<?, ?B/s]"
      ]
     },
     "metadata": {},
     "output_type": "display_data"
    },
    {
     "name": "stderr",
     "output_type": "stream",
     "text": [
      "2025-06-12 04:48:41,634 INFO [2025-06-10T00:00:00] To improve our C3S service, we need to hear from you! Please complete this very short [survey](https://confluence.ecmwf.int/x/E7uBEQ/). Thank you.\n",
      "2025-06-12 04:48:41,636 INFO [2024-09-26T00:00:00] Watch our [Forum](https://forum.ecmwf.int/) for Announcements, news and other discussed topics.\n",
      "2025-06-12 04:48:41,828 INFO Request ID is 6c340d2e-9426-466a-bc7e-1ce0140f36a3\n",
      "2025-06-12 04:48:41,936 INFO status has been updated to accepted\n",
      "2025-06-12 04:49:32,076 INFO status has been updated to running\n",
      "Recovering from connection error [('Connection aborted.', RemoteDisconnected('Remote end closed connection without response'))], attemps 1 of 500\n",
      "Retrying in 120 seconds\n",
      "2025-06-12 05:21:53,005 INFO status has been updated to successful\n"
     ]
    },
    {
     "data": {
      "application/vnd.jupyter.widget-view+json": {
       "model_id": "a9e146431fef40b38002418c3f71f3d0",
       "version_major": 2,
       "version_minor": 0
      },
      "text/plain": [
       "672f2312b9d5cf546835620079b4d23d.grib:   0%|          | 0.00/193M [00:00<?, ?B/s]"
      ]
     },
     "metadata": {},
     "output_type": "display_data"
    }
   ],
   "source": [
    "def download_daily_mean(year):\n",
    "    req = {\n",
    "        \"variable\": [\"total_precipitation\"],\n",
    "        \"year\": [str(year)],\n",
    "        \"month\": _month_list(),\n",
    "        \"day\": _day_list(),\n",
    "        \"time\": [\n",
    "            \"00:00\", \"01:00\", \"02:00\",\n",
    "            \"03:00\", \"04:00\", \"05:00\",\n",
    "            \"06:00\", \"07:00\", \"08:00\",\n",
    "            \"09:00\", \"10:00\", \"11:00\",\n",
    "            \"12:00\", \"13:00\", \"14:00\",\n",
    "            \"15:00\", \"16:00\", \"17:00\",\n",
    "            \"18:00\", \"19:00\", \"20:00\",\n",
    "            \"21:00\", \"22:00\", \"23:00\"\n",
    "        ],\n",
    "        \"data_format\": \"grib\",\n",
    "        \"download_format\": \"unarchived\",\n",
    "        \"area\": [IBERIA_BBOX['max_lat'], IBERIA_BBOX['min_lon'], IBERIA_BBOX['min_lat'], IBERIA_BBOX['max_lon']]\n",
    "    }\n",
    "    target = OUTDIR / f\"tp_hourly_{year}.grib\"\n",
    "    if target.exists():\n",
    "        print(f\"✓ {target.name} exists - skip\"); return\n",
    "    cdsapi.Client().retrieve(\"reanalysis-era5-land\", req, str(target))\n",
    "\n",
    "for yr in range(1996, 2024): \n",
    "    download_daily_mean(yr)\n"
   ]
  },
  {
   "cell_type": "code",
   "execution_count": 15,
   "id": "a5bc9890",
   "metadata": {},
   "outputs": [
    {
     "name": "stderr",
     "output_type": "stream",
     "text": [
      "2025-06-16 16:10:17,493 INFO [2025-06-16T00:00:00] CC-BY licence to replace Licence to use Copernicus Products on 02 July 2025. More information available [here]([https://status.ecmwf.int](https://forum.ecmwf.int/t/cc-by-licence-to-replace-licence-to-use-copernicus-products-on-02-july-2025/13464)/)\n",
      "2025-06-16 16:10:17,493 INFO [2025-06-10T00:00:00] To improve our C3S service, we need to hear from you! Please complete this very short [survey](https://confluence.ecmwf.int/x/E7uBEQ/). Thank you.\n",
      "2025-06-16 16:10:17,493 INFO [2024-09-26T00:00:00] Watch our [Forum](https://forum.ecmwf.int/) for Announcements, news and other discussed topics.\n",
      "2025-06-16 16:10:17,928 INFO Request ID is 1bac4286-bd2a-4851-b460-cfcbc5102ef4\n",
      "2025-06-16 16:10:18,031 INFO status has been updated to accepted\n",
      "2025-06-16 16:10:31,640 INFO status has been updated to running\n",
      "2025-06-16 16:42:40,910 INFO status has been updated to successful\n"
     ]
    },
    {
     "data": {
      "application/vnd.jupyter.widget-view+json": {
       "model_id": "fc27eb904e374da381786cc9998b85f8",
       "version_major": 2,
       "version_minor": 0
      },
      "text/plain": [
       "e8865e36b47fe91974d3a5da317478f.grib:   0%|          | 0.00/197M [00:00<?, ?B/s]"
      ]
     },
     "metadata": {},
     "output_type": "display_data"
    }
   ],
   "source": [
    "def download_daily_mean(year):\n",
    "    req = {\n",
    "        \"variable\": [\"total_precipitation\"],\n",
    "        \"year\": [\"1995\"],\n",
    "        \"month\": _month_list(),\n",
    "        \"day\": _day_list(),\n",
    "        \"time\": [\n",
    "            \"00:00\", \"01:00\", \"02:00\",\n",
    "            \"03:00\", \"04:00\", \"05:00\",\n",
    "            \"06:00\", \"07:00\", \"08:00\",\n",
    "            \"09:00\", \"10:00\", \"11:00\",\n",
    "            \"12:00\", \"13:00\", \"14:00\",\n",
    "            \"15:00\", \"16:00\", \"17:00\",\n",
    "            \"18:00\", \"19:00\", \"20:00\",\n",
    "            \"21:00\", \"22:00\", \"23:00\"\n",
    "        ],\n",
    "        \"data_format\": \"grib\",\n",
    "        \"download_format\": \"unarchived\",\n",
    "        \"area\": [IBERIA_BBOX['max_lat'], IBERIA_BBOX['min_lon'], IBERIA_BBOX['min_lat'], IBERIA_BBOX['max_lon']]\n",
    "    }\n",
    "    target = OUTDIR / f\"tp_hourly_{year}.grib\"\n",
    "    # if target.exists():\n",
    "    #     print(f\"✓ {target.name} exists - skip\"); return\n",
    "    cdsapi.Client().retrieve(\"reanalysis-era5-land\", req, str(target))\n",
    "\n",
    "download_daily_mean(1995)\n"
   ]
  },
  {
   "cell_type": "markdown",
   "id": "bf4506b5",
   "metadata": {},
   "source": [
    "### Monthly Data"
   ]
  },
  {
   "cell_type": "markdown",
   "id": "879d133a",
   "metadata": {},
   "source": [
    "#### Rain"
   ]
  },
  {
   "cell_type": "code",
   "execution_count": 15,
   "id": "32c8b076",
   "metadata": {},
   "outputs": [
    {
     "name": "stderr",
     "output_type": "stream",
     "text": [
      "2025-06-12 05:22:25,264 INFO [2025-06-10T00:00:00] To improve our C3S service, we need to hear from you! Please complete this very short [survey](https://confluence.ecmwf.int/x/E7uBEQ/). Thank you.\n",
      "2025-06-12 05:22:25,265 INFO [2024-09-26T00:00:00] Watch our [Forum](https://forum.ecmwf.int/) for Announcements, news and other discussed topics.\n",
      "2025-06-12 05:22:25,916 INFO Request ID is fa4fe887-45fd-4ea8-bfcc-e19e6a0d972d\n",
      "2025-06-12 05:22:25,995 INFO status has been updated to accepted\n",
      "Recovering from connection error [('Connection aborted.', RemoteDisconnected('Remote end closed connection without response'))], attemps 1 of 500\n",
      "Retrying in 120 seconds\n",
      "2025-06-12 05:51:56,372 INFO status has been updated to running\n",
      "Recovering from connection error [('Connection aborted.', RemoteDisconnected('Remote end closed connection without response'))], attemps 1 of 500\n",
      "Retrying in 120 seconds\n",
      "Recovering from connection error [('Connection aborted.', RemoteDisconnected('Remote end closed connection without response'))], attemps 1 of 500\n",
      "Retrying in 120 seconds\n",
      "Recovering from HTTP error [500 Internal Server Error], attemps 1 of 500\n",
      "Retrying in 120 seconds\n",
      "2025-06-12 07:51:26,324 INFO status has been updated to successful\n"
     ]
    },
    {
     "data": {
      "application/vnd.jupyter.widget-view+json": {
       "model_id": "cc72b3fd4a0046e19431911815d1fe7c",
       "version_major": 2,
       "version_minor": 0
      },
      "text/plain": [
       "d1d4b0173ccfcf95c537feba0adee442.grib:   0%|          | 0.00/974M [00:00<?, ?B/s]"
      ]
     },
     "metadata": {},
     "output_type": "display_data"
    },
    {
     "ename": "ChunkedEncodingError",
     "evalue": "('Connection broken: IncompleteRead(43574656 bytes read, 977228996 more expected)', IncompleteRead(43574656 bytes read, 977228996 more expected))",
     "output_type": "error",
     "traceback": [
      "\u001b[0;31m---------------------------------------------------------------------------\u001b[0m",
      "\u001b[0;31mIncompleteRead\u001b[0m                            Traceback (most recent call last)",
      "File \u001b[0;32m/Library/Frameworks/Python.framework/Versions/3.12/lib/python3.12/site-packages/urllib3/response.py:748\u001b[0m, in \u001b[0;36mHTTPResponse._error_catcher\u001b[0;34m(self)\u001b[0m\n\u001b[1;32m    747\u001b[0m \u001b[38;5;28;01mtry\u001b[39;00m:\n\u001b[0;32m--> 748\u001b[0m     \u001b[38;5;28;01myield\u001b[39;00m\n\u001b[1;32m    750\u001b[0m \u001b[38;5;28;01mexcept\u001b[39;00m SocketTimeout \u001b[38;5;28;01mas\u001b[39;00m e:\n\u001b[1;32m    751\u001b[0m     \u001b[38;5;66;03m# FIXME: Ideally we'd like to include the url in the ReadTimeoutError but\u001b[39;00m\n\u001b[1;32m    752\u001b[0m     \u001b[38;5;66;03m# there is yet no clean way to get at it from this context.\u001b[39;00m\n",
      "File \u001b[0;32m/Library/Frameworks/Python.framework/Versions/3.12/lib/python3.12/site-packages/urllib3/response.py:894\u001b[0m, in \u001b[0;36mHTTPResponse._raw_read\u001b[0;34m(self, amt, read1)\u001b[0m\n\u001b[1;32m    884\u001b[0m     \u001b[38;5;28;01mif\u001b[39;00m (\n\u001b[1;32m    885\u001b[0m         \u001b[38;5;28mself\u001b[39m\u001b[38;5;241m.\u001b[39menforce_content_length\n\u001b[1;32m    886\u001b[0m         \u001b[38;5;129;01mand\u001b[39;00m \u001b[38;5;28mself\u001b[39m\u001b[38;5;241m.\u001b[39mlength_remaining \u001b[38;5;129;01mis\u001b[39;00m \u001b[38;5;129;01mnot\u001b[39;00m \u001b[38;5;28;01mNone\u001b[39;00m\n\u001b[0;32m   (...)\u001b[0m\n\u001b[1;32m    892\u001b[0m         \u001b[38;5;66;03m# raised during streaming, so all calls with incorrect\u001b[39;00m\n\u001b[1;32m    893\u001b[0m         \u001b[38;5;66;03m# Content-Length are caught.\u001b[39;00m\n\u001b[0;32m--> 894\u001b[0m         \u001b[38;5;28;01mraise\u001b[39;00m IncompleteRead(\u001b[38;5;28mself\u001b[39m\u001b[38;5;241m.\u001b[39m_fp_bytes_read, \u001b[38;5;28mself\u001b[39m\u001b[38;5;241m.\u001b[39mlength_remaining)\n\u001b[1;32m    895\u001b[0m \u001b[38;5;28;01melif\u001b[39;00m read1 \u001b[38;5;129;01mand\u001b[39;00m (\n\u001b[1;32m    896\u001b[0m     (amt \u001b[38;5;241m!=\u001b[39m \u001b[38;5;241m0\u001b[39m \u001b[38;5;129;01mand\u001b[39;00m \u001b[38;5;129;01mnot\u001b[39;00m data) \u001b[38;5;129;01mor\u001b[39;00m \u001b[38;5;28mself\u001b[39m\u001b[38;5;241m.\u001b[39mlength_remaining \u001b[38;5;241m==\u001b[39m \u001b[38;5;28mlen\u001b[39m(data)\n\u001b[1;32m    897\u001b[0m ):\n\u001b[0;32m   (...)\u001b[0m\n\u001b[1;32m    900\u001b[0m     \u001b[38;5;66;03m# `http.client.HTTPResponse`, so we close it here.\u001b[39;00m\n\u001b[1;32m    901\u001b[0m     \u001b[38;5;66;03m# See https://github.com/python/cpython/issues/113199\u001b[39;00m\n",
      "\u001b[0;31mIncompleteRead\u001b[0m: IncompleteRead(43574656 bytes read, 977228996 more expected)",
      "\nThe above exception was the direct cause of the following exception:\n",
      "\u001b[0;31mProtocolError\u001b[0m                             Traceback (most recent call last)",
      "File \u001b[0;32m/Library/Frameworks/Python.framework/Versions/3.12/lib/python3.12/site-packages/requests/models.py:816\u001b[0m, in \u001b[0;36mResponse.iter_content.<locals>.generate\u001b[0;34m()\u001b[0m\n\u001b[1;32m    815\u001b[0m \u001b[38;5;28;01mtry\u001b[39;00m:\n\u001b[0;32m--> 816\u001b[0m     \u001b[38;5;28;01myield from\u001b[39;00m \u001b[38;5;28mself\u001b[39m\u001b[38;5;241m.\u001b[39mraw\u001b[38;5;241m.\u001b[39mstream(chunk_size, decode_content\u001b[38;5;241m=\u001b[39m\u001b[38;5;28;01mTrue\u001b[39;00m)\n\u001b[1;32m    817\u001b[0m \u001b[38;5;28;01mexcept\u001b[39;00m ProtocolError \u001b[38;5;28;01mas\u001b[39;00m e:\n",
      "File \u001b[0;32m/Library/Frameworks/Python.framework/Versions/3.12/lib/python3.12/site-packages/urllib3/response.py:1060\u001b[0m, in \u001b[0;36mHTTPResponse.stream\u001b[0;34m(self, amt, decode_content)\u001b[0m\n\u001b[1;32m   1059\u001b[0m \u001b[38;5;28;01mwhile\u001b[39;00m \u001b[38;5;129;01mnot\u001b[39;00m is_fp_closed(\u001b[38;5;28mself\u001b[39m\u001b[38;5;241m.\u001b[39m_fp) \u001b[38;5;129;01mor\u001b[39;00m \u001b[38;5;28mlen\u001b[39m(\u001b[38;5;28mself\u001b[39m\u001b[38;5;241m.\u001b[39m_decoded_buffer) \u001b[38;5;241m>\u001b[39m \u001b[38;5;241m0\u001b[39m:\n\u001b[0;32m-> 1060\u001b[0m     data \u001b[38;5;241m=\u001b[39m \u001b[38;5;28;43mself\u001b[39;49m\u001b[38;5;241;43m.\u001b[39;49m\u001b[43mread\u001b[49m\u001b[43m(\u001b[49m\u001b[43mamt\u001b[49m\u001b[38;5;241;43m=\u001b[39;49m\u001b[43mamt\u001b[49m\u001b[43m,\u001b[49m\u001b[43m \u001b[49m\u001b[43mdecode_content\u001b[49m\u001b[38;5;241;43m=\u001b[39;49m\u001b[43mdecode_content\u001b[49m\u001b[43m)\u001b[49m\n\u001b[1;32m   1062\u001b[0m     \u001b[38;5;28;01mif\u001b[39;00m data:\n",
      "File \u001b[0;32m/Library/Frameworks/Python.framework/Versions/3.12/lib/python3.12/site-packages/urllib3/response.py:977\u001b[0m, in \u001b[0;36mHTTPResponse.read\u001b[0;34m(self, amt, decode_content, cache_content)\u001b[0m\n\u001b[1;32m    973\u001b[0m \u001b[38;5;28;01mwhile\u001b[39;00m \u001b[38;5;28mlen\u001b[39m(\u001b[38;5;28mself\u001b[39m\u001b[38;5;241m.\u001b[39m_decoded_buffer) \u001b[38;5;241m<\u001b[39m amt \u001b[38;5;129;01mand\u001b[39;00m data:\n\u001b[1;32m    974\u001b[0m     \u001b[38;5;66;03m# TODO make sure to initially read enough data to get past the headers\u001b[39;00m\n\u001b[1;32m    975\u001b[0m     \u001b[38;5;66;03m# For example, the GZ file header takes 10 bytes, we don't want to read\u001b[39;00m\n\u001b[1;32m    976\u001b[0m     \u001b[38;5;66;03m# it one byte at a time\u001b[39;00m\n\u001b[0;32m--> 977\u001b[0m     data \u001b[38;5;241m=\u001b[39m \u001b[38;5;28;43mself\u001b[39;49m\u001b[38;5;241;43m.\u001b[39;49m\u001b[43m_raw_read\u001b[49m\u001b[43m(\u001b[49m\u001b[43mamt\u001b[49m\u001b[43m)\u001b[49m\n\u001b[1;32m    978\u001b[0m     decoded_data \u001b[38;5;241m=\u001b[39m \u001b[38;5;28mself\u001b[39m\u001b[38;5;241m.\u001b[39m_decode(data, decode_content, flush_decoder)\n",
      "File \u001b[0;32m/Library/Frameworks/Python.framework/Versions/3.12/lib/python3.12/site-packages/urllib3/response.py:872\u001b[0m, in \u001b[0;36mHTTPResponse._raw_read\u001b[0;34m(self, amt, read1)\u001b[0m\n\u001b[1;32m    870\u001b[0m fp_closed \u001b[38;5;241m=\u001b[39m \u001b[38;5;28mgetattr\u001b[39m(\u001b[38;5;28mself\u001b[39m\u001b[38;5;241m.\u001b[39m_fp, \u001b[38;5;124m\"\u001b[39m\u001b[38;5;124mclosed\u001b[39m\u001b[38;5;124m\"\u001b[39m, \u001b[38;5;28;01mFalse\u001b[39;00m)\n\u001b[0;32m--> 872\u001b[0m \u001b[43m\u001b[49m\u001b[38;5;28;43;01mwith\u001b[39;49;00m\u001b[43m \u001b[49m\u001b[38;5;28;43mself\u001b[39;49m\u001b[38;5;241;43m.\u001b[39;49m\u001b[43m_error_catcher\u001b[49m\u001b[43m(\u001b[49m\u001b[43m)\u001b[49m\u001b[43m:\u001b[49m\n\u001b[1;32m    873\u001b[0m \u001b[43m    \u001b[49m\u001b[43mdata\u001b[49m\u001b[43m \u001b[49m\u001b[38;5;241;43m=\u001b[39;49m\u001b[43m \u001b[49m\u001b[38;5;28;43mself\u001b[39;49m\u001b[38;5;241;43m.\u001b[39;49m\u001b[43m_fp_read\u001b[49m\u001b[43m(\u001b[49m\u001b[43mamt\u001b[49m\u001b[43m,\u001b[49m\u001b[43m \u001b[49m\u001b[43mread1\u001b[49m\u001b[38;5;241;43m=\u001b[39;49m\u001b[43mread1\u001b[49m\u001b[43m)\u001b[49m\u001b[43m \u001b[49m\u001b[38;5;28;43;01mif\u001b[39;49;00m\u001b[43m \u001b[49m\u001b[38;5;129;43;01mnot\u001b[39;49;00m\u001b[43m \u001b[49m\u001b[43mfp_closed\u001b[49m\u001b[43m \u001b[49m\u001b[38;5;28;43;01melse\u001b[39;49;00m\u001b[43m \u001b[49m\u001b[38;5;124;43mb\u001b[39;49m\u001b[38;5;124;43m\"\u001b[39;49m\u001b[38;5;124;43m\"\u001b[39;49m\n",
      "File \u001b[0;32m/Library/Frameworks/Python.framework/Versions/3.12/lib/python3.12/contextlib.py:158\u001b[0m, in \u001b[0;36m_GeneratorContextManager.__exit__\u001b[0;34m(self, typ, value, traceback)\u001b[0m\n\u001b[1;32m    157\u001b[0m \u001b[38;5;28;01mtry\u001b[39;00m:\n\u001b[0;32m--> 158\u001b[0m     \u001b[38;5;28;43mself\u001b[39;49m\u001b[38;5;241;43m.\u001b[39;49m\u001b[43mgen\u001b[49m\u001b[38;5;241;43m.\u001b[39;49m\u001b[43mthrow\u001b[49m\u001b[43m(\u001b[49m\u001b[43mvalue\u001b[49m\u001b[43m)\u001b[49m\n\u001b[1;32m    159\u001b[0m \u001b[38;5;28;01mexcept\u001b[39;00m \u001b[38;5;167;01mStopIteration\u001b[39;00m \u001b[38;5;28;01mas\u001b[39;00m exc:\n\u001b[1;32m    160\u001b[0m     \u001b[38;5;66;03m# Suppress StopIteration *unless* it's the same exception that\u001b[39;00m\n\u001b[1;32m    161\u001b[0m     \u001b[38;5;66;03m# was passed to throw().  This prevents a StopIteration\u001b[39;00m\n\u001b[1;32m    162\u001b[0m     \u001b[38;5;66;03m# raised inside the \"with\" statement from being suppressed.\u001b[39;00m\n",
      "File \u001b[0;32m/Library/Frameworks/Python.framework/Versions/3.12/lib/python3.12/site-packages/urllib3/response.py:772\u001b[0m, in \u001b[0;36mHTTPResponse._error_catcher\u001b[0;34m(self)\u001b[0m\n\u001b[1;32m    771\u001b[0m         arg \u001b[38;5;241m=\u001b[39m \u001b[38;5;124mf\u001b[39m\u001b[38;5;124m\"\u001b[39m\u001b[38;5;124mConnection broken: \u001b[39m\u001b[38;5;132;01m{\u001b[39;00me\u001b[38;5;132;01m!r}\u001b[39;00m\u001b[38;5;124m\"\u001b[39m\n\u001b[0;32m--> 772\u001b[0m     \u001b[38;5;28;01mraise\u001b[39;00m ProtocolError(arg, e) \u001b[38;5;28;01mfrom\u001b[39;00m \u001b[38;5;21;01me\u001b[39;00m\n\u001b[1;32m    774\u001b[0m \u001b[38;5;28;01mexcept\u001b[39;00m (HTTPException, \u001b[38;5;167;01mOSError\u001b[39;00m) \u001b[38;5;28;01mas\u001b[39;00m e:\n",
      "\u001b[0;31mProtocolError\u001b[0m: ('Connection broken: IncompleteRead(43574656 bytes read, 977228996 more expected)', IncompleteRead(43574656 bytes read, 977228996 more expected))",
      "\nDuring handling of the above exception, another exception occurred:\n",
      "\u001b[0;31mChunkedEncodingError\u001b[0m                      Traceback (most recent call last)",
      "Cell \u001b[0;32mIn[15], line 59\u001b[0m\n\u001b[1;32m     56\u001b[0m target \u001b[38;5;241m=\u001b[39m OUTDIR \u001b[38;5;241m/\u001b[39m \u001b[38;5;124mf\u001b[39m\u001b[38;5;124m\"\u001b[39m\u001b[38;5;124mtp_monthly_average.grib\u001b[39m\u001b[38;5;124m\"\u001b[39m\n\u001b[1;32m     58\u001b[0m client \u001b[38;5;241m=\u001b[39m cdsapi\u001b[38;5;241m.\u001b[39mClient()\n\u001b[0;32m---> 59\u001b[0m \u001b[43mclient\u001b[49m\u001b[38;5;241;43m.\u001b[39;49m\u001b[43mretrieve\u001b[49m\u001b[43m(\u001b[49m\u001b[43mdataset\u001b[49m\u001b[43m,\u001b[49m\u001b[43m \u001b[49m\u001b[43mrequest\u001b[49m\u001b[43m,\u001b[49m\u001b[38;5;28;43mstr\u001b[39;49m\u001b[43m(\u001b[49m\u001b[43mtarget\u001b[49m\u001b[43m)\u001b[49m\u001b[43m)\u001b[49m\n",
      "File \u001b[0;32m/Library/Frameworks/Python.framework/Versions/3.12/lib/python3.12/site-packages/datapi/legacy_api_client.py:179\u001b[0m, in \u001b[0;36mLegacyApiClient.retrieve\u001b[0;34m(self, name, request, target)\u001b[0m\n\u001b[1;32m    173\u001b[0m \u001b[38;5;28;01melse\u001b[39;00m:\n\u001b[1;32m    174\u001b[0m     submitted \u001b[38;5;241m=\u001b[39m \u001b[38;5;28mself\u001b[39m\u001b[38;5;241m.\u001b[39mclient\u001b[38;5;241m.\u001b[39msubmit(\n\u001b[1;32m    175\u001b[0m         collection_id\u001b[38;5;241m=\u001b[39mname,\n\u001b[1;32m    176\u001b[0m         request\u001b[38;5;241m=\u001b[39mrequest,\n\u001b[1;32m    177\u001b[0m     )\n\u001b[0;32m--> 179\u001b[0m \u001b[38;5;28;01mreturn\u001b[39;00m submitted \u001b[38;5;28;01mif\u001b[39;00m target \u001b[38;5;129;01mis\u001b[39;00m \u001b[38;5;28;01mNone\u001b[39;00m \u001b[38;5;28;01melse\u001b[39;00m \u001b[43msubmitted\u001b[49m\u001b[38;5;241;43m.\u001b[39;49m\u001b[43mdownload\u001b[49m\u001b[43m(\u001b[49m\u001b[43mtarget\u001b[49m\u001b[43m)\u001b[49m\n",
      "File \u001b[0;32m/Library/Frameworks/Python.framework/Versions/3.12/lib/python3.12/site-packages/datapi/processing.py:659\u001b[0m, in \u001b[0;36mResults.download\u001b[0;34m(self, target)\u001b[0m\n\u001b[1;32m    656\u001b[0m     os\u001b[38;5;241m.\u001b[39mremove(target)\n\u001b[1;32m    658\u001b[0m robust_download \u001b[38;5;241m=\u001b[39m multiurl\u001b[38;5;241m.\u001b[39mrobust(\u001b[38;5;28mself\u001b[39m\u001b[38;5;241m.\u001b[39m_download, \u001b[38;5;241m*\u001b[39m\u001b[38;5;241m*\u001b[39m\u001b[38;5;28mself\u001b[39m\u001b[38;5;241m.\u001b[39mretry_options)\n\u001b[0;32m--> 659\u001b[0m \u001b[43mrobust_download\u001b[49m\u001b[43m(\u001b[49m\u001b[43murl\u001b[49m\u001b[43m,\u001b[49m\u001b[43m \u001b[49m\u001b[43mtarget\u001b[49m\u001b[43m)\u001b[49m\n\u001b[1;32m    660\u001b[0m \u001b[38;5;28mself\u001b[39m\u001b[38;5;241m.\u001b[39m_check_size(target)\n\u001b[1;32m    661\u001b[0m \u001b[38;5;28;01mreturn\u001b[39;00m target\n",
      "File \u001b[0;32m/Library/Frameworks/Python.framework/Versions/3.12/lib/python3.12/site-packages/multiurl/http.py:479\u001b[0m, in \u001b[0;36mrobust.<locals>.wrapped\u001b[0;34m(url, *args, **kwargs)\u001b[0m\n\u001b[1;32m    476\u001b[0m     \u001b[38;5;28;01mreturn\u001b[39;00m call(main_url, \u001b[38;5;241m*\u001b[39margs, \u001b[38;5;241m*\u001b[39m\u001b[38;5;241m*\u001b[39mkwargs)\n\u001b[1;32m    478\u001b[0m \u001b[38;5;28;01mtry\u001b[39;00m:\n\u001b[0;32m--> 479\u001b[0m     r \u001b[38;5;241m=\u001b[39m \u001b[43mcall\u001b[49m\u001b[43m(\u001b[49m\u001b[43mmain_url\u001b[49m\u001b[43m,\u001b[49m\u001b[43m \u001b[49m\u001b[38;5;241;43m*\u001b[39;49m\u001b[43margs\u001b[49m\u001b[43m,\u001b[49m\u001b[43m \u001b[49m\u001b[38;5;241;43m*\u001b[39;49m\u001b[38;5;241;43m*\u001b[39;49m\u001b[43mkwargs\u001b[49m\u001b[43m)\u001b[49m\n\u001b[1;32m    480\u001b[0m \u001b[38;5;28;01mexcept\u001b[39;00m requests\u001b[38;5;241m.\u001b[39mexceptions\u001b[38;5;241m.\u001b[39mSSLError:\n\u001b[1;32m    481\u001b[0m     \u001b[38;5;28;01mraise\u001b[39;00m\n",
      "File \u001b[0;32m/Library/Frameworks/Python.framework/Versions/3.12/lib/python3.12/site-packages/datapi/processing.py:625\u001b[0m, in \u001b[0;36mResults._download\u001b[0;34m(self, url, target)\u001b[0m\n\u001b[1;32m    623\u001b[0m download_options \u001b[38;5;241m=\u001b[39m {\u001b[38;5;124m\"\u001b[39m\u001b[38;5;124mstream\u001b[39m\u001b[38;5;124m\"\u001b[39m: \u001b[38;5;28;01mTrue\u001b[39;00m, \u001b[38;5;124m\"\u001b[39m\u001b[38;5;124mresume_transfers\u001b[39m\u001b[38;5;124m\"\u001b[39m: \u001b[38;5;28;01mTrue\u001b[39;00m}\n\u001b[1;32m    624\u001b[0m download_options\u001b[38;5;241m.\u001b[39mupdate(\u001b[38;5;28mself\u001b[39m\u001b[38;5;241m.\u001b[39mdownload_options)\n\u001b[0;32m--> 625\u001b[0m \u001b[43mmultiurl\u001b[49m\u001b[38;5;241;43m.\u001b[39;49m\u001b[43mdownload\u001b[49m\u001b[43m(\u001b[49m\n\u001b[1;32m    626\u001b[0m \u001b[43m    \u001b[49m\u001b[43murl\u001b[49m\u001b[43m,\u001b[49m\n\u001b[1;32m    627\u001b[0m \u001b[43m    \u001b[49m\u001b[43mtarget\u001b[49m\u001b[38;5;241;43m=\u001b[39;49m\u001b[43mtarget\u001b[49m\u001b[43m,\u001b[49m\n\u001b[1;32m    628\u001b[0m \u001b[43m    \u001b[49m\u001b[38;5;241;43m*\u001b[39;49m\u001b[38;5;241;43m*\u001b[39;49m\u001b[38;5;28;43mself\u001b[39;49m\u001b[38;5;241;43m.\u001b[39;49m\u001b[43mretry_options\u001b[49m\u001b[43m,\u001b[49m\n\u001b[1;32m    629\u001b[0m \u001b[43m    \u001b[49m\u001b[38;5;241;43m*\u001b[39;49m\u001b[38;5;241;43m*\u001b[39;49m\u001b[38;5;28;43mself\u001b[39;49m\u001b[38;5;241;43m.\u001b[39;49m\u001b[43mrequest_options\u001b[49m\u001b[43m,\u001b[49m\n\u001b[1;32m    630\u001b[0m \u001b[43m    \u001b[49m\u001b[38;5;241;43m*\u001b[39;49m\u001b[38;5;241;43m*\u001b[39;49m\u001b[43mdownload_options\u001b[49m\u001b[43m,\u001b[49m\n\u001b[1;32m    631\u001b[0m \u001b[43m\u001b[49m\u001b[43m)\u001b[49m\n\u001b[1;32m    632\u001b[0m \u001b[38;5;28;01mreturn\u001b[39;00m requests\u001b[38;5;241m.\u001b[39mResponse()\n",
      "File \u001b[0;32m/Library/Frameworks/Python.framework/Versions/3.12/lib/python3.12/site-packages/multiurl/downloader.py:111\u001b[0m, in \u001b[0;36mdownload\u001b[0;34m(url, target, **kwargs)\u001b[0m\n\u001b[1;32m    110\u001b[0m \u001b[38;5;28;01mdef\u001b[39;00m \u001b[38;5;21mdownload\u001b[39m(url, target, \u001b[38;5;241m*\u001b[39m\u001b[38;5;241m*\u001b[39mkwargs):\n\u001b[0;32m--> 111\u001b[0m     \u001b[38;5;28;01mreturn\u001b[39;00m \u001b[43mDownloader\u001b[49m\u001b[43m(\u001b[49m\u001b[43murl\u001b[49m\u001b[43m,\u001b[49m\u001b[43m \u001b[49m\u001b[38;5;241;43m*\u001b[39;49m\u001b[38;5;241;43m*\u001b[39;49m\u001b[43mkwargs\u001b[49m\u001b[43m)\u001b[49m\u001b[38;5;241;43m.\u001b[39;49m\u001b[43mdownload\u001b[49m\u001b[43m(\u001b[49m\u001b[43mtarget\u001b[49m\u001b[43m)\u001b[49m\n",
      "File \u001b[0;32m/Library/Frameworks/Python.framework/Versions/3.12/lib/python3.12/site-packages/multiurl/base.py:129\u001b[0m, in \u001b[0;36mDownloaderBase.download\u001b[0;34m(self, target)\u001b[0m\n\u001b[1;32m    123\u001b[0m \u001b[38;5;28;01mwith\u001b[39;00m \u001b[38;5;28mself\u001b[39m\u001b[38;5;241m.\u001b[39mprogress_bar(\n\u001b[1;32m    124\u001b[0m     total\u001b[38;5;241m=\u001b[39msize,\n\u001b[1;32m    125\u001b[0m     initial\u001b[38;5;241m=\u001b[39mskip,\n\u001b[1;32m    126\u001b[0m     desc\u001b[38;5;241m=\u001b[39m\u001b[38;5;28mself\u001b[39m\u001b[38;5;241m.\u001b[39mtitle(),\n\u001b[1;32m    127\u001b[0m ) \u001b[38;5;28;01mas\u001b[39;00m pbar:\n\u001b[1;32m    128\u001b[0m     \u001b[38;5;28;01mwith\u001b[39;00m \u001b[38;5;28mopen\u001b[39m(download, mode) \u001b[38;5;28;01mas\u001b[39;00m f:\n\u001b[0;32m--> 129\u001b[0m         total \u001b[38;5;241m=\u001b[39m \u001b[38;5;28;43mself\u001b[39;49m\u001b[38;5;241;43m.\u001b[39;49m\u001b[43mtransfer\u001b[49m\u001b[43m(\u001b[49m\u001b[43mf\u001b[49m\u001b[43m,\u001b[49m\u001b[43m \u001b[49m\u001b[43mpbar\u001b[49m\u001b[43m)\u001b[49m\n\u001b[1;32m    131\u001b[0m     pbar\u001b[38;5;241m.\u001b[39mclose()\n\u001b[1;32m    133\u001b[0m \u001b[38;5;28;01mif\u001b[39;00m trust_size \u001b[38;5;129;01mand\u001b[39;00m size \u001b[38;5;129;01mis\u001b[39;00m \u001b[38;5;129;01mnot\u001b[39;00m \u001b[38;5;28;01mNone\u001b[39;00m:\n",
      "File \u001b[0;32m/Library/Frameworks/Python.framework/Versions/3.12/lib/python3.12/site-packages/multiurl/http.py:133\u001b[0m, in \u001b[0;36mHTTPDownloaderBase.transfer\u001b[0;34m(self, f, pbar)\u001b[0m\n\u001b[1;32m    131\u001b[0m start \u001b[38;5;241m=\u001b[39m time\u001b[38;5;241m.\u001b[39mtime()\n\u001b[1;32m    132\u001b[0m stream \u001b[38;5;241m=\u001b[39m \u001b[38;5;28mself\u001b[39m\u001b[38;5;241m.\u001b[39mmake_stream()\n\u001b[0;32m--> 133\u001b[0m \u001b[43m\u001b[49m\u001b[38;5;28;43;01mfor\u001b[39;49;00m\u001b[43m \u001b[49m\u001b[43mchunk\u001b[49m\u001b[43m \u001b[49m\u001b[38;5;129;43;01min\u001b[39;49;00m\u001b[43m \u001b[49m\u001b[43mstream\u001b[49m\u001b[43m(\u001b[49m\u001b[43mchunk_size\u001b[49m\u001b[38;5;241;43m=\u001b[39;49m\u001b[38;5;28;43mself\u001b[39;49m\u001b[38;5;241;43m.\u001b[39;49m\u001b[43mchunk_size\u001b[49m\u001b[43m)\u001b[49m\u001b[43m:\u001b[49m\n\u001b[1;32m    134\u001b[0m \u001b[43m    \u001b[49m\u001b[38;5;28;43mself\u001b[39;49m\u001b[38;5;241;43m.\u001b[39;49m\u001b[43mobserver\u001b[49m\u001b[43m(\u001b[49m\u001b[43m)\u001b[49m\n\u001b[1;32m    135\u001b[0m \u001b[43m    \u001b[49m\u001b[38;5;28;43;01mif\u001b[39;49;00m\u001b[43m \u001b[49m\u001b[43mchunk\u001b[49m\u001b[43m:\u001b[49m\n",
      "File \u001b[0;32m/Library/Frameworks/Python.framework/Versions/3.12/lib/python3.12/site-packages/requests/models.py:818\u001b[0m, in \u001b[0;36mResponse.iter_content.<locals>.generate\u001b[0;34m()\u001b[0m\n\u001b[1;32m    816\u001b[0m     \u001b[38;5;28;01myield from\u001b[39;00m \u001b[38;5;28mself\u001b[39m\u001b[38;5;241m.\u001b[39mraw\u001b[38;5;241m.\u001b[39mstream(chunk_size, decode_content\u001b[38;5;241m=\u001b[39m\u001b[38;5;28;01mTrue\u001b[39;00m)\n\u001b[1;32m    817\u001b[0m \u001b[38;5;28;01mexcept\u001b[39;00m ProtocolError \u001b[38;5;28;01mas\u001b[39;00m e:\n\u001b[0;32m--> 818\u001b[0m     \u001b[38;5;28;01mraise\u001b[39;00m ChunkedEncodingError(e)\n\u001b[1;32m    819\u001b[0m \u001b[38;5;28;01mexcept\u001b[39;00m DecodeError \u001b[38;5;28;01mas\u001b[39;00m e:\n\u001b[1;32m    820\u001b[0m     \u001b[38;5;28;01mraise\u001b[39;00m ContentDecodingError(e)\n",
      "\u001b[0;31mChunkedEncodingError\u001b[0m: ('Connection broken: IncompleteRead(43574656 bytes read, 977228996 more expected)', IncompleteRead(43574656 bytes read, 977228996 more expected))"
     ]
    }
   ],
   "source": [
    "OUTDIR = pathlib.Path(\"/Volumes/Dhruv_External_Disk/climate_data/precipitation/monthly\")\n",
    "OUTDIR.mkdir(parents=True, exist_ok=True)\n",
    "\n",
    "dataset = \"reanalysis-era5-land-monthly-means\"\n",
    "request = {\n",
    "    \"variable\": [\n",
    "        \"total_precipitation\"\n",
    "    ],\n",
    "    \"year\": [\n",
    "        \"1950\", \"1951\", \"1952\",\n",
    "        \"1953\", \"1954\", \"1955\",\n",
    "        \"1956\", \"1957\", \"1958\",\n",
    "        \"1959\", \"1960\", \"1961\",\n",
    "        \"1962\", \"1963\", \"1964\",\n",
    "        \"1965\", \"1966\", \"1967\",\n",
    "        \"1968\", \"1969\", \"1970\",\n",
    "        \"1971\", \"1972\", \"1973\",\n",
    "        \"1974\", \"1975\", \"1976\",\n",
    "        \"1977\", \"1978\", \"1979\",\n",
    "        \"1980\", \"1981\", \"1982\",\n",
    "        \"1983\", \"1984\", \"1985\",\n",
    "        \"1986\", \"1987\", \"1988\",\n",
    "        \"1989\", \"1990\", \"1991\",\n",
    "        \"1992\", \"1993\", \"1994\",\n",
    "        \"1995\", \"1996\", \"1997\",\n",
    "        \"1998\", \"1999\", \"2000\",\n",
    "        \"2001\", \"2002\", \"2003\",\n",
    "        \"2004\", \"2005\", \"2006\",\n",
    "        \"2007\", \"2008\", \"2009\",\n",
    "        \"2010\", \"2011\", \"2012\",\n",
    "        \"2013\", \"2014\", \"2015\",\n",
    "        \"2016\", \"2017\", \"2018\",\n",
    "        \"2019\", \"2020\", \"2021\",\n",
    "        \"2022\", \"2023\", \"2024\"\n",
    "    ],\n",
    "    \"month\": [\n",
    "        \"01\", \"02\", \"03\",\n",
    "        \"04\", \"05\", \"06\",\n",
    "        \"07\", \"08\", \"09\",\n",
    "        \"10\", \"11\", \"12\"\n",
    "    ],\n",
    "    \"time\": [\n",
    "        \"00:00\", \"01:00\", \"02:00\",\n",
    "        \"03:00\", \"04:00\", \"05:00\",\n",
    "        \"06:00\", \"07:00\", \"08:00\",\n",
    "        \"09:00\", \"10:00\", \"11:00\",\n",
    "        \"12:00\", \"13:00\", \"14:00\",\n",
    "        \"15:00\", \"16:00\", \"17:00\",\n",
    "        \"18:00\", \"19:00\", \"20:00\",\n",
    "        \"21:00\", \"22:00\", \"23:00\"\n",
    "    ],\n",
    "    \"data_format\": \"grib\",\n",
    "    \"download_format\": \"unarchived\",\n",
    "        \"area\": [IBERIA_BBOX['max_lat'], IBERIA_BBOX['min_lon'], IBERIA_BBOX['min_lat'], IBERIA_BBOX['max_lon']]\n",
    "}\n",
    "target = OUTDIR / f\"tp_monthly_average.grib\"\n",
    "\n",
    "client = cdsapi.Client()\n",
    "client.retrieve(dataset, request,str(target))\n"
   ]
  },
  {
   "cell_type": "markdown",
   "id": "64994494",
   "metadata": {},
   "source": [
    "#### Temeperature"
   ]
  },
  {
   "cell_type": "code",
   "execution_count": 16,
   "id": "580c8854",
   "metadata": {},
   "outputs": [
    {
     "name": "stderr",
     "output_type": "stream",
     "text": [
      "2025-06-12 13:16:09,016 INFO [2025-06-10T00:00:00] To improve our C3S service, we need to hear from you! Please complete this very short [survey](https://confluence.ecmwf.int/x/E7uBEQ/). Thank you.\n",
      "2025-06-12 13:16:09,016 INFO [2024-09-26T00:00:00] Watch our [Forum](https://forum.ecmwf.int/) for Announcements, news and other discussed topics.\n",
      "2025-06-12 13:16:11,985 INFO Request ID is 7dc161a5-94ac-423d-8ac9-f3d96ec90f44\n",
      "2025-06-12 13:16:12,442 INFO status has been updated to accepted\n",
      "2025-06-12 14:26:50,859 INFO status has been updated to successful\n"
     ]
    },
    {
     "data": {
      "application/vnd.jupyter.widget-view+json": {
       "model_id": "7713e1af26814283b5604a19b84b94bc",
       "version_major": 2,
       "version_minor": 0
      },
      "text/plain": [
       "d1d4b0173ccfcf95c537feba0adee442.grib:   0%|          | 0.00/974M [00:00<?, ?B/s]"
      ]
     },
     "metadata": {},
     "output_type": "display_data"
    },
    {
     "data": {
      "text/plain": [
       "'/Volumes/Dhruv_External_Disk/climate_data/temperature/monthly_data/t2m_monthly_average.grib'"
      ]
     },
     "execution_count": 16,
     "metadata": {},
     "output_type": "execute_result"
    }
   ],
   "source": [
    "OUTDIR = pathlib.Path(\"/Volumes/Dhruv_External_Disk/climate_data/temperature/monthly_data\")\n",
    "OUTDIR.mkdir(parents=True, exist_ok=True)\n",
    "\n",
    "dataset = \"reanalysis-era5-land-monthly-means\"\n",
    "request = {\n",
    "    \"variable\": [\n",
    "        \"total_precipitation\"\n",
    "    ],\n",
    "    \"year\": [\n",
    "        \"1950\", \"1951\", \"1952\",\n",
    "        \"1953\", \"1954\", \"1955\",\n",
    "        \"1956\", \"1957\", \"1958\",\n",
    "        \"1959\", \"1960\", \"1961\",\n",
    "        \"1962\", \"1963\", \"1964\",\n",
    "        \"1965\", \"1966\", \"1967\",\n",
    "        \"1968\", \"1969\", \"1970\",\n",
    "        \"1971\", \"1972\", \"1973\",\n",
    "        \"1974\", \"1975\", \"1976\",\n",
    "        \"1977\", \"1978\", \"1979\",\n",
    "        \"1980\", \"1981\", \"1982\",\n",
    "        \"1983\", \"1984\", \"1985\",\n",
    "        \"1986\", \"1987\", \"1988\",\n",
    "        \"1989\", \"1990\", \"1991\",\n",
    "        \"1992\", \"1993\", \"1994\",\n",
    "        \"1995\", \"1996\", \"1997\",\n",
    "        \"1998\", \"1999\", \"2000\",\n",
    "        \"2001\", \"2002\", \"2003\",\n",
    "        \"2004\", \"2005\", \"2006\",\n",
    "        \"2007\", \"2008\", \"2009\",\n",
    "        \"2010\", \"2011\", \"2012\",\n",
    "        \"2013\", \"2014\", \"2015\",\n",
    "        \"2016\", \"2017\", \"2018\",\n",
    "        \"2019\", \"2020\", \"2021\",\n",
    "        \"2022\", \"2023\", \"2024\"\n",
    "    ],\n",
    "    \"month\": [\n",
    "        \"01\", \"02\", \"03\",\n",
    "        \"04\", \"05\", \"06\",\n",
    "        \"07\", \"08\", \"09\",\n",
    "        \"10\", \"11\", \"12\"\n",
    "    ],\n",
    "    \"time\": [\n",
    "        \"00:00\", \"01:00\", \"02:00\",\n",
    "        \"03:00\", \"04:00\", \"05:00\",\n",
    "        \"06:00\", \"07:00\", \"08:00\",\n",
    "        \"09:00\", \"10:00\", \"11:00\",\n",
    "        \"12:00\", \"13:00\", \"14:00\",\n",
    "        \"15:00\", \"16:00\", \"17:00\",\n",
    "        \"18:00\", \"19:00\", \"20:00\",\n",
    "        \"21:00\", \"22:00\", \"23:00\"\n",
    "    ],\n",
    "    \"data_format\": \"grib\",\n",
    "    \"download_format\": \"unarchived\",\n",
    "        \"area\": [IBERIA_BBOX['max_lat'], IBERIA_BBOX['min_lon'], IBERIA_BBOX['min_lat'], IBERIA_BBOX['max_lon']]\n",
    "}\n",
    "target = OUTDIR / f\"t2m_monthly_average.grib\"\n",
    "\n",
    "client = cdsapi.Client()\n",
    "client.retrieve(dataset, request,str(target))\n"
   ]
  }
 ],
 "metadata": {
  "kernelspec": {
   "display_name": "Python 3",
   "language": "python",
   "name": "python3"
  },
  "language_info": {
   "codemirror_mode": {
    "name": "ipython",
    "version": 3
   },
   "file_extension": ".py",
   "mimetype": "text/x-python",
   "name": "python",
   "nbconvert_exporter": "python",
   "pygments_lexer": "ipython3",
   "version": "3.12.5"
  }
 },
 "nbformat": 4,
 "nbformat_minor": 5
}
