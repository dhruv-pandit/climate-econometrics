{
 "cells": [
  {
   "cell_type": "code",
   "execution_count": 165,
   "id": "198b1284",
   "metadata": {},
   "outputs": [],
   "source": [
    "import pandas as pd\n",
    "import geopandas as gpd\n",
    "from shapely.geometry import Point\n",
    "import os\n",
    "\n",
    "from glob import glob"
   ]
  },
  {
   "cell_type": "code",
   "execution_count": 166,
   "id": "0f667fc4",
   "metadata": {},
   "outputs": [],
   "source": [
    "import unicodedata\n",
    "import numpy as np\n",
    "# Function to normalize the names\n",
    "def normalize_municipality_name(name):\n",
    "    if type(name) == float:\n",
    "        return name\n",
    "    else:\n",
    "        # Normalize the string (remove diacritical marks)\n",
    "        name_without_diacritics = unicodedata.normalize('NFKD', name).encode('ascii', 'ignore').decode('ascii')\n",
    "        # Convert to lowercase\n",
    "        return name_without_diacritics.lower()\n",
    "\n"
   ]
  },
  {
   "cell_type": "code",
   "execution_count": 167,
   "id": "03192fa8",
   "metadata": {},
   "outputs": [
    {
     "name": "stdout",
     "output_type": "stream",
     "text": [
      "/Users/dhruvnovaims/Library/Mobile Documents/com~apple~CloudDocs/Documents/GitHub/climate-econometrics/countries/portugal/purchases_paper/notebooks/data_proc\n"
     ]
    }
   ],
   "source": [
    "print(os.getcwd())"
   ]
  },
  {
   "cell_type": "markdown",
   "id": "0ab52753",
   "metadata": {},
   "source": [
    "### Import Municipality Data"
   ]
  },
  {
   "cell_type": "code",
   "execution_count": 170,
   "id": "b8e51d31",
   "metadata": {},
   "outputs": [],
   "source": [
    "# Directory containing the files\n",
    "data_dir = r'../../../../portugal/purchases_paper/datasets/ine/'\n",
    "\n",
    "# Load municipality metadata\n",
    "df_mun_metadata = pd.read_excel(r'../../../../portugal/municipality_data/concelhos-metadata.xlsx')\n",
    "df_mun_metadata['designacao'] = df_mun_metadata['designacao'].map(normalize_municipality_name)\n",
    "mun_gdf = gpd.read_file(r'../../../../portugal/municipality_data/municipalities-shapefile-2/concelhos.shp')\n",
    "mun_gdf.CCA_2 = mun_gdf.CCA_2.astype('int64')\n",
    "#mun_metadata = df_mun_metadata[['dicofre','designacao']]\n",
    "mun_gdf = mun_gdf.merge(df_mun_metadata, left_on='CCA_2', right_on='dicofre')\n",
    "mun_gdf = mun_gdf.rename(columns={'designacao': 'concelho'})\n",
    "mainland = mun_gdf[~mun_gdf['NAME_1'].isin(['Azores', 'Madeira'])]\n",
    "# Grouping and dissolving the municipalities by district\n",
    "\n",
    "municipalities_mainland = mainland[['concelho', 'HASC_2','CCA_2', 'geometry']].copy()\n",
    "municipalities_mainland = municipalities_mainland.rename(columns={'HASC_2' : 'district_id'})\n",
    "\n"
   ]
  },
  {
   "cell_type": "code",
   "execution_count": 171,
   "id": "b8ac2e2e",
   "metadata": {},
   "outputs": [
    {
     "data": {
      "text/plain": [
       "278"
      ]
     },
     "execution_count": 171,
     "metadata": {},
     "output_type": "execute_result"
    }
   ],
   "source": [
    "municipalities_mainland.concelho.nunique()"
   ]
  },
  {
   "cell_type": "code",
   "execution_count": 172,
   "id": "58d49f69",
   "metadata": {},
   "outputs": [],
   "source": [
    "# Normalize municipality names for filtering\n",
    "valid_municipalities = municipalities_mainland.concelho.unique()\n"
   ]
  },
  {
   "cell_type": "markdown",
   "id": "524d818f",
   "metadata": {},
   "source": [
    "### Clean Purchases Data"
   ]
  },
  {
   "cell_type": "code",
   "execution_count": 173,
   "id": "8f4a9026",
   "metadata": {},
   "outputs": [],
   "source": [
    "\n",
    "df_purchases_1 = pd.read_excel(f\"{data_dir}ine_purchases_euros.xls\", skiprows=9, skipfooter=12, dtype=str)\n",
    "df_purchases_2 = pd.read_excel(f\"{data_dir}ine_purchases_euros2.xls\", skiprows=9, skipfooter=12, dtype=str)"
   ]
  },
  {
   "cell_type": "code",
   "execution_count": 174,
   "id": "86a4fc9d",
   "metadata": {},
   "outputs": [],
   "source": [
    "geo_col = 'Geographic localization (NUTS - 2013)'\n",
    "df_purchases_1 = df_purchases_1.loc[:, ~df_purchases_1.columns.str.startswith('Unnamed:')]\n",
    "df_purchases_1 = df_purchases_1.drop(columns=[f\"{geo_col} Code\"])\n",
    "# Determine the geo column by searching for column names that start with the desired strings.\n",
    "\n",
    "df_purchases_1.rename(columns={geo_col: 'concelho'}, inplace=True)\n",
    "\n",
    "# Normalize municipality names\n",
    "df_purchases_1['concelho'] = df_purchases_1['concelho'].map(normalize_municipality_name)\n",
    "\n",
    "# Filter for valid municipalities\n",
    "df_purchases_1 = df_purchases_1[df_purchases_1['concelho'].isin(valid_municipalities)]\n",
    "# Melt the DataFrame into long format with custom column name\n",
    "df_purchases_1 = df_purchases_1.melt(id_vars=['concelho'], var_name='time', value_name='purchases')\n",
    "df_purchases_1['time'] = pd.to_datetime(df_purchases_1['time'], format='%B %Y').dt.strftime('%Y-%m')\n"
   ]
  },
  {
   "cell_type": "code",
   "execution_count": 175,
   "id": "17a79af2",
   "metadata": {},
   "outputs": [],
   "source": [
    "geo_col = 'Geographic localization (NUTS - 2013)'\n",
    "df_purchases_2 = df_purchases_2.loc[:, ~df_purchases_2.columns.str.startswith('Unnamed:')]\n",
    "df_purchases_2 = df_purchases_2.drop(columns=[f\"{geo_col} Code\"])\n",
    "# Determine the geo column by searching for column names that start with the desired strings.\n",
    "\n",
    "df_purchases_2.rename(columns={geo_col: 'concelho'}, inplace=True)\n",
    "\n",
    "# Normalize municipality names\n",
    "df_purchases_2['concelho'] = df_purchases_2['concelho'].map(normalize_municipality_name)\n",
    "\n",
    "# Filter for valid municipalities\n",
    "df_purchases_2 = df_purchases_2[df_purchases_2['concelho'].isin(valid_municipalities)]\n",
    "# Melt the DataFrame into long format with custom column name\n",
    "df_purchases_2 = df_purchases_2.melt(id_vars=['concelho'], var_name='time', value_name='purchases')\n",
    "df_purchases_2['time'] = pd.to_datetime(df_purchases_2['time'], format='%B %Y').dt.strftime('%Y-%m')"
   ]
  },
  {
   "cell_type": "code",
   "execution_count": 176,
   "id": "a44f7a09",
   "metadata": {},
   "outputs": [],
   "source": [
    "df_purchases = pd.concat([df_purchases_1, df_purchases_2])\n",
    "# Convert all numeric values to float and fill NaN with 0\n",
    "df_purchases['purchases'] = df_purchases['purchases'].astype(float)\n"
   ]
  },
  {
   "cell_type": "code",
   "execution_count": 177,
   "id": "01b6323a",
   "metadata": {},
   "outputs": [],
   "source": [
    "df_purchases['purchases_log'] = np.log(df_purchases['purchases'])"
   ]
  },
  {
   "cell_type": "markdown",
   "id": "4cdc3d70",
   "metadata": {},
   "source": [
    "### Clean Economic Data"
   ]
  },
  {
   "cell_type": "code",
   "execution_count": 179,
   "id": "c5fc42af",
   "metadata": {},
   "outputs": [],
   "source": [
    "econ_data_df = pd.read_stata(r'/Users/dhruvnovaims/Library/Mobile Documents/com~apple~CloudDocs/Documents/GitHub/msc-thesis/database/Quarterly_dataset_old.dta') #pd.read_excel(r'../../database/excel/quarterly/Quarterly_dataset_NEW.xlsx')\n",
    "econ_data_df = econ_data_df[['date', 'disp_inc_conc', 'hpi', 'ur', 'ir_newloans', 'DsgDistrito', 'concelho', 'nuts3']].copy()\n",
    "econ_data_df_mod = econ_data_df.rename(columns={'date': 'time', 'DsgDistrito' : 'NAME_1', 'concelho' : 'NAME_2'})\n",
    "econ_data_df_mod['NAME_2'] = econ_data_df_mod['NAME_2'].map(normalize_municipality_name)\n",
    "\n",
    "econ_data_df_mod.time = econ_data_df_mod.time.dt.to_period('Q')"
   ]
  },
  {
   "cell_type": "code",
   "execution_count": 181,
   "id": "108461a1",
   "metadata": {},
   "outputs": [],
   "source": [
    "df_purchases.time = pd.to_datetime(df_purchases.time)\n",
    "df_purchases_q = (\n",
    "    df_purchases\n",
    "    .reset_index()\n",
    "    .assign(time=lambda x: pd.to_datetime(x['time']).dt.to_period('Q').dt.to_timestamp())\n",
    "    .groupby(['time', 'concelho'])\n",
    "    .mean().reset_index()\n",
    ")\n"
   ]
  },
  {
   "cell_type": "code",
   "execution_count": null,
   "id": "40025778",
   "metadata": {},
   "outputs": [],
   "source": [
    "df_purchases_q.time = df_purchases_q.time.dt.to_period('Q')\n",
    "df_purchases_q = df_purchases_q.drop(columns=['index'])"
   ]
  },
  {
   "cell_type": "code",
   "execution_count": null,
   "id": "3c3b7cd7",
   "metadata": {},
   "outputs": [],
   "source": [
    "df_econ = econ_data_df_mod[econ_data_df_mod.time.isin(df_purchases_q['time'])]\n",
    "df_econ = df_econ.rename(columns={'NAME_2' : 'concelho'})\n",
    "df_econ = df_econ.merge(df_purchases_q, on=['concelho', 'time'])\n",
    "df_econ['hpi_log'] = np.log(df_econ['hpi'])\n",
    "df_econ = df_econ[['time', 'concelho', 'hpi', 'hpi_log', 'purchases', 'purchases_log', 'ur']]"
   ]
  },
  {
   "cell_type": "code",
   "execution_count": 197,
   "id": "543d1926",
   "metadata": {},
   "outputs": [
    {
     "data": {
      "application/vnd.microsoft.datawrangler.viewer.v0+json": {
       "columns": [
        {
         "name": "index",
         "rawType": "int64",
         "type": "integer"
        },
        {
         "name": "time",
         "rawType": "period[Q-DEC]",
         "type": "unknown"
        },
        {
         "name": "concelho",
         "rawType": "object",
         "type": "string"
        },
        {
         "name": "hpi",
         "rawType": "float64",
         "type": "float"
        },
        {
         "name": "hpi_log",
         "rawType": "float64",
         "type": "float"
        },
        {
         "name": "purchases",
         "rawType": "float64",
         "type": "float"
        },
        {
         "name": "purchases_log",
         "rawType": "float64",
         "type": "float"
        },
        {
         "name": "ur",
         "rawType": "float32",
         "type": "float"
        }
       ],
       "conversionMethod": "pd.DataFrame",
       "ref": "b8eb7777-c3eb-444c-8a0d-2060d8109d55",
       "rows": [
        [
         "0",
         "2017Q4",
         "agueda",
         "107.294487281223",
         "4.675577271627384",
         "10175297.0",
         "16.126074430390624",
         "0.036922555"
        ],
        [
         "1",
         "2014Q4",
         "agueda",
         "93.9996254335501",
         "4.543290797512598",
         "8095330.333333333",
         "15.899491210711297",
         "0.069500476"
        ],
        [
         "2",
         "2011Q3",
         "agueda",
         "100.198537882465",
         "4.607153596552933",
         "7088931.666666667",
         "15.773206867732918",
         "0.06650414"
        ],
        [
         "3",
         "2014Q3",
         "agueda",
         "90.651597524136",
         "4.507023560036597",
         "7971247.666666667",
         "15.889204362618479",
         "0.07147643"
        ],
        [
         "4",
         "2010Q3",
         "agueda",
         "100.243609782457",
         "4.607603321336635",
         "7039759.666666667",
         "15.766466935611215",
         "0.06688391"
        ],
        [
         "5",
         "2019Q4",
         "agueda",
         "121.682769589431",
         "4.801417408946368",
         "12497624.666666666",
         "16.33565459880789",
         "0.029659554"
        ],
        [
         "6",
         "2020Q2",
         "agueda",
         "127.49352770243",
         "4.848065600191794",
         "9451730.666666666",
         "16.05615606790296",
         "0.045251686"
        ],
        [
         "7",
         "2014Q2",
         "agueda",
         "92.1905991938667",
         "4.523858164343201",
         "7041796.666666667",
         "15.766887806513552",
         "0.06891161"
        ],
        [
         "8",
         "2021Q4",
         "agueda",
         "151.571521131673",
         "5.021057600229276",
         "15921309.333333334",
         "16.57744182080854",
         "0.026294766"
        ],
        [
         "9",
         "2011Q2",
         "agueda",
         "99.6325652325643",
         "4.601489071317034",
         "6739546.333333333",
         "15.723397664993799",
         "0.05903066"
        ],
        [
         "10",
         "2011Q4",
         "agueda",
         "96.8986572030427",
         "4.573665661246965",
         "7329887.333333333",
         "15.793091104881299",
         "0.071083054"
        ],
        [
         "11",
         "2019Q2",
         "agueda",
         "116.763794461137",
         "4.760153043412107",
         "11124349.333333334",
         "16.223634564882783",
         "0.027702738"
        ],
        [
         "12",
         "2016Q3",
         "agueda",
         "99.3756401726093",
         "4.5989070149422675",
         "9333528.0",
         "16.047518729699746",
         "0.05045956"
        ],
        [
         "13",
         "2013Q3",
         "agueda",
         "90.1922564642164",
         "4.50194357487137",
         "6655214.0",
         "15.709452349137287",
         "0.088836715"
        ],
        [
         "14",
         "2020Q3",
         "agueda",
         "129.910124771939",
         "4.866842863456252",
         "12105995.666666666",
         "16.308416275589327",
         "0.043634098"
        ],
        [
         "15",
         "2016Q4",
         "agueda",
         "97.2367940029836",
         "4.57714917896388",
         "9357101.666666666",
         "16.04325546697349",
         "0.04443325"
        ],
        [
         "16",
         "2020Q4",
         "agueda",
         "132.158070359505",
         "4.883998708875405",
         "12602270.333333334",
         "16.34229712804011",
         "0.037680253"
        ],
        [
         "17",
         "2015Q3",
         "agueda",
         "94.537412033456",
         "4.548995650688059",
         "8619250.0",
         "15.967476912139817",
         "0.065177836"
        ],
        [
         "18",
         "2019Q1",
         "agueda",
         "114.124098973471",
         "4.737286443799375",
         "9962240.333333334",
         "16.112929371700854",
         "0.030439675"
        ],
        [
         "19",
         "2015Q2",
         "agueda",
         "94.7125303934253",
         "4.550846308159383",
         "7816425.0",
         "15.871553183233047",
         "0.062085573"
        ],
        [
         "20",
         "2020Q1",
         "agueda",
         "124.823770531654",
         "4.826902906802047",
         "10612071.333333334",
         "16.176469161644487",
         "0.035391502"
        ],
        [
         "21",
         "2018Q1",
         "agueda",
         "111.094306009942",
         "4.71037944429658",
         "9080797.666666666",
         "16.01843666983282",
         "0.033436902"
        ],
        [
         "22",
         "2010Q2",
         "agueda",
         "101.040897482318",
         "4.615525360448531",
         "6507352.666666667",
         "15.688397800475903",
         "0.0683888"
        ],
        [
         "23",
         "2015Q1",
         "agueda",
         "97.4481559729466",
         "4.579320502972546",
         "7034712.666666667",
         "15.764835476073628",
         "0.06716885"
        ],
        [
         "24",
         "2018Q4",
         "agueda",
         "111.580053622964",
         "4.714742302995901",
         "11327218.0",
         "16.235251340933186",
         "0.026753558"
        ],
        [
         "25",
         "2010Q1",
         "agueda",
         "101.54130308223",
         "4.6204656426280595",
         "5694950.0",
         "15.552695315175177",
         "0.068338506"
        ],
        [
         "26",
         "2017Q1",
         "agueda",
         "98.5525990027533",
         "4.590590405678718",
         "8229314.0",
         "15.921999167264309",
         "0.04617522"
        ],
        [
         "27",
         "2021Q1",
         "agueda",
         "135.429963866509",
         "4.908454634861581",
         "10780722.666666666",
         "16.18982203332963",
         "0.039329592"
        ],
        [
         "28",
         "2011Q1",
         "agueda",
         "103.270239681928",
         "4.637349238605651",
         "6138969.333333333",
         "15.629402403121846",
         "0.0634876"
        ],
        [
         "29",
         "2015Q4",
         "agueda",
         "96.5135492331102",
         "4.569683405049589",
         "9011073.0",
         "16.00501164990532",
         "0.060291335"
        ],
        [
         "30",
         "2018Q2",
         "agueda",
         "114.771854357668",
         "4.742946282725666",
         "10055511.666666666",
         "16.122098845174815",
         "0.028022869"
        ],
        [
         "31",
         "2021Q3",
         "agueda",
         "143.856033174493",
         "4.9688130298514235",
         "14831307.333333334",
         "16.51130127677602",
         "0.036036976"
        ],
        [
         "32",
         "2010Q4",
         "agueda",
         "101.275259082277",
         "4.61784214729113",
         "7567998.0",
         "15.821812053512813",
         "0.06137916"
        ],
        [
         "33",
         "2019Q3",
         "agueda",
         "119.049112607882",
         "4.779536118960379",
         "12090136.666666666",
         "16.305269873523972",
         "0.031678457"
        ],
        [
         "34",
         "2017Q3",
         "agueda",
         "103.912393681815",
         "4.643548175705619",
         "10106052.666666666",
         "16.127331481693002",
         "0.043354925"
        ],
        [
         "35",
         "2016Q1",
         "agueda",
         "96.3210932731438",
         "4.567687331923253",
         "7652966.666666667",
         "15.849258436629194",
         "0.0632686"
        ],
        [
         "36",
         "2021Q2",
         "agueda",
         "142.849136243144",
         "4.961789082058179",
         "13172910.666666666",
         "16.39258752425463",
         "0.03504693"
        ],
        [
         "37",
         "2017Q2",
         "agueda",
         "100.780179382363",
         "4.612941703190965",
         "9204376.0",
         "16.035105925330175",
         "0.041847505"
        ],
        [
         "38",
         "2013Q1",
         "agueda",
         "88.7491305844689",
         "4.485813632076206",
         "5780720.666666667",
         "15.567402000748787",
         "0.08604272"
        ],
        [
         "39",
         "2013Q2",
         "agueda",
         "88.2910468245491",
         "4.480638707503628",
         "6084275.0",
         "15.620495519337098",
         "0.08701633"
        ],
        [
         "40",
         "2018Q3",
         "agueda",
         "118.52621923848",
         "4.775134195497391",
         "11355231.333333334",
         "16.24264262985666",
         "0.027372653"
        ],
        [
         "41",
         "2013Q4",
         "agueda",
         "89.3824950943581",
         "4.492924858693633",
         "7052606.0",
         "15.761593313230284",
         "0.081848465"
        ],
        [
         "42",
         "2016Q2",
         "agueda",
         "97.9440020628598",
         "4.584395907833239",
         "8300301.666666667",
         "15.931458498871928",
         "0.046935506"
        ],
        [
         "43",
         "2014Q1",
         "agueda",
         "90.5211772841588",
         "4.505583826471292",
         "6001326.666666667",
         "15.605492787476763",
         "0.07597073"
        ],
        [
         "44",
         "2021Q3",
         "albergaria-a-velha",
         "134.598633593934",
         "4.902297265553854",
         "5989696.0",
         "15.604369173811476",
         "0.03746884"
        ],
        [
         "45",
         "2011Q3",
         "albergaria-a-velha",
         "97.8695256451065",
         "4.583635220640517",
         "2273969.0",
         "14.635755710457778",
         "0.06596605"
        ],
        [
         "46",
         "2011Q4",
         "albergaria-a-velha",
         "96.8896648651555",
         "4.573572855470046",
         "2162180.0",
         "14.581985271953505",
         "0.07117626"
        ],
        [
         "47",
         "2020Q4",
         "albergaria-a-velha",
         "123.653456141278",
         "4.817482944577838",
         "5465942.0",
         "15.511151206407964",
         "0.03914968"
        ],
        [
         "48",
         "2013Q3",
         "albergaria-a-velha",
         "91.9531574154023",
         "4.5212792888555855",
         "2231196.0",
         "14.616073302938739",
         "0.07866426"
        ],
        [
         "49",
         "2013Q4",
         "albergaria-a-velha",
         "94.8729634952564",
         "4.552538770349777",
         "2267683.0",
         "14.632153844281413",
         "0.07914873"
        ]
       ],
       "shape": {
        "columns": 7,
        "rows": 12232
       }
      },
      "text/html": [
       "<div>\n",
       "<style scoped>\n",
       "    .dataframe tbody tr th:only-of-type {\n",
       "        vertical-align: middle;\n",
       "    }\n",
       "\n",
       "    .dataframe tbody tr th {\n",
       "        vertical-align: top;\n",
       "    }\n",
       "\n",
       "    .dataframe thead th {\n",
       "        text-align: right;\n",
       "    }\n",
       "</style>\n",
       "<table border=\"1\" class=\"dataframe\">\n",
       "  <thead>\n",
       "    <tr style=\"text-align: right;\">\n",
       "      <th></th>\n",
       "      <th>time</th>\n",
       "      <th>concelho</th>\n",
       "      <th>hpi</th>\n",
       "      <th>hpi_log</th>\n",
       "      <th>purchases</th>\n",
       "      <th>purchases_log</th>\n",
       "      <th>ur</th>\n",
       "    </tr>\n",
       "  </thead>\n",
       "  <tbody>\n",
       "    <tr>\n",
       "      <th>0</th>\n",
       "      <td>2017Q4</td>\n",
       "      <td>agueda</td>\n",
       "      <td>107.294487</td>\n",
       "      <td>4.675577</td>\n",
       "      <td>1.017530e+07</td>\n",
       "      <td>16.126074</td>\n",
       "      <td>0.036923</td>\n",
       "    </tr>\n",
       "    <tr>\n",
       "      <th>1</th>\n",
       "      <td>2014Q4</td>\n",
       "      <td>agueda</td>\n",
       "      <td>93.999625</td>\n",
       "      <td>4.543291</td>\n",
       "      <td>8.095330e+06</td>\n",
       "      <td>15.899491</td>\n",
       "      <td>0.069500</td>\n",
       "    </tr>\n",
       "    <tr>\n",
       "      <th>2</th>\n",
       "      <td>2011Q3</td>\n",
       "      <td>agueda</td>\n",
       "      <td>100.198538</td>\n",
       "      <td>4.607154</td>\n",
       "      <td>7.088932e+06</td>\n",
       "      <td>15.773207</td>\n",
       "      <td>0.066504</td>\n",
       "    </tr>\n",
       "    <tr>\n",
       "      <th>3</th>\n",
       "      <td>2014Q3</td>\n",
       "      <td>agueda</td>\n",
       "      <td>90.651598</td>\n",
       "      <td>4.507024</td>\n",
       "      <td>7.971248e+06</td>\n",
       "      <td>15.889204</td>\n",
       "      <td>0.071476</td>\n",
       "    </tr>\n",
       "    <tr>\n",
       "      <th>4</th>\n",
       "      <td>2010Q3</td>\n",
       "      <td>agueda</td>\n",
       "      <td>100.243610</td>\n",
       "      <td>4.607603</td>\n",
       "      <td>7.039760e+06</td>\n",
       "      <td>15.766467</td>\n",
       "      <td>0.066884</td>\n",
       "    </tr>\n",
       "    <tr>\n",
       "      <th>...</th>\n",
       "      <td>...</td>\n",
       "      <td>...</td>\n",
       "      <td>...</td>\n",
       "      <td>...</td>\n",
       "      <td>...</td>\n",
       "      <td>...</td>\n",
       "      <td>...</td>\n",
       "    </tr>\n",
       "    <tr>\n",
       "      <th>12227</th>\n",
       "      <td>2018Q4</td>\n",
       "      <td>vouzela</td>\n",
       "      <td>109.446017</td>\n",
       "      <td>4.695431</td>\n",
       "      <td>1.001831e+06</td>\n",
       "      <td>13.816209</td>\n",
       "      <td>0.063996</td>\n",
       "    </tr>\n",
       "    <tr>\n",
       "      <th>12228</th>\n",
       "      <td>2014Q3</td>\n",
       "      <td>vouzela</td>\n",
       "      <td>97.002670</td>\n",
       "      <td>4.574739</td>\n",
       "      <td>9.275167e+05</td>\n",
       "      <td>13.716543</td>\n",
       "      <td>0.081636</td>\n",
       "    </tr>\n",
       "    <tr>\n",
       "      <th>12229</th>\n",
       "      <td>2010Q3</td>\n",
       "      <td>vouzela</td>\n",
       "      <td>112.399774</td>\n",
       "      <td>4.722062</td>\n",
       "      <td>7.701783e+05</td>\n",
       "      <td>13.545109</td>\n",
       "      <td>0.045091</td>\n",
       "    </tr>\n",
       "    <tr>\n",
       "      <th>12230</th>\n",
       "      <td>2011Q2</td>\n",
       "      <td>vouzela</td>\n",
       "      <td>100.567631</td>\n",
       "      <td>4.610830</td>\n",
       "      <td>6.231537e+05</td>\n",
       "      <td>13.342147</td>\n",
       "      <td>0.045419</td>\n",
       "    </tr>\n",
       "    <tr>\n",
       "      <th>12231</th>\n",
       "      <td>2021Q3</td>\n",
       "      <td>vouzela</td>\n",
       "      <td>131.135633</td>\n",
       "      <td>4.876232</td>\n",
       "      <td>1.624636e+06</td>\n",
       "      <td>14.294409</td>\n",
       "      <td>0.061954</td>\n",
       "    </tr>\n",
       "  </tbody>\n",
       "</table>\n",
       "<p>12232 rows × 7 columns</p>\n",
       "</div>"
      ],
      "text/plain": [
       "         time concelho         hpi   hpi_log     purchases  purchases_log  \\\n",
       "0      2017Q4   agueda  107.294487  4.675577  1.017530e+07      16.126074   \n",
       "1      2014Q4   agueda   93.999625  4.543291  8.095330e+06      15.899491   \n",
       "2      2011Q3   agueda  100.198538  4.607154  7.088932e+06      15.773207   \n",
       "3      2014Q3   agueda   90.651598  4.507024  7.971248e+06      15.889204   \n",
       "4      2010Q3   agueda  100.243610  4.607603  7.039760e+06      15.766467   \n",
       "...       ...      ...         ...       ...           ...            ...   \n",
       "12227  2018Q4  vouzela  109.446017  4.695431  1.001831e+06      13.816209   \n",
       "12228  2014Q3  vouzela   97.002670  4.574739  9.275167e+05      13.716543   \n",
       "12229  2010Q3  vouzela  112.399774  4.722062  7.701783e+05      13.545109   \n",
       "12230  2011Q2  vouzela  100.567631  4.610830  6.231537e+05      13.342147   \n",
       "12231  2021Q3  vouzela  131.135633  4.876232  1.624636e+06      14.294409   \n",
       "\n",
       "             ur  \n",
       "0      0.036923  \n",
       "1      0.069500  \n",
       "2      0.066504  \n",
       "3      0.071476  \n",
       "4      0.066884  \n",
       "...         ...  \n",
       "12227  0.063996  \n",
       "12228  0.081636  \n",
       "12229  0.045091  \n",
       "12230  0.045419  \n",
       "12231  0.061954  \n",
       "\n",
       "[12232 rows x 7 columns]"
      ]
     },
     "execution_count": 197,
     "metadata": {},
     "output_type": "execute_result"
    }
   ],
   "source": [
    "df_econ"
   ]
  },
  {
   "cell_type": "code",
   "execution_count": 199,
   "id": "32683994",
   "metadata": {},
   "outputs": [],
   "source": [
    "df_econ.to_excel(r'../../../../portugal/purchases_paper/datasets/economic_data_q.xlsx')"
   ]
  },
  {
   "cell_type": "code",
   "execution_count": null,
   "id": "62345f91",
   "metadata": {},
   "outputs": [],
   "source": []
  }
 ],
 "metadata": {
  "kernelspec": {
   "display_name": "Python 3",
   "language": "python",
   "name": "python3"
  },
  "language_info": {
   "codemirror_mode": {
    "name": "ipython",
    "version": 3
   },
   "file_extension": ".py",
   "mimetype": "text/x-python",
   "name": "python",
   "nbconvert_exporter": "python",
   "pygments_lexer": "ipython3",
   "version": "3.12.5"
  }
 },
 "nbformat": 4,
 "nbformat_minor": 5
}
