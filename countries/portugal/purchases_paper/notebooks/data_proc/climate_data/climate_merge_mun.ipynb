{
 "cells": [
  {
   "cell_type": "code",
   "execution_count": 2,
   "id": "52db6ee2",
   "metadata": {},
   "outputs": [],
   "source": [
    "import matplotlib.pyplot as plt\n",
    "import pandas as pd\n",
    "from shapely.geometry import box\n",
    "import geopandas as gpd\n",
    "import numpy as np\n",
    "\n",
    "from tqdm import tqdm  # Optional: For progress tracking\n",
    "\n",
    "from shapely import wkt\n"
   ]
  },
  {
   "cell_type": "code",
   "execution_count": 3,
   "id": "e16331d1",
   "metadata": {},
   "outputs": [],
   "source": [
    "\n",
    "import unicodedata\n",
    "\n",
    "# Function to normalize the names\n",
    "def normalize_municipality_name(name):\n",
    "    if type(name) == float:\n",
    "        return name\n",
    "    else:\n",
    "        # Normalize the string (remove diacritical marks)\n",
    "        name_without_diacritics = unicodedata.normalize('NFKD', name).encode('ascii', 'ignore').decode('ascii')\n",
    "        # Convert to lowercase\n",
    "        return name_without_diacritics.lower()\n",
    "\n"
   ]
  },
  {
   "cell_type": "code",
   "execution_count": 4,
   "id": "a7548022",
   "metadata": {},
   "outputs": [],
   "source": [
    "mun_gdf = gpd.read_file(r'../../../../../portugal/municipality_data/municipalities-shapefile-2/concelhos.shp')\n",
    "mun_metadata = pd.read_excel(r'../../../../../portugal/municipality_data/concelhos-metadata.xlsx', dtype={'dicofre' : 'string'})\n",
    "\n",
    "mun_metadata = mun_metadata[['dicofre','designacao']]\n",
    "\n",
    "mun_gdf = mun_gdf.merge(mun_metadata, left_on='CCA_2', right_on='dicofre').drop(columns='NAME_2')\n",
    "mun_gdf = mun_gdf.rename(columns={'designacao': 'NAME_2'})"
   ]
  },
  {
   "cell_type": "code",
   "execution_count": 5,
   "id": "319f3e90",
   "metadata": {},
   "outputs": [],
   "source": [
    "mun_gdf['concelho'] = mun_gdf['NAME_2'].map(normalize_municipality_name)\n",
    "mun_gdf = mun_gdf[~mun_gdf['NAME_1'].isin(['Azores', 'Madeira'])]\n",
    "west, south, east, north = mun_gdf.total_bounds"
   ]
  },
  {
   "cell_type": "code",
   "execution_count": 14,
   "id": "d21cb11e",
   "metadata": {},
   "outputs": [],
   "source": [
    "\n",
    "\n",
    "# Enable tqdm progress for pandas apply if desired (optional)\n",
    "tqdm.pandas()\n",
    "\n",
    "def aggregate_to_municipality(df, municipalities_gdf, \n",
    "                              grid_resolution=(0.25, 0.25), \n",
    "                              time_range=(2013, 2023), \n",
    "                              lat_col='latitude', \n",
    "                              lon_col='longitude', \n",
    "                              time_col='time', \n",
    "                              municipality_id_col='concelho'):\n",
    "    \"\"\"\n",
    "    Processes a cleaned DataFrame (from a parquet file) and aggregates its numerical variables \n",
    "    to the municipality level using area-weighted aggregation.\n",
    "    \n",
    "    The function performs the following steps:\n",
    "      1. Renames 'lat' or 'lon' columns to 'latitude' and 'longitude' if needed.\n",
    "      2. Filters the time column to years within time_range (if a time column exists).\n",
    "      3. Creates a GeoDataFrame from the lat/lon points.\n",
    "      4. Constructs square polygons centered on each point with the specified grid_resolution.\n",
    "      5. Reprojects the GeoDataFrame to EPSG:3763.\n",
    "      6. Uses an overlay with the provided municipalities to select only the grid cells that \n",
    "         fall within Portuguese boundaries.\n",
    "      7. Performs a spatial join so that each grid cell gets assigned its municipality.\n",
    "      8. Computes the area for each grid cell (vectorized).\n",
    "      9. For each numeric column (excluding lat, lon, time, geometry, and area),\n",
    "         computes an area‐weighted value.\n",
    "     10. Groups the data by municipality (and time, if available) and sums the weighted values.\n",
    "    \n",
    "    Parameters:\n",
    "      df : pd.DataFrame\n",
    "          Input DataFrame containing the point-level data.\n",
    "      municipalities_gdf : gpd.GeoDataFrame\n",
    "          A GeoDataFrame with municipality polygons. This should either be in EPSG:3763 or \n",
    "          will be reprojected.\n",
    "      grid_resolution : tuple (lat_resolution, lon_resolution)\n",
    "          Resolution of the grid cells (polygons) to construct around each point.\n",
    "      time_range : tuple (start_year, end_year)\n",
    "          The inclusive range of years to keep (if a time column exists).\n",
    "      lat_col, lon_col : str\n",
    "          Column names for latitude and longitude. If the DataFrame has columns 'lat' or 'lon', \n",
    "          they will be renamed accordingly.\n",
    "      time_col : str\n",
    "          Column name for the time variable.\n",
    "      municipality_id_col : str\n",
    "          Column name in the municipalities GeoDataFrame that identifies the municipality.\n",
    "    \n",
    "    Returns:\n",
    "      aggregated : pd.DataFrame\n",
    "          A DataFrame aggregated to the municipality level with area‐weighted values.\n",
    "    \"\"\"\n",
    "    # Work on a copy so as not to modify the original DataFrame\n",
    "    df = df.copy()\n",
    "    # NEW – keep a record of the meteorological columns before any spatial operations\n",
    "    orig_numeric_cols = df.select_dtypes(include=[np.number]).columns.difference([lat_col, lon_col])\n",
    "\n",
    "    municipalities_gdf = municipalities_gdf.copy()\n",
    "    print(\"Renaming Columns if needed\")\n",
    "    # Rename lat/lon columns if needed\n",
    "    if 'lat' in df.columns and lat_col not in df.columns:\n",
    "        df.rename(columns={'lat': lat_col}, inplace=True)\n",
    "    if 'lon' in df.columns and lon_col not in df.columns:\n",
    "        df.rename(columns={'lon': lon_col}, inplace=True)\n",
    "    print(\"Filtering the time column if present\")\n",
    "    # if time not in columns rename time\n",
    "    if 'time' not in df.columns:\n",
    "        df.rename(columns={'valid_time': 'time'}, inplace=True)\n",
    "    # Filter the time column if present\n",
    "    if time_col in df.columns:\n",
    "        df[time_col] = pd.to_datetime(df[time_col], errors='coerce')\n",
    "        start_year, end_year = time_range\n",
    "        df = df[(df[time_col].dt.year >= start_year) & (df[time_col].dt.year <= end_year)]\n",
    "    print(\"Creating a GeoDataFrame from the lat/lon points\")\n",
    "    # Create a GeoDataFrame using the lat/lon points\n",
    "    gdf = gpd.GeoDataFrame(df, geometry=gpd.points_from_xy(df[lon_col], df[lat_col]), crs=\"EPSG:4326\")\n",
    "    \n",
    "    # Build square polygons for each point. Here we use a list comprehension with tqdm for progress.\n",
    "    lat_res, lon_res = grid_resolution\n",
    "    half_lat = lat_res / 2.0\n",
    "    half_lon = lon_res / 2.0\n",
    "    polygons = [box(pt.x - half_lon, pt.y - half_lat, pt.x + half_lon, pt.y + half_lat) \n",
    "                for pt in tqdm(gdf.geometry, desc=\"Creating grid polygons\")]\n",
    "    gdf['geometry'] = polygons\n",
    "    \n",
    "    # Reproject to target CRS (EPSG:3763)\n",
    "    gdf = gdf.to_crs(\"EPSG:3763\")\n",
    "    if municipalities_gdf.crs != \"EPSG:3763\":\n",
    "        municipalities_gdf = municipalities_gdf.to_crs(\"EPSG:3763\")\n",
    "    municipalities_gdf = municipalities_gdf[['NAME_1', 'concelho', 'geometry', 'NAME_2']]\n",
    "    # # Build a GeoDataFrame of unique grid polygons (using WKT as a unique key)\n",
    "    # unique_wkts = np.unique(gdf['geometry'].apply(lambda geom: geom.wkt))\n",
    "    # unique_polygons = [wkt.loads(wkt_str) for wkt_str in unique_wkts]\n",
    "    # poly_era5 = gpd.GeoDataFrame({'geometry': unique_polygons}, crs=\"EPSG:3763\")\n",
    "    # #print(unique_polygons)\n",
    "    # # Find the grid cells that intersect with the municipalities\n",
    "    # mun_poly_to_be_join = gpd.overlay(municipalities_gdf, poly_era5, how='intersection')\n",
    "    \n",
    "    # # Spatial join: assign each grid cell its municipality by checking which municipality polygon it falls within.\n",
    "    # #joined = gpd.sjoin(mun_poly_to_be_join,gdf, how='inner', predicate='intersects')\n",
    "    # joined = gpd.sjoin(gdf, mun_poly_to_be_join, how='inner', predicate='intersecna_countsts')\n",
    "\n",
    "    # REPLACE the whole unique-polygon / overlay / sjoin section with a single intersection\n",
    "    joined = gpd.overlay(\n",
    "        gdf,\n",
    "        municipalities_gdf[[municipality_id_col, \"geometry\"]],\n",
    "        how=\"intersection\"\n",
    "    )\n",
    "    joined[\"area\"] = joined.geometry.area\n",
    "\n",
    "    joined.drop(columns=['index_left', 'index_right'], inplace=True, errors='ignore')\n",
    "    # Compute the area of each grid cell (vectorized)\n",
    "    joined['area'] = joined.geometry.area\n",
    "    \n",
    "    # Grouping columns (municipality identifier and time if available)\n",
    "    group_cols = [municipality_id_col]\n",
    "    if time_col in joined.columns:\n",
    "        group_cols.append(time_col)\n",
    "    \n",
    "    # Compute total area per group (vectorized)\n",
    "    joined['total_area'] = joined.groupby(group_cols)['area'].transform('sum')\n",
    "    \n",
    "    # Identify numeric columns to aggregate (exclude key columns)\n",
    "    exclude_cols = {lat_col, lon_col, time_col, 'geometry', 'area', 'total_area'}\n",
    "    #numeric_cols = joined.select_dtypes(include=[np.number]).columns.difference(list(exclude_cols) + group_cols)\n",
    "    # REPLACE the existing numeric_cols definition\n",
    "    numeric_cols = [c for c in orig_numeric_cols if c in joined.columns]\n",
    "\n",
    "    # Calculate the area-weighted value for each numeric column\n",
    "    for col in numeric_cols:\n",
    "        joined[f'{col}_wtd'] = joined[col] * (joined['area'] / joined['total_area'])\n",
    "    \n",
    "    # Group by municipality (and time, if available) and sum the weighted values\n",
    "    weighted_cols = [f'{col}_wtd' for col in numeric_cols]\n",
    "    aggregated = joined.groupby(group_cols)[weighted_cols].sum().reset_index()\n",
    "\n",
    "    return aggregated\n"
   ]
  },
  {
   "cell_type": "code",
   "execution_count": 24,
   "id": "af2b70ce",
   "metadata": {},
   "outputs": [],
   "source": [
    "\n",
    "\n",
    "def build_coverage_table(df, municipalities_gdf, grid_resolution=(0.25, 0.25),\n",
    "                         lat_col='latitude', lon_col='longitude', municipality_id_col='concelho'):\n",
    "    \"\"\"\n",
    "    One-off overlay returning the fractional coverage of each grid cell\n",
    "    (identified by polygon_id) within every municipality.\n",
    "\n",
    "    Returns\n",
    "    -------\n",
    "    coverage_table : pd.DataFrame\n",
    "        Columns: ['polygon_id', municipality_id_col, 'coverage']\n",
    "    grid_lookup : pd.DataFrame\n",
    "        Maps (lat, lon) to polygon_id for later merging.\n",
    "    \"\"\"\n",
    "    # --- in build_coverage_table (immediately after the docstring) ---\n",
    "    # standardise latitude/longitude column names                           # new\n",
    "    if 'lat' in df.columns and lat_col not in df.columns:                   # new\n",
    "        df = df.rename(columns={'lat': lat_col})                            # new\n",
    "    if 'lon' in df.columns and lon_col not in df.columns:                   # new\n",
    "        df = df.rename(columns={'lon': lon_col})                            # new\n",
    "\n",
    "    # --- unique grid centroids ------------------------------------------------\n",
    "    coords = (df[[lat_col, lon_col]]\n",
    "              .drop_duplicates()\n",
    "              .reset_index(drop=True))\n",
    "    coords['polygon_id'] = np.arange(len(coords), dtype=np.int32)\n",
    "\n",
    "    # --- square polygons about each centroid ---------------------------------\n",
    "    lat_res, lon_res = grid_resolution\n",
    "    half_lat, half_lon = lat_res / 2.0, lon_res / 2.0\n",
    "\n",
    "    gdf = gpd.GeoDataFrame(\n",
    "        coords,\n",
    "        geometry=gpd.points_from_xy(coords[lon_col], coords[lat_col]),\n",
    "        crs='EPSG:4326'\n",
    "    )\n",
    "    gdf['geometry'] = [\n",
    "        box(pt.x - half_lon, pt.y - half_lat, pt.x + half_lon, pt.y + half_lat)\n",
    "        for pt in tqdm(gdf.geometry, desc='grid polygons')\n",
    "    ]\n",
    "    gdf = gdf.to_crs('EPSG:3763')\n",
    "\n",
    "    # --- municipalities to target CRS ----------------------------------------\n",
    "    muni = municipalities_gdf.to_crs('EPSG:3763')[['geometry', municipality_id_col]]\n",
    "\n",
    "    # --- overlay --------------------------------------------------------------\n",
    "    inter = gpd.overlay(muni, gdf[['polygon_id', 'geometry']], how='intersection')\n",
    "    inter['inter_area'] = inter.geometry.area\n",
    "    cell_area = inter.groupby('polygon_id')['inter_area'].sum().rename('cell_area')\n",
    "    inter = inter.merge(cell_area, on='polygon_id')\n",
    "    inter['coverage'] = inter['inter_area'] / inter['cell_area']\n",
    "\n",
    "    coverage_table = inter[['polygon_id', municipality_id_col, 'coverage']]\n",
    "    grid_lookup = coords[['polygon_id', lat_col, lon_col]]\n",
    "    return coverage_table, grid_lookup\n",
    "\n",
    "\n",
    "def aggregate_with_coverage(df, coverage_table, grid_lookup,\n",
    "                            time_col='time', municipality_id_col='concelho',\n",
    "                            lat_col='latitude', lon_col='longitude',\n",
    "                            freq='M', time_range=(2010, 2022)):\n",
    "    \"\"\"\n",
    "    Area-weights numeric columns using a pre-computed coverage table.\n",
    "\n",
    "    Parameters\n",
    "    ----------\n",
    "    freq : str\n",
    "        Resampling frequency alias passed to pd.Grouper, e.g. 'D', 'M', 'Y'.\n",
    "\n",
    "    Returns\n",
    "    -------\n",
    "    aggregated : pd.DataFrame\n",
    "        Weighted sums by municipality and resampling period.\n",
    "    \"\"\"\n",
    "    # --- in aggregate_with_coverage (immediately after the docstring) ---\n",
    "    # standardise latitude/longitude column names                           # new\n",
    "    if 'lat' in df.columns and lat_col not in df.columns:                   # new\n",
    "        df = df.rename(columns={'lat': lat_col})                            # new\n",
    "    if 'lon' in df.columns and lon_col not in df.columns:                   # new\n",
    "        df = df.rename(columns={'lon': lon_col})                            # ne\n",
    "    # --- attach polygon_id ----------------------------------------------------\n",
    "    df = (df.merge(grid_lookup, on=[lat_col, lon_col], how='left')\n",
    "            .merge(coverage_table, on='polygon_id', how='left'))\n",
    "\n",
    "    df = df.dropna(subset=['coverage'])\n",
    "    df[time_col] = pd.to_datetime(df[time_col], errors='coerce')\n",
    "    if time_range is not None:\n",
    "        start, end = time_range\n",
    "        df = df[df[time_col].between(pd.Timestamp(start), pd.Timestamp(end))]\n",
    "    # --- identify variables to weight ----------------------------------------\n",
    "    excl = {lat_col, lon_col, time_col, 'polygon_id', 'coverage'}\n",
    "    numcols = df.select_dtypes(include=[np.number]).columns.difference(excl)\n",
    "\n",
    "    # --- area weighting -------------------------------------------------------\n",
    "    df[numcols] = df[numcols].mul(df['coverage'], axis=0)\n",
    "\n",
    "    # --- aggregation ----------------------------------------------------------\n",
    "    grouped = (df\n",
    "               .groupby([municipality_id_col,\n",
    "                         pd.Grouper(key=time_col, freq=freq)],\n",
    "                        sort=False)[numcols]\n",
    "               .sum()\n",
    "               .reset_index())\n",
    "    return grouped\n"
   ]
  },
  {
   "cell_type": "code",
   "execution_count": 27,
   "id": "51dde7bb",
   "metadata": {},
   "outputs": [],
   "source": [
    "def plot_weighted_variable(agg_df, mun_gdf, latest_time, variable='fwi_wtd', crs=\"EPSG:4326\"):\n",
    "    \"\"\"\n",
    "    Plots the most recent time slice of an aggregated municipality-level variable.\n",
    "\n",
    "    Parameters:\n",
    "    - agg_df (pd.DataFrame or gpd.GeoDataFrame): The aggregated DataFrame containing municipality-level data.\n",
    "    - mun_gdf (gpd.GeoDataFrame): The GeoDataFrame containing municipality boundaries.\n",
    "    - variable (str): The column name to plot (default is 'fwi_wtd').\n",
    "    - crs (str): The coordinate reference system for the output GeoDataFrame (default is \"EPSG:4326\").\n",
    "    \n",
    "    Returns:\n",
    "    - None (displays the plot)\n",
    "    \"\"\"\n",
    "    # Get the latest time value\n",
    "    \n",
    "    \n",
    "    # Filter for the most recent time slice\n",
    "    test_gdf = agg_df[agg_df['time'] == latest_time]\n",
    "    \n",
    "    # Merge with municipality geometries\n",
    "    test_gdf = gpd.GeoDataFrame(\n",
    "        test_gdf.merge(mun_gdf, on='concelho', how='left'),\n",
    "        crs=crs\n",
    "    )\n",
    "\n",
    "    # Plot the data\n",
    "    fig, ax = plt.subplots(figsize=(12, 8))\n",
    "    test_gdf.plot(column=variable, cmap='viridis', legend=True, ax=ax)\n",
    "    mun_gdf.plot(ax=ax, facecolor=\"none\", edgecolor='black')\n",
    "\n",
    "    ax.set_xlabel('Longitude')\n",
    "    ax.set_ylabel('Latitude')\n",
    "\n",
    "    # Show the plot\n",
    "    plt.show()\n"
   ]
  },
  {
   "cell_type": "markdown",
   "id": "18a16a8e",
   "metadata": {},
   "source": [
    "### Fire\n",
    "- 0.25 x 0.25"
   ]
  },
  {
   "cell_type": "markdown",
   "id": "9f739339",
   "metadata": {},
   "source": [
    "#### FWI"
   ]
  },
  {
   "cell_type": "code",
   "execution_count": 29,
   "id": "b999ef4d",
   "metadata": {},
   "outputs": [],
   "source": [
    "fwi_df = pd.read_parquet(r'/Volumes/Dhruv_External_Disk/climate_data/fire/fire_weather_index_portugal_1979_2021.parquet')\n"
   ]
  },
  {
   "cell_type": "code",
   "execution_count": 30,
   "id": "9eb7290b",
   "metadata": {},
   "outputs": [
    {
     "name": "stdout",
     "output_type": "stream",
     "text": [
      "Renaming Columns if needed\n",
      "Filtering the time column if present\n",
      "Creating a GeoDataFrame from the lat/lon points\n"
     ]
    },
    {
     "name": "stderr",
     "output_type": "stream",
     "text": [
      "Creating grid polygons: 100%|██████████| 56448/56448 [00:00<00:00, 61244.15it/s]\n"
     ]
    }
   ],
   "source": [
    "agg_fwi_df = aggregate_to_municipality(fwi_df, mun_gdf, grid_resolution=(0.25, 0.25), time_range=(2006,2022))"
   ]
  },
  {
   "cell_type": "code",
   "execution_count": 28,
   "id": "bb1ee301",
   "metadata": {},
   "outputs": [
    {
     "data": {
      "application/vnd.microsoft.datawrangler.viewer.v0+json": {
       "columns": [
        {
         "name": "index",
         "rawType": "int64",
         "type": "integer"
        },
        {
         "name": "concelho",
         "rawType": "object",
         "type": "unknown"
        },
        {
         "name": "time",
         "rawType": "datetime64[ns]",
         "type": "datetime"
        },
        {
         "name": "fwi",
         "rawType": "float64",
         "type": "float"
        }
       ],
       "ref": "2e34333d-f950-4ed2-b4f2-98c3812fb03a",
       "rows": [],
       "shape": {
        "columns": 3,
        "rows": 0
       }
      },
      "text/html": [
       "<div>\n",
       "<style scoped>\n",
       "    .dataframe tbody tr th:only-of-type {\n",
       "        vertical-align: middle;\n",
       "    }\n",
       "\n",
       "    .dataframe tbody tr th {\n",
       "        vertical-align: top;\n",
       "    }\n",
       "\n",
       "    .dataframe thead th {\n",
       "        text-align: right;\n",
       "    }\n",
       "</style>\n",
       "<table border=\"1\" class=\"dataframe\">\n",
       "  <thead>\n",
       "    <tr style=\"text-align: right;\">\n",
       "      <th></th>\n",
       "      <th>concelho</th>\n",
       "      <th>time</th>\n",
       "      <th>fwi</th>\n",
       "    </tr>\n",
       "  </thead>\n",
       "  <tbody>\n",
       "  </tbody>\n",
       "</table>\n",
       "</div>"
      ],
      "text/plain": [
       "Empty DataFrame\n",
       "Columns: [concelho, time, fwi]\n",
       "Index: []"
      ]
     },
     "execution_count": 28,
     "metadata": {},
     "output_type": "execute_result"
    }
   ],
   "source": [
    "agg_fwi_df.head()"
   ]
  },
  {
   "cell_type": "code",
   "execution_count": 10,
   "id": "ce5e8b12",
   "metadata": {},
   "outputs": [
    {
     "data": {
      "image/png": "[encoded data removed]",
      "text/plain": [
       "<Figure size 1200x800 with 2 Axes>"
      ]
     },
     "metadata": {},
     "output_type": "display_data"
    }
   ],
   "source": [
    "time_1 = agg_fwi_df['time'].iloc[-1]\n",
    "testgdf = agg_fwi_df[agg_fwi_df['time'] == time_1]\n",
    "testgdf = gpd.GeoDataFrame(testgdf.merge(mun_gdf, on='concelho', how='left'), crs=\"EPSG:4326\")\n",
    "\n",
    "fig, ax = plt.subplots(figsize=(12, 8))\n",
    "testgdf.plot(column = 'fwi_wtd', kind = 'geo', cmap = 'viridis', legend = True, ax = ax)\n",
    "mun_gdf.plot(ax=ax, facecolor=\"none\", edgecolor='black')  # Adjust colors as needed\n",
    "\n",
    "ax.set_xlabel('Longitude')\n",
    "ax.set_ylabel('Latitude')\n",
    "# Show the plot\n",
    "plt.show()"
   ]
  },
  {
   "cell_type": "markdown",
   "id": "dd60fbec",
   "metadata": {},
   "source": [
    "#### High Fire Days"
   ]
  },
  {
   "cell_type": "code",
   "execution_count": 18,
   "id": "47227faa",
   "metadata": {},
   "outputs": [],
   "source": [
    "high_fire_df = pd.read_parquet(r'/Volumes/Dhruv_External_Disk/climate_data/fire/high_fire_days_portugal_1979_2021.parquet')\n",
    "high_fire_df = high_fire_df.rename(columns={'fwi': 'high_fire_days'}).copy()\n"
   ]
  },
  {
   "cell_type": "code",
   "execution_count": 19,
   "id": "5a600fd0",
   "metadata": {},
   "outputs": [
    {
     "name": "stdout",
     "output_type": "stream",
     "text": [
      "Renaming Columns if needed\n",
      "Filtering the time column if present\n",
      "Creating a GeoDataFrame from the lat/lon points\n"
     ]
    },
    {
     "name": "stderr",
     "output_type": "stream",
     "text": [
      "Creating grid polygons: 100%|██████████| 56448/56448 [00:01<00:00, 53591.16it/s]\n"
     ]
    }
   ],
   "source": [
    "agg_high_fire_df = aggregate_to_municipality(high_fire_df, mun_gdf, grid_resolution=(0.25, 0.25), time_range=(2006,2022))"
   ]
  },
  {
   "cell_type": "code",
   "execution_count": 20,
   "id": "7aad9289",
   "metadata": {},
   "outputs": [
    {
     "data": {
      "application/vnd.microsoft.datawrangler.viewer.v0+json": {
       "columns": [
        {
         "name": "index",
         "rawType": "int64",
         "type": "integer"
        },
        {
         "name": "concelho",
         "rawType": "object",
         "type": "string"
        },
        {
         "name": "time",
         "rawType": "datetime64[ns]",
         "type": "datetime"
        },
        {
         "name": "high_fire_days_wtd",
         "rawType": "float64",
         "type": "float"
        }
       ],
       "ref": "736e8781-ad04-49e9-a182-8df8376e56fb",
       "rows": [
        [
         "0",
         "abrantes",
         "2006-01-01 00:00:00",
         "0.0"
        ],
        [
         "1",
         "abrantes",
         "2006-02-01 00:00:00",
         "0.0"
        ],
        [
         "2",
         "abrantes",
         "2006-03-01 00:00:00",
         "0.0"
        ],
        [
         "3",
         "abrantes",
         "2006-04-01 00:00:00",
         "0.0"
        ],
        [
         "4",
         "abrantes",
         "2006-05-01 00:00:00",
         "16.379891687289938"
        ],
        [
         "5",
         "abrantes",
         "2006-06-01 00:00:00",
         "14.547165384425492"
        ],
        [
         "6",
         "abrantes",
         "2006-07-01 00:00:00",
         "28.22302753245976"
        ],
        [
         "7",
         "abrantes",
         "2006-08-01 00:00:00",
         "27.194104860748595"
        ],
        [
         "8",
         "abrantes",
         "2006-09-01 00:00:00",
         "14.715552289489569"
        ],
        [
         "9",
         "abrantes",
         "2006-10-01 00:00:00",
         "0.0"
        ],
        [
         "10",
         "abrantes",
         "2006-11-01 00:00:00",
         "0.0"
        ],
        [
         "11",
         "abrantes",
         "2006-12-01 00:00:00",
         "0.0"
        ],
        [
         "12",
         "abrantes",
         "2007-01-01 00:00:00",
         "0.0"
        ],
        [
         "13",
         "abrantes",
         "2007-02-01 00:00:00",
         "0.0"
        ],
        [
         "14",
         "abrantes",
         "2007-03-01 00:00:00",
         "0.0"
        ],
        [
         "15",
         "abrantes",
         "2007-04-01 00:00:00",
         "0.0"
        ],
        [
         "16",
         "abrantes",
         "2007-05-01 00:00:00",
         "0.9875864313605265"
        ],
        [
         "17",
         "abrantes",
         "2007-06-01 00:00:00",
         "1.6712135890561985"
        ],
        [
         "18",
         "abrantes",
         "2007-07-01 00:00:00",
         "26.769012360771743"
        ],
        [
         "19",
         "abrantes",
         "2007-08-01 00:00:00",
         "24.298865305484"
        ],
        [
         "20",
         "abrantes",
         "2007-09-01 00:00:00",
         "10.663893988597582"
        ],
        [
         "21",
         "abrantes",
         "2007-10-01 00:00:00",
         "0.8828259866251246"
        ],
        [
         "22",
         "abrantes",
         "2007-11-01 00:00:00",
         "14.922516128080424"
        ],
        [
         "23",
         "abrantes",
         "2007-12-01 00:00:00",
         "0.0"
        ],
        [
         "24",
         "abrantes",
         "2008-01-01 00:00:00",
         "0.0"
        ],
        [
         "25",
         "abrantes",
         "2008-02-01 00:00:00",
         "0.0"
        ],
        [
         "26",
         "abrantes",
         "2008-03-01 00:00:00",
         "0.0"
        ],
        [
         "27",
         "abrantes",
         "2008-04-01 00:00:00",
         "1.1054081098820985"
        ],
        [
         "28",
         "abrantes",
         "2008-05-01 00:00:00",
         "0.0"
        ],
        [
         "29",
         "abrantes",
         "2008-06-01 00:00:00",
         "16.366479684901826"
        ],
        [
         "30",
         "abrantes",
         "2008-07-01 00:00:00",
         "28.95034572544211"
        ],
        [
         "31",
         "abrantes",
         "2008-08-01 00:00:00",
         "30.299310714686783"
        ],
        [
         "32",
         "abrantes",
         "2008-09-01 00:00:00",
         "15.651480419958109"
        ],
        [
         "33",
         "abrantes",
         "2008-10-01 00:00:00",
         "4.478754827202938"
        ],
        [
         "34",
         "abrantes",
         "2008-11-01 00:00:00",
         "0.0"
        ],
        [
         "35",
         "abrantes",
         "2008-12-01 00:00:00",
         "0.0"
        ],
        [
         "36",
         "abrantes",
         "2009-01-01 00:00:00",
         "0.0"
        ],
        [
         "37",
         "abrantes",
         "2009-02-01 00:00:00",
         "0.0"
        ],
        [
         "38",
         "abrantes",
         "2009-03-01 00:00:00",
         "4.962759294081581"
        ],
        [
         "39",
         "abrantes",
         "2009-04-01 00:00:00",
         "2.530656281353802"
        ],
        [
         "40",
         "abrantes",
         "2009-05-01 00:00:00",
         "11.598176020170783"
        ],
        [
         "41",
         "abrantes",
         "2009-06-01 00:00:00",
         "15.197552730034117"
        ],
        [
         "42",
         "abrantes",
         "2009-07-01 00:00:00",
         "25.782869772362645"
        ],
        [
         "43",
         "abrantes",
         "2009-08-01 00:00:00",
         "28.987586431360526"
        ],
        [
         "44",
         "abrantes",
         "2009-09-01 00:00:00",
         "22.089344416013198"
        ],
        [
         "45",
         "abrantes",
         "2009-10-01 00:00:00",
         "9.846941641894102"
        ],
        [
         "46",
         "abrantes",
         "2009-11-01 00:00:00",
         "0.0"
        ],
        [
         "47",
         "abrantes",
         "2009-12-01 00:00:00",
         "0.0"
        ],
        [
         "48",
         "abrantes",
         "2010-01-01 00:00:00",
         "0.0"
        ],
        [
         "49",
         "abrantes",
         "2010-02-01 00:00:00",
         "0.0"
        ]
       ],
       "shape": {
        "columns": 3,
        "rows": 53376
       }
      },
      "text/html": [
       "<div>\n",
       "<style scoped>\n",
       "    .dataframe tbody tr th:only-of-type {\n",
       "        vertical-align: middle;\n",
       "    }\n",
       "\n",
       "    .dataframe tbody tr th {\n",
       "        vertical-align: top;\n",
       "    }\n",
       "\n",
       "    .dataframe thead th {\n",
       "        text-align: right;\n",
       "    }\n",
       "</style>\n",
       "<table border=\"1\" class=\"dataframe\">\n",
       "  <thead>\n",
       "    <tr style=\"text-align: right;\">\n",
       "      <th></th>\n",
       "      <th>concelho</th>\n",
       "      <th>time</th>\n",
       "      <th>high_fire_days_wtd</th>\n",
       "    </tr>\n",
       "  </thead>\n",
       "  <tbody>\n",
       "    <tr>\n",
       "      <th>0</th>\n",
       "      <td>abrantes</td>\n",
       "      <td>2006-01-01</td>\n",
       "      <td>0.000000</td>\n",
       "    </tr>\n",
       "    <tr>\n",
       "      <th>1</th>\n",
       "      <td>abrantes</td>\n",
       "      <td>2006-02-01</td>\n",
       "      <td>0.000000</td>\n",
       "    </tr>\n",
       "    <tr>\n",
       "      <th>2</th>\n",
       "      <td>abrantes</td>\n",
       "      <td>2006-03-01</td>\n",
       "      <td>0.000000</td>\n",
       "    </tr>\n",
       "    <tr>\n",
       "      <th>3</th>\n",
       "      <td>abrantes</td>\n",
       "      <td>2006-04-01</td>\n",
       "      <td>0.000000</td>\n",
       "    </tr>\n",
       "    <tr>\n",
       "      <th>4</th>\n",
       "      <td>abrantes</td>\n",
       "      <td>2006-05-01</td>\n",
       "      <td>16.379892</td>\n",
       "    </tr>\n",
       "    <tr>\n",
       "      <th>...</th>\n",
       "      <td>...</td>\n",
       "      <td>...</td>\n",
       "      <td>...</td>\n",
       "    </tr>\n",
       "    <tr>\n",
       "      <th>53371</th>\n",
       "      <td>vouzela</td>\n",
       "      <td>2021-08-01</td>\n",
       "      <td>13.641794</td>\n",
       "    </tr>\n",
       "    <tr>\n",
       "      <th>53372</th>\n",
       "      <td>vouzela</td>\n",
       "      <td>2021-09-01</td>\n",
       "      <td>0.573992</td>\n",
       "    </tr>\n",
       "    <tr>\n",
       "      <th>53373</th>\n",
       "      <td>vouzela</td>\n",
       "      <td>2021-10-01</td>\n",
       "      <td>0.000000</td>\n",
       "    </tr>\n",
       "    <tr>\n",
       "      <th>53374</th>\n",
       "      <td>vouzela</td>\n",
       "      <td>2021-11-01</td>\n",
       "      <td>0.000000</td>\n",
       "    </tr>\n",
       "    <tr>\n",
       "      <th>53375</th>\n",
       "      <td>vouzela</td>\n",
       "      <td>2021-12-01</td>\n",
       "      <td>0.000000</td>\n",
       "    </tr>\n",
       "  </tbody>\n",
       "</table>\n",
       "<p>53376 rows × 3 columns</p>\n",
       "</div>"
      ],
      "text/plain": [
       "       concelho       time  high_fire_days_wtd\n",
       "0      abrantes 2006-01-01            0.000000\n",
       "1      abrantes 2006-02-01            0.000000\n",
       "2      abrantes 2006-03-01            0.000000\n",
       "3      abrantes 2006-04-01            0.000000\n",
       "4      abrantes 2006-05-01           16.379892\n",
       "...         ...        ...                 ...\n",
       "53371   vouzela 2021-08-01           13.641794\n",
       "53372   vouzela 2021-09-01            0.573992\n",
       "53373   vouzela 2021-10-01            0.000000\n",
       "53374   vouzela 2021-11-01            0.000000\n",
       "53375   vouzela 2021-12-01            0.000000\n",
       "\n",
       "[53376 rows x 3 columns]"
      ]
     },
     "execution_count": 20,
     "metadata": {},
     "output_type": "execute_result"
    }
   ],
   "source": [
    "agg_high_fire_df"
   ]
  },
  {
   "cell_type": "markdown",
   "id": "288295db",
   "metadata": {},
   "source": [
    "### Precipitation"
   ]
  },
  {
   "cell_type": "markdown",
   "id": "0b418373",
   "metadata": {},
   "source": [
    "#### Consecutive Dry Days"
   ]
  },
  {
   "cell_type": "code",
   "execution_count": 31,
   "id": "c9f5edb5",
   "metadata": {},
   "outputs": [],
   "source": [
    "cdd_df = pd.read_parquet(r'/Volumes/Dhruv_External_Disk/climate_data/precipitation/dry_days_portugal_1940_2023.parquet')"
   ]
  },
  {
   "cell_type": "code",
   "execution_count": 32,
   "id": "0c799d0a",
   "metadata": {},
   "outputs": [
    {
     "name": "stdout",
     "output_type": "stream",
     "text": [
      "Renaming Columns if needed\n",
      "Filtering the time column if present\n",
      "Creating a GeoDataFrame from the lat/lon points\n"
     ]
    },
    {
     "name": "stderr",
     "output_type": "stream",
     "text": [
      "Creating grid polygons: 100%|██████████| 59976/59976 [00:00<00:00, 62856.60it/s]\n"
     ]
    }
   ],
   "source": [
    "agg_cdd_df = aggregate_to_municipality(cdd_df, mun_gdf, grid_resolution=(0.25, 0.25), time_range=(2006,2022))"
   ]
  },
  {
   "cell_type": "markdown",
   "id": "dad6838a",
   "metadata": {},
   "source": [
    "#### Extreme Precipitation Total"
   ]
  },
  {
   "cell_type": "code",
   "execution_count": 33,
   "id": "d7cf1051",
   "metadata": {},
   "outputs": [],
   "source": [
    "ex_prec_df = pd.read_parquet(r'/Volumes/Dhruv_External_Disk/climate_data/precipitation/extreme_precipitation_portugal_1940_2023.parquet')"
   ]
  },
  {
   "cell_type": "code",
   "execution_count": 34,
   "id": "671fd3b6",
   "metadata": {},
   "outputs": [
    {
     "name": "stdout",
     "output_type": "stream",
     "text": [
      "Renaming Columns if needed\n",
      "Filtering the time column if present\n",
      "Creating a GeoDataFrame from the lat/lon points\n"
     ]
    },
    {
     "name": "stderr",
     "output_type": "stream",
     "text": [
      "Creating grid polygons: 100%|██████████| 59976/59976 [00:01<00:00, 58542.69it/s]\n"
     ]
    }
   ],
   "source": [
    "agg_ex_prec_df = aggregate_to_municipality(ex_prec_df, mun_gdf, grid_resolution=(0.25, 0.25), time_range=(2006,2022))"
   ]
  },
  {
   "cell_type": "markdown",
   "id": "d1f698b7",
   "metadata": {},
   "source": [
    "#### Frequency of Extreme Precipitation"
   ]
  },
  {
   "cell_type": "code",
   "execution_count": 35,
   "id": "bf8a5326",
   "metadata": {},
   "outputs": [],
   "source": [
    "freq_ex_prec_df = pd.read_parquet(r'/Volumes/Dhruv_External_Disk/climate_data/precipitation/frequency_of_extreme_precipitation_portugal_1940_2023.parquet')"
   ]
  },
  {
   "cell_type": "code",
   "execution_count": 36,
   "id": "a747012a",
   "metadata": {},
   "outputs": [
    {
     "name": "stdout",
     "output_type": "stream",
     "text": [
      "Renaming Columns if needed\n",
      "Filtering the time column if present\n",
      "Creating a GeoDataFrame from the lat/lon points\n"
     ]
    },
    {
     "name": "stderr",
     "output_type": "stream",
     "text": [
      "Creating grid polygons:   9%|▉         | 5473/59976 [00:00<00:00, 54728.36it/s]"
     ]
    },
    {
     "name": "stderr",
     "output_type": "stream",
     "text": [
      "Creating grid polygons: 100%|██████████| 59976/59976 [00:01<00:00, 55324.22it/s]\n"
     ]
    }
   ],
   "source": [
    "agg_freq_ex_prec_df = aggregate_to_municipality(freq_ex_prec_df, mun_gdf, grid_resolution=(0.25, 0.25), time_range=(2006,2022))"
   ]
  },
  {
   "cell_type": "markdown",
   "id": "9bbb3430",
   "metadata": {},
   "source": [
    "#### Monthly Historical Deviations"
   ]
  },
  {
   "cell_type": "code",
   "execution_count": 81,
   "id": "d386977f",
   "metadata": {},
   "outputs": [],
   "source": [
    "tp_hd_df = pd.read_parquet(r'/Volumes/Dhruv_External_Disk/climate_data/precipitation/monthly_tp_hd_portugal_2000_2022.parquet')"
   ]
  },
  {
   "cell_type": "code",
   "execution_count": 82,
   "id": "931be890",
   "metadata": {},
   "outputs": [
    {
     "name": "stdout",
     "output_type": "stream",
     "text": [
      "Renaming Columns if needed\n",
      "Filtering the time column if present\n",
      "Creating a GeoDataFrame from the lat/lon points\n"
     ]
    },
    {
     "name": "stderr",
     "output_type": "stream",
     "text": [
      "Creating grid polygons: 100%|██████████| 119952/119952 [00:01<00:00, 62740.37it/s]\n"
     ]
    }
   ],
   "source": [
    "agg_tp_hd_df = aggregate_to_municipality(tp_hd_df, mun_gdf, grid_resolution=(0.25, 0.25), time_range=(2006,2022))"
   ]
  },
  {
   "cell_type": "markdown",
   "id": "975e75cc",
   "metadata": {},
   "source": [
    "#### Monthly Variability"
   ]
  },
  {
   "cell_type": "code",
   "execution_count": 83,
   "id": "ffeac807",
   "metadata": {},
   "outputs": [],
   "source": [
    "tp_std_df_mm_day = pd.read_parquet(r'/Volumes/Dhruv_External_Disk/climate_data/precipitation/monthly_tp_std_portugal_2000_2022.parquet')"
   ]
  },
  {
   "cell_type": "code",
   "execution_count": 84,
   "id": "a526989c",
   "metadata": {},
   "outputs": [
    {
     "name": "stdout",
     "output_type": "stream",
     "text": [
      "Renaming Columns if needed\n",
      "Filtering the time column if present\n",
      "Creating a GeoDataFrame from the lat/lon points\n"
     ]
    },
    {
     "name": "stderr",
     "output_type": "stream",
     "text": [
      "Creating grid polygons: 100%|██████████| 59976/59976 [00:01<00:00, 55056.17it/s]\n"
     ]
    }
   ],
   "source": [
    "agg_tp_std_df_mmday = aggregate_to_municipality(tp_std_df_mm_day, mun_gdf, grid_resolution=(0.25, 0.25), time_range=(2006,2022))"
   ]
  },
  {
   "cell_type": "code",
   "execution_count": 85,
   "id": "02c3fa77",
   "metadata": {},
   "outputs": [],
   "source": [
    "tp_std_df_mm_hour = pd.read_parquet(r'/Volumes/Dhruv_External_Disk/climate_data/precipitation/monthly_tp_std_mmhour_portugal_2000_2022.parquet')"
   ]
  },
  {
   "cell_type": "code",
   "execution_count": 86,
   "id": "4116f7b4",
   "metadata": {},
   "outputs": [
    {
     "name": "stdout",
     "output_type": "stream",
     "text": [
      "Renaming Columns if needed\n",
      "Filtering the time column if present\n",
      "Creating a GeoDataFrame from the lat/lon points\n"
     ]
    },
    {
     "name": "stderr",
     "output_type": "stream",
     "text": [
      "Creating grid polygons:   0%|          | 0/59976 [00:00<?, ?it/s]"
     ]
    },
    {
     "name": "stderr",
     "output_type": "stream",
     "text": [
      "Creating grid polygons: 100%|██████████| 59976/59976 [00:00<00:00, 60062.44it/s]\n"
     ]
    }
   ],
   "source": [
    "agg_tp_std_df_mmhour = aggregate_to_municipality(tp_std_df_mm_hour, mun_gdf, grid_resolution=(0.25, 0.25), time_range=(2006,2022))"
   ]
  },
  {
   "cell_type": "markdown",
   "id": "32a08c35",
   "metadata": {},
   "source": [
    "### Temperature"
   ]
  },
  {
   "cell_type": "markdown",
   "id": "7ecf2a99",
   "metadata": {},
   "source": [
    "#### Frost Days"
   ]
  },
  {
   "cell_type": "code",
   "execution_count": 43,
   "id": "6f5f9d5c",
   "metadata": {},
   "outputs": [],
   "source": [
    "frost_df = pd.read_parquet(r'/Volumes/Dhruv_External_Disk/climate_data/temperature/frost_portugal_1940_2023.parquet')"
   ]
  },
  {
   "cell_type": "code",
   "execution_count": 44,
   "id": "1e1bb233",
   "metadata": {},
   "outputs": [
    {
     "name": "stdout",
     "output_type": "stream",
     "text": [
      "Renaming Columns if needed\n",
      "Filtering the time column if present\n",
      "Creating a GeoDataFrame from the lat/lon points\n"
     ]
    },
    {
     "name": "stderr",
     "output_type": "stream",
     "text": [
      "Creating grid polygons: 100%|██████████| 59976/59976 [00:00<00:00, 66136.55it/s]\n"
     ]
    }
   ],
   "source": [
    "agg_frost_df = aggregate_to_municipality(frost_df, mun_gdf, grid_resolution=(0.25, 0.25), time_range=(2006,2022))"
   ]
  },
  {
   "cell_type": "markdown",
   "id": "84c11b58",
   "metadata": {},
   "source": [
    "#### Heatwaves"
   ]
  },
  {
   "cell_type": "code",
   "execution_count": 45,
   "id": "7423e54d",
   "metadata": {},
   "outputs": [],
   "source": [
    "heatwaves_df = pd.read_parquet(r'/Volumes/Dhruv_External_Disk/climate_data/temperature/heatwaves_portugal_1940_2023.parquet')"
   ]
  },
  {
   "cell_type": "code",
   "execution_count": 46,
   "id": "70518ce3",
   "metadata": {},
   "outputs": [
    {
     "name": "stdout",
     "output_type": "stream",
     "text": [
      "Renaming Columns if needed\n",
      "Filtering the time column if present\n",
      "Creating a GeoDataFrame from the lat/lon points\n"
     ]
    },
    {
     "name": "stderr",
     "output_type": "stream",
     "text": [
      "Creating grid polygons: 100%|██████████| 59976/59976 [00:00<00:00, 66648.89it/s]\n"
     ]
    }
   ],
   "source": [
    "agg_heatwaves_df = aggregate_to_municipality(heatwaves_df, mun_gdf, grid_resolution=(0.25, 0.25), time_range=(2006,2022))"
   ]
  },
  {
   "cell_type": "markdown",
   "id": "46f901f7",
   "metadata": {},
   "source": [
    "#### Hot Days"
   ]
  },
  {
   "cell_type": "code",
   "execution_count": 47,
   "id": "f70f8147",
   "metadata": {},
   "outputs": [],
   "source": [
    "hot_days_df = pd.read_parquet(r'/Volumes/Dhruv_External_Disk/climate_data/temperature/hot_days_portugal_1940_2023.parquet')"
   ]
  },
  {
   "cell_type": "code",
   "execution_count": 48,
   "id": "cb425e12",
   "metadata": {},
   "outputs": [
    {
     "name": "stdout",
     "output_type": "stream",
     "text": [
      "Renaming Columns if needed\n",
      "Filtering the time column if present\n",
      "Creating a GeoDataFrame from the lat/lon points\n"
     ]
    },
    {
     "name": "stderr",
     "output_type": "stream",
     "text": [
      "Creating grid polygons:   0%|          | 0/59976 [00:00<?, ?it/s]"
     ]
    },
    {
     "name": "stderr",
     "output_type": "stream",
     "text": [
      "Creating grid polygons: 100%|██████████| 59976/59976 [00:00<00:00, 63871.92it/s]\n"
     ]
    }
   ],
   "source": [
    "agg_hot_days_df = aggregate_to_municipality(hot_days_df, mun_gdf, grid_resolution=(0.25, 0.25), time_range=(2006,2022))"
   ]
  },
  {
   "cell_type": "markdown",
   "id": "bc3f51ea",
   "metadata": {},
   "source": [
    "#### Tropical Nights"
   ]
  },
  {
   "cell_type": "code",
   "execution_count": 49,
   "id": "17841fea",
   "metadata": {},
   "outputs": [],
   "source": [
    "trop_nights_df = pd.read_parquet(r'/Volumes/Dhruv_External_Disk/climate_data/temperature/tropical_nights_portugal_1940_2023.parquet')"
   ]
  },
  {
   "cell_type": "code",
   "execution_count": 50,
   "id": "015eaea3",
   "metadata": {},
   "outputs": [
    {
     "name": "stdout",
     "output_type": "stream",
     "text": [
      "Renaming Columns if needed\n",
      "Filtering the time column if present\n",
      "Creating a GeoDataFrame from the lat/lon points\n"
     ]
    },
    {
     "name": "stderr",
     "output_type": "stream",
     "text": [
      "Creating grid polygons: 100%|██████████| 59976/59976 [00:00<00:00, 66651.54it/s]\n"
     ]
    }
   ],
   "source": [
    "agg_trop_nights_df = aggregate_to_municipality(trop_nights_df, mun_gdf, grid_resolution=(0.25, 0.25), time_range=(2006,2022))"
   ]
  },
  {
   "cell_type": "markdown",
   "id": "15f1f824",
   "metadata": {},
   "source": [
    "#### High UTCI Days"
   ]
  },
  {
   "cell_type": "code",
   "execution_count": 51,
   "id": "16b8b9d5",
   "metadata": {},
   "outputs": [],
   "source": [
    "utci_df = pd.read_parquet(r'/Volumes/Dhruv_External_Disk/climate_data/temperature/utci_portugal_1940_2023.parquet')\n"
   ]
  },
  {
   "cell_type": "code",
   "execution_count": 52,
   "id": "e73faf65",
   "metadata": {},
   "outputs": [
    {
     "name": "stdout",
     "output_type": "stream",
     "text": [
      "Renaming Columns if needed\n",
      "Filtering the time column if present\n",
      "Creating a GeoDataFrame from the lat/lon points\n"
     ]
    },
    {
     "name": "stderr",
     "output_type": "stream",
     "text": [
      "Creating grid polygons: 100%|██████████| 59976/59976 [00:00<00:00, 63535.04it/s]\n"
     ]
    }
   ],
   "source": [
    "agg_utci_df = aggregate_to_municipality(utci_df, mun_gdf, grid_resolution=(0.25, 0.25), time_range=(2006,2022))"
   ]
  },
  {
   "cell_type": "markdown",
   "id": "baecc6fd",
   "metadata": {},
   "source": [
    "#### Historical Deviations"
   ]
  },
  {
   "cell_type": "code",
   "execution_count": 89,
   "id": "d3432427",
   "metadata": {},
   "outputs": [],
   "source": [
    "t2m_hd_df = pd.read_parquet(r'/Volumes/Dhruv_External_Disk/climate_data/temperature/monthly_t2m_hd_portugal_2000_2022.parquet')"
   ]
  },
  {
   "cell_type": "code",
   "execution_count": 90,
   "id": "074f03b2",
   "metadata": {},
   "outputs": [
    {
     "name": "stdout",
     "output_type": "stream",
     "text": [
      "Renaming Columns if needed\n",
      "Filtering the time column if present\n",
      "Creating a GeoDataFrame from the lat/lon points\n"
     ]
    },
    {
     "name": "stderr",
     "output_type": "stream",
     "text": [
      "Creating grid polygons: 100%|██████████| 119952/119952 [00:02<00:00, 57066.74it/s]\n"
     ]
    }
   ],
   "source": [
    "agg_t2m_hd_df = aggregate_to_municipality(t2m_hd_df, mun_gdf, grid_resolution=(0.25, 0.25), time_range=(2006,2022))"
   ]
  },
  {
   "cell_type": "markdown",
   "id": "281077c8",
   "metadata": {},
   "source": [
    "#### Variability"
   ]
  },
  {
   "cell_type": "code",
   "execution_count": 87,
   "id": "71a91fd6",
   "metadata": {},
   "outputs": [],
   "source": [
    "t2m_std_df = pd.read_parquet(r'/Volumes/Dhruv_External_Disk/climate_data/temperature/monthly_t2m_std_portugal_2000_2022.parquet')"
   ]
  },
  {
   "cell_type": "code",
   "execution_count": 88,
   "id": "e2328284",
   "metadata": {},
   "outputs": [
    {
     "name": "stdout",
     "output_type": "stream",
     "text": [
      "Renaming Columns if needed\n",
      "Filtering the time column if present\n",
      "Creating a GeoDataFrame from the lat/lon points\n"
     ]
    },
    {
     "name": "stderr",
     "output_type": "stream",
     "text": [
      "Creating grid polygons:   0%|          | 0/59976 [00:00<?, ?it/s]"
     ]
    },
    {
     "name": "stderr",
     "output_type": "stream",
     "text": [
      "Creating grid polygons: 100%|██████████| 59976/59976 [00:01<00:00, 59198.19it/s]\n"
     ]
    }
   ],
   "source": [
    "agg_t2m_std_df = aggregate_to_municipality(t2m_std_df, mun_gdf, grid_resolution=(0.25, 0.25), time_range=(2006,2022))"
   ]
  },
  {
   "cell_type": "markdown",
   "id": "9730cfd2",
   "metadata": {},
   "source": [
    "### Merge Variables"
   ]
  },
  {
   "cell_type": "code",
   "execution_count": 91,
   "id": "58a27835",
   "metadata": {},
   "outputs": [],
   "source": [
    "from functools import reduce\n",
    "data_frames = [agg_fwi_df, agg_high_fire_df, \n",
    "               agg_cdd_df, agg_ex_prec_df, agg_freq_ex_prec_df, agg_tp_hd_df, agg_tp_std_df_mmhour,agg_tp_std_df_mmday, \n",
    "               agg_heatwaves_df, agg_hot_days_df,agg_frost_df,  agg_trop_nights_df, agg_utci_df, agg_t2m_hd_df, agg_t2m_std_df]\n",
    "for df in data_frames:\n",
    "    if 'time' in df.columns:\n",
    "        df['time'] = pd.to_datetime(df['time'], errors='coerce').dt.to_period('M').dt.to_timestamp()\n",
    "\n",
    "\n",
    "\n",
    "climate_merged = reduce(lambda left, right: pd.merge(left, right, on=['concelho', 'time'], how='outer'), data_frames)\n"
   ]
  },
  {
   "cell_type": "code",
   "execution_count": 67,
   "id": "9d36f366",
   "metadata": {},
   "outputs": [
    {
     "data": {
      "application/vnd.microsoft.datawrangler.viewer.v0+json": {
       "columns": [
        {
         "name": "index",
         "rawType": "int64",
         "type": "integer"
        },
        {
         "name": "concelho",
         "rawType": "object",
         "type": "string"
        },
        {
         "name": "time",
         "rawType": "datetime64[ns]",
         "type": "datetime"
        },
        {
         "name": "fwi_wtd",
         "rawType": "float64",
         "type": "float"
        },
        {
         "name": "high_fire_days_wtd",
         "rawType": "float64",
         "type": "float"
        },
        {
         "name": "cdd_wtd",
         "rawType": "float64",
         "type": "float"
        },
        {
         "name": "extreme_precipitation_mm_wtd",
         "rawType": "float64",
         "type": "float"
        },
        {
         "name": "frequency_of_extreme_precipitation_wtd",
         "rawType": "float64",
         "type": "float"
        },
        {
         "name": "historical_dev_tp_wtd",
         "rawType": "float64",
         "type": "float"
        },
        {
         "name": "historical_tp_wtd",
         "rawType": "float64",
         "type": "float"
        },
        {
         "name": "tp_wtd",
         "rawType": "float64",
         "type": "float"
        },
        {
         "name": "tp_std_mm_hour_wtd",
         "rawType": "float64",
         "type": "float"
        },
        {
         "name": "tp_std_wtd",
         "rawType": "float64",
         "type": "float"
        },
        {
         "name": "num_heatwaves_wtd",
         "rawType": "float64",
         "type": "float"
        },
        {
         "name": "hot_days_wtd",
         "rawType": "float64",
         "type": "float"
        },
        {
         "name": "frost_days_wtd",
         "rawType": "float64",
         "type": "float"
        },
        {
         "name": "num_tropical_nights_wtd",
         "rawType": "float64",
         "type": "float"
        },
        {
         "name": "high_utci_days_wtd",
         "rawType": "float64",
         "type": "float"
        },
        {
         "name": "historical_dev_t2m_wtd",
         "rawType": "float64",
         "type": "float"
        },
        {
         "name": "historical_t2m_wtd",
         "rawType": "float64",
         "type": "float"
        },
        {
         "name": "t2m_wtd",
         "rawType": "float64",
         "type": "float"
        },
        {
         "name": "t2m_std_wtd",
         "rawType": "float64",
         "type": "float"
        }
       ],
       "ref": "1c67ca2b-1342-4a21-98bf-320700b97a6c",
       "rows": [
        [
         "0",
         "abrantes",
         "2006-01-01 00:00:00",
         "3.060287951385166",
         "0.0",
         "13.0",
         "0.0",
         "0.0",
         null,
         null,
         null,
         null,
         null,
         "0.0",
         "0.0",
         "2.024827137278947",
         "0.0",
         "0.0",
         null,
         null,
         null,
         null
        ],
        [
         "1",
         "abrantes",
         "2006-02-01 00:00:00",
         "3.3492689279177807",
         "0.0",
         "7.9421546565776735",
         "0.0",
         "0.0",
         null,
         null,
         null,
         null,
         null,
         "0.0",
         "0.0",
         "0.336106011402419",
         "0.0",
         "0.0",
         null,
         null,
         null,
         null
        ],
        [
         "2",
         "abrantes",
         "2006-03-01 00:00:00",
         "3.311095202968927",
         "0.0",
         "12.000000000000002",
         "53.215940154111955",
         "2.688721125876528",
         null,
         null,
         null,
         null,
         null,
         "0.0",
         "0.0",
         "0.0",
         "0.0",
         "0.0",
         null,
         null,
         null,
         null
        ],
        [
         "3",
         "abrantes",
         "2006-04-01 00:00:00",
         "8.096713911325729",
         "0.0",
         "7.975172862721053",
         "0.0",
         "0.0",
         null,
         null,
         null,
         null,
         null,
         "0.0",
         "0.0",
         "0.0",
         "0.0",
         "1.5584858787154825",
         null,
         null,
         null,
         null
        ],
        [
         "4",
         "abrantes",
         "2006-05-01 00:00:00",
         "35.93545743792417",
         "16.379891687289938",
         "28.741621013776033",
         "0.0",
         "0.0",
         null,
         null,
         null,
         null,
         null,
         "0.0",
         "7.067519738816982",
         "0.0",
         "3.0000000000000004",
         "10.950345725442105",
         null,
         null,
         null,
         null
        ],
        [
         "5",
         "abrantes",
         "2006-06-01 00:00:00",
         "31.429619051696466",
         "14.547165384425492",
         "13.194104860748595",
         "7.000918294541834",
         "0.3112788741234721",
         null,
         null,
         null,
         null,
         null,
         "0.0",
         "12.054903914233597",
         "0.0",
         "0.0",
         "13.184491496247947",
         null,
         null,
         null,
         null
        ],
        [
         "6",
         "abrantes",
         "2006-07-01 00:00:00",
         "40.943298722668544",
         "28.22302753245976",
         "12.000000000000002",
         "0.0",
         "0.0",
         null,
         null,
         null,
         null,
         null,
         "0.0",
         "22.382044226282062",
         "0.0",
         "8.24720700459201",
         "20.603128763301733",
         null,
         null,
         null,
         null
        ],
        [
         "7",
         "abrantes",
         "2006-08-01 00:00:00",
         "49.50894971687816",
         "27.194104860748595",
         "15.0",
         "0.0",
         "0.0",
         null,
         null,
         null,
         null,
         null,
         "0.0",
         "25.47159089823917",
         "0.0",
         "7.676307557237054",
         "24.184289240304036",
         null,
         null,
         null,
         null
        ],
        [
         "8",
         "abrantes",
         "2006-09-01 00:00:00",
         "32.657008645769125",
         "14.715552289489569",
         "11.518890377861025",
         "31.061912183550874",
         "1.0",
         null,
         null,
         null,
         null,
         null,
         "0.0",
         "11.104558188791493",
         "0.0",
         "1.8341701458158703",
         "12.298865305484",
         null,
         null,
         null,
         null
        ],
        [
         "9",
         "abrantes",
         "2006-10-01 00:00:00",
         "6.010540996884799",
         "0.0",
         "6.181043626962427",
         "111.68204060096679",
         "2.3519674493274123",
         null,
         null,
         null,
         null,
         null,
         "0.0",
         "0.0",
         "0.0",
         "0.0",
         "1.505383734872069",
         null,
         null,
         null,
         null
        ],
        [
         "10",
         "abrantes",
         "2006-11-01 00:00:00",
         "1.4430394783730247",
         "0.0",
         "7.0",
         "66.97127277205853",
         "1.104760444735402",
         null,
         null,
         null,
         null,
         null,
         "0.0",
         "0.0",
         "0.0",
         "0.0",
         "0.0",
         null,
         null,
         null,
         null
        ],
        [
         "11",
         "abrantes",
         "2006-12-01 00:00:00",
         "2.9574932772827975",
         "0.0",
         "22.975172862721056",
         "0.0",
         "0.0",
         null,
         null,
         null,
         null,
         null,
         "0.0",
         "0.0",
         "0.012413568639473455",
         "0.0",
         "0.0",
         null,
         null,
         null,
         null
        ],
        [
         "12",
         "abrantes",
         "2007-01-01 00:00:00",
         "4.2089115342591485",
         "0.0",
         "21.0",
         "0.0",
         "0.0",
         null,
         null,
         null,
         null,
         null,
         "0.0",
         "0.0",
         "0.3519674493274124",
         "0.0",
         "0.0",
         null,
         null,
         null,
         null
        ],
        [
         "13",
         "abrantes",
         "2007-02-01 00:00:00",
         "1.2989805777258392",
         "0.0",
         "6.000000000000001",
         "13.471333976124448",
         "0.5584858787154825",
         null,
         null,
         null,
         null,
         null,
         "0.0",
         "0.0",
         "0.0",
         "0.0",
         "0.0",
         null,
         null,
         null,
         null
        ],
        [
         "14",
         "abrantes",
         "2007-03-01 00:00:00",
         "11.545907749907363",
         "0.0",
         "17.259620573231484",
         "0.0",
         "0.0",
         null,
         null,
         null,
         null,
         null,
         "0.0",
         "0.0",
         "0.0",
         "0.0",
         "0.0",
         null,
         null,
         null,
         null
        ],
        [
         "15",
         "abrantes",
         "2007-04-01 00:00:00",
         "7.997836767781733",
         "0.0",
         "6.000000000000001",
         "0.0",
         "0.0",
         null,
         null,
         null,
         null,
         null,
         "0.0",
         "0.0",
         "0.0",
         "0.0",
         "0.3112788741234721",
         null,
         null,
         null,
         null
        ],
        [
         "16",
         "abrantes",
         "2007-05-01 00:00:00",
         "14.794204384484138",
         "0.9875864313605265",
         "11.44562900571649",
         "10.460917257689642",
         "0.570899447354956",
         null,
         null,
         null,
         null,
         null,
         "0.0",
         "2.9751728627210534",
         "0.0",
         "0.0",
         "4.092346876095928",
         null,
         null,
         null,
         null
        ],
        [
         "17",
         "abrantes",
         "2007-06-01 00:00:00",
         "19.39869372714654",
         "1.6712135890561985",
         "12.104558188791492",
         "15.135394530424382",
         "1.0124135686394735",
         null,
         null,
         null,
         null,
         null,
         "0.0",
         "4.36638504430098",
         "0.0",
         "0.0",
         "4.311278874123472",
         null,
         null,
         null,
         null
        ],
        [
         "18",
         "abrantes",
         "2007-07-01 00:00:00",
         "42.14076335068527",
         "26.769012360771743",
         "16.193964419277975",
         "0.0",
         "0.0",
         null,
         null,
         null,
         null,
         null,
         "0.0",
         "15.344560367104767",
         "0.0",
         "2.3519674493274123",
         "13.965559498220404",
         null,
         null,
         null,
         null
        ],
        [
         "19",
         "abrantes",
         "2007-08-01 00:00:00",
         "42.226645384811576",
         "24.298865305484",
         "14.0",
         "0.0",
         "0.0",
         null,
         null,
         null,
         null,
         null,
         "0.0",
         "14.369185248439804",
         "0.0",
         "1.0531021438434138",
         "15.340464832672552",
         null,
         null,
         null,
         null
        ],
        [
         "20",
         "abrantes",
         "2007-09-01 00:00:00",
         "26.617954991542632",
         "10.663893988597582",
         "9.866964548700132",
         "17.18090980290683",
         "0.6887211258765279",
         null,
         null,
         null,
         null,
         null,
         "0.0",
         "7.987586431360527",
         "0.0",
         "1.9483416991080118",
         "18.859557466477487",
         null,
         null,
         null,
         null
        ],
        [
         "21",
         "abrantes",
         "2007-10-01 00:00:00",
         "17.064101499262428",
         "0.8828259866251246",
         "13.875587550639551",
         "6.606443678073513",
         "0.24720700459201042",
         null,
         null,
         null,
         null,
         null,
         "0.0",
         "0.0",
         "0.0",
         "0.0",
         "0.2065184293880701",
         null,
         null,
         null,
         null
        ],
        [
         "22",
         "abrantes",
         "2007-11-01 00:00:00",
         "25.836062063559154",
         "14.922516128080424",
         "18.0",
         "0.4011653840079472",
         "0.012413568639473455",
         null,
         null,
         null,
         null,
         null,
         "0.0",
         "0.0",
         "0.0",
         "0.0",
         "0.0",
         null,
         null,
         null,
         null
        ],
        [
         "23",
         "abrantes",
         "2007-12-01 00:00:00",
         "8.761989204844497",
         "0.0",
         "17.0",
         "0.0",
         "0.0",
         null,
         null,
         null,
         null,
         null,
         "0.0",
         "0.0",
         "0.012413568639473455",
         "0.0",
         "0.0",
         null,
         null,
         null,
         null
        ],
        [
         "24",
         "abrantes",
         "2008-01-01 00:00:00",
         "3.1117162319283236",
         "0.0",
         "15.0",
         "0.0",
         "0.0",
         null,
         null,
         null,
         null,
         null,
         "0.0",
         "0.0",
         "0.0",
         "0.0",
         "0.0",
         null,
         null,
         null,
         null
        ],
        [
         "25",
         "abrantes",
         "2008-02-01 00:00:00",
         "7.888605219829506",
         "0.0",
         "13.0",
         "5.427786699983459",
         "0.24720700459201042",
         null,
         null,
         null,
         null,
         null,
         "0.0",
         "0.0",
         "0.0",
         "0.0",
         "0.0",
         null,
         null,
         null,
         null
        ],
        [
         "26",
         "abrantes",
         "2008-03-01 00:00:00",
         "9.301490695851328",
         "0.0",
         "9.0",
         "0.0",
         "0.0",
         null,
         null,
         null,
         null,
         null,
         "0.0",
         "0.0",
         "0.0",
         "0.0",
         "0.0",
         null,
         null,
         null,
         null
        ],
        [
         "27",
         "abrantes",
         "2008-04-01 00:00:00",
         "12.34989248374049",
         "1.1054081098820985",
         "9.222379867313064",
         "44.948562806787976",
         "2.024827137278947",
         null,
         null,
         null,
         null,
         null,
         "0.0",
         "2.674863714285629",
         "0.0",
         "0.0",
         "2.546072310076009",
         null,
         null,
         null,
         null
        ],
        [
         "28",
         "abrantes",
         "2008-05-01 00:00:00",
         "9.737578738252386",
         "0.0",
         "6.895239555264598",
         "0.0",
         "0.0",
         null,
         null,
         null,
         null,
         null,
         "0.0",
         "0.0",
         "0.0",
         "0.0",
         "0.6632463234508845",
         null,
         null,
         null,
         null
        ],
        [
         "29",
         "abrantes",
         "2008-06-01 00:00:00",
         "30.56581159188853",
         "16.366479684901826",
         "15.0",
         "0.0",
         "0.0",
         null,
         null,
         null,
         null,
         null,
         "0.0",
         "12.653282190348293",
         "0.0",
         "0.24720700459201042",
         "14.353769219717595",
         null,
         null,
         null,
         null
        ],
        [
         "30",
         "abrantes",
         "2008-07-01 00:00:00",
         "42.38332557035766",
         "28.95034572544211",
         "15.178952118864304",
         "0.0",
         "0.0",
         null,
         null,
         null,
         null,
         null,
         "0.0",
         "13.924021001925857",
         "0.0",
         "1.8463814585114333",
         "13.405576033267618",
         null,
         null,
         null,
         null
        ],
        [
         "31",
         "abrantes",
         "2008-08-01 00:00:00",
         "44.916943450815765",
         "30.299310714686783",
         "18.72333664915073",
         "0.0",
         "0.0",
         null,
         null,
         null,
         null,
         null,
         "0.0",
         "14.835121995115447",
         "0.0",
         "0.0",
         "13.328888339152773",
         null,
         null,
         null,
         null
        ],
        [
         "32",
         "abrantes",
         "2008-09-01 00:00:00",
         "30.06835675500417",
         "15.651480419958109",
         "14.0",
         "0.0",
         "0.0",
         null,
         null,
         null,
         null,
         null,
         "0.0",
         "1.492322501085899",
         "0.0",
         "0.0",
         "7.831876381773839",
         null,
         null,
         null,
         null
        ],
        [
         "33",
         "abrantes",
         "2008-10-01 00:00:00",
         "19.308985880998357",
         "4.478754827202938",
         "8.0",
         "0.0",
         "0.0",
         null,
         null,
         null,
         null,
         null,
         "0.0",
         "0.0",
         "0.0",
         "0.0",
         "0.0",
         null,
         null,
         null,
         null
        ],
        [
         "34",
         "abrantes",
         "2008-11-01 00:00:00",
         "11.745894605128694",
         "0.0",
         "18.961517707074066",
         "0.0",
         "0.0",
         null,
         null,
         null,
         null,
         null,
         "0.0",
         "0.0",
         "0.0",
         "0.0",
         "0.0",
         null,
         null,
         null,
         null
        ],
        [
         "35",
         "abrantes",
         "2008-12-01 00:00:00",
         "2.5354321416792756",
         "0.0",
         "12.000000000000002",
         "0.0",
         "0.0",
         null,
         null,
         null,
         null,
         null,
         "0.0",
         "0.0",
         "0.104760444735402",
         "0.0",
         "0.0",
         null,
         null,
         null,
         null
        ],
        [
         "36",
         "abrantes",
         "2009-01-01 00:00:00",
         "0.6547985984058723",
         "0.0",
         "6.000000000000001",
         "0.0",
         "0.0",
         null,
         null,
         null,
         null,
         null,
         "0.0",
         "0.0",
         "3.0124135686394737",
         "0.0",
         "0.0",
         null,
         null,
         null,
         null
        ],
        [
         "37",
         "abrantes",
         "2009-02-01 00:00:00",
         "4.560933372502408",
         "0.0",
         "17.441514121284516",
         "37.44181982855636",
         "1.0",
         null,
         null,
         null,
         null,
         null,
         "0.0",
         "0.0",
         "0.0",
         "0.0",
         "0.0",
         null,
         null,
         null,
         null
        ],
        [
         "38",
         "abrantes",
         "2009-03-01 00:00:00",
         "20.266676715167378",
         "4.962759294081581",
         "16.987586431360526",
         "0.0",
         "0.0",
         null,
         null,
         null,
         null,
         null,
         "0.0",
         "0.0",
         "0.0",
         "0.0",
         "0.2065184293880701",
         null,
         null,
         null,
         null
        ],
        [
         "39",
         "abrantes",
         "2009-04-01 00:00:00",
         "19.859366844857433",
         "2.530656281353802",
         "11.463784207683517",
         "0.0",
         "0.0",
         null,
         null,
         null,
         null,
         null,
         "0.0",
         "0.0",
         "0.0",
         "0.0",
         "0.2065184293880701",
         null,
         null,
         null,
         null
        ],
        [
         "40",
         "abrantes",
         "2009-05-01 00:00:00",
         "27.924826955644328",
         "11.598176020170783",
         "10.0",
         "0.0",
         "0.0",
         null,
         null,
         null,
         null,
         null,
         "0.0",
         "7.16927772346965",
         "0.0",
         "0.0",
         "7.520597507650367",
         null,
         null,
         null,
         null
        ],
        [
         "41",
         "abrantes",
         "2009-06-01 00:00:00",
         "30.96855493018534",
         "15.197552730034117",
         "10.04760444735402",
         "0.25949995477414906",
         "0.012413568639473455",
         null,
         null,
         null,
         null,
         null,
         "0.0",
         "11.533658741436536",
         "0.0",
         "3.419487188144394",
         "14.274038168205053",
         null,
         null,
         null,
         null
        ],
        [
         "42",
         "abrantes",
         "2009-07-01 00:00:00",
         "41.5190103443694",
         "25.782869772362645",
         "21.0",
         "0.0",
         "0.0",
         null,
         null,
         null,
         null,
         null,
         "0.0",
         "13.905644194015164",
         "0.0",
         "0.0",
         "12.331296877374687",
         null,
         null,
         null,
         null
        ],
        [
         "43",
         "abrantes",
         "2009-08-01 00:00:00",
         "43.95060456230036",
         "28.987586431360526",
         "23.843629439295704",
         "0.0",
         "0.0",
         null,
         null,
         null,
         null,
         null,
         "0.0",
         "23.03007677695465",
         "0.0",
         "5.846381458511433",
         "21.952943673637023",
         null,
         null,
         null,
         null
        ],
        [
         "44",
         "abrantes",
         "2009-09-01 00:00:00",
         "38.300582288348",
         "22.089344416013198",
         "12.813660148912808",
         "0.0",
         "0.0",
         null,
         null,
         null,
         null,
         null,
         "0.0",
         "11.067317482873072",
         "0.0",
         "1.79348157061193",
         "16.391212181579927",
         null,
         null,
         null,
         null
        ],
        [
         "45",
         "abrantes",
         "2009-10-01 00:00:00",
         "24.27685859661372",
         "9.846941641894102",
         "11.75279299540799",
         "0.0",
         "0.0",
         null,
         null,
         null,
         null,
         null,
         "0.0",
         "2.9854949232624044",
         "0.0",
         "0.0",
         "4.698840930473969",
         null,
         null,
         null,
         null
        ],
        [
         "46",
         "abrantes",
         "2009-11-01 00:00:00",
         "11.444688214486238",
         "0.0",
         "11.754884503506112",
         "16.400007997084746",
         "0.4415141212845175",
         null,
         null,
         null,
         null,
         null,
         "0.0",
         "0.0",
         "0.0",
         "0.0",
         "0.0",
         null,
         null,
         null,
         null
        ],
        [
         "47",
         "abrantes",
         "2009-12-01 00:00:00",
         "1.6500495281775995",
         "0.0",
         "8.0",
         "21.05752195742332",
         "0.7011346945160014",
         null,
         null,
         null,
         null,
         null,
         "0.0",
         "0.0",
         "2.0",
         "0.0",
         "0.0",
         null,
         null,
         null,
         null
        ],
        [
         "48",
         "abrantes",
         "2010-01-01 00:00:00",
         "1.7953090632376356",
         "0.0",
         "7.103404083548004",
         "28.575812798539918",
         "1.0",
         "-2.00488221820705",
         "1.999472287531896",
         "4.004354505738946",
         "0.2879872785160321",
         "6.911694790365782",
         "0.0",
         "0.0",
         "1.024827137278947",
         "0.0",
         "0.0",
         "6.169870548014728",
         "288.52975934561886",
         "282.3598887976041",
         "3.100955964098624"
        ],
        [
         "49",
         "abrantes",
         "2010-02-01 00:00:00",
         "1.338549781232555",
         "0.0",
         "2.104760444735402",
         "58.030122129104825",
         "2.4284528874983478",
         "-5.125936110842853",
         "1.999472287531896",
         "7.125408472761536",
         "0.3269301952878938",
         "7.846324909910504",
         "0.0",
         "0.0",
         "0.02482713727894691",
         "0.0",
         "0.0",
         "6.036916912350978",
         "288.52975934561886",
         "282.49284243326787",
         "2.882138059218525"
        ]
       ],
       "shape": {
        "columns": 21,
        "rows": 56712
       }
      },
      "text/html": [
       "<div>\n",
       "<style scoped>\n",
       "    .dataframe tbody tr th:only-of-type {\n",
       "        vertical-align: middle;\n",
       "    }\n",
       "\n",
       "    .dataframe tbody tr th {\n",
       "        vertical-align: top;\n",
       "    }\n",
       "\n",
       "    .dataframe thead th {\n",
       "        text-align: right;\n",
       "    }\n",
       "</style>\n",
       "<table border=\"1\" class=\"dataframe\">\n",
       "  <thead>\n",
       "    <tr style=\"text-align: right;\">\n",
       "      <th></th>\n",
       "      <th>concelho</th>\n",
       "      <th>time</th>\n",
       "      <th>fwi_wtd</th>\n",
       "      <th>high_fire_days_wtd</th>\n",
       "      <th>cdd_wtd</th>\n",
       "      <th>extreme_precipitation_mm_wtd</th>\n",
       "      <th>frequency_of_extreme_precipitation_wtd</th>\n",
       "      <th>historical_dev_tp_wtd</th>\n",
       "      <th>historical_tp_wtd</th>\n",
       "      <th>tp_wtd</th>\n",
       "      <th>...</th>\n",
       "      <th>tp_std_wtd</th>\n",
       "      <th>num_heatwaves_wtd</th>\n",
       "      <th>hot_days_wtd</th>\n",
       "      <th>frost_days_wtd</th>\n",
       "      <th>num_tropical_nights_wtd</th>\n",
       "      <th>high_utci_days_wtd</th>\n",
       "      <th>historical_dev_t2m_wtd</th>\n",
       "      <th>historical_t2m_wtd</th>\n",
       "      <th>t2m_wtd</th>\n",
       "      <th>t2m_std_wtd</th>\n",
       "    </tr>\n",
       "  </thead>\n",
       "  <tbody>\n",
       "    <tr>\n",
       "      <th>0</th>\n",
       "      <td>abrantes</td>\n",
       "      <td>2006-01-01</td>\n",
       "      <td>3.060288</td>\n",
       "      <td>0.000000</td>\n",
       "      <td>13.000000</td>\n",
       "      <td>0.000000</td>\n",
       "      <td>0.000000</td>\n",
       "      <td>NaN</td>\n",
       "      <td>NaN</td>\n",
       "      <td>NaN</td>\n",
       "      <td>...</td>\n",
       "      <td>NaN</td>\n",
       "      <td>0.0</td>\n",
       "      <td>0.000000</td>\n",
       "      <td>2.024827</td>\n",
       "      <td>0.0</td>\n",
       "      <td>0.000000</td>\n",
       "      <td>NaN</td>\n",
       "      <td>NaN</td>\n",
       "      <td>NaN</td>\n",
       "      <td>NaN</td>\n",
       "    </tr>\n",
       "    <tr>\n",
       "      <th>1</th>\n",
       "      <td>abrantes</td>\n",
       "      <td>2006-02-01</td>\n",
       "      <td>3.349269</td>\n",
       "      <td>0.000000</td>\n",
       "      <td>7.942155</td>\n",
       "      <td>0.000000</td>\n",
       "      <td>0.000000</td>\n",
       "      <td>NaN</td>\n",
       "      <td>NaN</td>\n",
       "      <td>NaN</td>\n",
       "      <td>...</td>\n",
       "      <td>NaN</td>\n",
       "      <td>0.0</td>\n",
       "      <td>0.000000</td>\n",
       "      <td>0.336106</td>\n",
       "      <td>0.0</td>\n",
       "      <td>0.000000</td>\n",
       "      <td>NaN</td>\n",
       "      <td>NaN</td>\n",
       "      <td>NaN</td>\n",
       "      <td>NaN</td>\n",
       "    </tr>\n",
       "    <tr>\n",
       "      <th>2</th>\n",
       "      <td>abrantes</td>\n",
       "      <td>2006-03-01</td>\n",
       "      <td>3.311095</td>\n",
       "      <td>0.000000</td>\n",
       "      <td>12.000000</td>\n",
       "      <td>53.215940</td>\n",
       "      <td>2.688721</td>\n",
       "      <td>NaN</td>\n",
       "      <td>NaN</td>\n",
       "      <td>NaN</td>\n",
       "      <td>...</td>\n",
       "      <td>NaN</td>\n",
       "      <td>0.0</td>\n",
       "      <td>0.000000</td>\n",
       "      <td>0.000000</td>\n",
       "      <td>0.0</td>\n",
       "      <td>0.000000</td>\n",
       "      <td>NaN</td>\n",
       "      <td>NaN</td>\n",
       "      <td>NaN</td>\n",
       "      <td>NaN</td>\n",
       "    </tr>\n",
       "    <tr>\n",
       "      <th>3</th>\n",
       "      <td>abrantes</td>\n",
       "      <td>2006-04-01</td>\n",
       "      <td>8.096714</td>\n",
       "      <td>0.000000</td>\n",
       "      <td>7.975173</td>\n",
       "      <td>0.000000</td>\n",
       "      <td>0.000000</td>\n",
       "      <td>NaN</td>\n",
       "      <td>NaN</td>\n",
       "      <td>NaN</td>\n",
       "      <td>...</td>\n",
       "      <td>NaN</td>\n",
       "      <td>0.0</td>\n",
       "      <td>0.000000</td>\n",
       "      <td>0.000000</td>\n",
       "      <td>0.0</td>\n",
       "      <td>1.558486</td>\n",
       "      <td>NaN</td>\n",
       "      <td>NaN</td>\n",
       "      <td>NaN</td>\n",
       "      <td>NaN</td>\n",
       "    </tr>\n",
       "    <tr>\n",
       "      <th>4</th>\n",
       "      <td>abrantes</td>\n",
       "      <td>2006-05-01</td>\n",
       "      <td>35.935457</td>\n",
       "      <td>16.379892</td>\n",
       "      <td>28.741621</td>\n",
       "      <td>0.000000</td>\n",
       "      <td>0.000000</td>\n",
       "      <td>NaN</td>\n",
       "      <td>NaN</td>\n",
       "      <td>NaN</td>\n",
       "      <td>...</td>\n",
       "      <td>NaN</td>\n",
       "      <td>0.0</td>\n",
       "      <td>7.067520</td>\n",
       "      <td>0.000000</td>\n",
       "      <td>3.0</td>\n",
       "      <td>10.950346</td>\n",
       "      <td>NaN</td>\n",
       "      <td>NaN</td>\n",
       "      <td>NaN</td>\n",
       "      <td>NaN</td>\n",
       "    </tr>\n",
       "    <tr>\n",
       "      <th>...</th>\n",
       "      <td>...</td>\n",
       "      <td>...</td>\n",
       "      <td>...</td>\n",
       "      <td>...</td>\n",
       "      <td>...</td>\n",
       "      <td>...</td>\n",
       "      <td>...</td>\n",
       "      <td>...</td>\n",
       "      <td>...</td>\n",
       "      <td>...</td>\n",
       "      <td>...</td>\n",
       "      <td>...</td>\n",
       "      <td>...</td>\n",
       "      <td>...</td>\n",
       "      <td>...</td>\n",
       "      <td>...</td>\n",
       "      <td>...</td>\n",
       "      <td>...</td>\n",
       "      <td>...</td>\n",
       "      <td>...</td>\n",
       "      <td>...</td>\n",
       "    </tr>\n",
       "    <tr>\n",
       "      <th>56707</th>\n",
       "      <td>vouzela</td>\n",
       "      <td>2022-08-01</td>\n",
       "      <td>NaN</td>\n",
       "      <td>NaN</td>\n",
       "      <td>12.960684</td>\n",
       "      <td>0.000000</td>\n",
       "      <td>0.000000</td>\n",
       "      <td>3.930552</td>\n",
       "      <td>4.091546</td>\n",
       "      <td>0.160994</td>\n",
       "      <td>...</td>\n",
       "      <td>0.404607</td>\n",
       "      <td>0.0</td>\n",
       "      <td>9.450770</td>\n",
       "      <td>0.000000</td>\n",
       "      <td>2.0</td>\n",
       "      <td>17.944580</td>\n",
       "      <td>-8.950389</td>\n",
       "      <td>285.973958</td>\n",
       "      <td>294.924347</td>\n",
       "      <td>2.273375</td>\n",
       "    </tr>\n",
       "    <tr>\n",
       "      <th>56708</th>\n",
       "      <td>vouzela</td>\n",
       "      <td>2022-09-01</td>\n",
       "      <td>NaN</td>\n",
       "      <td>NaN</td>\n",
       "      <td>13.000000</td>\n",
       "      <td>53.961794</td>\n",
       "      <td>1.426008</td>\n",
       "      <td>-0.010170</td>\n",
       "      <td>4.091546</td>\n",
       "      <td>4.101716</td>\n",
       "      <td>...</td>\n",
       "      <td>8.885051</td>\n",
       "      <td>0.0</td>\n",
       "      <td>0.067802</td>\n",
       "      <td>0.000000</td>\n",
       "      <td>0.0</td>\n",
       "      <td>2.629413</td>\n",
       "      <td>-5.284650</td>\n",
       "      <td>285.973958</td>\n",
       "      <td>291.258609</td>\n",
       "      <td>2.512689</td>\n",
       "    </tr>\n",
       "    <tr>\n",
       "      <th>56709</th>\n",
       "      <td>vouzela</td>\n",
       "      <td>2022-10-01</td>\n",
       "      <td>NaN</td>\n",
       "      <td>NaN</td>\n",
       "      <td>11.562532</td>\n",
       "      <td>22.613170</td>\n",
       "      <td>0.506191</td>\n",
       "      <td>-4.346351</td>\n",
       "      <td>4.091546</td>\n",
       "      <td>8.437898</td>\n",
       "      <td>...</td>\n",
       "      <td>13.121395</td>\n",
       "      <td>0.0</td>\n",
       "      <td>0.000000</td>\n",
       "      <td>0.000000</td>\n",
       "      <td>0.0</td>\n",
       "      <td>0.135603</td>\n",
       "      <td>-3.686146</td>\n",
       "      <td>285.973958</td>\n",
       "      <td>289.660104</td>\n",
       "      <td>1.635368</td>\n",
       "    </tr>\n",
       "    <tr>\n",
       "      <th>56710</th>\n",
       "      <td>vouzela</td>\n",
       "      <td>2022-11-01</td>\n",
       "      <td>NaN</td>\n",
       "      <td>NaN</td>\n",
       "      <td>3.000000</td>\n",
       "      <td>21.449835</td>\n",
       "      <td>0.493809</td>\n",
       "      <td>-5.374428</td>\n",
       "      <td>4.091546</td>\n",
       "      <td>9.465974</td>\n",
       "      <td>...</td>\n",
       "      <td>11.001632</td>\n",
       "      <td>0.0</td>\n",
       "      <td>0.000000</td>\n",
       "      <td>0.000000</td>\n",
       "      <td>0.0</td>\n",
       "      <td>0.000000</td>\n",
       "      <td>1.603954</td>\n",
       "      <td>285.973958</td>\n",
       "      <td>284.370004</td>\n",
       "      <td>2.252294</td>\n",
       "    </tr>\n",
       "    <tr>\n",
       "      <th>56711</th>\n",
       "      <td>vouzela</td>\n",
       "      <td>2022-12-01</td>\n",
       "      <td>NaN</td>\n",
       "      <td>NaN</td>\n",
       "      <td>3.000000</td>\n",
       "      <td>82.345254</td>\n",
       "      <td>1.506191</td>\n",
       "      <td>-8.240106</td>\n",
       "      <td>4.091546</td>\n",
       "      <td>12.331652</td>\n",
       "      <td>...</td>\n",
       "      <td>14.346419</td>\n",
       "      <td>0.0</td>\n",
       "      <td>0.000000</td>\n",
       "      <td>0.000000</td>\n",
       "      <td>0.0</td>\n",
       "      <td>0.000000</td>\n",
       "      <td>1.854235</td>\n",
       "      <td>285.973958</td>\n",
       "      <td>284.119724</td>\n",
       "      <td>2.217982</td>\n",
       "    </tr>\n",
       "  </tbody>\n",
       "</table>\n",
       "<p>56712 rows × 21 columns</p>\n",
       "</div>"
      ],
      "text/plain": [
       "       concelho       time    fwi_wtd  high_fire_days_wtd    cdd_wtd  \\\n",
       "0      abrantes 2006-01-01   3.060288            0.000000  13.000000   \n",
       "1      abrantes 2006-02-01   3.349269            0.000000   7.942155   \n",
       "2      abrantes 2006-03-01   3.311095            0.000000  12.000000   \n",
       "3      abrantes 2006-04-01   8.096714            0.000000   7.975173   \n",
       "4      abrantes 2006-05-01  35.935457           16.379892  28.741621   \n",
       "...         ...        ...        ...                 ...        ...   \n",
       "56707   vouzela 2022-08-01        NaN                 NaN  12.960684   \n",
       "56708   vouzela 2022-09-01        NaN                 NaN  13.000000   \n",
       "56709   vouzela 2022-10-01        NaN                 NaN  11.562532   \n",
       "56710   vouzela 2022-11-01        NaN                 NaN   3.000000   \n",
       "56711   vouzela 2022-12-01        NaN                 NaN   3.000000   \n",
       "\n",
       "       extreme_precipitation_mm_wtd  frequency_of_extreme_precipitation_wtd  \\\n",
       "0                          0.000000                                0.000000   \n",
       "1                          0.000000                                0.000000   \n",
       "2                         53.215940                                2.688721   \n",
       "3                          0.000000                                0.000000   \n",
       "4                          0.000000                                0.000000   \n",
       "...                             ...                                     ...   \n",
       "56707                      0.000000                                0.000000   \n",
       "56708                     53.961794                                1.426008   \n",
       "56709                     22.613170                                0.506191   \n",
       "56710                     21.449835                                0.493809   \n",
       "56711                     82.345254                                1.506191   \n",
       "\n",
       "       historical_dev_tp_wtd  historical_tp_wtd     tp_wtd  ...  tp_std_wtd  \\\n",
       "0                        NaN                NaN        NaN  ...         NaN   \n",
       "1                        NaN                NaN        NaN  ...         NaN   \n",
       "2                        NaN                NaN        NaN  ...         NaN   \n",
       "3                        NaN                NaN        NaN  ...         NaN   \n",
       "4                        NaN                NaN        NaN  ...         NaN   \n",
       "...                      ...                ...        ...  ...         ...   \n",
       "56707               3.930552           4.091546   0.160994  ...    0.404607   \n",
       "56708              -0.010170           4.091546   4.101716  ...    8.885051   \n",
       "56709              -4.346351           4.091546   8.437898  ...   13.121395   \n",
       "56710              -5.374428           4.091546   9.465974  ...   11.001632   \n",
       "56711              -8.240106           4.091546  12.331652  ...   14.346419   \n",
       "\n",
       "       num_heatwaves_wtd  hot_days_wtd  frost_days_wtd  \\\n",
       "0                    0.0      0.000000        2.024827   \n",
       "1                    0.0      0.000000        0.336106   \n",
       "2                    0.0      0.000000        0.000000   \n",
       "3                    0.0      0.000000        0.000000   \n",
       "4                    0.0      7.067520        0.000000   \n",
       "...                  ...           ...             ...   \n",
       "56707                0.0      9.450770        0.000000   \n",
       "56708                0.0      0.067802        0.000000   \n",
       "56709                0.0      0.000000        0.000000   \n",
       "56710                0.0      0.000000        0.000000   \n",
       "56711                0.0      0.000000        0.000000   \n",
       "\n",
       "       num_tropical_nights_wtd  high_utci_days_wtd  historical_dev_t2m_wtd  \\\n",
       "0                          0.0            0.000000                     NaN   \n",
       "1                          0.0            0.000000                     NaN   \n",
       "2                          0.0            0.000000                     NaN   \n",
       "3                          0.0            1.558486                     NaN   \n",
       "4                          3.0           10.950346                     NaN   \n",
       "...                        ...                 ...                     ...   \n",
       "56707                      2.0           17.944580               -8.950389   \n",
       "56708                      0.0            2.629413               -5.284650   \n",
       "56709                      0.0            0.135603               -3.686146   \n",
       "56710                      0.0            0.000000                1.603954   \n",
       "56711                      0.0            0.000000                1.854235   \n",
       "\n",
       "       historical_t2m_wtd     t2m_wtd  t2m_std_wtd  \n",
       "0                     NaN         NaN          NaN  \n",
       "1                     NaN         NaN          NaN  \n",
       "2                     NaN         NaN          NaN  \n",
       "3                     NaN         NaN          NaN  \n",
       "4                     NaN         NaN          NaN  \n",
       "...                   ...         ...          ...  \n",
       "56707          285.973958  294.924347     2.273375  \n",
       "56708          285.973958  291.258609     2.512689  \n",
       "56709          285.973958  289.660104     1.635368  \n",
       "56710          285.973958  284.370004     2.252294  \n",
       "56711          285.973958  284.119724     2.217982  \n",
       "\n",
       "[56712 rows x 21 columns]"
      ]
     },
     "execution_count": 67,
     "metadata": {},
     "output_type": "execute_result"
    }
   ],
   "source": [
    "climate_merged"
   ]
  },
  {
   "cell_type": "markdown",
   "id": "7009ab53",
   "metadata": {},
   "source": [
    "### NAN Tests"
   ]
  },
  {
   "cell_type": "code",
   "execution_count": 92,
   "id": "96aa9442",
   "metadata": {},
   "outputs": [
    {
     "data": {
      "application/vnd.microsoft.datawrangler.viewer.v0+json": {
       "columns": [
        {
         "name": "index",
         "rawType": "int64",
         "type": "integer"
        },
        {
         "name": "var",
         "rawType": "object",
         "type": "string"
        },
        {
         "name": "nan_count",
         "rawType": "int64",
         "type": "integer"
        }
       ],
       "ref": "59f88cd2-697b-47ef-a59e-0becc1587390",
       "rows": [
        [
         "0",
         "fwi_wtd",
         "12"
        ],
        [
         "1",
         "high_fire_days_wtd",
         "12"
        ],
        [
         "2",
         "cdd_wtd",
         "0"
        ],
        [
         "3",
         "extreme_precipitation_mm_wtd",
         "0"
        ],
        [
         "4",
         "frequency_of_extreme_precipitation_wtd",
         "0"
        ],
        [
         "5",
         "tp_hd_wtd",
         "0"
        ],
        [
         "6",
         "tp_std_mm_hour_wtd",
         "0"
        ],
        [
         "7",
         "tp_std_wtd",
         "0"
        ],
        [
         "8",
         "num_heatwaves_wtd",
         "0"
        ],
        [
         "9",
         "hot_days_wtd",
         "0"
        ],
        [
         "10",
         "frost_days_wtd",
         "0"
        ],
        [
         "11",
         "num_tropical_nights_wtd",
         "0"
        ],
        [
         "12",
         "high_utci_days_wtd",
         "0"
        ],
        [
         "13",
         "t2m_hd_wtd",
         "0"
        ],
        [
         "14",
         "t2m_std_wtd",
         "0"
        ]
       ],
       "shape": {
        "columns": 2,
        "rows": 15
       }
      },
      "text/html": [
       "<div>\n",
       "<style scoped>\n",
       "    .dataframe tbody tr th:only-of-type {\n",
       "        vertical-align: middle;\n",
       "    }\n",
       "\n",
       "    .dataframe tbody tr th {\n",
       "        vertical-align: top;\n",
       "    }\n",
       "\n",
       "    .dataframe thead th {\n",
       "        text-align: right;\n",
       "    }\n",
       "</style>\n",
       "<table border=\"1\" class=\"dataframe\">\n",
       "  <thead>\n",
       "    <tr style=\"text-align: right;\">\n",
       "      <th></th>\n",
       "      <th>var</th>\n",
       "      <th>nan_count</th>\n",
       "    </tr>\n",
       "  </thead>\n",
       "  <tbody>\n",
       "    <tr>\n",
       "      <th>0</th>\n",
       "      <td>fwi_wtd</td>\n",
       "      <td>12</td>\n",
       "    </tr>\n",
       "    <tr>\n",
       "      <th>1</th>\n",
       "      <td>high_fire_days_wtd</td>\n",
       "      <td>12</td>\n",
       "    </tr>\n",
       "    <tr>\n",
       "      <th>2</th>\n",
       "      <td>cdd_wtd</td>\n",
       "      <td>0</td>\n",
       "    </tr>\n",
       "    <tr>\n",
       "      <th>3</th>\n",
       "      <td>extreme_precipitation_mm_wtd</td>\n",
       "      <td>0</td>\n",
       "    </tr>\n",
       "    <tr>\n",
       "      <th>4</th>\n",
       "      <td>frequency_of_extreme_precipitation_wtd</td>\n",
       "      <td>0</td>\n",
       "    </tr>\n",
       "    <tr>\n",
       "      <th>5</th>\n",
       "      <td>tp_hd_wtd</td>\n",
       "      <td>0</td>\n",
       "    </tr>\n",
       "    <tr>\n",
       "      <th>6</th>\n",
       "      <td>tp_std_mm_hour_wtd</td>\n",
       "      <td>0</td>\n",
       "    </tr>\n",
       "    <tr>\n",
       "      <th>7</th>\n",
       "      <td>tp_std_wtd</td>\n",
       "      <td>0</td>\n",
       "    </tr>\n",
       "    <tr>\n",
       "      <th>8</th>\n",
       "      <td>num_heatwaves_wtd</td>\n",
       "      <td>0</td>\n",
       "    </tr>\n",
       "    <tr>\n",
       "      <th>9</th>\n",
       "      <td>hot_days_wtd</td>\n",
       "      <td>0</td>\n",
       "    </tr>\n",
       "    <tr>\n",
       "      <th>10</th>\n",
       "      <td>frost_days_wtd</td>\n",
       "      <td>0</td>\n",
       "    </tr>\n",
       "    <tr>\n",
       "      <th>11</th>\n",
       "      <td>num_tropical_nights_wtd</td>\n",
       "      <td>0</td>\n",
       "    </tr>\n",
       "    <tr>\n",
       "      <th>12</th>\n",
       "      <td>high_utci_days_wtd</td>\n",
       "      <td>0</td>\n",
       "    </tr>\n",
       "    <tr>\n",
       "      <th>13</th>\n",
       "      <td>t2m_hd_wtd</td>\n",
       "      <td>0</td>\n",
       "    </tr>\n",
       "    <tr>\n",
       "      <th>14</th>\n",
       "      <td>t2m_std_wtd</td>\n",
       "      <td>0</td>\n",
       "    </tr>\n",
       "  </tbody>\n",
       "</table>\n",
       "</div>"
      ],
      "text/plain": [
       "                                       var  nan_count\n",
       "0                                  fwi_wtd         12\n",
       "1                       high_fire_days_wtd         12\n",
       "2                                  cdd_wtd          0\n",
       "3             extreme_precipitation_mm_wtd          0\n",
       "4   frequency_of_extreme_precipitation_wtd          0\n",
       "5                                tp_hd_wtd          0\n",
       "6                       tp_std_mm_hour_wtd          0\n",
       "7                               tp_std_wtd          0\n",
       "8                        num_heatwaves_wtd          0\n",
       "9                             hot_days_wtd          0\n",
       "10                          frost_days_wtd          0\n",
       "11                 num_tropical_nights_wtd          0\n",
       "12                      high_utci_days_wtd          0\n",
       "13                              t2m_hd_wtd          0\n",
       "14                             t2m_std_wtd          0"
      ]
     },
     "execution_count": 92,
     "metadata": {},
     "output_type": "execute_result"
    }
   ],
   "source": [
    "\n",
    "na_counts = {}\n",
    "for col in [col for col in climate_merged.columns if col not in ('concelho', 'time')]:\n",
    "    na_counts_df = (\n",
    "        climate_merged\n",
    "        .groupby('concelho')[col]\n",
    "        .apply(lambda group: group.isna().sum())\n",
    "        .reset_index()\n",
    "    )\n",
    "    na_counts[col] = na_counts_df[col].max()\n",
    "pd.DataFrame({'var' : na_counts.keys(), 'nan_count': na_counts.values()})"
   ]
  },
  {
   "cell_type": "code",
   "execution_count": 93,
   "id": "92c0c2d7",
   "metadata": {},
   "outputs": [],
   "source": [
    "climate_merged.to_excel(r'../../../../../portugal/purchases_paper/datasets/climate_mun.xlsx')"
   ]
  },
  {
   "cell_type": "code",
   "execution_count": null,
   "id": "e98c8c8e",
   "metadata": {},
   "outputs": [],
   "source": []
  }
 ],
 "metadata": {
  "kernelspec": {
   "display_name": "Python 3",
   "language": "python",
   "name": "python3"
  },
  "language_info": {
   "codemirror_mode": {
    "name": "ipython",
    "version": 3
   },
   "file_extension": ".py",
   "mimetype": "text/x-python",
   "name": "python",
   "nbconvert_exporter": "python",
   "pygments_lexer": "ipython3",
   "version": "3.12.5"
  }
 },
 "nbformat": 4,
 "nbformat_minor": 5
}
