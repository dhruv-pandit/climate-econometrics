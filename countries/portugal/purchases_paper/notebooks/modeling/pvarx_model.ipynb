{
 "cells": [
  {
   "cell_type": "code",
   "execution_count": 1,
   "id": "3851c4cf",
   "metadata": {
    "vscode": {
     "languageId": "r"
    }
   },
   "outputs": [
    {
     "name": "stderr",
     "output_type": "stream",
     "text": [
      "-- \u001b[1mAttaching core tidyverse packages\u001b[22m ------------------------ tidyverse 2.0.0 --\n",
      "\u001b[32mv\u001b[39m \u001b[34mdplyr    \u001b[39m 1.1.4     \u001b[32mv\u001b[39m \u001b[34mreadr    \u001b[39m 2.1.5\n",
      "\u001b[32mv\u001b[39m \u001b[34mforcats  \u001b[39m 1.0.0     \u001b[32mv\u001b[39m \u001b[34mstringr  \u001b[39m 1.5.1\n",
      "\u001b[32mv\u001b[39m \u001b[34mggplot2  \u001b[39m 3.5.1     \u001b[32mv\u001b[39m \u001b[34mtibble   \u001b[39m 3.2.1\n",
      "\u001b[32mv\u001b[39m \u001b[34mlubridate\u001b[39m 1.9.3     \u001b[32mv\u001b[39m \u001b[34mtidyr    \u001b[39m 1.3.1\n",
      "\u001b[32mv\u001b[39m \u001b[34mpurrr    \u001b[39m 1.0.2     \n",
      "-- \u001b[1mConflicts\u001b[22m ------------------------------------------ tidyverse_conflicts() --\n",
      "\u001b[31mx\u001b[39m \u001b[34mdplyr\u001b[39m::\u001b[32mfilter()\u001b[39m masks \u001b[34mstats\u001b[39m::filter()\n",
      "\u001b[31mx\u001b[39m \u001b[34mdplyr\u001b[39m::\u001b[32mlag()\u001b[39m    masks \u001b[34mstats\u001b[39m::lag()\n",
      "\u001b[36mi\u001b[39m Use the conflicted package (\u001b[3m\u001b[34m<http://conflicted.r-lib.org/>\u001b[39m\u001b[23m) to force all conflicts to become errors\n",
      "\n",
      "Attaching package: 'plm'\n",
      "\n",
      "\n",
      "The following objects are masked from 'package:dplyr':\n",
      "\n",
      "    between, lag, lead\n",
      "\n",
      "\n",
      "Registered S3 method overwritten by 'tsibble':\n",
      "  method               from \n",
      "  as_tibble.grouped_df dplyr\n",
      "\n",
      "\n",
      "Attaching package: 'tsibble'\n",
      "\n",
      "\n",
      "The following object is masked from 'package:plm':\n",
      "\n",
      "    index\n",
      "\n",
      "\n",
      "The following object is masked from 'package:lubridate':\n",
      "\n",
      "    interval\n",
      "\n",
      "\n",
      "The following objects are masked from 'package:base':\n",
      "\n",
      "    intersect, setdiff, union\n",
      "\n",
      "\n",
      "-- \u001b[1mAttaching packages\u001b[22m -------------------------------------------- fpp3 1.0.0 --\n",
      "\n",
      "\u001b[32mv\u001b[39m \u001b[34mtsibbledata\u001b[39m 0.4.1     \u001b[32mv\u001b[39m \u001b[34mfable      \u001b[39m 0.3.4\n",
      "\u001b[32mv\u001b[39m \u001b[34mfeasts     \u001b[39m 0.3.2     \u001b[32mv\u001b[39m \u001b[34mfabletools \u001b[39m 0.4.2\n",
      "\n",
      "-- \u001b[1mConflicts\u001b[22m ------------------------------------------------- fpp3_conflicts --\n",
      "\u001b[31mx\u001b[39m \u001b[34mplm\u001b[39m::\u001b[32mbetween()\u001b[39m       masks \u001b[34mdplyr\u001b[39m::between()\n",
      "\u001b[31mx\u001b[39m \u001b[34mlubridate\u001b[39m::\u001b[32mdate()\u001b[39m    masks \u001b[34mbase\u001b[39m::date()\n",
      "\u001b[31mx\u001b[39m \u001b[34mdplyr\u001b[39m::\u001b[32mfilter()\u001b[39m      masks \u001b[34mstats\u001b[39m::filter()\n",
      "\u001b[31mx\u001b[39m \u001b[34mtsibble\u001b[39m::\u001b[32mindex()\u001b[39m     masks \u001b[34mplm\u001b[39m::index()\n",
      "\u001b[31mx\u001b[39m \u001b[34mtsibble\u001b[39m::\u001b[32mintersect()\u001b[39m masks \u001b[34mbase\u001b[39m::intersect()\n",
      "\u001b[31mx\u001b[39m \u001b[34mtsibble\u001b[39m::\u001b[32minterval()\u001b[39m  masks \u001b[34mlubridate\u001b[39m::interval()\n",
      "\u001b[31mx\u001b[39m \u001b[34mplm\u001b[39m::\u001b[32mlag()\u001b[39m           masks \u001b[34mdplyr\u001b[39m::lag(), \u001b[34mstats\u001b[39m::lag()\n",
      "\u001b[31mx\u001b[39m \u001b[34mplm\u001b[39m::\u001b[32mlead()\u001b[39m          masks \u001b[34mdplyr\u001b[39m::lead()\n",
      "\u001b[31mx\u001b[39m \u001b[34mtsibble\u001b[39m::\u001b[32msetdiff()\u001b[39m   masks \u001b[34mbase\u001b[39m::setdiff()\n",
      "\u001b[31mx\u001b[39m \u001b[34mtsibble\u001b[39m::\u001b[32munion()\u001b[39m     masks \u001b[34mbase\u001b[39m::union()\n",
      "\n",
      "Welcome to panelvar! Please cite our package in your publications -- see citation(\"panelvar\")\n",
      "\n",
      "\n",
      "Attaching package: 'panelvar'\n",
      "\n",
      "\n",
      "The following object is masked from 'package:tidyr':\n",
      "\n",
      "    extract\n",
      "\n",
      "\n"
     ]
    }
   ],
   "source": [
    "library(readxl)\n",
    "library(tidyverse)\n",
    "library(writexl)\n",
    "library(plm)\n",
    "library(dplyr)\n",
    "library(tsibble)\n",
    "library(fpp3)\n",
    "library(panelvar)\n",
    "library(lpirfs)"
   ]
  },
  {
   "cell_type": "code",
   "execution_count": 37,
   "id": "246acb9d",
   "metadata": {
    "vscode": {
     "languageId": "r"
    }
   },
   "outputs": [],
   "source": [
    "library(arrow)\n",
    "\n",
    "# Read the Parquet file\n",
    "quart_df <- read_parquet(\"/Users/dhruvnovaims/Library/Mobile Documents/com~apple~CloudDocs/Documents/GitHub/climate-econometrics/countries/portugal/purchases_paper/datasets/final_data_mun.parquet\")\n",
    "\n"
   ]
  },
  {
   "cell_type": "code",
   "execution_count": 15,
   "id": "b1af67a6",
   "metadata": {
    "vscode": {
     "languageId": "r"
    }
   },
   "outputs": [],
   "source": [
    "df_ts_series <- quart_df  %>% \n",
    "    mutate(time = yearquarter(time)) \n",
    "# %>% \n",
    "#     select(time, concelho, hpi_log_L1, ur_L1, purchases_log_L1,\n",
    "#        fwi, high_fire_days,  historical_dev_tp,\n",
    "#        tp_std_mm_hour, \n",
    "#        historical_dev_t2m, t2m_std, tp_2,\n",
    "#        tp_3, t2m_2, t2m_3, Medit_factor_tp, Medit_factor_t2m,\n",
    "#        CCA_2)\n",
    "\n",
    "# df_ts_count <- quart_df  %>% \n",
    "#     mutate(time = yearquarter(time)) %>% \n",
    "#     select(time, concelho, hpi_log_L1, ur_L1, purchases_log_L1,\n",
    "#        fwi, high_fire_days, cdd, extreme_precipitation_mm,\n",
    "#        frequency_of_extreme_precipitation,num_heatwaves,\n",
    "#        hot_days, num_tropical_nights, frost_days,\n",
    "#        tp_2,\n",
    "#        tp_3, t2m_2, t2m_3, Medit_factor_tp, Medit_factor_t2m,\n",
    "#        CCA_2)\n"
   ]
  },
  {
   "cell_type": "code",
   "execution_count": 16,
   "id": "c09eef6a",
   "metadata": {
    "vscode": {
     "languageId": "r"
    }
   },
   "outputs": [],
   "source": [
    "# Step 1: Create linear trends that are specific to each municipality\n",
    "df_ts_series <- df_ts_series %>%\n",
    "  group_by(CCA_2) %>%\n",
    "  mutate(Linear_Trend = row_number())  # Creates a linear trend for each municipality\n",
    "\n",
    "# # Step 2: Create quadratic trends that are specific to each municipality\n",
    "# df_ts_series <- df_ts_series %>%\n",
    "#   mutate(Quadratic_Trend = Linear_Trend^2)  # Quadratic trend is square of linear trend\n"
   ]
  },
  {
   "cell_type": "code",
   "execution_count": 5,
   "id": "e1801abb",
   "metadata": {
    "vscode": {
     "languageId": "r"
    }
   },
   "outputs": [],
   "source": [
    "# # Step 1: Create linear trends that are specific to each municipality\n",
    "# df_ts_count <- df_ts_count %>%\n",
    "#   group_by(CCA_2) %>%\n",
    "#   mutate(Linear_Trend = row_number())  # Creates a linear trend for each municipality\n",
    "\n",
    "# # Step 2: Create quadratic trends that are specific to each municipality\n",
    "# df_ts_count <- df_ts_count %>%\n",
    "#   mutate(Quadratic_Trend = Linear_Trend^2)  # Quadratic trend is square of linear trend\n"
   ]
  },
  {
   "cell_type": "code",
   "execution_count": 6,
   "id": "05bef62f",
   "metadata": {
    "vscode": {
     "languageId": "r"
    }
   },
   "outputs": [],
   "source": [
    "df_ts_series_as_dataframe <- as.data.frame(df_ts_series)"
   ]
  },
  {
   "cell_type": "markdown",
   "id": "b93028d8",
   "metadata": {},
   "source": [
    "## AIC Lag Selection"
   ]
  },
  {
   "cell_type": "code",
   "execution_count": 22,
   "id": "2b5801f0",
   "metadata": {
    "vscode": {
     "languageId": "r"
    }
   },
   "outputs": [
    {
     "name": "stdout",
     "output_type": "stream",
     "text": [
      "\u001b[90m# A tibble: 12 x 3\u001b[39m\n",
      "    lags      AIC  Delta\n",
      "   \u001b[3m\u001b[90m<int>\u001b[39m\u001b[23m    \u001b[3m\u001b[90m<dbl>\u001b[39m\u001b[23m  \u001b[3m\u001b[90m<dbl>\u001b[39m\u001b[23m\n",
      "\u001b[90m 1\u001b[39m     1 -\u001b[31m\u001b[4m1\u001b[24m\u001b[4m5\u001b[24m\u001b[4m3\u001b[24m\u001b[39m\u001b[31m317\u001b[39m\u001b[31m.\u001b[39m     0 \n",
      "\u001b[90m 2\u001b[39m     2 -\u001b[31m\u001b[4m1\u001b[24m\u001b[4m5\u001b[24m\u001b[4m0\u001b[24m\u001b[39m\u001b[31m832\u001b[39m\u001b[31m.\u001b[39m  \u001b[4m2\u001b[24m484.\n",
      "\u001b[90m 3\u001b[39m     3 -\u001b[31m\u001b[4m1\u001b[24m\u001b[4m4\u001b[24m\u001b[4m7\u001b[24m\u001b[39m\u001b[31m936\u001b[39m\u001b[31m.\u001b[39m  \u001b[4m5\u001b[24m380.\n",
      "\u001b[90m 4\u001b[39m     4 -\u001b[31m\u001b[4m1\u001b[24m\u001b[4m4\u001b[24m\u001b[4m2\u001b[24m\u001b[39m\u001b[31m739\u001b[39m\u001b[31m.\u001b[39m \u001b[4m1\u001b[24m\u001b[4m0\u001b[24m578.\n",
      "\u001b[90m 5\u001b[39m     5 -\u001b[31m\u001b[4m1\u001b[24m\u001b[4m3\u001b[24m\u001b[4m5\u001b[24m\u001b[39m\u001b[31m074\u001b[39m\u001b[31m.\u001b[39m \u001b[4m1\u001b[24m\u001b[4m8\u001b[24m243.\n",
      "\u001b[90m 6\u001b[39m     6 -\u001b[31m\u001b[4m1\u001b[24m\u001b[4m2\u001b[24m\u001b[4m8\u001b[24m\u001b[39m\u001b[31m231\u001b[39m\u001b[31m.\u001b[39m \u001b[4m2\u001b[24m\u001b[4m5\u001b[24m086.\n",
      "\u001b[90m 7\u001b[39m     7 -\u001b[31m\u001b[4m1\u001b[24m\u001b[4m2\u001b[24m\u001b[4m1\u001b[24m\u001b[39m\u001b[31m682\u001b[39m\u001b[31m.\u001b[39m \u001b[4m3\u001b[24m\u001b[4m1\u001b[24m635.\n",
      "\u001b[90m 8\u001b[39m     8 -\u001b[31m\u001b[4m1\u001b[24m\u001b[4m1\u001b[24m\u001b[4m6\u001b[24m\u001b[39m\u001b[31m087\u001b[39m\u001b[31m.\u001b[39m \u001b[4m3\u001b[24m\u001b[4m7\u001b[24m229.\n",
      "\u001b[90m 9\u001b[39m     9 -\u001b[31m\u001b[4m1\u001b[24m\u001b[4m0\u001b[24m\u001b[4m8\u001b[24m\u001b[39m\u001b[31m877\u001b[39m\u001b[31m.\u001b[39m \u001b[4m4\u001b[24m\u001b[4m4\u001b[24m439.\n",
      "\u001b[90m10\u001b[39m    10 -\u001b[31m\u001b[4m1\u001b[24m\u001b[4m0\u001b[24m\u001b[4m0\u001b[24m\u001b[39m\u001b[31m049\u001b[39m\u001b[31m.\u001b[39m \u001b[4m5\u001b[24m\u001b[4m3\u001b[24m267.\n",
      "\u001b[90m11\u001b[39m    11  -\u001b[31m\u001b[4m9\u001b[24m\u001b[4m0\u001b[24m5\u001b[39m\u001b[31m05\u001b[39m\u001b[31m.\u001b[39m \u001b[4m6\u001b[24m\u001b[4m2\u001b[24m812.\n",
      "\u001b[90m12\u001b[39m    12  -\u001b[31m\u001b[4m8\u001b[24m\u001b[4m3\u001b[24m7\u001b[39m\u001b[31m20\u001b[39m\u001b[31m.\u001b[39m \u001b[4m6\u001b[24m\u001b[4m9\u001b[24m596.\n"
     ]
    }
   ],
   "source": [
    "library(dplyr)\n",
    "library(tidyr)\n",
    "library(stringr)\n",
    "library(zoo)\n",
    "library(tibble)\n",
    "\n",
    "## ---------------- 1. core variable sets (edit if names change) -------------\n",
    "endog        <- c(\"purchases_log_D1\", \"ur_D1\", \"hpi_log_D1\")\n",
    "exo_base     <- c(                       # contemporaneous exogenous terms\n",
    "  \"fwi_D1\", \"high_fire_days\", \"tp_hd\",\n",
    "  \"tp_std_mm_hour_D1\", \"t2m_hd\", \"t2m_std_D1\"\n",
    ")\n",
    "max_lag <- 12                            # highest lag order to test\n",
    "\n",
    "## ---------------- 2. helper: one‐shot AIC at lag‐order p -------------------\n",
    "calc_aic <- function(p, data) {\n",
    "  \n",
    "\n",
    "  exo_with_lags <- exo_base\n",
    "\n",
    "  for (lag in 1:p) {\n",
    "    col_lags <- paste0(exo_base, \"_L\", lag)\n",
    "    exo_with_lags <- c(exo_with_lags, col_lags)\n",
    "  }\n",
    "\n",
    "  ## keep only the variables needed for this model, drop incomplete rows\n",
    "  df_tmp <-  data  %>% \n",
    "    mutate(time = yearquarter(time)) %>%                             \n",
    "    select(CCA_2, time, all_of(endog), all_of(exo_with_lags)) \n",
    "  df_tmp_df <- as.data.frame(df_tmp)\n",
    "  ## fit PVAR-FE\n",
    "  model <- pvarfeols(\n",
    "    dependent_vars   = endog,\n",
    "    lags             = p,\n",
    "    exog_vars        = exo_with_lags,\n",
    "    data             = df_tmp_df,\n",
    "    panel_identifier = c(\"CCA_2\", \"time\")\n",
    "  )\n",
    "  \n",
    "  # ## compute concentrated log-likelihood and AIC\n",
    "  # E         <- as.matrix(model$residuals)         # n × m\n",
    "  # n_obs     <- nrow(E)\n",
    "  # m_eq      <- ncol(E)\n",
    "  # Sigma_hat <- crossprod(E) / n_obs               # m × m\n",
    "  # log_det   <- as.numeric(determinant(Sigma_hat, logarithm = TRUE)$modulus)\n",
    "  \n",
    "  # q_exog <- length(model$exo_with_lags)\n",
    "  # k_par  <- m_eq * m_eq * p + m_eq * q_exog       # (m²)p + m·q\n",
    "  # N_pan  <- model$nof_groups\n",
    "  # T_tot  <- n_obs / N_pan + p                     # total periods\n",
    "  \n",
    "  # tibble(lags = p,\n",
    "  #        AIC  = 2 * k_par + N_pan * (T_tot - p) * log_det)\n",
    "  ## --- residual-based AIC (scalar RSS version) -------------------------------\n",
    "    E_mat   <- as.matrix(model$residuals)           # n_obs × m_eq\n",
    "    n_obs   <- nrow(E_mat)                          # stacked time observations\n",
    "    m_eq    <- ncol(E_mat)                          # equations\n",
    "\n",
    "    RSS     <- sum(E_mat^2)                         # ∑ ε² over every cell\n",
    "    N_total <- n_obs * m_eq                         # total scalar residuals\n",
    "\n",
    "    q_exog  <- length(model$exog_vars)              # lag-0 + selected lags\n",
    "    k_par   <- m_eq * m_eq * p + m_eq * q_exog      # (m²)p + m·q\n",
    "\n",
    "    AIC_val <- N_total * log(RSS / N_total) + 2 * k_par\n",
    "\n",
    "    tibble(lags = p,\n",
    "          AIC  = AIC_val)\n",
    "\n",
    "}\n",
    "\n",
    "## ---------------- 3. prepare the master data frame -------------------------\n",
    "df_panel <- quart_df %>% \n",
    "  arrange(CCA_2, time)\n",
    "\n",
    "## ---------------- 4. loop over lag orders 1 … max_lag ----------------------\n",
    "aic_table <- map_dfr(1:max_lag, ~calc_aic(.x, df_panel))  %>%      # old step\n",
    "  mutate(Delta = AIC - min(AIC))                   # new Δᵢ column\n",
    "print(aic_table)\n"
   ]
  },
  {
   "cell_type": "code",
   "execution_count": 37,
   "id": "76048e87",
   "metadata": {
    "vscode": {
     "languageId": "r"
    }
   },
   "outputs": [
    {
     "ename": "ERROR",
     "evalue": "Error in parse(text = input): <text>:15:1: unexpected symbol\n14: ## ---------------- 2. helper: one<U+2010>shot AIC at lag<U+2010>order p -------------------\n15: calc_aic\n    ^\n",
     "output_type": "error",
     "traceback": [
      "Error in parse(text = input): <text>:15:1: unexpected symbol\n14: ## ---------------- 2. helper: one<U+2010>shot AIC at lag<U+2010>order p -------------------\n15: calc_aic\n    ^\nTraceback:\n"
     ]
    }
   ],
   "source": [
    "library(dplyr)\n",
    "library(tidyr)\n",
    "library(stringr)\n",
    "library(zoo)\n",
    "library(tibble)\n",
    "\n",
    "## ---------------- 1. core variable sets (edit if names change) -------------\n",
    "endog        <- c(\"purchases_log_D1\", \"ur_D1\", \"hpi_log_D1\")\n",
    "exo_base     <- c('fwi_D1', 'high_fire_days', 'cdd', 'extreme_precipitation_mm',\n",
    "       'frequency_of_extreme_precipitation',\n",
    "       'hot_days', 'num_tropical_nights', \n",
    "max_lag <- 12                            # highest lag order to test\n",
    "\n",
    "## ---------------- 2. helper: one‐shot AIC at lag‐order p -------------------\n",
    "calc_aic <- function(p, data) {\n",
    "  \n",
    "\n",
    "  exo_with_lags <- exo_base\n",
    "\n",
    "  for (lag in 1:p) {\n",
    "    col_lags <- paste0(exo_base, \"_L\", lag)\n",
    "    exo_with_lags <- c(exo_with_lags, col_lags)\n",
    "  }\n",
    "\n",
    "  ## keep only the variables needed for this model, drop incomplete rows\n",
    "  df_tmp <-  data  %>% \n",
    "    mutate(time = yearquarter(time)) %>%                             \n",
    "    select(CCA_2, time, all_of(endog), all_of(exo_with_lags)) \n",
    "  df_tmp_df <- as.data.frame(df_tmp)\n",
    "  ## fit PVAR-FE\n",
    "  model <- pvarfeols(\n",
    "    dependent_vars   = endog,\n",
    "    lags             = p,\n",
    "    exog_vars        = exo_with_lags,\n",
    "    data             = df_tmp_df,\n",
    "    panel_identifier = c(\"CCA_2\", \"time\")\n",
    "  )\n",
    "  \n",
    "  # ## compute concentrated log-likelihood and AIC\n",
    "  # E         <- as.matrix(model$residuals)         # n × m\n",
    "  # n_obs     <- nrow(E)\n",
    "  # m_eq      <- ncol(E)\n",
    "  # Sigma_hat <- crossprod(E) / n_obs               # m × m\n",
    "  # log_det   <- as.numeric(determinant(Sigma_hat, logarithm = TRUE)$modulus)\n",
    "  \n",
    "  # q_exog <- length(model$exo_with_lags)\n",
    "  # k_par  <- m_eq * m_eq * p + m_eq * q_exog       # (m²)p + m·q\n",
    "  # N_pan  <- model$nof_groups\n",
    "  # T_tot  <- n_obs / N_pan + p                     # total periods\n",
    "  \n",
    "  # tibble(lags = p,\n",
    "  #        AIC  = 2 * k_par + N_pan * (T_tot - p) * log_det)\n",
    "  ## --- residual-based AIC (scalar RSS version) -------------------------------\n",
    "    E_mat   <- as.matrix(model$residuals)           # n_obs × m_eq\n",
    "    n_obs   <- nrow(E_mat)                          # stacked time observations\n",
    "    m_eq    <- ncol(E_mat)                          # equations\n",
    "\n",
    "    RSS     <- sum(E_mat^2)                         # ∑ ε² over every cell\n",
    "    N_total <- n_obs * m_eq                         # total scalar residuals\n",
    "\n",
    "    q_exog  <- length(model$exog_vars)              # lag-0 + selected lags\n",
    "    k_par   <- m_eq * m_eq * p + m_eq * q_exog      # (m²)p + m·q\n",
    "\n",
    "    AIC_val <- N_total * log(RSS / N_total) + 2 * k_par\n",
    "\n",
    "    tibble(lags = p,\n",
    "          AIC  = AIC_val)\n",
    "\n",
    "}\n",
    "\n",
    "## ---------------- 3. prepare the master data frame -------------------------\n",
    "df_panel <- quart_df %>% \n",
    "  arrange(CCA_2, time)\n",
    "\n",
    "## ---------------- 4. loop over lag orders 1 … max_lag ----------------------\n",
    "aic_table <- map_dfr(1:max_lag, ~calc_aic(.x, df_panel))  %>%      # old step\n",
    "  mutate(Delta = AIC - min(AIC))                   # new Δᵢ column\n",
    "print(aic_table)\n"
   ]
  },
  {
   "cell_type": "markdown",
   "id": "94c54103",
   "metadata": {},
   "source": [
    "## Panel Var Modelling"
   ]
  },
  {
   "cell_type": "markdown",
   "id": "ec23e27d",
   "metadata": {},
   "source": [
    "### Basic Model"
   ]
  },
  {
   "cell_type": "code",
   "execution_count": 38,
   "id": "5fbbb8cd",
   "metadata": {
    "vscode": {
     "languageId": "r"
    }
   },
   "outputs": [],
   "source": [
    "df_panel <- quart_df %>% \n",
    "  arrange(CCA_2, time) %>% \n",
    "    mutate(time = yearquarter(time)) %>%\n",
    "  group_by(CCA_2) %>%\n",
    "  mutate(Linear_Trend = row_number())  # Creates a linear trend for each municipality\n",
    "\n",
    "# # Step 2: Create quadratic trends that are specific to each municipality\n",
    "df_panel <- df_panel %>%\n",
    "  mutate(Quadratic_Trend = Linear_Trend^2)  # Quadratic trend is square of linear trend\n"
   ]
  },
  {
   "cell_type": "code",
   "execution_count": 32,
   "id": "b67c3e9a",
   "metadata": {
    "vscode": {
     "languageId": "r"
    }
   },
   "outputs": [],
   "source": [
    "# Main Model for Panel Var FE!\n",
    "## ---------------- 1. core variable sets (edit if names change) -------------\n",
    "endog        <- c(\"purchases_log_D1\", \"ur_D1\", \"hpi_log_D1\")\n",
    "exo_base     <- c(                       # contemporaneous exogenous terms\n",
    "  \"fwi_D1\", \"high_fire_days\", \"tp_hd\",\n",
    "  \"tp_std_mm_hour_D1\", \"t2m_hd\", \"t2m_std_D1\"\n",
    ")\n",
    "p = 1\n",
    "\n",
    "exo_with_lags <- exo_base\n",
    "\n",
    "for (lag in 1:p) {\n",
    "  col_lags <- paste0(exo_base, \"_L\", lag)\n",
    "  exo_with_lags <- c(exo_with_lags, col_lags)\n",
    "}\n",
    "df_tmp <-  df_panel  %>% \n",
    "  mutate(time = yearquarter(time)) %>%  select(CCA_2, time, all_of(endog), all_of(exo_with_lags)) \n",
    "\n",
    "# Step 1: Create linear trends that are specific to each municipality\n",
    "df_tmp <- df_tmp %>%\n",
    "  group_by(CCA_2) %>%\n",
    "  mutate(Linear_Trend = row_number())  # Creates a linear trend for each municipality\n",
    "\n",
    "# Step 2: Create quadratic trends that are specific to each municipality\n",
    "df_tmp <- df_tmp %>%\n",
    "  mutate(Quadratic_Trend = Linear_Trend^2)  # Quadratic trend is square of linear trend\n",
    "\n",
    "                                  # no missing values\n",
    "df_tmp_df <- as.data.frame(df_tmp)\n",
    "\n",
    "## fit PVAR-FE\n",
    "mun_fe_series_basic <- pvarfeols(\n",
    "  dependent_vars   = endog,\n",
    "  lags             = p,\n",
    "  exog_vars        = c('Linear_Trend', 'Quadratic_Trend', exo_with_lags),\n",
    "  data             = df_tmp_df,\n",
    "  panel_identifier = c(\"CCA_2\", \"time\")\n",
    ")\n",
    "  \n"
   ]
  },
  {
   "cell_type": "code",
   "execution_count": 19,
   "id": "c5bb1408",
   "metadata": {
    "vscode": {
     "languageId": "r"
    }
   },
   "outputs": [
    {
     "data": {
      "text/plain": [
       "---------------------------------------------------\n",
       "Fixed Effects OLS Panel VAR estimation \n",
       "---------------------------------------------------\n",
       "Transformation: demean \n",
       "Group variable: CCA_2 \n",
       "Time variable: time \n",
       "Number of observations = 11954 \n",
       "Number of groups = 278 \n",
       "Obs per group: min = 43 \n",
       "               avg = 43 \n",
       "               max = 43 \n",
       "\n",
       "==============================================================================================\n",
       "                                demeaned_purchases_log_D1  demeaned_ur_D1  demeaned_hpi_log_D1\n",
       "----------------------------------------------------------------------------------------------\n",
       "demeaned_lag1_purchases_log_D1  -0.2001 ***                 0.0047 ***      0.0049 ***        \n",
       "                                (0.0096)                   (0.0005)        (0.0013)           \n",
       "demeaned_lag1_ur_D1             -2.1240 ***                -0.0958 ***     -0.1653 ***        \n",
       "                                (0.1842)                   (0.0099)        (0.0251)           \n",
       "demeaned_lag1_hpi_log_D1        -0.2497 ***                -0.0239 ***      0.0132            \n",
       "                                (0.0691)                   (0.0037)        (0.0094)           \n",
       "demeaned_Linear_Trend            0.0001                    -0.0003 ***      0.0019 ***        \n",
       "                                (0.0006)                   (0.0000)        (0.0001)           \n",
       "demeaned_Quadratic_Trend         0.0000                     0.0000 ***     -0.0000 ***        \n",
       "                                (0.0000)                   (0.0000)        (0.0000)           \n",
       "demeaned_fwi_D1                 -0.0079 ***                 0.0002 **       0.0002            \n",
       "                                (0.0015)                   (0.0001)        (0.0002)           \n",
       "demeaned_high_fire_days          0.0054 ***                -0.0003 ***      0.0001            \n",
       "                                (0.0015)                   (0.0001)        (0.0002)           \n",
       "demeaned_tp_hd                   0.0076                     0.0038 ***     -0.0122 ***        \n",
       "                                (0.0069)                   (0.0004)        (0.0009)           \n",
       "demeaned_tp_std_mm_hour_D1       0.1161 *                  -0.0213 ***      0.0980 ***        \n",
       "                                (0.0556)                   (0.0030)        (0.0076)           \n",
       "demeaned_t2m_hd                  0.0957 ***                -0.0028 ***     -0.0032 ***        \n",
       "                                (0.0044)                   (0.0002)        (0.0006)           \n",
       "demeaned_t2m_std_D1              0.0518 ***                -0.0047 ***      0.0013            \n",
       "                                (0.0063)                   (0.0003)        (0.0009)           \n",
       "demeaned_fwi_D1_L1               0.0016                     0.0002 ***      0.0002            \n",
       "                                (0.0009)                   (0.0001)        (0.0001)           \n",
       "demeaned_high_fire_days_L1      -0.0078 ***                 0.0002 **       0.0002            \n",
       "                                (0.0015)                   (0.0001)        (0.0002)           \n",
       "demeaned_tp_hd_L1                0.0013                    -0.0040 ***      0.0136 ***        \n",
       "                                (0.0067)                   (0.0004)        (0.0009)           \n",
       "demeaned_tp_std_mm_hour_D1_L1   -0.3412 ***                 0.0001         -0.0462 ***        \n",
       "                                (0.0445)                   (0.0024)        (0.0061)           \n",
       "demeaned_t2m_hd_L1              -0.0211 ***                 0.0017 ***      0.0020 **         \n",
       "                                (0.0045)                   (0.0002)        (0.0006)           \n",
       "demeaned_t2m_std_D1_L1          -0.0222 ***                -0.0024 ***      0.0108 ***        \n",
       "                                (0.0062)                   (0.0003)        (0.0008)           \n",
       "==============================================================================================\n",
       "*** p < 0.001; ** p < 0.01; * p < 0.05\n"
      ]
     },
     "metadata": {},
     "output_type": "display_data"
    }
   ],
   "source": [
    "summary(mun_fe_series_basic)"
   ]
  },
  {
   "cell_type": "markdown",
   "id": "7b45a776",
   "metadata": {},
   "source": [
    "#### Tests"
   ]
  },
  {
   "cell_type": "code",
   "execution_count": 34,
   "id": "4c666a0b",
   "metadata": {
    "vscode": {
     "languageId": "r"
    }
   },
   "outputs": [
    {
     "name": "stdout",
     "output_type": "stream",
     "text": [
      "\n",
      "The downloaded binary packages are in\n",
      "\t/var/folders/nt/03y4p9md50gblp_0svv74zb80000gn/T//RtmpsAyp7J/downloaded_packages\n"
     ]
    },
    {
     "name": "stderr",
     "output_type": "stream",
     "text": [
      "Loading required package: zoo\n",
      "\n",
      "\n",
      "Attaching package: 'zoo'\n",
      "\n",
      "\n",
      "The following object is masked from 'package:tsibble':\n",
      "\n",
      "    index\n",
      "\n",
      "\n",
      "The following objects are masked from 'package:base':\n",
      "\n",
      "    as.Date, as.Date.numeric\n",
      "\n",
      "\n"
     ]
    }
   ],
   "source": [
    "install.packages('lmtest')\n",
    "library(lmtest)"
   ]
  },
  {
   "cell_type": "code",
   "execution_count": 35,
   "id": "7c0c10fa",
   "metadata": {
    "vscode": {
     "languageId": "r"
    }
   },
   "outputs": [
    {
     "name": "stdout",
     "output_type": "stream",
     "text": [
      "\n",
      "\tDurbin-Watson test\n",
      "\n",
      "data:  residuals_df$demeaned_purchases_log_D1 ~ 1\n",
      "DW = 2.1063, p-value = 1\n",
      "alternative hypothesis: true autocorrelation is greater than 0\n",
      "\n",
      "\n",
      "\tDurbin-Watson test\n",
      "\n",
      "data:  residuals_df$demeaned_ur_D1 ~ 1\n",
      "DW = 2.1009, p-value = 1\n",
      "alternative hypothesis: true autocorrelation is greater than 0\n",
      "\n",
      "\n",
      "\tDurbin-Watson test\n",
      "\n",
      "data:  residuals_df$demeaned_hpi_log_D1 ~ 1\n",
      "DW = 2.0484, p-value = 0.9951\n",
      "alternative hypothesis: true autocorrelation is greater than 0\n",
      "\n"
     ]
    }
   ],
   "source": [
    "\n",
    "\n",
    "# Extract residuals\n",
    "residuals_df <- as.data.frame(mun_fe_series_basic$residuals)\n",
    "\n",
    "# Perform Durbin-Watson test for each column\n",
    "dw_purchases <- dwtest(residuals_df$demeaned_purchases_log_D1 ~ 1)\n",
    "dw_ur <- dwtest(residuals_df$demeaned_ur_D1 ~ 1)\n",
    "dw_hpi <- dwtest(residuals_df$demeaned_hpi_log_D1 ~ 1)\n",
    "\n",
    "# Print results\n",
    "print(dw_purchases)\n",
    "print(dw_ur)\n",
    "print(dw_hpi)"
   ]
  },
  {
   "cell_type": "markdown",
   "id": "4d0d57f7",
   "metadata": {},
   "source": [
    "### Increased Lags (4)"
   ]
  },
  {
   "cell_type": "code",
   "execution_count": 20,
   "id": "574d4f11",
   "metadata": {
    "vscode": {
     "languageId": "r"
    }
   },
   "outputs": [],
   "source": [
    "# Main Model for Panel Var FE!\n",
    "## ---------------- 1. core variable sets (edit if names change) -------------\n",
    "endog        <- c(\"purchases_log_D1\", \"ur_D1\", \"hpi_log_D1\")\n",
    "exo_base     <- c(                       # contemporaneous exogenous terms\n",
    "  \"fwi_D1\", \"high_fire_days\", \"tp_hd\",\n",
    "  \"tp_std_mm_hour_D1\", \"t2m_hd\", \"t2m_std_D1\"\n",
    ")\n",
    "p = 4\n",
    "\n",
    "exo_with_lags <- exo_base\n",
    "\n",
    "for (lag in 1:p) {\n",
    "  col_lags <- paste0(exo_base, \"_L\", lag)\n",
    "  exo_with_lags <- c(exo_with_lags, col_lags)\n",
    "}\n",
    "df_tmp <-  df_panel  %>% \n",
    "  mutate(time = yearquarter(time)) %>%  select(CCA_2, time, all_of(endog), all_of(exo_with_lags)) \n",
    "\n",
    "# Step 1: Create linear trends that are specific to each municipality\n",
    "df_tmp <- df_tmp %>%\n",
    "  group_by(CCA_2) %>%\n",
    "  mutate(Linear_Trend = row_number())  # Creates a linear trend for each municipality\n",
    "\n",
    "# Step 2: Create quadratic trends that are specific to each municipality\n",
    "df_tmp <- df_tmp %>%\n",
    "  mutate(Quadratic_Trend = Linear_Trend^2)  # Quadratic trend is square of linear trend\n",
    "\n",
    "                                  # no missing values\n",
    "df_tmp_df <- as.data.frame(df_tmp)\n",
    "\n",
    "## fit PVAR-FE\n",
    "mun_fe_series_lags_4 <- pvarfeols(\n",
    "  dependent_vars   = endog,\n",
    "  lags             = p,\n",
    "  exog_vars        = c('Linear_Trend', 'Quadratic_Trend', exo_with_lags),\n",
    "  data             = df_tmp_df,\n",
    "  panel_identifier = c(\"CCA_2\", \"time\")\n",
    ")\n",
    "  \n"
   ]
  },
  {
   "cell_type": "code",
   "execution_count": 21,
   "id": "b972ab6b",
   "metadata": {
    "vscode": {
     "languageId": "r"
    }
   },
   "outputs": [
    {
     "data": {
      "text/plain": [
       "---------------------------------------------------\n",
       "Fixed Effects OLS Panel VAR estimation \n",
       "---------------------------------------------------\n",
       "Transformation: demean \n",
       "Group variable: CCA_2 \n",
       "Time variable: time \n",
       "Number of observations = 11954 \n",
       "Number of groups = 278 \n",
       "Obs per group: min = 43 \n",
       "               avg = 43 \n",
       "               max = 43 \n",
       "\n",
       "==============================================================================================\n",
       "                                demeaned_purchases_log_D1  demeaned_ur_D1  demeaned_hpi_log_D1\n",
       "----------------------------------------------------------------------------------------------\n",
       "demeaned_lag1_purchases_log_D1  -0.1967 ***                 0.0008          0.0054 ***        \n",
       "                                (0.0100)                   (0.0006)        (0.0015)           \n",
       "demeaned_lag1_ur_D1             -0.4480 *                  -0.1871 ***     -0.1614 ***        \n",
       "                                (0.1825)                   (0.0101)        (0.0280)           \n",
       "demeaned_lag1_hpi_log_D1         0.0756                    -0.0395 ***      0.0479 ***        \n",
       "                                (0.0645)                   (0.0036)        (0.0099)           \n",
       "demeaned_lag2_purchases_log_D1  -0.2320 ***                 0.0013 *        0.0073 ***        \n",
       "                                (0.0097)                   (0.0005)        (0.0015)           \n",
       "demeaned_lag2_ur_D1              0.8687 ***                -0.2384 ***      0.0355            \n",
       "                                (0.1839)                   (0.0102)        (0.0283)           \n",
       "demeaned_lag2_hpi_log_D1        -0.1764 **                 -0.0207 ***     -0.0545 ***        \n",
       "                                (0.0666)                   (0.0037)        (0.0102)           \n",
       "demeaned_lag3_purchases_log_D1  -0.2825 ***                -0.0013 *       -0.0043 **         \n",
       "                                (0.0097)                   (0.0005)        (0.0015)           \n",
       "demeaned_lag3_ur_D1              0.7164 ***                -0.1459 ***     -0.0157            \n",
       "                                (0.1883)                   (0.0104)        (0.0289)           \n",
       "demeaned_lag3_hpi_log_D1         0.3494 ***                -0.0262 ***      0.0124            \n",
       "                                (0.0635)                   (0.0035)        (0.0097)           \n",
       "demeaned_lag4_purchases_log_D1   0.2962 ***                -0.0074 ***      0.0037 *          \n",
       "                                (0.0100)                   (0.0006)        (0.0015)           \n",
       "demeaned_lag4_ur_D1             -2.0180 ***                 0.2557 ***      0.0411            \n",
       "                                (0.1831)                   (0.0101)        (0.0281)           \n",
       "demeaned_lag4_hpi_log_D1        -0.0592                     0.0311 ***     -0.0837 ***        \n",
       "                                (0.0668)                   (0.0037)        (0.0103)           \n",
       "demeaned_Linear_Trend            0.0015                    -0.0007 ***      0.0026 ***        \n",
       "                                (0.0008)                   (0.0000)        (0.0001)           \n",
       "demeaned_Quadratic_Trend        -0.0000 *                   0.0000 ***     -0.0000 ***        \n",
       "                                (0.0000)                   (0.0000)        (0.0000)           \n",
       "demeaned_fwi_D1                 -0.0022                    -0.0004 ***      0.0013 ***        \n",
       "                                (0.0017)                   (0.0001)        (0.0003)           \n",
       "demeaned_high_fire_days          0.0009                     0.0004 ***     -0.0011 ***        \n",
       "                                (0.0017)                   (0.0001)        (0.0003)           \n",
       "demeaned_tp_hd                  -0.0212 **                  0.0036 ***     -0.0183 ***        \n",
       "                                (0.0077)                   (0.0004)        (0.0012)           \n",
       "demeaned_tp_std_mm_hour_D1       0.2564 ***                -0.0104 **       0.1413 ***        \n",
       "                                (0.0626)                   (0.0035)        (0.0096)           \n",
       "demeaned_t2m_hd                  0.0455 ***                -0.0016 ***      0.0149 ***        \n",
       "                                (0.0082)                   (0.0005)        (0.0013)           \n",
       "demeaned_t2m_std_D1              0.0045                    -0.0037 ***     -0.0048 ***        \n",
       "                                (0.0094)                   (0.0005)        (0.0014)           \n",
       "demeaned_fwi_D1_L1               0.0093 ***                -0.0001          0.0002            \n",
       "                                (0.0016)                   (0.0001)        (0.0002)           \n",
       "demeaned_high_fire_days_L1      -0.0018                    -0.0005 ***      0.0024 ***        \n",
       "                                (0.0026)                   (0.0001)        (0.0004)           \n",
       "demeaned_tp_hd_L1                0.0320 **                 -0.0047 ***      0.0278 ***        \n",
       "                                (0.0105)                   (0.0006)        (0.0016)           \n",
       "demeaned_tp_std_mm_hour_D1_L1   -0.0620                    -0.0137 **      -0.0875 ***        \n",
       "                                (0.0765)                   (0.0042)        (0.0117)           \n",
       "demeaned_t2m_hd_L1              -0.1447 ***                 0.0012         -0.0196 ***        \n",
       "                                (0.0154)                   (0.0009)        (0.0024)           \n",
       "demeaned_t2m_std_D1_L1          -0.0964 ***                 0.0043 ***     -0.0060 **         \n",
       "                                (0.0126)                   (0.0007)        (0.0019)           \n",
       "demeaned_fwi_D1_L2              -0.0042 **                  0.0003 ***     -0.0025 ***        \n",
       "                                (0.0015)                   (0.0001)        (0.0002)           \n",
       "demeaned_high_fire_days_L2      -0.0012                     0.0003 *        0.0003            \n",
       "                                (0.0025)                   (0.0001)        (0.0004)           \n",
       "demeaned_tp_hd_L2               -0.0388 *                   0.0030 **      -0.0042            \n",
       "                                (0.0168)                   (0.0009)        (0.0026)           \n",
       "demeaned_tp_std_mm_hour_D1_L2   -0.0132                     0.0047         -0.0259 *          \n",
       "                                (0.0792)                   (0.0044)        (0.0122)           \n",
       "demeaned_t2m_hd_L2               0.1588 ***                 0.0024 **       0.0121 ***        \n",
       "                                (0.0144)                   (0.0008)        (0.0022)           \n",
       "demeaned_t2m_std_D1_L2          -0.0031                    -0.0022 ***      0.0104 ***        \n",
       "                                (0.0075)                   (0.0004)        (0.0011)           \n",
       "demeaned_fwi_D1_L3               0.0035                    -0.0007 ***      0.0030 ***        \n",
       "                                (0.0018)                   (0.0001)        (0.0003)           \n",
       "demeaned_high_fire_days_L3       0.0027                     0.0001         -0.0021 ***        \n",
       "                                (0.0024)                   (0.0001)        (0.0004)           \n",
       "demeaned_tp_hd_L3               -0.0110                     0.0013         -0.0063 **         \n",
       "                                (0.0154)                   (0.0009)        (0.0024)           \n",
       "demeaned_tp_std_mm_hour_D1_L3    0.4759 ***                -0.0242 ***      0.0732 ***        \n",
       "                                (0.0669)                   (0.0037)        (0.0103)           \n",
       "demeaned_t2m_hd_L3              -0.0415 ***                -0.0031 ***     -0.0091 ***        \n",
       "                                (0.0115)                   (0.0006)        (0.0018)           \n",
       "demeaned_t2m_std_D1_L3           0.0016                    -0.0000          0.0011            \n",
       "                                (0.0092)                   (0.0005)        (0.0014)           \n",
       "demeaned_fwi_D1_L4              -0.0020                    -0.0002 ***     -0.0013 ***        \n",
       "                                (0.0012)                   (0.0001)        (0.0002)           \n",
       "demeaned_high_fire_days_L4       0.0006                    -0.0003 ***      0.0014 ***        \n",
       "                                (0.0017)                   (0.0001)        (0.0003)           \n",
       "demeaned_tp_hd_L4                0.0331 ***                -0.0014 **       0.0040 **         \n",
       "                                (0.0083)                   (0.0005)        (0.0013)           \n",
       "demeaned_tp_std_mm_hour_D1_L4    0.1368 **                 -0.0381 ***     -0.0111            \n",
       "                                (0.0505)                   (0.0028)        (0.0078)           \n",
       "demeaned_t2m_hd_L4              -0.0446 ***                 0.0006          0.0095 ***        \n",
       "                                (0.0085)                   (0.0005)        (0.0013)           \n",
       "demeaned_t2m_std_D1_L4          -0.0090                     0.0036 ***     -0.0319 ***        \n",
       "                                (0.0117)                   (0.0006)        (0.0018)           \n",
       "==============================================================================================\n",
       "*** p < 0.001; ** p < 0.01; * p < 0.05\n"
      ]
     },
     "metadata": {},
     "output_type": "display_data"
    }
   ],
   "source": [
    "summary(mun_fe_series_lags_4)"
   ]
  },
  {
   "cell_type": "markdown",
   "id": "577d54ff",
   "metadata": {},
   "source": [
    "### With NonLinear Terms and 1 Lags"
   ]
  },
  {
   "cell_type": "code",
   "execution_count": 8,
   "id": "58620c73",
   "metadata": {
    "vscode": {
     "languageId": "r"
    }
   },
   "outputs": [],
   "source": [
    "# Main Model for Panel Var FE!\n",
    "## ---------------- 1. core variable sets (edit if names change) -------------\n",
    "endog        <- c(\"purchases_log_D1\", \"ur_D1\", \"hpi_log_D1\")\n",
    "exo_base     <- c(                       # contemporaneous exogenous terms\n",
    "  \"fwi_D1\", \"high_fire_days\", \"tp_hd\",\n",
    "  \"tp_std_mm_hour_D1\", \"t2m_hd\", \"t2m_std_D1\", \"tp_2\", \"tp_3\", \"t2m_2\", \"t2m_3\"\n",
    ")\n",
    "p = 1\n",
    "\n",
    "exo_with_lags <- exo_base\n",
    "\n",
    "for (lag in 1:p) {\n",
    "  col_lags <- paste0(exo_base, \"_L\", lag)\n",
    "  exo_with_lags <- c(exo_with_lags, col_lags)\n",
    "}\n",
    "df_tmp <-  df_panel  %>% \n",
    "  mutate(time = yearquarter(time)) %>%  select(CCA_2, time, all_of(endog), all_of(exo_with_lags)) \n",
    "\n",
    "# Step 1: Create linear trends that are specific to each municipality\n",
    "df_tmp <- df_tmp %>%\n",
    "  group_by(CCA_2) %>%\n",
    "  mutate(Linear_Trend = row_number())  # Creates a linear trend for each municipality\n",
    "\n",
    "# Step 2: Create quadratic trends that are specific to each municipality\n",
    "df_tmp <- df_tmp %>%\n",
    "  mutate(Quadratic_Trend = Linear_Trend^2)  # Quadratic trend is square of linear trend\n",
    "\n",
    "                                  # no missing values\n",
    "df_tmp_df <- as.data.frame(df_tmp)\n",
    "\n",
    "## fit PVAR-FE\n",
    "mun_fe_series_lags_1_nonlin2 <- pvarfeols(\n",
    "  dependent_vars   = endog,\n",
    "  lags             = p,\n",
    "  exog_vars        = c('Linear_Trend', 'Quadratic_Trend', exo_with_lags),\n",
    "  data             = df_tmp_df,\n",
    "  panel_identifier = c(\"CCA_2\", \"time\")\n",
    ")\n",
    "  \n"
   ]
  },
  {
   "cell_type": "code",
   "execution_count": 9,
   "id": "0c29a5f2",
   "metadata": {
    "vscode": {
     "languageId": "r"
    }
   },
   "outputs": [
    {
     "data": {
      "text/plain": [
       "---------------------------------------------------\n",
       "Fixed Effects OLS Panel VAR estimation \n",
       "---------------------------------------------------\n",
       "Transformation: demean \n",
       "Group variable: CCA_2 \n",
       "Time variable: time \n",
       "Number of observations = 11954 \n",
       "Number of groups = 278 \n",
       "Obs per group: min = 43 \n",
       "               avg = 43 \n",
       "               max = 43 \n",
       "\n",
       "==============================================================================================\n",
       "                                demeaned_purchases_log_D1  demeaned_ur_D1  demeaned_hpi_log_D1\n",
       "----------------------------------------------------------------------------------------------\n",
       "demeaned_lag1_purchases_log_D1  -0.1882 ***                 0.0040 ***      0.0033 *          \n",
       "                                (0.0096)                   (0.0005)        (0.0013)           \n",
       "demeaned_lag1_ur_D1             -2.2575 ***                -0.0837 ***     -0.1390 ***        \n",
       "                                (0.1847)                   (0.0099)        (0.0251)           \n",
       "demeaned_lag1_hpi_log_D1        -0.2785 ***                -0.0285 ***      0.0104            \n",
       "                                (0.0692)                   (0.0037)        (0.0094)           \n",
       "demeaned_Linear_Trend            0.0004                    -0.0003 ***      0.0019 ***        \n",
       "                                (0.0006)                   (0.0000)        (0.0001)           \n",
       "demeaned_Quadratic_Trend         0.0000                     0.0000 ***     -0.0000 ***        \n",
       "                                (0.0000)                   (0.0000)        (0.0000)           \n",
       "demeaned_fwi_D1                 -0.0100 ***                 0.0002 *        0.0001            \n",
       "                                (0.0017)                   (0.0001)        (0.0002)           \n",
       "demeaned_high_fire_days          0.0105 ***                -0.0005 ***     -0.0000            \n",
       "                                (0.0016)                   (0.0001)        (0.0002)           \n",
       "demeaned_tp_hd                   0.0417 ***                 0.0030 ***     -0.0124 ***        \n",
       "                                (0.0123)                   (0.0007)        (0.0017)           \n",
       "demeaned_tp_std_mm_hour_D1      -0.0584                    -0.0237 ***      0.0923 ***        \n",
       "                                (0.0687)                   (0.0037)        (0.0093)           \n",
       "demeaned_t2m_hd                  0.1587 ***                -0.0050 ***     -0.0058 ***        \n",
       "                                (0.0068)                   (0.0004)        (0.0009)           \n",
       "demeaned_t2m_std_D1              0.0375 ***                -0.0038 ***      0.0046 ***        \n",
       "                                (0.0069)                   (0.0004)        (0.0009)           \n",
       "demeaned_tp_2                   -0.0110 **                  0.0004          0.0051 ***        \n",
       "                                (0.0042)                   (0.0002)        (0.0006)           \n",
       "demeaned_tp_3                    0.0015                    -0.0000         -0.0010 ***        \n",
       "                                (0.0008)                   (0.0000)        (0.0001)           \n",
       "demeaned_t2m_2                   0.0128 ***                 0.0002         -0.0017 ***        \n",
       "                                (0.0020)                   (0.0001)        (0.0003)           \n",
       "demeaned_t2m_3                  -0.0071 ***                 0.0003 ***      0.0006 ***        \n",
       "                                (0.0005)                   (0.0000)        (0.0001)           \n",
       "demeaned_fwi_D1_L1               0.0005                     0.0002 ***     -0.0002            \n",
       "                                (0.0010)                   (0.0001)        (0.0001)           \n",
       "demeaned_high_fire_days_L1      -0.0110 ***                 0.0004 ***      0.0003            \n",
       "                                (0.0017)                   (0.0001)        (0.0002)           \n",
       "demeaned_tp_hd_L1               -0.0337 **                 -0.0034 ***      0.0137 ***        \n",
       "                                (0.0115)                   (0.0006)        (0.0016)           \n",
       "demeaned_tp_std_mm_hour_D1_L1   -0.3241 ***                -0.0034         -0.0535 ***        \n",
       "                                (0.0453)                   (0.0024)        (0.0061)           \n",
       "demeaned_t2m_hd_L1              -0.0811 ***                 0.0041 ***      0.0040 ***        \n",
       "                                (0.0073)                   (0.0004)        (0.0010)           \n",
       "demeaned_t2m_std_D1_L1          -0.0278 ***                -0.0012 **       0.0157 ***        \n",
       "                                (0.0072)                   (0.0004)        (0.0010)           \n",
       "demeaned_tp_2_L1                 0.0253 ***                 0.0003         -0.0005            \n",
       "                                (0.0044)                   (0.0002)        (0.0006)           \n",
       "demeaned_tp_3_L1                -0.0041 ***                -0.0000          0.0002            \n",
       "                                (0.0008)                   (0.0000)        (0.0001)           \n",
       "demeaned_t2m_2_L1               -0.0098 ***                 0.0000          0.0018 ***        \n",
       "                                (0.0015)                   (0.0001)        (0.0002)           \n",
       "demeaned_t2m_3_L1                0.0058 ***                -0.0003 ***     -0.0005 ***        \n",
       "                                (0.0004)                   (0.0000)        (0.0001)           \n",
       "==============================================================================================\n",
       "*** p < 0.001; ** p < 0.01; * p < 0.05\n"
      ]
     },
     "metadata": {},
     "output_type": "display_data"
    }
   ],
   "source": [
    "summary(mun_fe_series_lags_1_nonlin2)"
   ]
  },
  {
   "cell_type": "markdown",
   "id": "87b895e2",
   "metadata": {},
   "source": [
    "### With Medit Factor and Lag 1"
   ]
  },
  {
   "cell_type": "code",
   "execution_count": 32,
   "id": "f74f67a9",
   "metadata": {
    "vscode": {
     "languageId": "r"
    }
   },
   "outputs": [],
   "source": [
    "\n",
    "endog        <- c(\"purchases_log_D1\", \"ur_D1\", \"hpi_log_D1\")\n",
    "exo_base     <- c(                       # contemporaneous exogenous terms\n",
    "  \"fwi_D1\", \"high_fire_days\", \"tp_hd\",\n",
    "  \"tp_std_mm_hour_D1\", \"t2m_hd\", \"t2m_std_D1\", \"Medit_factor_tp\",\n",
    "\"Medit_factor_t2m_D1\"\n",
    ")\n",
    "p = 1\n",
    "\n",
    "exo_with_lags <- exo_base\n",
    "\n",
    "for (lag in 1:p) {\n",
    "  col_lags <- paste0(exo_base, \"_L\", lag)\n",
    "  exo_with_lags <- c(exo_with_lags, col_lags)\n",
    "}\n",
    "df_tmp <-  df_panel  %>% \n",
    "  mutate(time = yearquarter(time)) %>%  select(CCA_2, time, all_of(endog), all_of(exo_with_lags)) \n",
    "\n",
    "# Step 1: Create linear trends that are specific to each municipality\n",
    "df_tmp <- df_tmp %>%\n",
    "  group_by(CCA_2) %>%\n",
    "  mutate(Linear_Trend = row_number())  # Creates a linear trend for each municipality\n",
    "\n",
    "# Step 2: Create quadratic trends that are specific to each municipality\n",
    "df_tmp <- df_tmp %>%\n",
    "  mutate(Quadratic_Trend = Linear_Trend^2)  # Quadratic trend is square of linear trend\n",
    "\n",
    "                                  # no missing values\n",
    "df_tmp_df <- as.data.frame(df_tmp)\n",
    "\n",
    "## fit PVAR-FE\n",
    "mun_fe_series_lags_1_medit <- pvarfeols(\n",
    "  dependent_vars   = endog,\n",
    "  lags             = p,\n",
    "  exog_vars        = c('Linear_Trend', 'Quadratic_Trend', exo_with_lags),\n",
    "  data             = df_tmp_df,\n",
    "  panel_identifier = c(\"CCA_2\", \"time\")\n",
    ")\n",
    "  \n"
   ]
  },
  {
   "cell_type": "code",
   "execution_count": 33,
   "id": "bf28469c",
   "metadata": {
    "vscode": {
     "languageId": "r"
    }
   },
   "outputs": [
    {
     "data": {
      "text/plain": [
       "---------------------------------------------------\n",
       "Fixed Effects OLS Panel VAR estimation \n",
       "---------------------------------------------------\n",
       "Transformation: demean \n",
       "Group variable: CCA_2 \n",
       "Time variable: time \n",
       "Number of observations = 11954 \n",
       "Number of groups = 278 \n",
       "Obs per group: min = 43 \n",
       "               avg = 43 \n",
       "               max = 43 \n",
       "\n",
       "===============================================================================================\n",
       "                                 demeaned_purchases_log_D1  demeaned_ur_D1  demeaned_hpi_log_D1\n",
       "-----------------------------------------------------------------------------------------------\n",
       "demeaned_lag1_purchases_log_D1   -0.1748 ***                 0.0038 ***      0.0031 *          \n",
       "                                 (0.0097)                   (0.0005)        (0.0013)           \n",
       "demeaned_lag1_ur_D1              -2.2155 ***                -0.0915 ***     -0.1431 ***        \n",
       "                                 (0.1815)                   (0.0098)        (0.0249)           \n",
       "demeaned_lag1_hpi_log_D1         -0.1413 *                  -0.0307 ***      0.0015            \n",
       "                                 (0.0687)                   (0.0037)        (0.0094)           \n",
       "demeaned_Linear_Trend             0.0000                    -0.0003 ***      0.0018 ***        \n",
       "                                 (0.0006)                   (0.0000)        (0.0001)           \n",
       "demeaned_Quadratic_Trend          0.0000                     0.0000 ***     -0.0000 ***        \n",
       "                                 (0.0000)                   (0.0000)        (0.0000)           \n",
       "demeaned_fwi_D1                  -0.0120 ***                 0.0004 ***      0.0008 ***        \n",
       "                                 (0.0015)                   (0.0001)        (0.0002)           \n",
       "demeaned_high_fire_days           0.0143 ***                -0.0007 ***     -0.0008 ***        \n",
       "                                 (0.0015)                   (0.0001)        (0.0002)           \n",
       "demeaned_tp_hd                    0.0206 **                  0.0024 ***     -0.0153 ***        \n",
       "                                 (0.0076)                   (0.0004)        (0.0010)           \n",
       "demeaned_tp_std_mm_hour_D1        0.0820                    -0.0195 ***      0.1012 ***        \n",
       "                                 (0.0551)                   (0.0030)        (0.0076)           \n",
       "demeaned_t2m_hd                   0.0036                     0.0016 ***      0.0039 ***        \n",
       "                                 (0.0063)                   (0.0003)        (0.0009)           \n",
       "demeaned_t2m_std_D1               0.0527 ***                -0.0050 ***      0.0005            \n",
       "                                 (0.0063)                   (0.0003)        (0.0009)           \n",
       "demeaned_Medit_factor_tp         -0.0353 ***                 0.0032 ***      0.0099 ***        \n",
       "                                 (0.0069)                   (0.0004)        (0.0010)           \n",
       "demeaned_Medit_factor_t2m_D1      0.1216 ***                -0.0056 ***     -0.0196 ***        \n",
       "                                 (0.0193)                   (0.0010)        (0.0026)           \n",
       "demeaned_fwi_D1_L1               -0.0012                     0.0003 ***      0.0001            \n",
       "                                 (0.0009)                   (0.0001)        (0.0001)           \n",
       "demeaned_high_fire_days_L1       -0.0150 ***                 0.0006 ***      0.0009 ***        \n",
       "                                 (0.0015)                   (0.0001)        (0.0002)           \n",
       "demeaned_tp_hd_L1                -0.0235 **                 -0.0023 ***      0.0183 ***        \n",
       "                                 (0.0073)                   (0.0004)        (0.0010)           \n",
       "demeaned_tp_std_mm_hour_D1_L1    -0.3017 ***                -0.0006         -0.0532 ***        \n",
       "                                 (0.0443)                   (0.0024)        (0.0061)           \n",
       "demeaned_t2m_hd_L1                0.0531 ***                -0.0017 ***     -0.0054 ***        \n",
       "                                 (0.0061)                   (0.0003)        (0.0008)           \n",
       "demeaned_t2m_std_D1_L1           -0.0464 ***                -0.0012 **       0.0173 ***        \n",
       "                                 (0.0071)                   (0.0004)        (0.0010)           \n",
       "demeaned_Medit_factor_tp_L1       0.0382 ***                -0.0025 ***     -0.0125 ***        \n",
       "                                 (0.0069)                   (0.0004)        (0.0009)           \n",
       "demeaned_Medit_factor_t2m_D1_L1   0.1622 ***                -0.0070 ***     -0.0008            \n",
       "                                 (0.0184)                   (0.0010)        (0.0025)           \n",
       "===============================================================================================\n",
       "*** p < 0.001; ** p < 0.01; * p < 0.05\n"
      ]
     },
     "metadata": {},
     "output_type": "display_data"
    }
   ],
   "source": [
    "summary(mun_fe_series_lags_1_medit)"
   ]
  },
  {
   "cell_type": "markdown",
   "id": "b552a6e7",
   "metadata": {},
   "source": [
    "### Replacing with MM Day"
   ]
  },
  {
   "cell_type": "code",
   "execution_count": 12,
   "id": "954bfa53",
   "metadata": {
    "vscode": {
     "languageId": "r"
    }
   },
   "outputs": [],
   "source": [
    "# Main Model for Panel Var FE!\n",
    "## ---------------- 1. core variable sets (edit if names change) -------------\n",
    "endog        <- c(\"purchases_log_D1\", \"ur_D1\", \"hpi_log_D1\")\n",
    "exo_base     <- c(                       # contemporaneous exogenous terms\n",
    "  \"fwi_D1\", \"high_fire_days\", \"tp_hd\",\n",
    "  \"tp_std_D1\", \"t2m_hd\", \"t2m_std_D1\"\n",
    ")\n",
    "\n",
    "p = 1\n",
    "\n",
    "exo_with_lags <- exo_base\n",
    "\n",
    "for (lag in 1:p) {\n",
    "  col_lags <- paste0(exo_base, \"_L\", lag)\n",
    "  exo_with_lags <- c(exo_with_lags, col_lags)\n",
    "}\n",
    "df_tmp <-  df_panel  %>% \n",
    "  mutate(time = yearquarter(time)) %>%  select(CCA_2, time, all_of(endog), all_of(exo_with_lags)) \n",
    "\n",
    "# Step 1: Create linear trends that are specific to each municipality\n",
    "df_tmp <- df_tmp %>%\n",
    "  group_by(CCA_2) %>%\n",
    "  mutate(Linear_Trend = row_number())  # Creates a linear trend for each municipality\n",
    "\n",
    "# Step 2: Create quadratic trends that are specific to each municipality\n",
    "df_tmp <- df_tmp %>%\n",
    "  mutate(Quadratic_Trend = Linear_Trend^2)  # Quadratic trend is square of linear trend\n",
    "\n",
    "                                  # no missing values\n",
    "df_tmp_df <- as.data.frame(df_tmp)\n",
    "\n",
    "## fit PVAR-FE\n",
    "mun_fe_series_lags_1_medit_mmday <- pvarfeols(\n",
    "  dependent_vars   = endog,\n",
    "  lags             = p,\n",
    "  exog_vars        = c('Linear_Trend', 'Quadratic_Trend', exo_with_lags),\n",
    "  data             = df_tmp_df,\n",
    "  panel_identifier = c(\"CCA_2\", \"time\")\n",
    ")\n"
   ]
  },
  {
   "cell_type": "code",
   "execution_count": 13,
   "id": "7669aaa3",
   "metadata": {
    "vscode": {
     "languageId": "r"
    }
   },
   "outputs": [
    {
     "data": {
      "text/plain": [
       "---------------------------------------------------\n",
       "Fixed Effects OLS Panel VAR estimation \n",
       "---------------------------------------------------\n",
       "Transformation: demean \n",
       "Group variable: CCA_2 \n",
       "Time variable: time \n",
       "Number of observations = 11954 \n",
       "Number of groups = 278 \n",
       "Obs per group: min = 43 \n",
       "               avg = 43 \n",
       "               max = 43 \n",
       "\n",
       "==============================================================================================\n",
       "                                demeaned_purchases_log_D1  demeaned_ur_D1  demeaned_hpi_log_D1\n",
       "----------------------------------------------------------------------------------------------\n",
       "demeaned_lag1_purchases_log_D1  -0.2001 ***                 0.0047 ***      0.0049 ***        \n",
       "                                (0.0096)                   (0.0005)        (0.0013)           \n",
       "demeaned_lag1_ur_D1             -2.1240 ***                -0.0958 ***     -0.1653 ***        \n",
       "                                (0.1842)                   (0.0099)        (0.0251)           \n",
       "demeaned_lag1_hpi_log_D1        -0.2497 ***                -0.0239 ***      0.0132            \n",
       "                                (0.0691)                   (0.0037)        (0.0094)           \n",
       "demeaned_Linear_Trend            0.0001                    -0.0003 ***      0.0019 ***        \n",
       "                                (0.0006)                   (0.0000)        (0.0001)           \n",
       "demeaned_Quadratic_Trend         0.0000                     0.0000 ***     -0.0000 ***        \n",
       "                                (0.0000)                   (0.0000)        (0.0000)           \n",
       "demeaned_fwi_D1                 -0.0079 ***                 0.0002 **       0.0002            \n",
       "                                (0.0015)                   (0.0001)        (0.0002)           \n",
       "demeaned_high_fire_days          0.0054 ***                -0.0003 ***      0.0001            \n",
       "                                (0.0015)                   (0.0001)        (0.0002)           \n",
       "demeaned_tp_hd                   0.0076                     0.0038 ***     -0.0122 ***        \n",
       "                                (0.0069)                   (0.0004)        (0.0009)           \n",
       "demeaned_tp_std_D1               0.0048 *                  -0.0009 ***      0.0041 ***        \n",
       "                                (0.0023)                   (0.0001)        (0.0003)           \n",
       "demeaned_t2m_hd                  0.0957 ***                -0.0028 ***     -0.0032 ***        \n",
       "                                (0.0044)                   (0.0002)        (0.0006)           \n",
       "demeaned_t2m_std_D1              0.0518 ***                -0.0047 ***      0.0013            \n",
       "                                (0.0063)                   (0.0003)        (0.0009)           \n",
       "demeaned_fwi_D1_L1               0.0016                     0.0002 ***      0.0002            \n",
       "                                (0.0009)                   (0.0001)        (0.0001)           \n",
       "demeaned_high_fire_days_L1      -0.0078 ***                 0.0002 **       0.0002            \n",
       "                                (0.0015)                   (0.0001)        (0.0002)           \n",
       "demeaned_tp_hd_L1                0.0013                    -0.0040 ***      0.0136 ***        \n",
       "                                (0.0067)                   (0.0004)        (0.0009)           \n",
       "demeaned_tp_std_D1_L1           -0.0142 ***                 0.0000         -0.0019 ***        \n",
       "                                (0.0019)                   (0.0001)        (0.0003)           \n",
       "demeaned_t2m_hd_L1              -0.0211 ***                 0.0017 ***      0.0020 **         \n",
       "                                (0.0045)                   (0.0002)        (0.0006)           \n",
       "demeaned_t2m_std_D1_L1          -0.0222 ***                -0.0024 ***      0.0108 ***        \n",
       "                                (0.0062)                   (0.0003)        (0.0008)           \n",
       "==============================================================================================\n",
       "*** p < 0.001; ** p < 0.01; * p < 0.05\n"
      ]
     },
     "metadata": {},
     "output_type": "display_data"
    }
   ],
   "source": [
    "summary(mun_fe_series_lags_1_medit_mmday)"
   ]
  },
  {
   "cell_type": "markdown",
   "id": "fb04bdaf",
   "metadata": {},
   "source": [
    "### Replacing with Count"
   ]
  },
  {
   "cell_type": "code",
   "execution_count": null,
   "id": "fc015f17",
   "metadata": {
    "vscode": {
     "languageId": "r"
    }
   },
   "outputs": [],
   "source": [
    "# Main Model for Panel Var FE!\n",
    "## ---------------- 1. core variable sets (edit if names change) -------------\n",
    "endog        <- c(\"purchases_log_D1\", \"ur_D1\", \"hpi_log_D1\")\n",
    "exo_base     <- c('fwi_D1', 'high_fire_days', 'cdd', 'extreme_precipitation_mm',\n",
    "       'frequency_of_extreme_precipitation','num_heatwaves',\n",
    "       'hot_days', 'num_tropical_nights', 'frost_days',  \"Medit_factor_tp\",\n",
    "\"Medit_factor_t2m_D1\")\n",
    "\n",
    "p = 1\n",
    "\n",
    "exo_with_lags <- exo_base\n",
    "\n",
    "for (lag in 1:p) {\n",
    "  col_lags <- paste0(exo_base, \"_L\", lag)\n",
    "  exo_with_lags <- c(exo_with_lags, col_lags)\n",
    "}\n",
    "df_tmp <-  df_panel  %>% \n",
    "  mutate(time = yearquarter(time)) %>%  select(CCA_2, time, all_of(endog), all_of(exo_with_lags)) \n",
    "\n",
    "# Step 1: Create linear trends that are specific to each municipality\n",
    "df_tmp <- df_tmp %>%\n",
    "  group_by(CCA_2) %>%\n",
    "  mutate(Linear_Trend = row_number())  # Creates a linear trend for each municipality\n",
    "\n",
    "# Step 2: Create quadratic trends that are specific to each municipality\n",
    "df_tmp <- df_tmp %>%\n",
    "  mutate(Quadratic_Trend = Linear_Trend^2)  # Quadratic trend is square of linear trend\n",
    "\n",
    "                                  # no missing values\n",
    "df_tmp_df <- as.data.frame(df_tmp)\n",
    "\n",
    "## fit PVAR-FE\n",
    "mun_fe_l\n",
    "\n",
    "ags_1_medit_count <- pvarfeols(\n",
    "  dependent_vars   = endog,\n",
    "  lags             = p,\n",
    "  exog_vars        = c('Linear_Trend', 'Quadratic_Trend', exo_with_lags),\n",
    "  data             = df_tmp_df,\n",
    "  panel_identifier = c(\"CCA_2\", \"time\")\n",
    ")\n"
   ]
  },
  {
   "cell_type": "code",
   "execution_count": 11,
   "id": "a97e1632",
   "metadata": {
    "vscode": {
     "languageId": "r"
    }
   },
   "outputs": [
    {
     "data": {
      "text/plain": [
       "---------------------------------------------------\n",
       "Fixed Effects OLS Panel VAR estimation \n",
       "---------------------------------------------------\n",
       "Transformation: demean \n",
       "Group variable: CCA_2 \n",
       "Time variable: time \n",
       "Number of observations = 11954 \n",
       "Number of groups = 278 \n",
       "Obs per group: min = 43 \n",
       "               avg = 43 \n",
       "               max = 43 \n",
       "\n",
       "==============================================================================================================\n",
       "                                                demeaned_purchases_log_D1  demeaned_ur_D1  demeaned_hpi_log_D1\n",
       "--------------------------------------------------------------------------------------------------------------\n",
       "demeaned_lag1_purchases_log_D1                  -0.1725 ***                 0.0035 ***      0.0021            \n",
       "                                                (0.0097)                   (0.0005)        (0.0014)           \n",
       "demeaned_lag1_ur_D1                             -1.9462 ***                -0.1134 ***     -0.1507 ***        \n",
       "                                                (0.1811)                   (0.0097)        (0.0253)           \n",
       "demeaned_lag1_hpi_log_D1                        -0.2611 ***                -0.0232 ***     -0.0118            \n",
       "                                                (0.0685)                   (0.0037)        (0.0096)           \n",
       "demeaned_Linear_Trend                           -0.0011                    -0.0004 ***      0.0020 ***        \n",
       "                                                (0.0006)                   (0.0000)        (0.0001)           \n",
       "demeaned_Quadratic_Trend                         0.0000 **                  0.0000 ***     -0.0000 ***        \n",
       "                                                (0.0000)                   (0.0000)        (0.0000)           \n",
       "demeaned_fwi_D1                                 -0.0055 ***                 0.0006 ***     -0.0005 *          \n",
       "                                                (0.0016)                   (0.0001)        (0.0002)           \n",
       "demeaned_high_fire_days                          0.0204 ***                -0.0012 ***     -0.0005 *          \n",
       "                                                (0.0015)                   (0.0001)        (0.0002)           \n",
       "demeaned_cdd                                    -0.0074 ***                -0.0002 ***      0.0015 ***        \n",
       "                                                (0.0010)                   (0.0001)        (0.0001)           \n",
       "demeaned_extreme_precipitation_mm                0.0016 ***                -0.0002 ***      0.0005 ***        \n",
       "                                                (0.0004)                   (0.0000)        (0.0000)           \n",
       "demeaned_frequency_of_extreme_precipitation     -0.0369 **                  0.0063 ***     -0.0214 ***        \n",
       "                                                (0.0123)                   (0.0007)        (0.0017)           \n",
       "demeaned_num_heatwaves                           0.0249                     0.0014          0.0012            \n",
       "                                                (0.0194)                   (0.0010)        (0.0027)           \n",
       "demeaned_hot_days                               -0.0229 ***                 0.0007 ***      0.0008 **         \n",
       "                                                (0.0019)                   (0.0001)        (0.0003)           \n",
       "demeaned_num_tropical_nights                     0.0503 ***                -0.0021 ***     -0.0004            \n",
       "                                                (0.0026)                   (0.0001)        (0.0004)           \n",
       "demeaned_frost_days                             -0.0168 ***                 0.0005 **      -0.0019 ***        \n",
       "                                                (0.0036)                   (0.0002)        (0.0005)           \n",
       "demeaned_Medit_factor_tp                        -0.0180 **                  0.0025 ***      0.0060 ***        \n",
       "                                                (0.0065)                   (0.0003)        (0.0009)           \n",
       "demeaned_Medit_factor_t2m_D1                    -0.1257 ***                -0.0059 ***      0.0086 ***        \n",
       "                                                (0.0130)                   (0.0007)        (0.0018)           \n",
       "demeaned_fwi_D1_L1                              -0.0026 **                  0.0006 ***      0.0006 ***        \n",
       "                                                (0.0009)                   (0.0000)        (0.0001)           \n",
       "demeaned_high_fire_days_L1                      -0.0139 ***                 0.0010 ***      0.0003            \n",
       "                                                (0.0017)                   (0.0001)        (0.0002)           \n",
       "demeaned_cdd_L1                                  0.0111 ***                -0.0004 ***     -0.0005 ***        \n",
       "                                                (0.0009)                   (0.0000)        (0.0001)           \n",
       "demeaned_extreme_precipitation_mm_L1            -0.0036 ***                 0.0002 ***     -0.0006 ***        \n",
       "                                                (0.0004)                   (0.0000)        (0.0000)           \n",
       "demeaned_frequency_of_extreme_precipitation_L1   0.1140 ***                -0.0086 ***      0.0294 ***        \n",
       "                                                (0.0127)                   (0.0007)        (0.0018)           \n",
       "demeaned_num_heatwaves_L1                       -0.0168                     0.0011         -0.0008            \n",
       "                                                (0.0194)                   (0.0010)        (0.0027)           \n",
       "demeaned_hot_days_L1                             0.0190 ***                -0.0007 ***     -0.0011 ***        \n",
       "                                                (0.0020)                   (0.0001)        (0.0003)           \n",
       "demeaned_num_tropical_nights_L1                 -0.0446 ***                 0.0022 ***      0.0015 ***        \n",
       "                                                (0.0029)                   (0.0002)        (0.0004)           \n",
       "demeaned_frost_days_L1                          -0.0047                    -0.0001          0.0005            \n",
       "                                                (0.0029)                   (0.0002)        (0.0004)           \n",
       "demeaned_Medit_factor_tp_L1                      0.0196 **                 -0.0033 ***     -0.0040 ***        \n",
       "                                                (0.0061)                   (0.0003)        (0.0009)           \n",
       "demeaned_Medit_factor_t2m_D1_L1                  0.3816 ***                -0.0063 ***     -0.0144 ***        \n",
       "                                                (0.0120)                   (0.0006)        (0.0017)           \n",
       "==============================================================================================================\n",
       "*** p < 0.001; ** p < 0.01; * p < 0.05\n"
      ]
     },
     "metadata": {},
     "output_type": "display_data"
    }
   ],
   "source": [
    "summary(mun_fe_lags_1_medit_count)"
   ]
  },
  {
   "cell_type": "markdown",
   "id": "71a56238",
   "metadata": {},
   "source": [
    "### Time Slice"
   ]
  },
  {
   "cell_type": "code",
   "execution_count": 43,
   "id": "f89eb024",
   "metadata": {
    "vscode": {
     "languageId": "r"
    }
   },
   "outputs": [
    {
     "name": "stderr",
     "output_type": "stream",
     "text": [
      "Warning message:\n",
      "\"\u001b[1m\u001b[22mThere were 556 warnings in `filter()`.\n",
      "The first warning was:\n",
      "\u001b[1m\u001b[22m\u001b[36mi\u001b[39m In argument: `time >= as.Date(\"2010-01-01\") & time <= as.Date(\"2019-12-31\")`.\n",
      "\u001b[36mi\u001b[39m In group 1: `CCA_2 = \"0101\"`.\n",
      "Caused by warning:\n",
      "\u001b[33m!\u001b[39m Incompatible methods (\">=.vctrs_vctr\", \">=.Date\") for \">=\"\n",
      "\u001b[1m\u001b[22m\u001b[36mi\u001b[39m Run `dplyr::last_dplyr_warnings()` to see the 555 remaining warnings.\"\n"
     ]
    }
   ],
   "source": [
    "\n",
    "# Main Model for Panel Var FE!\n",
    "## ---------------- 1. core variable sets (edit if names change) -------------\n",
    "endog        <- c(\"purchases_log_D1\", \"ur_D1\", \"hpi_log_D1\")\n",
    "exo_base     <- c(                       # contemporaneous exogenous terms\n",
    "  \"fwi_D1\", \"high_fire_days\", \"tp_hd\",\n",
    "  \"tp_std_mm_hour_D1\", \"t2m_hd\", \"t2m_std_D1\", \"Medit_factor_tp\",\n",
    "\"Medit_factor_t2m_D1\"\n",
    ")\n",
    "p = 1\n",
    "\n",
    "exo_with_lags <- exo_base\n",
    "\n",
    "for (lag in 1:p) {\n",
    "  col_lags <- paste0(exo_base, \"_L\", lag)\n",
    "  exo_with_lags <- c(exo_with_lags, col_lags)\n",
    "}\n",
    "df_tmp <-  df_panel  %>% \n",
    "  mutate(time = yearquarter(time)) %>%  select(CCA_2, time, all_of(endog), all_of(exo_with_lags)) \n",
    "\n",
    "# Step 1: Create linear trends that are specific to each municipality\n",
    "df_tmp <- df_tmp %>%\n",
    "  group_by(CCA_2) %>%\n",
    "  mutate(Linear_Trend = row_number())  # Creates a linear trend for each municipality\n",
    "\n",
    "# Step 2: Create quadratic trends that are specific to each municipality\n",
    "df_tmp <- df_tmp %>%\n",
    "  mutate(Quadratic_Trend = Linear_Trend^2)  # Quadratic trend is square of linear trend\n",
    "\n",
    "                                  # no missing values\n",
    "\n",
    "\n",
    "\n",
    "# Assuming medit_df is your data frame and 'time' is a Date column\n",
    "df_tmp <- df_tmp %>%\n",
    "  filter(time >= as.Date('2010-01-01') & time <= as.Date('2019-12-31'))\n",
    "\n",
    "df_tmp_df <- as.data.frame(df_tmp)\n",
    "\n",
    "## fit PVAR-FE\n",
    "mun_fe_series_lags_4_medit_timeslice <- pvarfeols(\n",
    "  dependent_vars   = endog,\n",
    "  lags             = p,\n",
    "  exog_vars        = c('Linear_Trend', 'Quadratic_Trend', exo_with_lags),\n",
    "  data             = df_tmp_df,\n",
    "  panel_identifier = c(\"CCA_2\", \"time\")\n",
    ")\n",
    "  \n"
   ]
  },
  {
   "cell_type": "code",
   "execution_count": 44,
   "id": "ae149186",
   "metadata": {
    "vscode": {
     "languageId": "r"
    }
   },
   "outputs": [
    {
     "data": {
      "text/plain": [
       "---------------------------------------------------\n",
       "Fixed Effects OLS Panel VAR estimation \n",
       "---------------------------------------------------\n",
       "Transformation: demean \n",
       "Group variable: CCA_2 \n",
       "Time variable: time \n",
       "Number of observations = 9730 \n",
       "Number of groups = 278 \n",
       "Obs per group: min = 35 \n",
       "               avg = 35 \n",
       "               max = 35 \n",
       "\n",
       "===============================================================================================\n",
       "                                 demeaned_purchases_log_D1  demeaned_ur_D1  demeaned_hpi_log_D1\n",
       "-----------------------------------------------------------------------------------------------\n",
       "demeaned_lag1_purchases_log_D1   -0.1470 ***                 0.0043 ***      0.0046 **         \n",
       "                                 (0.0107)                   (0.0006)        (0.0014)           \n",
       "demeaned_lag1_ur_D1              -2.2743 ***                -0.1003 ***     -0.1922 ***        \n",
       "                                 (0.1996)                   (0.0107)        (0.0266)           \n",
       "demeaned_lag1_hpi_log_D1         -0.1909 *                  -0.0382 ***      0.0240 *          \n",
       "                                 (0.0798)                   (0.0043)        (0.0106)           \n",
       "demeaned_Linear_Trend             0.0008                    -0.0004 ***      0.0011 ***        \n",
       "                                 (0.0009)                   (0.0000)        (0.0001)           \n",
       "demeaned_Quadratic_Trend         -0.0000                     0.0000 ***      0.0000            \n",
       "                                 (0.0000)                   (0.0000)        (0.0000)           \n",
       "demeaned_fwi_D1                  -0.0056 **                  0.0003 **       0.0019 ***        \n",
       "                                 (0.0018)                   (0.0001)        (0.0002)           \n",
       "demeaned_high_fire_days           0.0081 ***                -0.0007 ***     -0.0022 ***        \n",
       "                                 (0.0017)                   (0.0001)        (0.0002)           \n",
       "demeaned_tp_hd                   -0.0018                     0.0031 ***     -0.0204 ***        \n",
       "                                 (0.0085)                   (0.0005)        (0.0011)           \n",
       "demeaned_tp_std_mm_hour_D1        0.0128                    -0.0103 **       0.0777 ***        \n",
       "                                 (0.0626)                   (0.0034)        (0.0083)           \n",
       "demeaned_t2m_hd                   0.0108                     0.0016 ***      0.0060 ***        \n",
       "                                 (0.0069)                   (0.0004)        (0.0009)           \n",
       "demeaned_t2m_std_D1               0.0277 ***                -0.0046 ***      0.0019 *          \n",
       "                                 (0.0069)                   (0.0004)        (0.0009)           \n",
       "demeaned_Medit_factor_tp         -0.0088                     0.0028 ***      0.0127 ***        \n",
       "                                 (0.0078)                   (0.0004)        (0.0010)           \n",
       "demeaned_Medit_factor_t2m_D1      0.0505 *                  -0.0084 ***     -0.0339 ***        \n",
       "                                 (0.0229)                   (0.0012)        (0.0031)           \n",
       "demeaned_fwi_D1_L1               -0.0019                     0.0005 ***      0.0009 ***        \n",
       "                                 (0.0010)                   (0.0001)        (0.0001)           \n",
       "demeaned_high_fire_days_L1       -0.0082 ***                 0.0005 ***      0.0025 ***        \n",
       "                                 (0.0018)                   (0.0001)        (0.0002)           \n",
       "demeaned_tp_hd_L1                -0.0116                    -0.0020 ***      0.0205 ***        \n",
       "                                 (0.0081)                   (0.0004)        (0.0011)           \n",
       "demeaned_tp_std_mm_hour_D1_L1    -0.0303                    -0.0113 ***     -0.0096            \n",
       "                                 (0.0510)                   (0.0027)        (0.0068)           \n",
       "demeaned_t2m_hd_L1                0.0353 ***                -0.0019 ***     -0.0085 ***        \n",
       "                                 (0.0070)                   (0.0004)        (0.0009)           \n",
       "demeaned_t2m_std_D1_L1           -0.0045                    -0.0023 ***      0.0133 ***        \n",
       "                                 (0.0092)                   (0.0005)        (0.0012)           \n",
       "demeaned_Medit_factor_tp_L1       0.0286 ***                -0.0022 ***     -0.0116 ***        \n",
       "                                 (0.0078)                   (0.0004)        (0.0010)           \n",
       "demeaned_Medit_factor_t2m_D1_L1   0.2180 ***                -0.0057 ***     -0.0014            \n",
       "                                 (0.0203)                   (0.0011)        (0.0027)           \n",
       "===============================================================================================\n",
       "*** p < 0.001; ** p < 0.01; * p < 0.05\n"
      ]
     },
     "metadata": {},
     "output_type": "display_data"
    }
   ],
   "source": [
    "summary(mun_fe_series_lags_4_medit_timeslice)"
   ]
  },
  {
   "cell_type": "code",
   "execution_count": 119,
   "id": "31e0b69d",
   "metadata": {
    "vscode": {
     "languageId": "r"
    }
   },
   "outputs": [
    {
     "name": "stderr",
     "output_type": "stream",
     "text": [
      "Warning message:\n",
      "\"\u001b[1m\u001b[22mThere were 556 warnings in `filter()`.\n",
      "The first warning was:\n",
      "\u001b[1m\u001b[22m\u001b[36mi\u001b[39m In argument: `time >= as.Date(\"2010-01-01\") & time <= as.Date(\"2019-12-31\")`.\n",
      "\u001b[36mi\u001b[39m In group 1: `CCA_2 = \"0101\"`.\n",
      "Caused by warning:\n",
      "\u001b[33m!\u001b[39m Incompatible methods (\">=.vctrs_vctr\", \">=.Date\") for \">=\"\n",
      "\u001b[1m\u001b[22m\u001b[36mi\u001b[39m Run `dplyr::last_dplyr_warnings()` to see the 555 remaining warnings.\"\n"
     ]
    }
   ],
   "source": [
    "\n",
    "# Main Model for Panel Var FE!\n",
    "## ---------------- 1. core variable sets (edit if names change) -------------\n",
    "endog        <- c(\"purchases_log\", \"ur\", \"hpi_log\")\n",
    "exo_base     <- c('fwi', 'high_fire_days', 'cdd', 'extreme_precipitation_mm',\n",
    "       'frequency_of_extreme_precipitation','num_heatwaves',\n",
    "       'hot_days', 'num_tropical_nights', 'frost_days',  \"Medit_factor_tp\",\n",
    "\"Medit_factor_t2m\")\n",
    "p = 4\n",
    "\n",
    "exo_with_lags <- exo_base\n",
    "\n",
    "for (lag in 1:p) {\n",
    "  col_lags <- paste0(exo_base, \"_L\", lag)\n",
    "  exo_with_lags <- c(exo_with_lags, col_lags)\n",
    "}\n",
    "df_tmp <-  df_panel  %>% \n",
    "  mutate(time = yearquarter(time)) %>%  select(CCA_2, time, all_of(endog), all_of(exo_with_lags)) \n",
    "\n",
    "# Step 1: Create linear trends that are specific to each municipality\n",
    "df_tmp <- df_tmp %>%\n",
    "  group_by(CCA_2) %>%\n",
    "  mutate(Linear_Trend = row_number())  # Creates a linear trend for each municipality\n",
    "\n",
    "# Step 2: Create quadratic trends that are specific to each municipality\n",
    "df_tmp <- df_tmp %>%\n",
    "  mutate(Quadratic_Trend = Linear_Trend^2)  # Quadratic trend is square of linear trend\n",
    "\n",
    "                                  # no missing values\n",
    "\n",
    "\n",
    "\n",
    "# Assuming medit_df is your data frame and 'time' is a Date column\n",
    "df_tmp <- df_tmp %>%\n",
    "  filter(time >= as.Date('2010-01-01') & time <= as.Date('2019-12-31'))\n",
    "\n",
    "df_tmp_df <- as.data.frame(df_tmp)\n",
    "\n",
    "## fit PVAR-FE\n",
    "mun_fe_series_lags_4_medit_timeslice <- pvarfeols(\n",
    "  dependent_vars   = endog,\n",
    "  lags             = p,\n",
    "  exog_vars        = c('Linear_Trend', 'Quadratic_Trend', exo_with_lags),\n",
    "  data             = df_tmp_df,\n",
    "  panel_identifier = c(\"CCA_2\", \"time\")\n",
    ")\n",
    "  \n"
   ]
  },
  {
   "cell_type": "code",
   "execution_count": 120,
   "id": "65e6b182",
   "metadata": {
    "vscode": {
     "languageId": "r"
    }
   },
   "outputs": [
    {
     "data": {
      "text/plain": [
       "---------------------------------------------------\n",
       "Fixed Effects OLS Panel VAR estimation \n",
       "---------------------------------------------------\n",
       "Transformation: demean \n",
       "Group variable: CCA_2 \n",
       "Time variable: time \n",
       "Number of observations = 8896 \n",
       "Number of groups = 278 \n",
       "Obs per group: min = 32 \n",
       "               avg = 32 \n",
       "               max = 32 \n",
       "\n",
       "=====================================================================================================\n",
       "                                                demeaned_purchases_log  demeaned_ur  demeaned_hpi_log\n",
       "-----------------------------------------------------------------------------------------------------\n",
       "demeaned_lag1_purchases_log                      0.6520 ***              0.0018 **   -0.0026         \n",
       "                                                (0.0120)                (0.0006)     (0.0016)        \n",
       "demeaned_lag1_ur                                 0.1703                  0.5404 ***  -0.0168         \n",
       "                                                (0.2483)                (0.0122)     (0.0335)        \n",
       "demeaned_lag1_hpi_log                           -0.1412                 -0.0240 ***   0.9503 ***     \n",
       "                                                (0.0931)                (0.0046)     (0.0126)        \n",
       "demeaned_lag2_purchases_log                     -0.1093 ***              0.0028 ***   0.0026         \n",
       "                                                (0.0144)                (0.0007)     (0.0019)        \n",
       "demeaned_lag2_ur                                 2.0230 ***             -0.1504 ***   0.0604         \n",
       "                                                (0.2794)                (0.0137)     (0.0377)        \n",
       "demeaned_lag2_hpi_log                            0.1940                 -0.0052       0.0031         \n",
       "                                                (0.1309)                (0.0064)     (0.0176)        \n",
       "demeaned_lag3_purchases_log                     -0.0955 ***             -0.0029 ***  -0.0115 ***     \n",
       "                                                (0.0145)                (0.0007)     (0.0020)        \n",
       "demeaned_lag3_ur                                -0.5589                  0.1019 ***   0.0036         \n",
       "                                                (0.2860)                (0.0140)     (0.0386)        \n",
       "demeaned_lag3_hpi_log                            0.1594                  0.0112       0.0657 ***     \n",
       "                                                (0.1327)                (0.0065)     (0.0179)        \n",
       "demeaned_lag4_purchases_log                      0.1458 ***             -0.0007       0.0001         \n",
       "                                                (0.0121)                (0.0006)     (0.0016)        \n",
       "demeaned_lag4_ur                                -2.0797 ***              0.1848 ***  -0.1653 ***     \n",
       "                                                (0.2443)                (0.0120)     (0.0330)        \n",
       "demeaned_lag4_hpi_log                           -0.1826                  0.0173 ***  -0.1351 ***     \n",
       "                                                (0.0983)                (0.0048)     (0.0133)        \n",
       "demeaned_Linear_Trend                            0.0139 ***             -0.0009 ***   0.0001         \n",
       "                                                (0.0018)                (0.0001)     (0.0002)        \n",
       "demeaned_Quadratic_Trend                        -0.0001 *                0.0000       0.0000 ***     \n",
       "                                                (0.0001)                (0.0000)     (0.0000)        \n",
       "demeaned_fwi                                    -0.0047                  0.0002       0.0013 **      \n",
       "                                                (0.0031)                (0.0002)     (0.0004)        \n",
       "demeaned_high_fire_days                          0.0051                 -0.0003 *    -0.0012 **      \n",
       "                                                (0.0029)                (0.0001)     (0.0004)        \n",
       "demeaned_cdd                                    -0.0001                 -0.0000       0.0025 ***     \n",
       "                                                (0.0017)                (0.0001)     (0.0002)        \n",
       "demeaned_extreme_precipitation_mm               -0.0003                 -0.0001 *     0.0004 ***     \n",
       "                                                (0.0005)                (0.0000)     (0.0001)        \n",
       "demeaned_frequency_of_extreme_precipitation      0.0239                  0.0039 ***  -0.0214 ***     \n",
       "                                                (0.0199)                (0.0010)     (0.0027)        \n",
       "demeaned_num_heatwaves                           0.0430                  0.0044 ***   0.0014         \n",
       "                                                (0.0231)                (0.0011)     (0.0031)        \n",
       "demeaned_hot_days                               -0.0158 ***              0.0001      -0.0011 *       \n",
       "                                                (0.0035)                (0.0002)     (0.0005)        \n",
       "demeaned_num_tropical_nights                     0.0183 ***             -0.0002       0.0020 ***     \n",
       "                                                (0.0044)                (0.0002)     (0.0006)        \n",
       "demeaned_frost_days                             -0.0320 ***              0.0006       0.0002         \n",
       "                                                (0.0059)                (0.0003)     (0.0008)        \n",
       "demeaned_Medit_factor_tp                         0.0103                 -0.0019 *     0.0284 ***     \n",
       "                                                (0.0157)                (0.0008)     (0.0021)        \n",
       "demeaned_Medit_factor_t2m                       -0.1194                  0.0055      -0.1042 ***     \n",
       "                                                (0.0765)                (0.0038)     (0.0103)        \n",
       "demeaned_fwi_L1                                  0.0125 **              -0.0004      -0.0002         \n",
       "                                                (0.0048)                (0.0002)     (0.0006)        \n",
       "demeaned_high_fire_days_L1                      -0.0091 *                0.0002       0.0015 *       \n",
       "                                                (0.0043)                (0.0002)     (0.0006)        \n",
       "demeaned_cdd_L1                                 -0.0081 ***              0.0007 ***  -0.0033 ***     \n",
       "                                                (0.0021)                (0.0001)     (0.0003)        \n",
       "demeaned_extreme_precipitation_mm_L1            -0.0010                  0.0001 ***  -0.0007 ***     \n",
       "                                                (0.0007)                (0.0000)     (0.0001)        \n",
       "demeaned_frequency_of_extreme_precipitation_L1   0.0207                 -0.0064 ***   0.0399 ***     \n",
       "                                                (0.0261)                (0.0013)     (0.0035)        \n",
       "demeaned_num_heatwaves_L1                        0.0051                 -0.0026       0.0035         \n",
       "                                                (0.0271)                (0.0013)     (0.0037)        \n",
       "demeaned_hot_days_L1                             0.0061                  0.0009 **    0.0021 **      \n",
       "                                                (0.0054)                (0.0003)     (0.0007)        \n",
       "demeaned_num_tropical_nights_L1                  0.0011                 -0.0004       0.0012         \n",
       "                                                (0.0073)                (0.0004)     (0.0010)        \n",
       "demeaned_frost_days_L1                           0.0408 ***             -0.0008       0.0008         \n",
       "                                                (0.0079)                (0.0004)     (0.0011)        \n",
       "demeaned_Medit_factor_tp_L1                     -0.0109                  0.0102 ***  -0.0480 ***     \n",
       "                                                (0.0242)                (0.0012)     (0.0033)        \n",
       "demeaned_Medit_factor_t2m_L1                     0.4195 ***             -0.0017       0.0073         \n",
       "                                                (0.1015)                (0.0050)     (0.0137)        \n",
       "demeaned_fwi_L2                                  0.0004                  0.0004 *    -0.0017 **      \n",
       "                                                (0.0038)                (0.0002)     (0.0005)        \n",
       "demeaned_high_fire_days_L2                      -0.0007                 -0.0003       0.0016 **      \n",
       "                                                (0.0042)                (0.0002)     (0.0006)        \n",
       "demeaned_cdd_L2                                  0.0077 ***             -0.0009 ***  -0.0009 ***     \n",
       "                                                (0.0018)                (0.0001)     (0.0002)        \n",
       "demeaned_extreme_precipitation_mm_L2            -0.0005                 -0.0001       0.0006 ***     \n",
       "                                                (0.0008)                (0.0000)     (0.0001)        \n",
       "demeaned_frequency_of_extreme_precipitation_L2   0.0164                  0.0012      -0.0186 ***     \n",
       "                                                (0.0276)                (0.0014)     (0.0037)        \n",
       "demeaned_num_heatwaves_L2                       -0.0360 *                0.0016      -0.0167 ***     \n",
       "                                                (0.0170)                (0.0008)     (0.0023)        \n",
       "demeaned_hot_days_L2                             0.0144 **              -0.0006 *    -0.0028 ***     \n",
       "                                                (0.0052)                (0.0003)     (0.0007)        \n",
       "demeaned_num_tropical_nights_L2                 -0.0304 ***              0.0015 ***  -0.0017         \n",
       "                                                (0.0078)                (0.0004)     (0.0010)        \n",
       "demeaned_frost_days_L2                          -0.0082                 -0.0003       0.0011         \n",
       "                                                (0.0068)                (0.0003)     (0.0009)        \n",
       "demeaned_Medit_factor_tp_L2                      0.0068                 -0.0111 ***   0.0224 ***     \n",
       "                                                (0.0260)                (0.0013)     (0.0035)        \n",
       "demeaned_Medit_factor_t2m_L2                    -0.4162 ***              0.0216 ***   0.1274 ***     \n",
       "                                                (0.1168)                (0.0057)     (0.0158)        \n",
       "demeaned_fwi_L3                                 -0.0026                 -0.0013 ***   0.0002         \n",
       "                                                (0.0042)                (0.0002)     (0.0006)        \n",
       "demeaned_high_fire_days_L3                       0.0070                  0.0011 ***  -0.0021 ***     \n",
       "                                                (0.0044)                (0.0002)     (0.0006)        \n",
       "demeaned_cdd_L3                                 -0.0023                  0.0001       0.0038 ***     \n",
       "                                                (0.0021)                (0.0001)     (0.0003)        \n",
       "demeaned_extreme_precipitation_mm_L3             0.0009                  0.0001      -0.0003 **      \n",
       "                                                (0.0007)                (0.0000)     (0.0001)        \n",
       "demeaned_frequency_of_extreme_precipitation_L3  -0.0613 *                0.0022       0.0047         \n",
       "                                                (0.0268)                (0.0013)     (0.0036)        \n",
       "demeaned_num_heatwaves_L3                        0.0063                  0.0061 ***   0.0055         \n",
       "                                                (0.0259)                (0.0013)     (0.0035)        \n",
       "demeaned_hot_days_L3                            -0.0242 ***             -0.0006 *    -0.0018 **      \n",
       "                                                (0.0047)                (0.0002)     (0.0006)        \n",
       "demeaned_num_tropical_nights_L3                  0.0064                 -0.0006 *     0.0001         \n",
       "                                                (0.0063)                (0.0003)     (0.0008)        \n",
       "demeaned_frost_days_L3                          -0.0239 **               0.0008 *    -0.0022 *       \n",
       "                                                (0.0077)                (0.0004)     (0.0010)        \n",
       "demeaned_Medit_factor_tp_L3                      0.0464 *               -0.0009       0.0000         \n",
       "                                                (0.0197)                (0.0010)     (0.0027)        \n",
       "demeaned_Medit_factor_t2m_L3                     0.1918                 -0.0399 ***  -0.0362 *       \n",
       "                                                (0.1092)                (0.0054)     (0.0147)        \n",
       "demeaned_fwi_L4                                  0.0058                  0.0005 **    0.0029 ***     \n",
       "                                                (0.0034)                (0.0002)     (0.0005)        \n",
       "demeaned_high_fire_days_L4                      -0.0156 ***             -0.0003 *    -0.0002         \n",
       "                                                (0.0032)                (0.0002)     (0.0004)        \n",
       "demeaned_cdd_L4                                 -0.0054 **               0.0005 ***  -0.0028 ***     \n",
       "                                                (0.0018)                (0.0001)     (0.0002)        \n",
       "demeaned_extreme_precipitation_mm_L4            -0.0002                 -0.0001 *     0.0004 ***     \n",
       "                                                (0.0005)                (0.0000)     (0.0001)        \n",
       "demeaned_frequency_of_extreme_precipitation_L4   0.0271                 -0.0004      -0.0080 **      \n",
       "                                                (0.0193)                (0.0009)     (0.0026)        \n",
       "demeaned_num_heatwaves_L4                        0.0433                 -0.0054 ***  -0.0060         \n",
       "                                                (0.0249)                (0.0012)     (0.0034)        \n",
       "demeaned_hot_days_L4                             0.0186 ***              0.0003       0.0015 **      \n",
       "                                                (0.0035)                (0.0002)     (0.0005)        \n",
       "demeaned_num_tropical_nights_L4                 -0.0016                  0.0010 ***   0.0023 ***     \n",
       "                                                (0.0044)                (0.0002)     (0.0006)        \n",
       "demeaned_frost_days_L4                           0.0270 ***             -0.0011 ***   0.0024 **      \n",
       "                                                (0.0059)                (0.0003)     (0.0008)        \n",
       "demeaned_Medit_factor_tp_L4                     -0.0690 ***              0.0055 ***   0.0024         \n",
       "                                                (0.0202)                (0.0010)     (0.0027)        \n",
       "demeaned_Medit_factor_t2m_L4                    -0.1319 *                0.0297 ***  -0.0805 ***     \n",
       "                                                (0.0638)                (0.0031)     (0.0086)        \n",
       "=====================================================================================================\n",
       "*** p < 0.001; ** p < 0.01; * p < 0.05\n"
      ]
     },
     "metadata": {},
     "output_type": "display_data"
    }
   ],
   "source": [
    "summary(mun_fe_series_lags_4_medit_timeslice)"
   ]
  },
  {
   "cell_type": "markdown",
   "id": "5c05469c",
   "metadata": {},
   "source": [
    "### Spatial Slice"
   ]
  },
  {
   "cell_type": "code",
   "execution_count": 39,
   "id": "bdb14c83",
   "metadata": {
    "vscode": {
     "languageId": "r"
    }
   },
   "outputs": [
    {
     "name": "stdout",
     "output_type": "stream",
     "text": [
      "[1] \"centro\"                       \"norte\"                       \n",
      "[3] \"alentejo\"                     \"algarve\"                     \n",
      "[5] \"area metropolitana de lisboa\"\n"
     ]
    }
   ],
   "source": [
    "unique_values <- unique(df_panel$NUTS_NAME)\n",
    "print(unique_values)"
   ]
  },
  {
   "cell_type": "markdown",
   "id": "62d9c2aa",
   "metadata": {},
   "source": [
    "#### Lisboa"
   ]
  },
  {
   "cell_type": "code",
   "execution_count": 40,
   "id": "a1f7cbd6",
   "metadata": {
    "vscode": {
     "languageId": "r"
    }
   },
   "outputs": [],
   "source": [
    "\n",
    "\n",
    "endog        <- c(\"purchases_log_D1\", \"ur_D1\", \"hpi_log_D1\")\n",
    "exo_base     <- c(                       # contemporaneous exogenous terms\n",
    "  \"fwi_D1\", \"high_fire_days\", \"tp_hd\",\n",
    "  \"tp_std_mm_hour_D1\", \"t2m_hd\", \"t2m_std_D1\", \"Medit_factor_tp\",\n",
    "\"Medit_factor_t2m_D1\"\n",
    ")\n",
    "p = 1\n",
    "\n",
    "exo_with_lags <- exo_base\n",
    "\n",
    "for (lag in 1:p) {\n",
    "  col_lags <- paste0(exo_base, \"_L\", lag)\n",
    "  exo_with_lags <- c(exo_with_lags, col_lags)\n",
    "}\n",
    "df_lisboa <-  df_panel %>%\n",
    "  filter(NUTS_NAME %in% c(\"area metropolitana de lisboa\"))  %>% \n",
    "  mutate(time = yearquarter(time)) %>%  select(CCA_2, time, all_of(endog), all_of(exo_with_lags)) \n",
    "\n",
    "\n",
    "# Step 1: Create linear trends that are specific to each municipality\n",
    "df_lisboa <- df_lisboa %>%\n",
    "  group_by(CCA_2) %>%\n",
    "  mutate(Linear_Trend = row_number())  # Creates a linear trend for each municipality\n",
    "\n",
    "# df_lisboa 2: Create quadratic trends that are specific to each municipality\n",
    "df_lisboa <- df_lisboa %>%\n",
    "  mutate(Quadratic_Trend = Linear_Trend^2)  # Quadratic trend is square of linear trend\n",
    "\n",
    "                                  # no missing values\n",
    "df_lisboa_df <- as.data.frame(df_lisboa)\n",
    "\n",
    "## fit PVAR-FE\n",
    "mun_fe_series_lags_1_lisb <- pvarfeols(\n",
    "  dependent_vars   = endog,\n",
    "  lags             = p,\n",
    "  exog_vars        = c('Linear_Trend', 'Quadratic_Trend', exo_with_lags),\n",
    "  data             = df_lisboa_df,\n",
    "  panel_identifier = c(\"CCA_2\", \"time\")\n",
    ")\n",
    "  \n"
   ]
  },
  {
   "cell_type": "code",
   "execution_count": 24,
   "id": "f8f7c4a3",
   "metadata": {
    "vscode": {
     "languageId": "r"
    }
   },
   "outputs": [
    {
     "data": {
      "text/plain": [
       "---------------------------------------------------\n",
       "Fixed Effects OLS Panel VAR estimation \n",
       "---------------------------------------------------\n",
       "Transformation: demean \n",
       "Group variable: CCA_2 \n",
       "Time variable: time \n",
       "Number of observations = 387 \n",
       "Number of groups = 9 \n",
       "Obs per group: min = 43 \n",
       "               avg = 43 \n",
       "               max = 43 \n",
       "\n",
       "===============================================================================================\n",
       "                                 demeaned_purchases_log_D1  demeaned_ur_D1  demeaned_hpi_log_D1\n",
       "-----------------------------------------------------------------------------------------------\n",
       "demeaned_lag1_purchases_log_D1    0.0872                     0.0006         -0.0051            \n",
       "                                 (0.0549)                   (0.0007)        (0.0036)           \n",
       "demeaned_lag1_ur_D1               6.1846                     0.1607 **      -0.2965            \n",
       "                                 (4.3363)                   (0.0587)        (0.2862)           \n",
       "demeaned_lag1_hpi_log_D1         -0.1981                     0.0025          0.1468 **         \n",
       "                                 (0.8105)                   (0.0110)        (0.0535)           \n",
       "demeaned_Linear_Trend             0.0050                    -0.0004 ***      0.0037 ***        \n",
       "                                 (0.0080)                   (0.0001)        (0.0005)           \n",
       "demeaned_Quadratic_Trend         -0.0001                     0.0000 ***     -0.0001 ***        \n",
       "                                 (0.0002)                   (0.0000)        (0.0000)           \n",
       "demeaned_fwi_D1                  -0.0301                     0.0011 ***     -0.0050 ***        \n",
       "                                 (0.0218)                   (0.0003)        (0.0014)           \n",
       "demeaned_high_fire_days           0.0322                    -0.0012 ***      0.0025            \n",
       "                                 (0.0249)                   (0.0003)        (0.0016)           \n",
       "demeaned_tp_hd                    0.0559                     0.0119 ***     -0.0065            \n",
       "                                 (0.1681)                   (0.0023)        (0.0111)           \n",
       "demeaned_tp_std_mm_hour_D1       -0.9006                    -0.0421 **      -0.1726 **         \n",
       "                                 (1.0064)                   (0.0136)        (0.0664)           \n",
       "demeaned_t2m_hd                   0.0976                    -0.0013         -0.0123            \n",
       "                                 (0.1123)                   (0.0015)        (0.0074)           \n",
       "demeaned_t2m_std_D1              -0.0245                    -0.0077 ***      0.0186 **         \n",
       "                                 (0.0909)                   (0.0012)        (0.0060)           \n",
       "demeaned_Medit_factor_tp          0.0500                    -0.0001         -0.0077            \n",
       "                                 (0.0773)                   (0.0010)        (0.0051)           \n",
       "demeaned_Medit_factor_t2m_D1      0.0979                    -0.0105 **      -0.0034            \n",
       "                                 (0.2669)                   (0.0036)        (0.0176)           \n",
       "demeaned_fwi_D1_L1               -0.0188                     0.0006 **       0.0008            \n",
       "                                 (0.0163)                   (0.0002)        (0.0011)           \n",
       "demeaned_high_fire_days_L1       -0.0375                     0.0014 ***     -0.0030            \n",
       "                                 (0.0260)                   (0.0004)        (0.0017)           \n",
       "demeaned_tp_hd_L1                -0.1332                    -0.0100 ***      0.0071            \n",
       "                                 (0.1468)                   (0.0020)        (0.0097)           \n",
       "demeaned_tp_std_mm_hour_D1_L1    -0.9847                     0.0281 **      -0.0069            \n",
       "                                 (0.7793)                   (0.0105)        (0.0514)           \n",
       "demeaned_t2m_hd_L1                0.0091                    -0.0012          0.0112            \n",
       "                                 (0.1128)                   (0.0015)        (0.0074)           \n",
       "demeaned_t2m_std_D1_L1            0.0185                     0.0002          0.0140 *          \n",
       "                                 (0.0968)                   (0.0013)        (0.0064)           \n",
       "demeaned_Medit_factor_tp_L1       0.1091                    -0.0015          0.0095 *          \n",
       "                                 (0.0733)                   (0.0010)        (0.0048)           \n",
       "demeaned_Medit_factor_t2m_D1_L1   0.0989                     0.0015          0.0427 **         \n",
       "                                 (0.2172)                   (0.0029)        (0.0143)           \n",
       "===============================================================================================\n",
       "*** p < 0.001; ** p < 0.01; * p < 0.05\n"
      ]
     },
     "metadata": {},
     "output_type": "display_data"
    }
   ],
   "source": [
    "summary(mun_fe_series_lags_1_lisb)"
   ]
  },
  {
   "cell_type": "code",
   "execution_count": 25,
   "id": "b28617ec",
   "metadata": {
    "vscode": {
     "languageId": "r"
    }
   },
   "outputs": [
    {
     "name": "stdout",
     "output_type": "stream",
     "text": [
      "[1] \"Centro (PT)\"          \"Norte\"                \"Alentejo\"            \n",
      "[4] \"Algarve\"              \"Oeste e Vale do Tejo\" \"Grande Lisboa\"       \n",
      "[7] \"Pen<U+00ED>nsula de Set<U+00FA>bal\"\n"
     ]
    }
   ],
   "source": [
    "unique_values <- unique(df_panel$NUTS_NAME)\n",
    "print(unique_values)"
   ]
  },
  {
   "cell_type": "markdown",
   "id": "d827b8e7",
   "metadata": {},
   "source": [
    "#### Porto"
   ]
  },
  {
   "cell_type": "code",
   "execution_count": 43,
   "id": "1804d7dd",
   "metadata": {
    "vscode": {
     "languageId": "r"
    }
   },
   "outputs": [],
   "source": [
    "\n",
    "\n",
    "endog        <- c(\"purchases_log_D1\", \"ur_D1\", \"hpi_log_D1\")\n",
    "exo_base     <- c(                       # contemporaneous exogenous terms\n",
    "  \"fwi_D1\", \"high_fire_days\", \"tp_hd\",\n",
    "  \"tp_std_mm_hour_D1\", \"t2m_hd\", \"t2m_std_D1\", \"Medit_factor_tp\",\n",
    "\"Medit_factor_t2m_D1\"\n",
    ")\n",
    "p = 1\n",
    "\n",
    "exo_with_lags <- exo_base\n",
    "\n",
    "for (lag in 1:p) {\n",
    "  col_lags <- paste0(exo_base, \"_L\", lag)\n",
    "  exo_with_lags <- c(exo_with_lags, col_lags)\n",
    "}\n",
    "df_porto <-  df_panel %>%\n",
    "  filter(NUTS_NAME %in% c(\"norte\"))  %>% \n",
    "  mutate(time = yearquarter(time)) %>%  select(CCA_2, time, all_of(endog), all_of(exo_with_lags)) \n",
    "\n",
    "\n",
    "# Step 1: Create linear trends that are specific to each municipality\n",
    "df_porto <- df_porto %>%\n",
    "  group_by(CCA_2) %>%\n",
    "  mutate(Linear_Trend = row_number())  # Creates a linear trend for each municipality\n",
    "\n",
    "# df_lisboa 2: Create quadratic trends that are specific to each municipality\n",
    "df_porto <- df_porto %>%\n",
    "  mutate(Quadratic_Trend = Linear_Trend^2)  # Quadratic trend is square of linear trend\n",
    "\n",
    "                                  # no missing values\n",
    "df_lisboa_df <- as.data.frame(df_porto)\n",
    "\n",
    "## fit PVAR-FE\n",
    "mun_fe_series_lags_1_port <- pvarfeols(\n",
    "  dependent_vars   = endog,\n",
    "  lags             = p,\n",
    "  exog_vars        = c('Linear_Trend', 'Quadratic_Trend', exo_with_lags),\n",
    "  data             = df_lisboa_df,\n",
    "  panel_identifier = c(\"CCA_2\", \"time\")\n",
    ")\n",
    "  \n"
   ]
  },
  {
   "cell_type": "code",
   "execution_count": 44,
   "id": "7d6beae0",
   "metadata": {
    "vscode": {
     "languageId": "r"
    }
   },
   "outputs": [
    {
     "data": {
      "text/plain": [
       "---------------------------------------------------\n",
       "Fixed Effects OLS Panel VAR estimation \n",
       "---------------------------------------------------\n",
       "Transformation: demean \n",
       "Group variable: CCA_2 \n",
       "Time variable: time \n",
       "Number of observations = 3698 \n",
       "Number of groups = 86 \n",
       "Obs per group: min = 43 \n",
       "               avg = 43 \n",
       "               max = 43 \n",
       "\n",
       "===============================================================================================\n",
       "                                 demeaned_purchases_log_D1  demeaned_ur_D1  demeaned_hpi_log_D1\n",
       "-----------------------------------------------------------------------------------------------\n",
       "demeaned_lag1_purchases_log_D1   -0.2530 ***                -0.0023 *        0.0066 *          \n",
       "                                 (0.0168)                   (0.0010)        (0.0030)           \n",
       "demeaned_lag1_ur_D1              -0.7718 **                 -0.1250 ***     -0.0089            \n",
       "                                 (0.2862)                   (0.0176)        (0.0513)           \n",
       "demeaned_lag1_hpi_log_D1         -0.0349                    -0.0335 ***      0.0087            \n",
       "                                 (0.0940)                   (0.0058)        (0.0169)           \n",
       "demeaned_Linear_Trend             0.0003                    -0.0004 ***      0.0019 ***        \n",
       "                                 (0.0008)                   (0.0000)        (0.0001)           \n",
       "demeaned_Quadratic_Trend         -0.0000                     0.0000 ***     -0.0000 ***        \n",
       "                                 (0.0000)                   (0.0000)        (0.0000)           \n",
       "demeaned_fwi_D1                  -0.0087 ***                 0.0004 **       0.0008            \n",
       "                                 (0.0022)                   (0.0001)        (0.0004)           \n",
       "demeaned_high_fire_days           0.0004                     0.0001         -0.0023 ***        \n",
       "                                 (0.0025)                   (0.0002)        (0.0005)           \n",
       "demeaned_tp_hd                    0.0179 *                   0.0025 ***     -0.0067 ***        \n",
       "                                 (0.0078)                   (0.0005)        (0.0014)           \n",
       "demeaned_tp_std_mm_hour_D1        0.2037 ***                -0.0158 ***      0.0765 ***        \n",
       "                                 (0.0527)                   (0.0032)        (0.0094)           \n",
       "demeaned_t2m_hd                   0.0562 ***                -0.0016 **       0.0068 ***        \n",
       "                                 (0.0100)                   (0.0006)        (0.0018)           \n",
       "demeaned_t2m_std_D1               0.0268 **                 -0.0047 ***      0.0097 ***        \n",
       "                                 (0.0085)                   (0.0005)        (0.0015)           \n",
       "demeaned_Medit_factor_tp         -0.0207 *                   0.0018 **       0.0074 ***        \n",
       "                                 (0.0099)                   (0.0006)        (0.0018)           \n",
       "demeaned_Medit_factor_t2m_D1      0.1120 ***                -0.0032         -0.0472 ***        \n",
       "                                 (0.0264)                   (0.0016)        (0.0047)           \n",
       "demeaned_fwi_D1_L1                0.0020                     0.0002 **       0.0012 ***        \n",
       "                                 (0.0013)                   (0.0001)        (0.0002)           \n",
       "demeaned_high_fire_days_L1       -0.0040                    -0.0002          0.0029 ***        \n",
       "                                 (0.0028)                   (0.0002)        (0.0005)           \n",
       "demeaned_tp_hd_L1                -0.0225 **                 -0.0024 ***      0.0138 ***        \n",
       "                                 (0.0070)                   (0.0004)        (0.0013)           \n",
       "demeaned_tp_std_mm_hour_D1_L1    -0.2945 ***                 0.0019         -0.0953 ***        \n",
       "                                 (0.0494)                   (0.0030)        (0.0089)           \n",
       "demeaned_t2m_hd_L1                0.0325 ***                 0.0008         -0.0101 ***        \n",
       "                                 (0.0093)                   (0.0006)        (0.0017)           \n",
       "demeaned_t2m_std_D1_L1           -0.0738 ***                -0.0015 *        0.0215 ***        \n",
       "                                 (0.0099)                   (0.0006)        (0.0018)           \n",
       "demeaned_Medit_factor_tp_L1       0.0613 ***                -0.0020 ***     -0.0146 ***        \n",
       "                                 (0.0098)                   (0.0006)        (0.0018)           \n",
       "demeaned_Medit_factor_t2m_D1_L1   0.0141                    -0.0020          0.0103 *          \n",
       "                                 (0.0276)                   (0.0017)        (0.0050)           \n",
       "===============================================================================================\n",
       "*** p < 0.001; ** p < 0.01; * p < 0.05\n"
      ]
     },
     "metadata": {},
     "output_type": "display_data"
    }
   ],
   "source": [
    "summary(mun_fe_series_lags_1_port)"
   ]
  },
  {
   "cell_type": "markdown",
   "id": "57d9c01a",
   "metadata": {},
   "source": [
    "#### Algarve"
   ]
  },
  {
   "cell_type": "code",
   "execution_count": 45,
   "id": "c6536ddc",
   "metadata": {
    "vscode": {
     "languageId": "r"
    }
   },
   "outputs": [],
   "source": [
    "\n",
    "\n",
    "endog        <- c(\"purchases_log_D1\", \"ur_D1\", \"hpi_log_D1\")\n",
    "exo_base     <- c(                       # contemporaneous exogenous terms\n",
    "  \"fwi_D1\", \"high_fire_days\", \"tp_hd\",\n",
    "  \"tp_std_mm_hour_D1\", \"t2m_hd\", \"t2m_std_D1\", \"Medit_factor_tp\",\n",
    "\"Medit_factor_t2m_D1\"\n",
    ")\n",
    "p = 1\n",
    "\n",
    "exo_with_lags <- exo_base\n",
    "\n",
    "for (lag in 1:p) {\n",
    "  col_lags <- paste0(exo_base, \"_L\", lag)\n",
    "  exo_with_lags <- c(exo_with_lags, col_lags)\n",
    "}\n",
    "df_alg <-  df_panel %>%\n",
    "  filter(NUTS_NAME %in% c(\"algarve\"))  %>% \n",
    "  mutate(time = yearquarter(time)) %>%  select(CCA_2, time, all_of(endog), all_of(exo_with_lags)) \n",
    "\n",
    "\n",
    "# Step 1: Create linear trends that are specific to each municipality\n",
    "df_alg <- df_alg %>%\n",
    "  group_by(CCA_2) %>%\n",
    "  mutate(Linear_Trend = row_number())  # Creates a linear trend for each municipality\n",
    "\n",
    "# df_lisboa 2: Create quadratic trends that are specific to each municipality\n",
    "df_alg <- df_alg %>%\n",
    "  mutate(Quadratic_Trend = Linear_Trend^2)  # Quadratic trend is square of linear trend\n",
    "\n",
    "                                  # no missing values\n",
    "df_lisboa_df <- as.data.frame(df_alg)\n",
    "\n",
    "## fit PVAR-FE\n",
    "mun_fe_series_lags_1_alg <- pvarfeols(\n",
    "  dependent_vars   = endog,\n",
    "  lags             = p,\n",
    "  exog_vars        = c('Linear_Trend', 'Quadratic_Trend', exo_with_lags),\n",
    "  data             = df_lisboa_df,\n",
    "  panel_identifier = c(\"CCA_2\", \"time\")\n",
    ")\n",
    "  \n"
   ]
  },
  {
   "cell_type": "code",
   "execution_count": 46,
   "id": "c964d656",
   "metadata": {
    "vscode": {
     "languageId": "r"
    }
   },
   "outputs": [
    {
     "data": {
      "text/plain": [
       "---------------------------------------------------\n",
       "Fixed Effects OLS Panel VAR estimation \n",
       "---------------------------------------------------\n",
       "Transformation: demean \n",
       "Group variable: CCA_2 \n",
       "Time variable: time \n",
       "Number of observations = 688 \n",
       "Number of groups = 16 \n",
       "Obs per group: min = 43 \n",
       "               avg = 43 \n",
       "               max = 43 \n",
       "\n",
       "===============================================================================================\n",
       "                                 demeaned_purchases_log_D1  demeaned_ur_D1  demeaned_hpi_log_D1\n",
       "-----------------------------------------------------------------------------------------------\n",
       "demeaned_lag1_purchases_log_D1   -0.2054 ***                 0.0020         -0.0021            \n",
       "                                 (0.0401)                   (0.0030)        (0.0059)           \n",
       "demeaned_lag1_ur_D1              -2.6857 ***                -0.0349         -0.1818 *          \n",
       "                                 (0.5513)                   (0.0411)        (0.0811)           \n",
       "demeaned_lag1_hpi_log_D1          0.3837                    -0.0539 **       0.0777            \n",
       "                                 (0.2777)                   (0.0207)        (0.0409)           \n",
       "demeaned_Linear_Trend            -0.0046                    -0.0000          0.0033 ***        \n",
       "                                 (0.0038)                   (0.0003)        (0.0006)           \n",
       "demeaned_Quadratic_Trend          0.0001                     0.0000         -0.0001 ***        \n",
       "                                 (0.0001)                   (0.0000)        (0.0000)           \n",
       "demeaned_fwi_D1                  -0.0112                    -0.0010          0.0039 **         \n",
       "                                 (0.0096)                   (0.0007)        (0.0014)           \n",
       "demeaned_high_fire_days           0.0229 *                   0.0015 *       -0.0036 **         \n",
       "                                 (0.0090)                   (0.0007)        (0.0013)           \n",
       "demeaned_tp_hd                   -0.2421 *                   0.0039         -0.0898 ***        \n",
       "                                 (0.0951)                   (0.0071)        (0.0140)           \n",
       "demeaned_tp_std_mm_hour_D1        2.5464 ***                -0.0571          0.9413 ***        \n",
       "                                 (0.6218)                   (0.0463)        (0.0915)           \n",
       "demeaned_t2m_hd                  -0.0728                     0.0149 ***     -0.0152 *          \n",
       "                                 (0.0426)                   (0.0032)        (0.0063)           \n",
       "demeaned_t2m_std_D1              -0.0173                    -0.0097 *       -0.0093            \n",
       "                                 (0.0508)                   (0.0038)        (0.0075)           \n",
       "demeaned_Medit_factor_tp         -0.0260                     0.0032          0.0049            \n",
       "                                 (0.0374)                   (0.0028)        (0.0055)           \n",
       "demeaned_Medit_factor_t2m_D1      0.2004                    -0.0345 ***     -0.0014            \n",
       "                                 (0.1117)                   (0.0083)        (0.0164)           \n",
       "demeaned_fwi_D1_L1                0.0104 *                  -0.0009 *        0.0003            \n",
       "                                 (0.0050)                   (0.0004)        (0.0007)           \n",
       "demeaned_high_fire_days_L1       -0.0152                    -0.0014 *        0.0038 **         \n",
       "                                 (0.0092)                   (0.0007)        (0.0014)           \n",
       "demeaned_tp_hd_L1                 0.1898 *                   0.0002          0.0831 ***        \n",
       "                                 (0.0843)                   (0.0063)        (0.0124)           \n",
       "demeaned_tp_std_mm_hour_D1_L1     0.0864                    -0.0660 **       0.1532 ***        \n",
       "                                 (0.2873)                   (0.0214)        (0.0423)           \n",
       "demeaned_t2m_hd_L1                0.0846 *                  -0.0130 ***      0.0097            \n",
       "                                 (0.0405)                   (0.0030)        (0.0060)           \n",
       "demeaned_t2m_std_D1_L1           -0.2013 ***                 0.0009          0.0295 ***        \n",
       "                                 (0.0457)                   (0.0034)        (0.0067)           \n",
       "demeaned_Medit_factor_tp_L1       0.0119                    -0.0034         -0.0030            \n",
       "                                 (0.0361)                   (0.0027)        (0.0053)           \n",
       "demeaned_Medit_factor_t2m_D1_L1   0.6945 ***                -0.0325 ***      0.0376 *          \n",
       "                                 (0.1100)                   (0.0082)        (0.0162)           \n",
       "===============================================================================================\n",
       "*** p < 0.001; ** p < 0.01; * p < 0.05\n"
      ]
     },
     "metadata": {},
     "output_type": "display_data"
    }
   ],
   "source": [
    "summary(mun_fe_series_lags_1_alg)"
   ]
  }
 ],
 "metadata": {
  "kernelspec": {
   "display_name": "R",
   "language": "R",
   "name": "ir"
  },
  "language_info": {
   "codemirror_mode": "r",
   "file_extension": ".r",
   "mimetype": "text/x-r-source",
   "name": "R",
   "pygments_lexer": "r",
   "version": "4.4.1"
  }
 },
 "nbformat": 4,
 "nbformat_minor": 5
}
