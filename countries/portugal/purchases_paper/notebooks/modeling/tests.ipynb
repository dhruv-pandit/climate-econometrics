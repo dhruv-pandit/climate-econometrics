{
 "cells": [
  {
   "cell_type": "code",
   "execution_count": 1,
   "id": "9fe50459",
   "metadata": {
    "vscode": {
     "languageId": "r"
    }
   },
   "outputs": [
    {
     "name": "stderr",
     "output_type": "stream",
     "text": [
      "Warning message:\n",
      "\"package 'punitroots' is not available for this version of R\n",
      "\n",
      "A version of this package for your version of R might be available elsewhere,\n",
      "see the ideas at\n",
      "https://cran.r-project.org/doc/manuals/r-patched/R-admin.html#Installing-packages\"\n"
     ]
    }
   ],
   "source": [
    "install.packages(\"punitroots\")"
   ]
  },
  {
   "cell_type": "code",
   "execution_count": 2,
   "id": "c275bdba",
   "metadata": {
    "vscode": {
     "languageId": "r"
    }
   },
   "outputs": [
    {
     "name": "stdout",
     "output_type": "stream",
     "text": [
      "\n",
      "The downloaded binary packages are in\n",
      "\t/var/folders/nt/03y4p9md50gblp_0svv74zb80000gn/T//RtmpCCKjro/downloaded_packages\n"
     ]
    }
   ],
   "source": [
    "install.packages(\"arrow\")"
   ]
  },
  {
   "cell_type": "code",
   "execution_count": 3,
   "id": "45e5003d",
   "metadata": {
    "vscode": {
     "languageId": "r"
    }
   },
   "outputs": [
    {
     "name": "stderr",
     "output_type": "stream",
     "text": [
      "Loading required package: dynlm\n",
      "\n",
      "Loading required package: zoo\n",
      "\n",
      "\n",
      "Attaching package: 'zoo'\n",
      "\n",
      "\n",
      "The following objects are masked from 'package:base':\n",
      "\n",
      "    as.Date, as.Date.numeric\n",
      "\n",
      "\n",
      "Loading required package: sandwich\n",
      "\n",
      "Loading required package: tseries\n",
      "\n",
      "Registered S3 method overwritten by 'quantmod':\n",
      "  method            from\n",
      "  as.zoo.data.frame zoo \n",
      "\n",
      "Loading required package: urca\n",
      "\n",
      "Registered S3 methods overwritten by 'CADFtest':\n",
      "  method     from    \n",
      "  bread.mlm  sandwich\n",
      "  estfun.mlm sandwich\n",
      "\n"
     ]
    }
   ],
   "source": [
    "library(CADFtest)\n",
    "print.pCADFtestsummary <- function(x, ...)\n",
    "{\n",
    "\t# x is an object of class `pCADFtestsummary'\n",
    "\tttype <- \"Panel Covariate Augmented DF test\"\n",
    "\tif (nrow(x$test.summary)==2) ttype <- \"Panel Augmented DF test\"\n",
    "\tcat(ttype, \"\\n\")\n",
    "\tcat(\"Correction for cross-correlation:\", x$corr, \"\\n\")\n",
    "\tcat(\"\\n\")\n",
    "\tprint(x$individual.tests, ...)\n",
    "\tprint(x$test.summary, ...)\n",
    "}\n",
    "#-----------------------------------\n",
    "spsm <- function(pCADFtest.results, alpha = 0.05)\n",
    "{\n",
    "  ## Sequential Panel Selection Method\n",
    "  ##\n",
    "  ## pCADFtest.results:\tpCADFtest object from pCADFtest()\n",
    "  ## alpha:      \tsignificance level\n",
    "\n",
    "  ## Initialize some values\n",
    "  N <- nrow(pCADFtest.results$individual.tests) # N: number of time series\n",
    "  K.rej <- NULL                          # K.rej: variables identified as I(0)\n",
    "\n",
    "  ## Define the full set of time series\n",
    "  S <- 1:N\n",
    "\n",
    "  ## continue only if the panel test rejects\n",
    "  if(pCADFtest.results$p.value < alpha)\n",
    "  {\n",
    "    ## identify the minimum p-value of univariate tests (u.rej)\n",
    "    pvalues <- pCADFtest.results$individual.tests[,1]\n",
    "    r <- which.min(pvalues)\n",
    "    K.rej <- r\n",
    "    pvalues[r] <- 9999\n",
    "    ## S1: all the series except the one under test\n",
    "    S1 <- S[-r]\n",
    "    rej <- TRUE\n",
    "    while((length(S1) > 0)&(rej == TRUE))\n",
    "    {\n",
    "      sub.p.values <- pvalues[S1]\n",
    "      if (pCADFtest.results$corr == FALSE)\n",
    "      {\n",
    "\t# Perform Choi's test (inverse normal combination)\n",
    "\tZ    <- sum(qnorm(sub.p.values))/sqrt(length(sub.p.values))   # simple combination statistic\n",
    "\tpval <- pnorm(Z)                      # pvalue of Choi's test\n",
    "      }\n",
    "      else\n",
    "      {\n",
    "\tif (length(S1) > 1)\n",
    "\t{\n",
    "\t  # Perform Hartung's adjustment\n",
    "\t  hart <- Hartung(sub.p.values)       # Hartung's correction\n",
    "\t  Z    <- hart$statistic\n",
    "\t  pval <- hart$p.value\n",
    "\t}\n",
    "\telse\n",
    "\t{\n",
    "\t  pval <- sub.p.values\n",
    "\t}\n",
    "      }\n",
    "      rej <- (pval < alpha)\n",
    "      if (rej == TRUE)\n",
    "      {\n",
    "\tr <- c(r, which.min(pvalues))\n",
    "\tK.rej <- r\n",
    "\tpvalues[r] <- 9999\n",
    "\tS1 <- S[-r]\n",
    "      }\n",
    "    }\n",
    "  }\n",
    "  return(K.rej)\n",
    "}\n",
    "#-----------------------------------\n",
    "Pesaran <- function(resids)\n",
    "#\n",
    "# This function computes Pesaran's (2004) test for cross-dependence in panels.\n",
    "# Arguments: \n",
    "#\t\tresids: TxN matrix of residuals from N single-equation models over N time series of length T\n",
    "#\n",
    "# Value:\n",
    "#\t\ta list of class ``htest'' containing\n",
    "#\t\tstatistic: the test statistic\n",
    "#\t\tparameter: the length of time series (T) and the number of models (N)\n",
    "#\t\tp.value: the test p-value\n",
    "#\t\tconf.int: not used\n",
    "#\t\testimate: not used\n",
    "#\t\tnull.value: the specified hypothesized value under the null\n",
    "#\t\talternative: a character string describing the alternative hypothesis\n",
    "#\t\tmethod: a character srting indicating the type of test\n",
    "#\t\tdata.name: a character string giving the name of the data set\n",
    "#\n",
    "# Reference:\n",
    "# Pesaran, M.H. (2004): \"General Diagnostic Tests for Cross Section Dependence in Panels\"\n",
    "#\t\t\tUniversity of Cambridge, mimeo\n",
    "#\n",
    "{ \n",
    "  T <- dim(resids)[1]\n",
    "  N <- dim(resids)[2]\n",
    "  residCorr <- cor(resids, use=\"pairwise.complete.obs\")\n",
    "  # test statistic\n",
    "  CD <- sqrt(2*T/N/(N-1)) * sum(residCorr - diag(N))/2\n",
    "  # p.value\n",
    "  p.value <- 2*(1-pnorm(abs(CD)))\n",
    "\n",
    "  output <- list(statistic=c(\"CD\"=CD),\n",
    "\t  parameter=c(\"N\"=N, \"T\"=T),\n",
    "\t  p.value=p.value,\n",
    "\t  conf.int=NULL,\n",
    "\t  estimate=NULL,\n",
    "\t  null.value=c(\"CD\"=0),\n",
    "\t  alternative=\"two.sided\",\n",
    "\t  method=\"Pesaran's test for residuals cross-correlation\",\n",
    "\t  data.name=deparse(substitute(resids)))\n",
    "\n",
    "  class(output) <- \"htest\"\n",
    "\n",
    "  return(output)\n",
    "}\n",
    "#-----------------------------------\n",
    "## Hadri test (combining KPSS tests)\n",
    "\n",
    "phadri <- function(object, exo = c(\"intercept\", \"trend\"), \n",
    "            kernel = c(\"Bartlett\", \"Quadratic Spectral\", \n",
    "            \"Truncated\", \"Parzen\", \"Tukey-Hanning\"), \n",
    "            bw = NULL, het = TRUE, ...) {\n",
    "\n",
    "#require(\"sandwich\")\n",
    "\n",
    "data.name <- paste(deparse(substitute(object)))\n",
    "\n",
    "#if(mode(lags) != \"numeric\") stop(\"'lags' must be a number\")\n",
    "#if(round(lags) != lags) stop(\"'lags' must be an integer\")\n",
    "\n",
    "kernel <- match.arg(kernel)\n",
    "exo <- match.arg(exo)\n",
    "\n",
    "nobs <- nrow(object)\n",
    "nseries <- ncol(object)\n",
    "\n",
    "trend <- 1:nobs\n",
    "\n",
    "## internal function for kpss test\n",
    " kpss <- function(x, exo = exo, bw = bw, ...){\n",
    "  if(exo == \"intercept\") lmobj <- lm(x ~ 1)\n",
    "  if(exo == \"trend\")     lmobj <- lm(x ~ trend)\n",
    "#  lmobj <- ifelse(exo == \"intercept\", lm(x ~ 1), lm(x ~ trend)) \n",
    "  u <- resid(lmobj)\n",
    "  uu <- mean(cumsum(u)^2) / nobs\n",
    "  ## warning: note def. of kernHAC!\n",
    "  lrv <- kernHAC(lm(u ~ 1), prewhite = FALSE, bw = bw, \n",
    "                kernel = kernel, ...) * nobs             \n",
    "  uu <- uu / lrv\n",
    "  list(kpss = uu, lrv = lrv)\n",
    " }\n",
    "  \n",
    " if(exo == \"intercept\") adj <- c(1/6, 1/45)\n",
    " if(exo == \"trend\")     adj <- c(1/15, 11/6300)\n",
    "\n",
    " ## individual KPSS statistics and long-run variances\n",
    "  stati <- apply(object, 2, function(x) kpss(x, exo = exo, bw = bw, ...)$kpss)\n",
    "  lrvi <- apply(object, 2, function(x) kpss(x, exo = exo, bw = bw, ...)$lrv)\n",
    "  mlrv <- mean(lrvi)\n",
    " \n",
    " ## cross-sectional heteroskedasticity?\n",
    " if(het) {\n",
    "  stat <- mean(stati)\n",
    "  } else {\n",
    "  stat <- mean(stati * lrvi) / mean(lrvi)\n",
    "  }\n",
    " \n",
    " ## Hadri statistic \n",
    "  stat <- sqrt(nseries) * (stat - adj[1]) / sqrt(adj[2])\n",
    "  names(stat) <- \"H\"\n",
    "  pvalue <- pnorm(stat, lower.tail = FALSE)\n",
    "  parameter <- NULL\n",
    "  method <-  \"Hadri panel stationarity test\"\n",
    "\n",
    " result <- structure(list(statistic = stat,\n",
    "                          parameter = parameter,\n",
    "                          alternative = \"at least one series has a unit root\",\n",
    "                          data.name = data.name,\n",
    "                          method = method,\n",
    "                          istat = stati,\n",
    "                          ilrv = lrvi,\n",
    "                          mlrv = mlrv,\n",
    "                          p.value = pvalue),\n",
    "                          class = \"htest\")\n",
    "  \n",
    " ##result <- list(statistic = htest,\n",
    " #               call = cl,\n",
    " #               args = args,\n",
    " #               idres = idres,\n",
    " #               adjval = adjval)\n",
    " #class(result) <- \"htest\"\n",
    " result\n",
    "\n",
    "}\n",
    "#-----------------------------------\n",
    "## Fisher-type tests (combining p-values)\n",
    "\n",
    "pfisher <- function(object, \n",
    "            method = c(\"invchisq\", \"invnorm\", \"invlogit\"), \n",
    "            N = NULL, exo = c(\"intercept\", \"none\", \"trend\"), \n",
    "            lags = NULL) {\n",
    "\n",
    "#require(\"fUnitRoots\")\n",
    "\n",
    "data.name <- paste(deparse(substitute(object)))\n",
    "\n",
    "if(mode(lags) != \"numeric\") stop(\"'lags' must be a number\")\n",
    "if(round(lags) != lags) stop(\"'lags' must be an integer\")\n",
    "\n",
    "exo <- match.arg(exo)\n",
    "method <- match.arg(method)\n",
    "\n",
    "## quick fix\n",
    " if(exo == \"intercept\") adfarg <- \"c\"\n",
    " if(exo == \"none\")      adfarg <- \"nc\"\n",
    " if(exo == \"trend\")     adfarg <- \"ct\"\n",
    "\n",
    " \n",
    "## ADFs and their p-values\n",
    " tstats <- apply(object, 2, function(x) unitrootTest(x, lags = lags, type = adfarg)@test$statistic)\n",
    "\n",
    " pvals <- sapply(tstats, function(x) punitroot(x, N = N, trend = adfarg, statistic = \"t\"))\n",
    " n <- length(pvals)\n",
    " \n",
    "## inverse chi-squared aka Fisher aka 'madwu' \n",
    " if(method == \"invchisq\"){\n",
    "  stat <-  -2*sum(log(pvals))\n",
    "  names(stat) <- \"P\"\n",
    "  pvalue <- pchisq(stat, df = 2*n, lower.tail = FALSE)\n",
    "  parameter <- c(df = 2 * n)\n",
    "  method <-  \"Inverse chi-square test (Maddala and Wu)\"\n",
    " }\n",
    " \n",
    "## inverse normal from Choi 2001 \n",
    " if(method == \"invnorm\"){\n",
    "  stat <-  sum(qnorm(pvals))/sqrt(n)\n",
    "  names(stat) <- \"Norm\"\n",
    "  pvalue <- pnorm(stat, lower.tail = TRUE)\n",
    "  parameter <- NULL\n",
    "  method <-  \"Inverse normal test (Choi)\"\n",
    " }\n",
    " \n",
    "## inverse logit from Choi 2001 \n",
    " if(method == \"invlogit\"){\n",
    "  stat <-  sum(log(pvals / (1 - pvals)))\n",
    "  k <- 3 * (5*n + 4) / pi^2 / n / (5*n + 2) \n",
    "  stat <- sqrt(k) * stat\n",
    "  names(stat) <- \"L*\"\n",
    "  pvalue <- pt(stat, df = 5*n+4, lower.tail = TRUE)\n",
    "  parameter <- c(df = 5*n+4)\n",
    "  method <-  \"Inverse logit test (Choi)\"\n",
    " }\n",
    "\n",
    " result <- structure(list(statistic = stat,\n",
    "                          parameter = parameter,\n",
    "                          alternative = \"at least one series is stationary\",\n",
    "                          data.name = data.name,\n",
    "                          method = method,\n",
    "                          p.value = pvalue),\n",
    "                     class = \"htest\")\n",
    "  \n",
    " result\n",
    " \n",
    "}\n",
    "Hartung <- function(p, lambda=rep(1,length(p)), kappa=0.2, alpha=0.10)\n",
    "#\n",
    "# This function applies the modified inverse normal method for the combination of dependent p-values.\n",
    "#\n",
    "# Arguments:\n",
    "# p:         vector of p-values.\n",
    "# lambda:    vector of weights. It must be of the same length of p.\n",
    "# kappa:     adjustment parameter. It can be either a positive value (0.2 is the default value) or \"formula\". If \n",
    "#            k == \"formula\", then it is computed as in Hartung, p. 853.\n",
    "# alpha:     level for the 1-alpha confidence interval for rho (0.10 is the default).\n",
    "#\n",
    "# Value: \n",
    "# \t     a list of class ``htest'' containing\n",
    "#\t     statistic: the Ht test statistic\n",
    "#\t     parameter: the number of combined tests (p-values)\n",
    "#\t     p.value: the combined test p-value\n",
    "#\t     conf.int: the confidence interval for the estimated correlation\n",
    "#\t     estimate: the estimated correlation\n",
    "#\t     null.value: the specified hypothesized value under the null\n",
    "#\t     alternative: a character string describing the alternative hypothesis\n",
    "#\t     method: a character srting indicating the type of combination test (only Z-test is implemented)\n",
    "#\t     data.name: a character string giving the name of the data set\n",
    "#\n",
    "# Reference:\n",
    "# Hartung, J. (1999): \"A note on combining dependent tests of significance\",\n",
    "#                     Biometrical Journal, 41(7), 849--855.\n",
    "#\n",
    "# Author:        Claudio Lupi\n",
    "# This version:  August 22, 2010.\n",
    "#\n",
    "{\n",
    "  t       <- qnorm(p)\n",
    "  n       <- length(p)\n",
    "  avt     <- sum(t)/n\n",
    "  q       <- sum((t - avt)^2)/(n-1)                          # Hartung, eqn. (2.2)\n",
    "  rhohat  <- 1 - q\n",
    "  rhostar <- max(-1/(n-1), rhohat)                           # Hartung, p. 851\n",
    "  if (kappa==\"formula\") kappa <- (1 + 1/(n-1) - rhostar)/10  # Hartung, p. 853\n",
    "  if (kappa==\"formula2\") kappa <- (1 + 1/(n-1) - rhostar)/5  # Hartung, p. 853\n",
    "\n",
    "  # Hartung inverse normal corrected. See eqn. (2.4)\n",
    "  Ht <- sum(lambda*t)/sqrt(sum(lambda^2)+((sum(lambda))^2-sum(lambda^2))*(rhostar+kappa*sqrt(2/(n-1))*(1-rhostar)))\n",
    "  lower <- 1 - (n-1)/qchisq(alpha/2, (n-1)) * q\n",
    "  upper <- 1 - (n-1)/qchisq((1-alpha/2), (n-1)) * q          # Hartung, eqn. (2.3)\n",
    "  \n",
    "  output <- list(statistic=c(\"Ht\"=Ht),\n",
    "\t  parameter=c(\"N\"=n),\n",
    "\t  p.value=pnorm(Ht),\n",
    "\t  conf.int=c(lower, upper),\n",
    "\t  estimate=c(\"average estimated correlation\"=as.vector(rhohat)),\n",
    "\t  null.value=(\"Ht\"=0),\n",
    "\t  alternative=\"less\",\n",
    "\t  method=\"modified inverse normal combination\",\n",
    "\t  data.name=deparse(substitute(p)))\n",
    "\n",
    "  class(output) <- \"htest\"\n",
    "\n",
    "  return(output)\n",
    "}\n",
    "summary.pCADFtest <- function(object, ...)\n",
    "{\n",
    "  # object is an object of class pCADFtest\n",
    "  ind.tests <- object$individual.tests\n",
    "  rnames <- \n",
    "    c(\"test statistic:          \",\n",
    "      \"average estimated rho^2: \",\n",
    "      \"p-value:                 \")\n",
    "\n",
    "  cnames <- \"Panel-CADF test\"\n",
    "\n",
    "  if (is.na(sum(ind.tests[,2])))\n",
    "  {\n",
    "    rnames <- rnames[c(1,3)]\n",
    "    cnames <- \"Panel-ADF test\"\n",
    "    ind.tests <- ind.tests[,c(1,3)]\n",
    "  }\n",
    "\n",
    "  test.summary <- matrix(NA,length(rnames), 1, dimnames=list(rnames,cnames))\n",
    "\n",
    "  test.summary[1] <- object$statistic\n",
    "  test.summary[2] <- object$parameter\n",
    "  test.summary[3-(3-length(rnames))] <- object$p.value\n",
    "\n",
    "  pCADFtestsummary <- list(individual.tests=ind.tests,\n",
    "\t\t\t  test.summary=test.summary,\n",
    "\t\t\t  corr=object$corr)\n",
    "\n",
    "  class(pCADFtestsummary) <- c(\"pCADFtestsummary\")  \n",
    "  return(pCADFtestsummary)\n",
    "}\n",
    "pCADFtest <- function(Y, X=NULL, covariates=NULL, crosscorr=0.10, \n",
    "\t     type=\"trend\", data=list(), max.lag.y=1, \n",
    "\t     min.lag.X=0, max.lag.X=0, dname=NULL, \n",
    "\t     criterion=c(\"none\", \"BIC\", \"AIC\", \"HQC\", \"MAIC\"), ...)\n",
    "{\n",
    "  T <- dim(Y)[1]\n",
    "  N <- dim(Y)[2]\n",
    "  if (is.ts(Y)==FALSE) Y <- ts(Y)\n",
    "  if (is.null(X)==FALSE) {if (is.ts(X)==FALSE) X <- ts(X)}\n",
    "  fake.Y <- ts(Y, start=1, frequency=1)\n",
    "\n",
    "  if (is.null(covariates)) method <- \"Panel-ADF test\" else method <- \"Panel-CADF test\"\n",
    "\n",
    "  # the covariate is the first difference of the first principal component of Y\n",
    "  # the same covariate is used for all individual tests\n",
    "  if (is.null(covariates)==FALSE)\n",
    "  {\n",
    "    if (covariates[1]==\"PC\")\n",
    "    {\n",
    "      YY <- na.trim(Y)\n",
    "      X <- ts(princomp(YY, cor=TRUE)$scores[,1], start=start(YY), frequency=frequency(YY))\n",
    "      XX <- X\n",
    "      for (i in 2:N) XX <- cbind(XX, X)\n",
    "      X <- diff(XX)\n",
    "      X <- window(X, start=start(Y), end=end(Y), frequency=frequency(Y), extend=TRUE)\n",
    "      covariates <- 1:N\n",
    "    }\n",
    "    else\n",
    "    # for the i-th test, the covariate is the difference of the average of the other Y's\n",
    "    if (covariates[1]==\"DY\")\n",
    "    {\n",
    "      X <- matrix(NA, T, N)\n",
    "      for (i in 1:N)\n",
    "      X[,i] <- apply(Y[,-i], 1, \"mean\")\n",
    "      X <- ts(X, start=start(Y), frequency=frequency(Y))\n",
    "      X <- diff(X)\n",
    "      X <- window(X, start=start(Y), end=end(Y), frequency=frequency(Y), extend=TRUE)\n",
    "      covariates <- 1:N\n",
    "    }\n",
    "  }\n",
    "\n",
    "  if (length(type)==1)\n",
    "    type <- rep(type, N)\n",
    "\n",
    "  if (length(max.lag.y)==1)\n",
    "    max.lag.y <- rep(max.lag.y, N)\n",
    "\n",
    "  if (length(min.lag.X)==1)\n",
    "    min.lag.X <- rep(min.lag.X, N)\n",
    "\n",
    "  if (length(max.lag.X)==1)\n",
    "    max.lag.X <- rep(max.lag.X, N)\n",
    "\n",
    "  criterion <- match.arg(criterion)\n",
    "\n",
    "  # individual.results: Nx5 matrix to store \n",
    "  # (1) individual p-values\n",
    "  # (2) individual rho2\n",
    "  # (3-5) p, q1, q2: orders of the model CADF(p,q1,q2)\n",
    "  individual.results <- matrix(NA, N, 5)\n",
    "  colnames(individual.results) <- c(\"p.value\", \"rho2\", \"p\", \"q1\", \"q2\")\n",
    "  rownames(individual.results) <- colnames(Y)\n",
    "\n",
    "  # resids: TxN matrix of residuals from individual tests\n",
    "  resids <- matrix(NA, T, N)\n",
    "  resids <- ts(resids, start=start(Y), end=end(Y), frequency=frequency(Y))\n",
    "\n",
    "  # Perform individual tests\n",
    "  for (i in 1:N)\n",
    "  {\n",
    "    # dep: dependent variable\n",
    "    depv <- Y[,i]\n",
    "    if (is.null(covariates))\n",
    "    {\n",
    "      test <- CADFtest(depv, max.lag.y=max.lag.y[i], \n",
    "\t      min.lag.X=min.lag.X[i], max.lag.X=max.lag.X[i], \n",
    "\t      type=type[i], criterion=criterion, ...)\n",
    "      r <- residuals(test)\n",
    "      r <- window(r, start=start(Y), end=end(Y), frequency=frequency(Y), extend=TRUE)\n",
    "      test$parameter <- NA\n",
    "    }\n",
    "    else\n",
    "    {\n",
    "      # covariates\n",
    "      covs <- X[,which(covariates==i)]\n",
    "      covs <- window(covs, start=start(depv), end=end(depv), frequency=frequency(depv), extend=TRUE)\n",
    "      test <- CADFtest(depv~covs, max.lag.y=max.lag.y[i], \n",
    "\t      min.lag.X=min.lag.X[i], max.lag.X=max.lag.X[i], \n",
    "\t      type=type[i], criterion=criterion, ...)\n",
    "      r <- residuals(test)\n",
    "      r <- window(r, start=start(fake.Y), end=end(fake.Y), frequency=frequency(fake.Y), extend=TRUE)\n",
    "      r <- ts(r, start=start(Y), end=end(Y), frequency=frequency(Y))\n",
    "    }\n",
    "    resids[,i] <- r\n",
    "    tpv <- test$p.value\n",
    "    tpv <- max(tpv, 1e-16); tpv <- min(tpv, 1 - 1e-16)\n",
    "    individual.results[i,1] <- tpv              # p-value \n",
    "    individual.results[i,2] <- test$parameter   # estimated rho^2 (for CADF only)\n",
    "    individual.results[i,3] <- test$max.lag.y   # selected max lag of the dependent \n",
    "    individual.results[i,4] <- test$max.lag.X   # selected max lag  of the covariate (for CADF only)\n",
    "    individual.results[i,5] <- test$min.lag.X   # selected max lead of the covariate (for CADF only)\n",
    "  }\n",
    "  # Combination of individual tests\n",
    "  ptest <- Pesaran(resids)\n",
    "  if (ptest$p.value >= crosscorr)\n",
    "  {\n",
    "    # Perform Choi's test (inverse normal combination)\n",
    "    Z    <- sum(qnorm(individual.results[,1]))/sqrt(N)   # simple combination statistic\n",
    "    pval <- pnorm(Z)                                     # pvalue of Choi's test\n",
    "  }\n",
    "  else\n",
    "  {\n",
    "    # Perform Hartung's adjustment\n",
    "    hart <- Hartung(individual.results[,1])              # Hartung's correction\n",
    "    Z    <- hart$statistic\n",
    "    pval <- hart$p.value\n",
    "  }\n",
    "  \n",
    "   panel.results <- list(statistic=c(\"test statistic\"=Z),\n",
    " \t\t\tparameter=c(\"mean.rho2\" = mean(individual.results[,2])),\n",
    " \t\t\tmethod=method,\n",
    " \t\t\tp.value=as.vector(pval),\n",
    "\t\t\tcorr=(ptest$p.value < crosscorr),\n",
    "\t\t\tindividual.tests=individual.results,\n",
    "\t\t\tPesaran=ptest)\n",
    "   class(panel.results) <- c(\"pCADFtest\", \"htest\")\n",
    "   return(panel.results)\n",
    "}\n",
    "Simes <- function(pCADFtest.results, alpha=0.05)\n",
    "{\n",
    "  # This function computes the panel unit root Simes test.\n",
    "  # Arguments:\n",
    "  # pCADFtest.results: an object of class pCADFtest\n",
    "  # alpha            : the level of the test (can be a vector)\n",
    "  # Values:\n",
    "  # outcome          : logical. TRUE = \"Don't reject\", FALSE = \"Reject\" the null\n",
    "  #\t\t       it is a vector if alpha is a vector. \n",
    "  sort.pval <- sort(pCADFtest.results$individual.tests[,1])\n",
    "  N         <- length(sort.pval)\n",
    "  critval   <- matrix(NA, N, length(alpha))\n",
    "  for (i in 1:length(alpha))\n",
    "  {\n",
    "    critval[,i] <- (1:N)/N * alpha[i]\n",
    "  }\n",
    "  outcome   <- (apply((sort.pval <= critval), 2, \"sum\")==0)\n",
    "  return(outcome)\n",
    "}"
   ]
  },
  {
   "cell_type": "markdown",
   "id": "274cea25",
   "metadata": {},
   "source": [
    "## Libraries"
   ]
  },
  {
   "cell_type": "code",
   "execution_count": 4,
   "id": "7ab30890",
   "metadata": {
    "vscode": {
     "languageId": "r"
    }
   },
   "outputs": [
    {
     "name": "stderr",
     "output_type": "stream",
     "text": [
      "-- \u001b[1mAttaching core tidyverse packages\u001b[22m ------------------------ tidyverse 2.0.0 --\n",
      "\u001b[32mv\u001b[39m \u001b[34mdplyr    \u001b[39m 1.1.4     \u001b[32mv\u001b[39m \u001b[34mreadr    \u001b[39m 2.1.5\n",
      "\u001b[32mv\u001b[39m \u001b[34mforcats  \u001b[39m 1.0.0     \u001b[32mv\u001b[39m \u001b[34mstringr  \u001b[39m 1.5.1\n",
      "\u001b[32mv\u001b[39m \u001b[34mggplot2  \u001b[39m 3.5.1     \u001b[32mv\u001b[39m \u001b[34mtibble   \u001b[39m 3.2.1\n",
      "\u001b[32mv\u001b[39m \u001b[34mlubridate\u001b[39m 1.9.3     \u001b[32mv\u001b[39m \u001b[34mtidyr    \u001b[39m 1.3.1\n",
      "\u001b[32mv\u001b[39m \u001b[34mpurrr    \u001b[39m 1.0.2     \n",
      "-- \u001b[1mConflicts\u001b[22m ------------------------------------------ tidyverse_conflicts() --\n",
      "\u001b[31mx\u001b[39m \u001b[34mdplyr\u001b[39m::\u001b[32mfilter()\u001b[39m masks \u001b[34mstats\u001b[39m::filter()\n",
      "\u001b[31mx\u001b[39m \u001b[34mdplyr\u001b[39m::\u001b[32mlag()\u001b[39m    masks \u001b[34mstats\u001b[39m::lag()\n",
      "\u001b[36mi\u001b[39m Use the conflicted package (\u001b[3m\u001b[34m<http://conflicted.r-lib.org/>\u001b[39m\u001b[23m) to force all conflicts to become errors\n",
      "\n",
      "Attaching package: 'plm'\n",
      "\n",
      "\n",
      "The following objects are masked from 'package:dplyr':\n",
      "\n",
      "    between, lag, lead\n",
      "\n",
      "\n",
      "Registered S3 method overwritten by 'tsibble':\n",
      "  method               from \n",
      "  as_tibble.grouped_df dplyr\n",
      "\n",
      "\n",
      "Attaching package: 'tsibble'\n",
      "\n",
      "\n",
      "The following object is masked from 'package:plm':\n",
      "\n",
      "    index\n",
      "\n",
      "\n",
      "The following object is masked from 'package:lubridate':\n",
      "\n",
      "    interval\n",
      "\n",
      "\n",
      "The following object is masked from 'package:zoo':\n",
      "\n",
      "    index\n",
      "\n",
      "\n",
      "The following objects are masked from 'package:base':\n",
      "\n",
      "    intersect, setdiff, union\n",
      "\n",
      "\n",
      "-- \u001b[1mAttaching packages\u001b[22m -------------------------------------------- fpp3 1.0.0 --\n",
      "\n",
      "\u001b[32mv\u001b[39m \u001b[34mtsibbledata\u001b[39m 0.4.1     \u001b[32mv\u001b[39m \u001b[34mfable      \u001b[39m 0.3.4\n",
      "\u001b[32mv\u001b[39m \u001b[34mfeasts     \u001b[39m 0.3.2     \u001b[32mv\u001b[39m \u001b[34mfabletools \u001b[39m 0.4.2\n",
      "\n",
      "-- \u001b[1mConflicts\u001b[22m ------------------------------------------------- fpp3_conflicts --\n",
      "\u001b[31mx\u001b[39m \u001b[34mplm\u001b[39m::\u001b[32mbetween()\u001b[39m       masks \u001b[34mdplyr\u001b[39m::between()\n",
      "\u001b[31mx\u001b[39m \u001b[34mlubridate\u001b[39m::\u001b[32mdate()\u001b[39m    masks \u001b[34mbase\u001b[39m::date()\n",
      "\u001b[31mx\u001b[39m \u001b[34mdplyr\u001b[39m::\u001b[32mfilter()\u001b[39m      masks \u001b[34mstats\u001b[39m::filter()\n",
      "\u001b[31mx\u001b[39m \u001b[34mtsibble\u001b[39m::\u001b[32mindex()\u001b[39m     masks \u001b[34mplm\u001b[39m::index(), \u001b[34mzoo\u001b[39m::index()\n",
      "\u001b[31mx\u001b[39m \u001b[34mtsibble\u001b[39m::\u001b[32mintersect()\u001b[39m masks \u001b[34mbase\u001b[39m::intersect()\n",
      "\u001b[31mx\u001b[39m \u001b[34mtsibble\u001b[39m::\u001b[32minterval()\u001b[39m  masks \u001b[34mlubridate\u001b[39m::interval()\n",
      "\u001b[31mx\u001b[39m \u001b[34mplm\u001b[39m::\u001b[32mlag()\u001b[39m           masks \u001b[34mdplyr\u001b[39m::lag(), \u001b[34mstats\u001b[39m::lag()\n",
      "\u001b[31mx\u001b[39m \u001b[34mplm\u001b[39m::\u001b[32mlead()\u001b[39m          masks \u001b[34mdplyr\u001b[39m::lead()\n",
      "\u001b[31mx\u001b[39m \u001b[34mtsibble\u001b[39m::\u001b[32msetdiff()\u001b[39m   masks \u001b[34mbase\u001b[39m::setdiff()\n",
      "\u001b[31mx\u001b[39m \u001b[34mtsibble\u001b[39m::\u001b[32munion()\u001b[39m     masks \u001b[34mbase\u001b[39m::union()\n",
      "\n",
      "Welcome to panelvar! Please cite our package in your publications -- see citation(\"panelvar\")\n",
      "\n",
      "\n",
      "Attaching package: 'panelvar'\n",
      "\n",
      "\n",
      "The following object is masked from 'package:tidyr':\n",
      "\n",
      "    extract\n",
      "\n",
      "\n"
     ]
    }
   ],
   "source": [
    "library(readxl)\n",
    "library(tidyverse)\n",
    "library(writexl)\n",
    "library(plm)\n",
    "library(dplyr)\n",
    "library(tsibble)\n",
    "library(fpp3)\n",
    "library(panelvar)"
   ]
  },
  {
   "cell_type": "markdown",
   "id": "a322984a",
   "metadata": {},
   "source": [
    "## Load Data"
   ]
  },
  {
   "cell_type": "code",
   "execution_count": 5,
   "id": "1bdafaa1",
   "metadata": {
    "vscode": {
     "languageId": "r"
    }
   },
   "outputs": [
    {
     "name": "stderr",
     "output_type": "stream",
     "text": [
      "\n",
      "Attaching package: 'arrow'\n",
      "\n",
      "\n",
      "The following object is masked from 'package:lubridate':\n",
      "\n",
      "    duration\n",
      "\n",
      "\n",
      "The following object is masked from 'package:utils':\n",
      "\n",
      "    timestamp\n",
      "\n",
      "\n"
     ]
    }
   ],
   "source": [
    "library(arrow)\n",
    "\n",
    "# Read the Parquet file\n",
    "quart_df <- read_parquet(\"/Users/dhruvnovaims/Library/Mobile Documents/com~apple~CloudDocs/Documents/GitHub/climate-econometrics/countries/portugal/purchases_paper/datasets/final_data_mun.parquet\")\n",
    "\n",
    "\n",
    "\n",
    "# quart_df <- read_excel(\"/Users/dhruvnovaims/Library/Mobile Documents/com~apple~CloudDocs/Documents/GitHub/climate-econometrics/countries/portugal/purchases_paper/datasets/final_data_mun.xlsx\")\n"
   ]
  },
  {
   "cell_type": "code",
   "execution_count": 6,
   "id": "a439bc8e",
   "metadata": {
    "vscode": {
     "languageId": "r"
    }
   },
   "outputs": [],
   "source": [
    "df_ts <- quart_df  %>% \n",
    "    mutate(time = yearquarter(time))"
   ]
  },
  {
   "cell_type": "code",
   "execution_count": 7,
   "id": "bb9c7baf",
   "metadata": {
    "vscode": {
     "languageId": "r"
    }
   },
   "outputs": [],
   "source": [
    "\n",
    "df_as_dataframe <- as.data.frame(df_ts)"
   ]
  },
  {
   "cell_type": "code",
   "execution_count": null,
   "id": "6a76bc08",
   "metadata": {
    "vscode": {
     "languageId": "r"
    }
   },
   "outputs": [],
   "source": []
  },
  {
   "cell_type": "markdown",
   "id": "3397ae28",
   "metadata": {},
   "source": [
    "## Declare Exog/Endog"
   ]
  },
  {
   "cell_type": "code",
   "execution_count": 7,
   "id": "be8eb7c7",
   "metadata": {
    "vscode": {
     "languageId": "r"
    }
   },
   "outputs": [],
   "source": [
    "#df_ts <- replace(df_ts, is.na(df_ts), 0)"
   ]
  },
  {
   "cell_type": "code",
   "execution_count": 8,
   "id": "b2341eb8",
   "metadata": {
    "vscode": {
     "languageId": "r"
    }
   },
   "outputs": [
    {
     "name": "stderr",
     "output_type": "stream",
     "text": [
      "ERROR while rich displaying an object: Error in format.POSIXlt(as.POSIXlt(x), format = format, ...): invalid 'format' argument\n",
      "\n",
      "Traceback:\n",
      "1. sapply(x, f, simplify = simplify)\n",
      "2. lapply(X = X, FUN = FUN, ...)\n",
      "3. FUN(X[[i]], ...)\n",
      "4. tryCatch(withCallingHandlers({\n",
      " .     if (!mime %in% names(repr::mime2repr)) \n",
      " .         stop(\"No repr_* for mimetype \", mime, \" in repr::mime2repr\")\n",
      " .     rpr <- repr::mime2repr[[mime]](obj)\n",
      " .     if (is.null(rpr)) \n",
      " .         return(NULL)\n",
      " .     prepare_content(is.raw(rpr), rpr)\n",
      " . }, error = error_handler), error = outer_handler)\n",
      "5. tryCatchList(expr, classes, parentenv, handlers)\n",
      "6. tryCatchOne(expr, names, parentenv, handlers[[1L]])\n",
      "7. doTryCatch(return(expr), name, parentenv, handler)\n",
      "8. withCallingHandlers({\n",
      " .     if (!mime %in% names(repr::mime2repr)) \n",
      " .         stop(\"No repr_* for mimetype \", mime, \" in repr::mime2repr\")\n",
      " .     rpr <- repr::mime2repr[[mime]](obj)\n",
      " .     if (is.null(rpr)) \n",
      " .         return(NULL)\n",
      " .     prepare_content(is.raw(rpr), rpr)\n",
      " . }, error = error_handler)\n",
      "9. repr::mime2repr[[mime]](obj)\n",
      "10. repr_text.data.frame(obj)\n",
      "11. ellip_limit_arr(obj, rows, cols)\n",
      "12. arr_parts_format(parts)\n",
      "13. structure(lapply(parts, arr_part_format), omit = attr(parts, \n",
      "  .     \"omit\"))\n",
      "14. lapply(parts, arr_part_format)\n",
      "15. FUN(X[[i]], ...)\n",
      "16. vapply(part, function(col) {\n",
      "  .     if (is.matrix(col)) \n",
      "  .         apply(apply(col, 2L, format), 1L, paste, collapse = \", \")\n",
      "  .     else format(col)\n",
      "  . }, character(nrow(part)))\n",
      "17. FUN(X[[i]], ...)\n",
      "18. format(col)\n",
      "19. format.yearquarter(col)\n",
      "20. format.Date(make_date(yr, qtr * 3 - 2), format = qtr_sub)\n",
      "21. format(as.POSIXlt(x), format = format, ...)\n",
      "22. format.POSIXlt(as.POSIXlt(x), format = format, ...)\n"
     ]
    }
   ],
   "source": [
    "df_ts %>%\n",
    "  filter(if_any(everything(), is.na))"
   ]
  },
  {
   "cell_type": "code",
   "execution_count": 7,
   "id": "093bd381",
   "metadata": {
    "vscode": {
     "languageId": "r"
    }
   },
   "outputs": [
    {
     "ename": "ERROR",
     "evalue": "\u001b[1m\u001b[33mError\u001b[39m in `select()`:\u001b[22m\n\u001b[33m!\u001b[39m Can't select columns that don't exist.\n\u001b[31mx\u001b[39m Column `purchases_log_L1` doesn't exist.\n",
     "output_type": "error",
     "traceback": [
      "\u001b[1m\u001b[33mError\u001b[39m in `select()`:\u001b[22m\n\u001b[33m!\u001b[39m Can't select columns that don't exist.\n\u001b[31mx\u001b[39m Column `purchases_log_L1` doesn't exist.\nTraceback:\n",
      "1. select(., time, CCA_2, purchases, purchases_log, purchases_log_L1, \n .     ur_L1, ur, hpi, hpi_log, hpi_log_L1)",
      "2. select.data.frame(., time, CCA_2, purchases, purchases_log, purchases_log_L1, \n .     ur_L1, ur, hpi, hpi_log, hpi_log_L1)",
      "3. tidyselect::eval_select(expr(c(...)), data = .data, error_call = error_call)",
      "4. eval_select_impl(data, names(data), as_quosure(expr, env), include = include, \n .     exclude = exclude, strict = strict, name_spec = name_spec, \n .     allow_rename = allow_rename, allow_empty = allow_empty, allow_predicates = allow_predicates, \n .     error_call = error_call, )",
      "5. with_subscript_errors(out <- vars_select_eval(vars, expr, strict = strict, \n .     data = x, name_spec = name_spec, uniquely_named = uniquely_named, \n .     allow_rename = allow_rename, allow_empty = allow_empty, allow_predicates = allow_predicates, \n .     type = type, error_call = error_call), type = type)",
      "6. withCallingHandlers(expr, vctrs_error_subscript = function(cnd) {\n .     cnd$subscript_action <- subscript_action(type)\n .     cnd$subscript_elt <- \"column\"\n .     cnd_signal(cnd)\n . })",
      "7. vars_select_eval(vars, expr, strict = strict, data = x, name_spec = name_spec, \n .     uniquely_named = uniquely_named, allow_rename = allow_rename, \n .     allow_empty = allow_empty, allow_predicates = allow_predicates, \n .     type = type, error_call = error_call)",
      "8. walk_data_tree(expr, data_mask, context_mask)",
      "9. eval_c(expr, data_mask, context_mask)",
      "10. reduce_sels(node, data_mask, context_mask, init = init)",
      "11. walk_data_tree(new, data_mask, context_mask)",
      "12. as_indices_sel_impl(out, vars = vars, strict = strict, data = data, \n  .     allow_predicates = allow_predicates, call = error_call, arg = as_label(expr))",
      "13. as_indices_impl(x, vars, call = call, arg = arg, strict = strict)",
      "14. chr_as_locations(x, vars, call = call, arg = arg)",
      "15. vctrs::vec_as_location(x, n = length(vars), names = vars, call = call, \n  .     arg = arg)",
      "16. (function () \n  . stop_subscript_oob(i = i, subscript_type = subscript_type, names = names, \n  .     subscript_action = subscript_action, subscript_arg = subscript_arg, \n  .     call = call))()",
      "17. stop_subscript_oob(i = i, subscript_type = subscript_type, names = names, \n  .     subscript_action = subscript_action, subscript_arg = subscript_arg, \n  .     call = call)",
      "18. stop_subscript(class = \"vctrs_error_subscript_oob\", i = i, subscript_type = subscript_type, \n  .     ..., call = call)",
      "19. abort(class = c(class, \"vctrs_error_subscript\"), i = i, ..., \n  .     call = call)",
      "20. signal_abort(cnd, .file)",
      "21. signalCondition(cnd)",
      "22. (function (cnd) \n  . {\n  .     cnd$subscript_action <- subscript_action(type)\n  .     cnd$subscript_elt <- \"column\"\n  .     cnd_signal(cnd)\n  . })(structure(list(message = \"\", trace = structure(list(call = list(\n  .     IRkernel::main(), kernel$run(), handle_shell(), executor$execute(msg), \n  .     tryCatch(evaluate(request$content$code, envir = .GlobalEnv, \n  .         output_handler = oh, stop_on_error = 1L), interrupt = function(cond) {\n  .         log_debug(\"Interrupt during execution\")\n  .         interrupted <<- TRUE\n  .     }, error = .self$handle_error), tryCatchList(expr, classes, \n  .         parentenv, handlers), tryCatchOne(tryCatchList(expr, \n  .         names[-nh], parentenv, handlers[-nh]), names[nh], parentenv, \n  .         handlers[[nh]]), doTryCatch(return(expr), name, parentenv, \n  .         handler), tryCatchList(expr, names[-nh], parentenv, handlers[-nh]), \n  .     tryCatchOne(expr, names, parentenv, handlers[[1L]]), doTryCatch(return(expr), \n  .         name, parentenv, handler), evaluate(request$content$code, \n  .         envir = .GlobalEnv, output_handler = oh, stop_on_error = 1L), \n  .     withRestarts(with_handlers({\n  .         for (expr in tle$exprs) {\n  .             ev <- withVisible(eval(expr, envir))\n  .             watcher$capture_plot_and_output()\n  .             watcher$print_value(ev$value, ev$visible, envir)\n  .         }\n  .         TRUE\n  .     }, handlers), eval_continue = function() TRUE, eval_stop = function() FALSE), \n  .     withRestartList(expr, restarts), withOneRestart(withRestartList(expr, \n  .         restarts[-nr]), restarts[[nr]]), doWithOneRestart(return(expr), \n  .         restart), withRestartList(expr, restarts[-nr]), withOneRestart(expr, \n  .         restarts[[1L]]), doWithOneRestart(return(expr), restart), \n  .     with_handlers({\n  .         for (expr in tle$exprs) {\n  .             ev <- withVisible(eval(expr, envir))\n  .             watcher$capture_plot_and_output()\n  .             watcher$print_value(ev$value, ev$visible, envir)\n  .         }\n  .         TRUE\n  .     }, handlers), eval(call), eval(call), withCallingHandlers(code, \n  .         message = `<fn>`, warning = `<fn>`, error = `<fn>`), \n  .     withVisible(eval(expr, envir)), eval(expr, envir), eval(expr, \n  .         envir), df_ts %>% select(time, CCA_2, purchases, purchases_log, \n  .         purchases_log_L1, ur_L1, ur, hpi, hpi_log, hpi_log_L1), \n  .     select(., time, CCA_2, purchases, purchases_log, purchases_log_L1, \n  .         ur_L1, ur, hpi, hpi_log, hpi_log_L1), select.data.frame(., \n  .         time, CCA_2, purchases, purchases_log, purchases_log_L1, \n  .         ur_L1, ur, hpi, hpi_log, hpi_log_L1), tidyselect::eval_select(expr(c(...)), \n  .         data = .data, error_call = error_call), eval_select_impl(data, \n  .         names(data), as_quosure(expr, env), include = include, \n  .         exclude = exclude, strict = strict, name_spec = name_spec, \n  .         allow_rename = allow_rename, allow_empty = allow_empty, \n  .         allow_predicates = allow_predicates, error_call = error_call, \n  .         ), with_subscript_errors(out <- vars_select_eval(vars, \n  .         expr, strict = strict, data = x, name_spec = name_spec, \n  .         uniquely_named = uniquely_named, allow_rename = allow_rename, \n  .         allow_empty = allow_empty, allow_predicates = allow_predicates, \n  .         type = type, error_call = error_call), type = type), \n  .     withCallingHandlers(expr, vctrs_error_subscript = function(cnd) {\n  .         cnd$subscript_action <- subscript_action(type)\n  .         cnd$subscript_elt <- \"column\"\n  .         cnd_signal(cnd)\n  .     }), vars_select_eval(vars, expr, strict = strict, data = x, \n  .         name_spec = name_spec, uniquely_named = uniquely_named, \n  .         allow_rename = allow_rename, allow_empty = allow_empty, \n  .         allow_predicates = allow_predicates, type = type, error_call = error_call), \n  .     walk_data_tree(expr, data_mask, context_mask), eval_c(expr, \n  .         data_mask, context_mask), reduce_sels(node, data_mask, \n  .         context_mask, init = init), walk_data_tree(new, data_mask, \n  .         context_mask), as_indices_sel_impl(out, vars = vars, \n  .         strict = strict, data = data, allow_predicates = allow_predicates, \n  .         call = error_call, arg = as_label(expr)), as_indices_impl(x, \n  .         vars, call = call, arg = arg, strict = strict), chr_as_locations(x, \n  .         vars, call = call, arg = arg), vctrs::vec_as_location(x, \n  .         n = length(vars), names = vars, call = call, arg = arg), \n  .     `<fn>`(), stop_subscript_oob(i = i, subscript_type = subscript_type, \n  .         names = names, subscript_action = subscript_action, subscript_arg = subscript_arg, \n  .         call = call), stop_subscript(class = \"vctrs_error_subscript_oob\", \n  .         i = i, subscript_type = subscript_type, ..., call = call), \n  .     abort(class = c(class, \"vctrs_error_subscript\"), i = i, ..., \n  .         call = call)), parent = c(0L, 1L, 2L, 3L, 4L, 5L, 6L, \n  . 7L, 6L, 9L, 10L, 4L, 12L, 13L, 14L, 15L, 14L, 17L, 18L, 12L, \n  . 20L, 21L, 20L, 12L, 12L, 25L, 0L, 0L, 0L, 29L, 30L, 31L, 32L, \n  . 31L, 34L, 35L, 36L, 37L, 38L, 39L, 40L, 41L, 0L, 43L, 44L, 45L\n  . ), visible = c(TRUE, TRUE, TRUE, TRUE, TRUE, TRUE, TRUE, TRUE, \n  . TRUE, TRUE, TRUE, TRUE, TRUE, TRUE, TRUE, TRUE, TRUE, TRUE, TRUE, \n  . TRUE, TRUE, TRUE, TRUE, TRUE, TRUE, TRUE, TRUE, TRUE, TRUE, FALSE, \n  . FALSE, FALSE, FALSE, FALSE, FALSE, FALSE, FALSE, FALSE, FALSE, \n  . FALSE, FALSE, FALSE, FALSE, FALSE, FALSE, FALSE), namespace = c(\"IRkernel\", \n  . NA, \"IRkernel\", NA, \"base\", \"base\", \"base\", \"base\", \"base\", \"base\", \n  . \"base\", \"evaluate\", \"base\", \"base\", \"base\", \"base\", \"base\", \"base\", \n  . \"base\", \"evaluate\", \"base\", \"base\", \"base\", \"base\", \"base\", \"base\", \n  . NA, \"dplyr\", \"dplyr\", \"tidyselect\", \"tidyselect\", \"tidyselect\", \n  . \"base\", \"tidyselect\", \"tidyselect\", \"tidyselect\", \"tidyselect\", \n  . \"tidyselect\", \"tidyselect\", \"tidyselect\", \"tidyselect\", \"vctrs\", \n  . \"vctrs\", \"vctrs\", \"vctrs\", \"rlang\"), scope = c(\"::\", NA, \"local\", \n  . NA, \"::\", \"local\", \"local\", \"local\", \"local\", \"local\", \"local\", \n  . \"::\", \"::\", \"local\", \"local\", \"local\", \"local\", \"local\", \"local\", \n  . \":::\", \"::\", \"::\", \"::\", \"::\", \"::\", \"::\", NA, \"::\", \":::\", \"::\", \n  . \":::\", \":::\", \"::\", \":::\", \":::\", \":::\", \":::\", \":::\", \":::\", \n  . \":::\", \":::\", \"::\", \"local\", \":::\", \":::\", \"::\"), error_frame = c(FALSE, \n  . FALSE, FALSE, FALSE, FALSE, FALSE, FALSE, FALSE, FALSE, FALSE, \n  . FALSE, FALSE, FALSE, FALSE, FALSE, FALSE, FALSE, FALSE, FALSE, \n  . FALSE, FALSE, FALSE, FALSE, FALSE, FALSE, FALSE, FALSE, FALSE, \n  . TRUE, FALSE, FALSE, FALSE, FALSE, FALSE, FALSE, FALSE, FALSE, \n  . FALSE, FALSE, FALSE, FALSE, FALSE, FALSE, FALSE, FALSE, FALSE\n  . )), row.names = c(NA, -46L), version = 2L, class = c(\"rlang_trace\", \n  . \"rlib_trace\", \"tbl\", \"data.frame\")), parent = NULL, i = \"purchases_log_L1\", \n  .     subscript_type = \"character\", names = c(\"time\", \"concelho\", \n  .     \"hpi\", \"hpi_log\", \"purchases\", \"purchases_log\", \"ur\", \"hpi_D1\", \n  .     \"hpi_log_D1\", \"purchases_D1\", \"purchases_log_D1\", \"ur_D1\", \n  .     \"fwi\", \"high_fire_days\", \"cdd\", \"extreme_precipitation_mm\", \n  .     \"frequency_of_extreme_precipitation\", \"tp_hd\", \"tp_std_mm_hour\", \n  .     \"tp_std\", \"num_heatwaves\", \"hot_days\", \"frost_days\", \"num_tropical_nights\", \n  .     \"high_utci_days\", \"t2m_hd\", \"t2m_std\", \"tp_2\", \"tp_3\", \"t2m_2\", \n  .     \"t2m_3\", \"fwi_D1\", \"high_fire_days_D1\", \"cdd_D1\", \"extreme_precipitation_mm_D1\", \n  .     \"frequency_of_extreme_precipitation_D1\", \"tp_hd_D1\", \"tp_std_mm_hour_D1\", \n  .     \"tp_std_D1\", \"num_heatwaves_D1\", \"hot_days_D1\", \"frost_days_D1\", \n  .     \"num_tropical_nights_D1\", \"high_utci_days_D1\", \"t2m_hd_D1\", \n  .     \"t2m_std_D1\", \"tp_2_D1\", \"tp_3_D1\", \"t2m_2_D1\", \"t2m_3_D1\", \n  .     \"fwi_L1\", \"fwi_L2\", \"fwi_L3\", \"fwi_L4\", \"fwi_L5\", \"fwi_L6\", \n  .     \"fwi_L7\", \"fwi_L8\", \"fwi_L9\", \"fwi_L10\", \"fwi_L11\", \"fwi_L12\", \n  .     \"high_fire_days_L1\", \"high_fire_days_L2\", \"high_fire_days_L3\", \n  .     \"high_fire_days_L4\", \"high_fire_days_L5\", \"high_fire_days_L6\", \n  .     \"high_fire_days_L7\", \"high_fire_days_L8\", \"high_fire_days_L9\", \n  .     \"high_fire_days_L10\", \"high_fire_days_L11\", \"high_fire_days_L12\", \n  .     \"cdd_L1\", \"cdd_L2\", \"cdd_L3\", \"cdd_L4\", \"cdd_L5\", \"cdd_L6\", \n  .     \"cdd_L7\", \"cdd_L8\", \"cdd_L9\", \"cdd_L10\", \"cdd_L11\", \"cdd_L12\", \n  .     \"extreme_precipitation_mm_L1\", \"extreme_precipitation_mm_L2\", \n  .     \"extreme_precipitation_mm_L3\", \"extreme_precipitation_mm_L4\", \n  .     \"extreme_precipitation_mm_L5\", \"extreme_precipitation_mm_L6\", \n  .     \"extreme_precipitation_mm_L7\", \"extreme_precipitation_mm_L8\", \n  .     \"extreme_precipitation_mm_L9\", \"extreme_precipitation_mm_L10\", \n  .     \"extreme_precipitation_mm_L11\", \"extreme_precipitation_mm_L12\", \n  .     \"frequency_of_extreme_precipitation_L1\", \"frequency_of_extreme_precipitation_L2\", \n  .     \"frequency_of_extreme_precipitation_L3\", \"frequency_of_extreme_precipitation_L4\", \n  .     \"frequency_of_extreme_precipitation_L5\", \"frequency_of_extreme_precipitation_L6\", \n  .     \"frequency_of_extreme_precipitation_L7\", \"frequency_of_extreme_precipitation_L8\", \n  .     \"frequency_of_extreme_precipitation_L9\", \"frequency_of_extreme_precipitation_L10\", \n  .     \"frequency_of_extreme_precipitation_L11\", \"frequency_of_extreme_precipitation_L12\", \n  .     \"tp_hd_L1\", \"tp_hd_L2\", \"tp_hd_L3\", \"tp_hd_L4\", \"tp_hd_L5\", \n  .     \"tp_hd_L6\", \"tp_hd_L7\", \"tp_hd_L8\", \"tp_hd_L9\", \"tp_hd_L10\", \n  .     \"tp_hd_L11\", \"tp_hd_L12\", \"tp_std_mm_hour_L1\", \"tp_std_mm_hour_L2\", \n  .     \"tp_std_mm_hour_L3\", \"tp_std_mm_hour_L4\", \"tp_std_mm_hour_L5\", \n  .     \"tp_std_mm_hour_L6\", \"tp_std_mm_hour_L7\", \"tp_std_mm_hour_L8\", \n  .     \"tp_std_mm_hour_L9\", \"tp_std_mm_hour_L10\", \"tp_std_mm_hour_L11\", \n  .     \"tp_std_mm_hour_L12\", \"tp_std_L1\", \"tp_std_L2\", \"tp_std_L3\", \n  .     \"tp_std_L4\", \"tp_std_L5\", \"tp_std_L6\", \"tp_std_L7\", \"tp_std_L8\", \n  .     \"tp_std_L9\", \"tp_std_L10\", \"tp_std_L11\", \"tp_std_L12\", \"num_heatwaves_L1\", \n  .     \"num_heatwaves_L2\", \"num_heatwaves_L3\", \"num_heatwaves_L4\", \n  .     \"num_heatwaves_L5\", \"num_heatwaves_L6\", \"num_heatwaves_L7\", \n  .     \"num_heatwaves_L8\", \"num_heatwaves_L9\", \"num_heatwaves_L10\", \n  .     \"num_heatwaves_L11\", \"num_heatwaves_L12\", \"hot_days_L1\", \n  .     \"hot_days_L2\", \"hot_days_L3\", \"hot_days_L4\", \"hot_days_L5\", \n  .     \"hot_days_L6\", \"hot_days_L7\", \"hot_days_L8\", \"hot_days_L9\", \n  .     \"hot_days_L10\", \"hot_days_L11\", \"hot_days_L12\", \"frost_days_L1\", \n  .     \"frost_days_L2\", \"frost_days_L3\", \"frost_days_L4\", \"frost_days_L5\", \n  .     \"frost_days_L6\", \"frost_days_L7\", \"frost_days_L8\", \"frost_days_L9\", \n  .     \"frost_days_L10\", \"frost_days_L11\", \"frost_days_L12\", \"num_tropical_nights_L1\", \n  .     \"num_tropical_nights_L2\", \"num_tropical_nights_L3\", \"num_tropical_nights_L4\", \n  .     \"num_tropical_nights_L5\", \"num_tropical_nights_L6\", \"num_tropical_nights_L7\", \n  .     \"num_tropical_nights_L8\", \"num_tropical_nights_L9\", \"num_tropical_nights_L10\", \n  .     \"num_tropical_nights_L11\", \"num_tropical_nights_L12\", \"high_utci_days_L1\", \n  .     \"high_utci_days_L2\", \"high_utci_days_L3\", \"high_utci_days_L4\", \n  .     \"high_utci_days_L5\", \"high_utci_days_L6\", \"high_utci_days_L7\", \n  .     \"high_utci_days_L8\", \"high_utci_days_L9\", \"high_utci_days_L10\", \n  .     \"high_utci_days_L11\", \"high_utci_days_L12\", \"t2m_hd_L1\", \n  .     \"t2m_hd_L2\", \"t2m_hd_L3\", \"t2m_hd_L4\", \"t2m_hd_L5\", \"t2m_hd_L6\", \n  .     \"t2m_hd_L7\", \"t2m_hd_L8\", \"t2m_hd_L9\", \"t2m_hd_L10\", \"t2m_hd_L11\", \n  .     \"t2m_hd_L12\", \"t2m_std_L1\", \"t2m_std_L2\", \"t2m_std_L3\", \"t2m_std_L4\", \n  .     \"t2m_std_L5\", \"t2m_std_L6\", \"t2m_std_L7\", \"t2m_std_L8\", \"t2m_std_L9\", \n  .     \"t2m_std_L10\", \"t2m_std_L11\", \"t2m_std_L12\", \"tp_2_L1\", \"tp_2_L2\", \n  .     \"tp_2_L3\", \"tp_2_L4\", \"tp_2_L5\", \"tp_2_L6\", \"tp_2_L7\", \"tp_2_L8\", \n  .     \"tp_2_L9\", \"tp_2_L10\", \"tp_2_L11\", \"tp_2_L12\", \"tp_3_L1\", \n  .     \"tp_3_L2\", \"tp_3_L3\", \"tp_3_L4\", \"tp_3_L5\", \"tp_3_L6\", \"tp_3_L7\", \n  .     \"tp_3_L8\", \"tp_3_L9\", \"tp_3_L10\", \"tp_3_L11\", \"tp_3_L12\", \n  .     \"t2m_2_L1\", \"t2m_2_L2\", \"t2m_2_L3\", \"t2m_2_L4\", \"t2m_2_L5\", \n  .     \"t2m_2_L6\", \"t2m_2_L7\", \"t2m_2_L8\", \"t2m_2_L9\", \"t2m_2_L10\", \n  .     \"t2m_2_L11\", \"t2m_2_L12\", \"t2m_3_L1\", \"t2m_3_L2\", \"t2m_3_L3\", \n  .     \"t2m_3_L4\", \"t2m_3_L5\", \"t2m_3_L6\", \"t2m_3_L7\", \"t2m_3_L8\", \n  .     \"t2m_3_L9\", \"t2m_3_L10\", \"t2m_3_L11\", \"t2m_3_L12\", \"fwi_D1_L1\", \n  .     \"fwi_D1_L2\", \"fwi_D1_L3\", \"fwi_D1_L4\", \"fwi_D1_L5\", \"fwi_D1_L6\", \n  .     \"fwi_D1_L7\", \"fwi_D1_L8\", \"fwi_D1_L9\", \"fwi_D1_L10\", \"fwi_D1_L11\", \n  .     \"fwi_D1_L12\", \"high_fire_days_D1_L1\", \"high_fire_days_D1_L2\", \n  .     \"high_fire_days_D1_L3\", \"high_fire_days_D1_L4\", \"high_fire_days_D1_L5\", \n  .     \"high_fire_days_D1_L6\", \"high_fire_days_D1_L7\", \"high_fire_days_D1_L8\", \n  .     \"high_fire_days_D1_L9\", \"high_fire_days_D1_L10\", \"high_fire_days_D1_L11\", \n  .     \"high_fire_days_D1_L12\", \"cdd_D1_L1\", \"cdd_D1_L2\", \"cdd_D1_L3\", \n  .     \"cdd_D1_L4\", \"cdd_D1_L5\", \"cdd_D1_L6\", \"cdd_D1_L7\", \"cdd_D1_L8\", \n  .     \"cdd_D1_L9\", \"cdd_D1_L10\", \"cdd_D1_L11\", \"cdd_D1_L12\", \"extreme_precipitation_mm_D1_L1\", \n  .     \"extreme_precipitation_mm_D1_L2\", \"extreme_precipitation_mm_D1_L3\", \n  .     \"extreme_precipitation_mm_D1_L4\", \"extreme_precipitation_mm_D1_L5\", \n  .     \"extreme_precipitation_mm_D1_L6\", \"extreme_precipitation_mm_D1_L7\", \n  .     \"extreme_precipitation_mm_D1_L8\", \"extreme_precipitation_mm_D1_L9\", \n  .     \"extreme_precipitation_mm_D1_L10\", \"extreme_precipitation_mm_D1_L11\", \n  .     \"extreme_precipitation_mm_D1_L12\", \"frequency_of_extreme_precipitation_D1_L1\", \n  .     \"frequency_of_extreme_precipitation_D1_L2\", \"frequency_of_extreme_precipitation_D1_L3\", \n  .     \"frequency_of_extreme_precipitation_D1_L4\", \"frequency_of_extreme_precipitation_D1_L5\", \n  .     \"frequency_of_extreme_precipitation_D1_L6\", \"frequency_of_extreme_precipitation_D1_L7\", \n  .     \"frequency_of_extreme_precipitation_D1_L8\", \"frequency_of_extreme_precipitation_D1_L9\", \n  .     \"frequency_of_extreme_precipitation_D1_L10\", \"frequency_of_extreme_precipitation_D1_L11\", \n  .     \"frequency_of_extreme_precipitation_D1_L12\", \"tp_hd_D1_L1\", \n  .     \"tp_hd_D1_L2\", \"tp_hd_D1_L3\", \"tp_hd_D1_L4\", \"tp_hd_D1_L5\", \n  .     \"tp_hd_D1_L6\", \"tp_hd_D1_L7\", \"tp_hd_D1_L8\", \"tp_hd_D1_L9\", \n  .     \"tp_hd_D1_L10\", \"tp_hd_D1_L11\", \"tp_hd_D1_L12\", \"tp_std_mm_hour_D1_L1\", \n  .     \"tp_std_mm_hour_D1_L2\", \"tp_std_mm_hour_D1_L3\", \"tp_std_mm_hour_D1_L4\", \n  .     \"tp_std_mm_hour_D1_L5\", \"tp_std_mm_hour_D1_L6\", \"tp_std_mm_hour_D1_L7\", \n  .     \"tp_std_mm_hour_D1_L8\", \"tp_std_mm_hour_D1_L9\", \"tp_std_mm_hour_D1_L10\", \n  .     \"tp_std_mm_hour_D1_L11\", \"tp_std_mm_hour_D1_L12\", \"tp_std_D1_L1\", \n  .     \"tp_std_D1_L2\", \"tp_std_D1_L3\", \"tp_std_D1_L4\", \"tp_std_D1_L5\", \n  .     \"tp_std_D1_L6\", \"tp_std_D1_L7\", \"tp_std_D1_L8\", \"tp_std_D1_L9\", \n  .     \"tp_std_D1_L10\", \"tp_std_D1_L11\", \"tp_std_D1_L12\", \"num_heatwaves_D1_L1\", \n  .     \"num_heatwaves_D1_L2\", \"num_heatwaves_D1_L3\", \"num_heatwaves_D1_L4\", \n  .     \"num_heatwaves_D1_L5\", \"num_heatwaves_D1_L6\", \"num_heatwaves_D1_L7\", \n  .     \"num_heatwaves_D1_L8\", \"num_heatwaves_D1_L9\", \"num_heatwaves_D1_L10\", \n  .     \"num_heatwaves_D1_L11\", \"num_heatwaves_D1_L12\", \"hot_days_D1_L1\", \n  .     \"hot_days_D1_L2\", \"hot_days_D1_L3\", \"hot_days_D1_L4\", \"hot_days_D1_L5\", \n  .     \"hot_days_D1_L6\", \"hot_days_D1_L7\", \"hot_days_D1_L8\", \"hot_days_D1_L9\", \n  .     \"hot_days_D1_L10\", \"hot_days_D1_L11\", \"hot_days_D1_L12\", \n  .     \"frost_days_D1_L1\", \"frost_days_D1_L2\", \"frost_days_D1_L3\", \n  .     \"frost_days_D1_L4\", \"frost_days_D1_L5\", \"frost_days_D1_L6\", \n  .     \"frost_days_D1_L7\", \"frost_days_D1_L8\", \"frost_days_D1_L9\", \n  .     \"frost_days_D1_L10\", \"frost_days_D1_L11\", \"frost_days_D1_L12\", \n  .     \"num_tropical_nights_D1_L1\", \"num_tropical_nights_D1_L2\", \n  .     \"num_tropical_nights_D1_L3\", \"num_tropical_nights_D1_L4\", \n  .     \"num_tropical_nights_D1_L5\", \"num_tropical_nights_D1_L6\", \n  .     \"num_tropical_nights_D1_L7\", \"num_tropical_nights_D1_L8\", \n  .     \"num_tropical_nights_D1_L9\", \"num_tropical_nights_D1_L10\", \n  .     \"num_tropical_nights_D1_L11\", \"num_tropical_nights_D1_L12\", \n  .     \"high_utci_days_D1_L1\", \"high_utci_days_D1_L2\", \"high_utci_days_D1_L3\", \n  .     \"high_utci_days_D1_L4\", \"high_utci_days_D1_L5\", \"high_utci_days_D1_L6\", \n  .     \"high_utci_days_D1_L7\", \"high_utci_days_D1_L8\", \"high_utci_days_D1_L9\", \n  .     \"high_utci_days_D1_L10\", \"high_utci_days_D1_L11\", \"high_utci_days_D1_L12\", \n  .     \"t2m_hd_D1_L1\", \"t2m_hd_D1_L2\", \"t2m_hd_D1_L3\", \"t2m_hd_D1_L4\", \n  .     \"t2m_hd_D1_L5\", \"t2m_hd_D1_L6\", \"t2m_hd_D1_L7\", \"t2m_hd_D1_L8\", \n  .     \"t2m_hd_D1_L9\", \"t2m_hd_D1_L10\", \"t2m_hd_D1_L11\", \"t2m_hd_D1_L12\", \n  .     \"t2m_std_D1_L1\", \"t2m_std_D1_L2\", \"t2m_std_D1_L3\", \"t2m_std_D1_L4\", \n  .     \"t2m_std_D1_L5\", \"t2m_std_D1_L6\", \"t2m_std_D1_L7\", \"t2m_std_D1_L8\", \n  .     \"t2m_std_D1_L9\", \"t2m_std_D1_L10\", \"t2m_std_D1_L11\", \"t2m_std_D1_L12\", \n  .     \"tp_2_D1_L1\", \"tp_2_D1_L2\", \"tp_2_D1_L3\", \"tp_2_D1_L4\", \"tp_2_D1_L5\", \n  .     \"tp_2_D1_L6\", \"tp_2_D1_L7\", \"tp_2_D1_L8\", \"tp_2_D1_L9\", \"tp_2_D1_L10\", \n  .     \"tp_2_D1_L11\", \"tp_2_D1_L12\", \"tp_3_D1_L1\", \"tp_3_D1_L2\", \n  .     \"tp_3_D1_L3\", \"tp_3_D1_L4\", \"tp_3_D1_L5\", \"tp_3_D1_L6\", \"tp_3_D1_L7\", \n  .     \"tp_3_D1_L8\", \"tp_3_D1_L9\", \"tp_3_D1_L10\", \"tp_3_D1_L11\", \n  .     \"tp_3_D1_L12\", \"t2m_2_D1_L1\", \"t2m_2_D1_L2\", \"t2m_2_D1_L3\", \n  .     \"t2m_2_D1_L4\", \"t2m_2_D1_L5\", \"t2m_2_D1_L6\", \"t2m_2_D1_L7\", \n  .     \"t2m_2_D1_L8\", \"t2m_2_D1_L9\", \"t2m_2_D1_L10\", \"t2m_2_D1_L11\", \n  .     \"t2m_2_D1_L12\", \"t2m_3_D1_L1\", \"t2m_3_D1_L2\", \"t2m_3_D1_L3\", \n  .     \"t2m_3_D1_L4\", \"t2m_3_D1_L5\", \"t2m_3_D1_L6\", \"t2m_3_D1_L7\", \n  .     \"t2m_3_D1_L8\", \"t2m_3_D1_L9\", \"t2m_3_D1_L10\", \"t2m_3_D1_L11\", \n  .     \"t2m_3_D1_L12\", \"Medit_factor_tp\", \"Medit_factor_t2m\", \"Medit_factor_tp_D1\", \n  .     \"Medit_factor_t2m_D1\", \"Medit_factor_tp_L1\", \"Medit_factor_tp_L2\", \n  .     \"Medit_factor_tp_L3\", \"Medit_factor_tp_L4\", \"Medit_factor_tp_L5\", \n  .     \"Medit_factor_tp_L6\", \"Medit_factor_tp_L7\", \"Medit_factor_tp_L8\", \n  .     \"Medit_factor_tp_L9\", \"Medit_factor_tp_L10\", \"Medit_factor_tp_L11\", \n  .     \"Medit_factor_tp_L12\", \"Medit_factor_t2m_L1\", \"Medit_factor_t2m_L2\", \n  .     \"Medit_factor_t2m_L3\", \"Medit_factor_t2m_L4\", \"Medit_factor_t2m_L5\", \n  .     \"Medit_factor_t2m_L6\", \"Medit_factor_t2m_L7\", \"Medit_factor_t2m_L8\", \n  .     \"Medit_factor_t2m_L9\", \"Medit_factor_t2m_L10\", \"Medit_factor_t2m_L11\", \n  .     \"Medit_factor_t2m_L12\", \"Medit_factor_tp_D1_L1\", \"Medit_factor_tp_D1_L2\", \n  .     \"Medit_factor_tp_D1_L3\", \"Medit_factor_tp_D1_L4\", \"Medit_factor_tp_D1_L5\", \n  .     \"Medit_factor_tp_D1_L6\", \"Medit_factor_tp_D1_L7\", \"Medit_factor_tp_D1_L8\", \n  .     \"Medit_factor_tp_D1_L9\", \"Medit_factor_tp_D1_L10\", \"Medit_factor_tp_D1_L11\", \n  .     \"Medit_factor_tp_D1_L12\", \"Medit_factor_t2m_D1_L1\", \"Medit_factor_t2m_D1_L2\", \n  .     \"Medit_factor_t2m_D1_L3\", \"Medit_factor_t2m_D1_L4\", \"Medit_factor_t2m_D1_L5\", \n  .     \"Medit_factor_t2m_D1_L6\", \"Medit_factor_t2m_D1_L7\", \"Medit_factor_t2m_D1_L8\", \n  .     \"Medit_factor_t2m_D1_L9\", \"Medit_factor_t2m_D1_L10\", \"Medit_factor_t2m_D1_L11\", \n  .     \"Medit_factor_t2m_D1_L12\", \"CCA_2\", \"NAME_1\"), subscript_action = NULL, \n  .     subscript_arg = \"purchases_log_L1\", rlang = list(inherit = TRUE), \n  .     call = select(., time, CCA_2, purchases, purchases_log, purchases_log_L1, \n  .         ur_L1, ur, hpi, hpi_log, hpi_log_L1)), class = c(\"vctrs_error_subscript_oob\", \n  . \"vctrs_error_subscript\", \"rlang_error\", \"error\", \"condition\")))",
      "23. cnd_signal(cnd)",
      "24. signal_abort(cnd)",
      "25. signalCondition(cnd)"
     ]
    }
   ],
   "source": [
    "# Creating endog_df with specified columns, 'time', and 'NAME_2'\n",
    "endog_df <- df_ts %>%\n",
    "  select(time, CCA_2, purchases, purchases_log, purchases_log_L1,ur_L1, ur, hpi, hpi_log, hpi_log_L1)\n",
    "\n",
    "# # Creating exog_df with different specified columns, 'time', and 'NAME_2'\n",
    "# exog_df <- quart_df %>%\n",
    "#   select(time, CCA_2, t2m_wtd_hd,\n",
    "#   t2m_wtd_std, ,tp_1000_wtd_hd,tp_1000_wtd_std, eu_factor_tp\t,eu_factor_t2m)\n",
    "# Converting to tsibble, assuming 'time' is your time index and 'NAME_2' is a grouping key for panel data\n",
    "endog_ts <- endog_df %>%\n",
    "  mutate(time = yearquarter(time)) %>%\n",
    "  as_tsibble(index = time, key = CCA_2)\n",
    "\n",
    "# exog_tsibble <- exog_df %>%\n",
    "#   mutate(time = yearquarter(time))  %>% \n",
    "#   as_tsibble(index = time, key = CCA_2)"
   ]
  },
  {
   "cell_type": "markdown",
   "id": "71944e6e",
   "metadata": {},
   "source": [
    "## Panel Tests"
   ]
  },
  {
   "cell_type": "code",
   "execution_count": 8,
   "id": "cdad2cc8",
   "metadata": {
    "vscode": {
     "languageId": "r"
    }
   },
   "outputs": [],
   "source": [
    "pdata_complete <- pdata.frame(df_ts, index = c('CCA_2', 'time'))\n",
    "#pdata_endog <- pdata.frame(endog_ts, index = c('CCA_2', 'time'))\n",
    "# pdata_exog <- pdata.frame(exog_tsibble, index = c('CCA_2', 'time'))"
   ]
  },
  {
   "cell_type": "code",
   "execution_count": 16,
   "id": "1dc77372",
   "metadata": {
    "vscode": {
     "languageId": "r"
    }
   },
   "outputs": [
    {
     "data": {
      "text/html": [
       "TRUE"
      ],
      "text/latex": [
       "TRUE"
      ],
      "text/markdown": [
       "TRUE"
      ],
      "text/plain": [
       "[1] TRUE"
      ]
     },
     "metadata": {},
     "output_type": "display_data"
    }
   ],
   "source": [
    "pdata_complete  %>% is.pbalanced()\n"
   ]
  },
  {
   "cell_type": "code",
   "execution_count": 9,
   "id": "4658ce09",
   "metadata": {
    "vscode": {
     "languageId": "r"
    }
   },
   "outputs": [],
   "source": [
    "purchases <- data.frame(split(pdata_complete$purchases, pdata_complete$CCA_2))\n",
    "purchases_log <- data.frame(split(pdata_complete$purchases_log, pdata_complete$CCA_2))\n",
    "purchases_log_D1 <- data.frame(split(pdata_complete$purchases_log_D1, pdata_complete$CCA_2))\n",
    "\n",
    "ur <- data.frame(split(pdata_complete$ur, pdata_complete$CCA_2))\n",
    "ur_D1 <- data.frame(split(pdata_complete$ur_D1, pdata_complete$CCA_2))\n",
    "   \n",
    "hpi <- data.frame(split(pdata_complete$hpi, pdata_complete$CCA_2))\n",
    "hpi_log <- data.frame(split(pdata_complete$hpi_log, pdata_complete$CCA_2))\n",
    "hpi_log_D1 <- data.frame(split(pdata_complete$hpi_log_D1, pdata_complete$CCA_2))\n"
   ]
  },
  {
   "cell_type": "markdown",
   "id": "2df8a51b",
   "metadata": {},
   "source": [
    "### Unit Root Tests"
   ]
  },
  {
   "cell_type": "markdown",
   "id": "7c35877d",
   "metadata": {},
   "source": [
    "#### Endog Variables"
   ]
  },
  {
   "cell_type": "code",
   "execution_count": 10,
   "id": "793a5b81",
   "metadata": {
    "vscode": {
     "languageId": "r"
    }
   },
   "outputs": [
    {
     "name": "stdout",
     "output_type": "stream",
     "text": [
      "Variable: purchases_log \n",
      "Simes Test Results (0.01, 0.05, 0.10): TRUE TRUE FALSE \n",
      "\n",
      "Variable: purchases \n",
      "Simes Test Results (0.01, 0.05, 0.10): FALSE FALSE FALSE \n",
      "\n",
      "Variable: hpi \n",
      "Simes Test Results (0.01, 0.05, 0.10): TRUE TRUE TRUE \n",
      "\n",
      "Variable: hpi_log \n",
      "Simes Test Results (0.01, 0.05, 0.10): TRUE TRUE TRUE \n",
      "\n",
      "Variable: ur \n",
      "Simes Test Results (0.01, 0.05, 0.10): TRUE TRUE FALSE \n",
      "\n"
     ]
    }
   ],
   "source": [
    "# List of variable names to test\n",
    "variables <- c(\"purchases_log\", \"purchases\", \"hpi\", \"hpi_log\", \"ur\")\n",
    "\n",
    "# Loop through each variable\n",
    "for (var in variables) {\n",
    "    # Debugging: Print the variable name\n",
    "\n",
    "    \n",
    "    # Split the variable by panel identifier\n",
    "    data_split <- data.frame(split(pdata_complete[[var]], pdata_complete$CCA_2))\n",
    "    \n",
    "    # Perform the pCADFtest\n",
    "    test_result <- pCADFtest(Y = data_split, max.lag.y = 4, criterion = \"AIC\", crosscorr = 1)\n",
    "    \n",
    "    # Perform the Simes test\n",
    "    simes_result <- Simes(test_result, c(0.01, 0.05, 0.10))\n",
    "    \n",
    "    # Print the variable name and the Simes test results\n",
    "    cat(\"Variable:\", var, \"\\n\")\n",
    "    cat(\"Simes Test Results (0.01, 0.05, 0.10):\", simes_result, \"\\n\\n\")\n",
    "}"
   ]
  },
  {
   "cell_type": "code",
   "execution_count": 20,
   "id": "5607d0fb",
   "metadata": {
    "vscode": {
     "languageId": "r"
    }
   },
   "outputs": [
    {
     "name": "stdout",
     "output_type": "stream",
     "text": [
      "Variable: purchases_log_D1 \n",
      "Simes Test Results (0.01, 0.05, 0.10): FALSE FALSE FALSE \n",
      "\n",
      "Variable: purchases_D1 \n",
      "Simes Test Results (0.01, 0.05, 0.10): FALSE FALSE FALSE \n",
      "\n",
      "Variable: hpi_D1 \n",
      "Simes Test Results (0.01, 0.05, 0.10): FALSE FALSE FALSE \n",
      "\n",
      "Variable: hpi_log_D1 \n",
      "Simes Test Results (0.01, 0.05, 0.10): FALSE FALSE FALSE \n",
      "\n",
      "Variable: ur_D1 \n",
      "Simes Test Results (0.01, 0.05, 0.10): FALSE FALSE FALSE \n",
      "\n"
     ]
    }
   ],
   "source": [
    "# List of variable names to test\n",
    "variables <- c(\"purchases_log_D1\", \"purchases_D1\", \"hpi_D1\", \"hpi_log_D1\", \"ur_D1\")\n",
    "\n",
    "# Loop through each variable\n",
    "for (var in variables) {\n",
    "    # Debugging: Print the variable name\n",
    "\n",
    "    \n",
    "    # Split the variable by panel identifier\n",
    "    data_split <- data.frame(split(pdata_complete[[var]], pdata_complete$CCA_2))\n",
    "    \n",
    "    # Perform the pCADFtest\n",
    "    test_result <- pCADFtest(Y = data_split, max.lag.y = 4, criterion = \"AIC\", crosscorr = 1)\n",
    "    \n",
    "    # Perform the Simes test\n",
    "    simes_result <- Simes(test_result, c(0.01, 0.05, 0.10))\n",
    "    \n",
    "    # Print the variable name and the Simes test results\n",
    "    cat(\"Variable:\", var, \"\\n\")\n",
    "    cat(\"Simes Test Results (0.01, 0.05, 0.10):\", simes_result, \"\\n\\n\")\n",
    "}"
   ]
  },
  {
   "cell_type": "markdown",
   "id": "83dd4eac",
   "metadata": {},
   "source": [
    "### Weather Variables Stationary Tests"
   ]
  },
  {
   "cell_type": "markdown",
   "id": "b3876a7e",
   "metadata": {},
   "source": [
    "#### Series Variables"
   ]
  },
  {
   "cell_type": "markdown",
   "id": "8f5caecd",
   "metadata": {},
   "source": [
    "##### Raw"
   ]
  },
  {
   "cell_type": "code",
   "execution_count": 21,
   "id": "8d3acf3b",
   "metadata": {
    "vscode": {
     "languageId": "r"
    }
   },
   "outputs": [
    {
     "name": "stdout",
     "output_type": "stream",
     "text": [
      "Variable: tp_hd \n",
      "Simes Test Results (0.01, 0.05, 0.10): FALSE FALSE FALSE \n",
      "\n",
      "Variable: tp_std_mm_hour \n",
      "Simes Test Results (0.01, 0.05, 0.10): TRUE TRUE TRUE \n",
      "\n",
      "Variable: tp_std \n",
      "Simes Test Results (0.01, 0.05, 0.10): TRUE TRUE TRUE \n",
      "\n",
      "Variable: t2m_hd \n",
      "Simes Test Results (0.01, 0.05, 0.10): FALSE FALSE FALSE \n",
      "\n",
      "Variable: t2m_std \n",
      "Simes Test Results (0.01, 0.05, 0.10): FALSE FALSE FALSE \n",
      "\n"
     ]
    }
   ],
   "source": [
    "# List of variable names to test\n",
    "variables <- c(\"tp_hd\", \"tp_std_mm_hour\", \"tp_std\", \"t2m_hd\", \"t2m_std\")\n",
    "\n",
    "# Loop through each variable\n",
    "for (var in variables) {\n",
    "    # Debugging: Print the variable name\n",
    "\n",
    "    \n",
    "    # Split the variable by panel identifier\n",
    "    data_split <- data.frame(split(pdata_complete[[var]], pdata_complete$CCA_2))\n",
    "    \n",
    "    # Perform the pCADFtest\n",
    "    test_result <- pCADFtest(Y = data_split, max.lag.y = 4, criterion = \"AIC\", crosscorr = 1)\n",
    "    \n",
    "    # Perform the Simes test\n",
    "    simes_result <- Simes(test_result, c(0.01, 0.05, 0.10))\n",
    "    \n",
    "    # Print the variable name and the Simes test results\n",
    "    cat(\"Variable:\", var, \"\\n\")\n",
    "    cat(\"Simes Test Results (0.01, 0.05, 0.10):\", simes_result, \"\\n\\n\")\n",
    "}"
   ]
  },
  {
   "cell_type": "code",
   "execution_count": 22,
   "id": "fabb18ab",
   "metadata": {
    "vscode": {
     "languageId": "r"
    }
   },
   "outputs": [
    {
     "name": "stdout",
     "output_type": "stream",
     "text": [
      "Variable: tp_2 \n",
      "Simes Test Results (0.01, 0.05, 0.10): FALSE FALSE FALSE \n",
      "\n",
      "Variable: tp_3 \n",
      "Simes Test Results (0.01, 0.05, 0.10): FALSE FALSE FALSE \n",
      "\n",
      "Variable: t2m_2 \n",
      "Simes Test Results (0.01, 0.05, 0.10): FALSE FALSE FALSE \n",
      "\n",
      "Variable: t2m_3 \n",
      "Simes Test Results (0.01, 0.05, 0.10): FALSE FALSE FALSE \n",
      "\n"
     ]
    }
   ],
   "source": [
    "# List of variable names to test\n",
    "variables <- c(\"tp_2\",\n",
    "\"tp_3\",\n",
    "\"t2m_2\",\n",
    "\"t2m_3\")\n",
    "\n",
    "# Loop through each variable\n",
    "for (var in variables) {\n",
    "    # Debugging: Print the variable name\n",
    "\n",
    "    \n",
    "    # Split the variable by panel identifier\n",
    "    data_split <- data.frame(split(pdata_complete[[var]], pdata_complete$CCA_2))\n",
    "    \n",
    "    # Perform the pCADFtest\n",
    "    test_result <- pCADFtest(Y = data_split, max.lag.y = 4, criterion = \"AIC\", crosscorr = 1)\n",
    "    \n",
    "    # Perform the Simes test\n",
    "    simes_result <- Simes(test_result, c(0.01, 0.05, 0.10))\n",
    "    \n",
    "    # Print the variable name and the Simes test results\n",
    "    cat(\"Variable:\", var, \"\\n\")\n",
    "    cat(\"Simes Test Results (0.01, 0.05, 0.10):\", simes_result, \"\\n\\n\")\n",
    "}"
   ]
  },
  {
   "cell_type": "markdown",
   "id": "e7024d7d",
   "metadata": {},
   "source": [
    "##### Differenced"
   ]
  },
  {
   "cell_type": "code",
   "execution_count": 23,
   "id": "071eca96",
   "metadata": {
    "vscode": {
     "languageId": "r"
    }
   },
   "outputs": [
    {
     "name": "stdout",
     "output_type": "stream",
     "text": [
      "Variable: tp_std_mm_hour_D1 \n",
      "Simes Test Results (0.01, 0.05, 0.10): FALSE FALSE FALSE \n",
      "\n",
      "Variable: tp_std_D1 \n",
      "Simes Test Results (0.01, 0.05, 0.10): FALSE FALSE FALSE \n",
      "\n"
     ]
    }
   ],
   "source": [
    "# List of variable names to test\n",
    "variables <- c(\n",
    "\"tp_std_mm_hour_D1\",\n",
    "\"tp_std_D1\")\n",
    "\n",
    "\n",
    "# Loop through each variable\n",
    "for (var in variables) {\n",
    "  # Split the variable by panel identifier\n",
    "  data_split <- data.frame(split(pdata_complete[[var]], pdata_complete$CCA_2))\n",
    "  \n",
    "  # Perform the pCADFtest\n",
    "  test_result <- pCADFtest(Y = data_split, max.lag.y = 4, criterion = \"AIC\", crosscorr = 1)\n",
    "  \n",
    "  # Perform the Simes test\n",
    "  simes_result <- Simes(test_result, c(0.01, 0.05, 0.10))\n",
    "  \n",
    "  # Print the variable name and the Simes test results\n",
    "  cat(\"Variable:\", var, \"\\n\")\n",
    "  cat(\"Simes Test Results (0.01, 0.05, 0.10):\", simes_result, \"\\n\\n\")\n",
    "}"
   ]
  },
  {
   "cell_type": "markdown",
   "id": "2a00dc13",
   "metadata": {},
   "source": [
    "#### Count Variables"
   ]
  },
  {
   "cell_type": "code",
   "execution_count": 24,
   "id": "dde56e58",
   "metadata": {
    "vscode": {
     "languageId": "r"
    }
   },
   "outputs": [
    {
     "name": "stdout",
     "output_type": "stream",
     "text": [
      "Variable: fwi \n",
      "Simes Test Results (0.01, 0.05, 0.10): TRUE TRUE TRUE \n",
      "\n",
      "Variable: high_fire_days \n",
      "Simes Test Results (0.01, 0.05, 0.10): FALSE FALSE FALSE \n",
      "\n",
      "Variable: hot_days \n",
      "Simes Test Results (0.01, 0.05, 0.10): FALSE FALSE FALSE \n",
      "\n",
      "Variable: num_tropical_nights \n",
      "Simes Test Results (0.01, 0.05, 0.10): FALSE FALSE FALSE \n",
      "\n",
      "Variable: cdd \n",
      "Simes Test Results (0.01, 0.05, 0.10): FALSE FALSE FALSE \n",
      "\n",
      "Variable: extreme_precipitation_mm \n",
      "Simes Test Results (0.01, 0.05, 0.10): FALSE FALSE FALSE \n",
      "\n",
      "Variable: frequency_of_extreme_precipitation \n",
      "Simes Test Results (0.01, 0.05, 0.10): FALSE FALSE FALSE \n",
      "\n"
     ]
    }
   ],
   "source": [
    "# List of variable names to test\n",
    "variables <- c(\"fwi\", \"high_fire_days\", \"hot_days\", \"num_tropical_nights\", \"cdd\",\n",
    "\"extreme_precipitation_mm\",\n",
    "\"frequency_of_extreme_precipitation\")\n",
    "# Loop through each variable\n",
    "for (var in variables) {\n",
    "  # Split the variable by panel identifier\n",
    "  data_split <- data.frame(split(pdata_complete[[var]], pdata_complete$CCA_2))\n",
    "  \n",
    "  # Perform the pCADFtest\n",
    "  test_result <- pCADFtest(Y = data_split, max.lag.y = 4, criterion = \"AIC\", crosscorr = 1)\n",
    "  \n",
    "  # Perform the Simes test\n",
    "  simes_result <- Simes(test_result, c(0.01, 0.05, 0.10))\n",
    "  \n",
    "  # Print the variable name and the Simes test results\n",
    "  cat(\"Variable:\", var, \"\\n\")\n",
    "  cat(\"Simes Test Results (0.01, 0.05, 0.10):\", simes_result, \"\\n\\n\")\n",
    "}\n"
   ]
  },
  {
   "cell_type": "code",
   "execution_count": 25,
   "id": "066e4398",
   "metadata": {
    "vscode": {
     "languageId": "r"
    }
   },
   "outputs": [
    {
     "name": "stdout",
     "output_type": "stream",
     "text": [
      "Variable: fwi_D1 \n",
      "Simes Test Results (0.01, 0.05, 0.10): FALSE FALSE FALSE \n",
      "\n"
     ]
    }
   ],
   "source": [
    "# List of variable names to test\n",
    "variables <- c(\"fwi_D1\")\n",
    "# Loop through each variable\n",
    "for (var in variables) {\n",
    "  # Split the variable by panel identifier\n",
    "  data_split <- data.frame(split(pdata_complete[[var]], pdata_complete$CCA_2))\n",
    "  \n",
    "  # Perform the pCADFtest\n",
    "  test_result <- pCADFtest(Y = data_split, max.lag.y = 4, criterion = \"AIC\", crosscorr = 1)\n",
    "  \n",
    "  # Perform the Simes test\n",
    "  simes_result <- Simes(test_result, c(0.01, 0.05, 0.10))\n",
    "  \n",
    "  # Print the variable name and the Simes test results\n",
    "  cat(\"Variable:\", var, \"\\n\")\n",
    "  cat(\"Simes Test Results (0.01, 0.05, 0.10):\", simes_result, \"\\n\\n\")\n",
    "}\n"
   ]
  },
  {
   "cell_type": "markdown",
   "id": "f3cad273",
   "metadata": {},
   "source": [
    "#### Medit Factor Variables"
   ]
  },
  {
   "cell_type": "code",
   "execution_count": 27,
   "id": "a9bb04d1",
   "metadata": {
    "vscode": {
     "languageId": "r"
    }
   },
   "outputs": [
    {
     "name": "stdout",
     "output_type": "stream",
     "text": [
      "Variable: Medit_factor_tp \n",
      "Simes Test Results (0.01, 0.05, 0.10): FALSE FALSE FALSE \n",
      "\n",
      "Variable: Medit_factor_t2m \n",
      "Simes Test Results (0.01, 0.05, 0.10): TRUE TRUE FALSE \n",
      "\n",
      "Variable: Medit_factor_t2m_D1 \n",
      "Simes Test Results (0.01, 0.05, 0.10): FALSE FALSE FALSE \n",
      "\n"
     ]
    }
   ],
   "source": [
    "\n",
    "\n",
    "# List of variable names to test\n",
    "variables <- c(\"Medit_factor_tp\",\n",
    "\"Medit_factor_t2m\", \n",
    "\"Medit_factor_t2m_D1\")\n",
    "# Loop through each variable\n",
    "for (var in variables) {\n",
    "  # Split the variable by panel identifier\n",
    "  data_split <- data.frame(split(pdata_complete[[var]], pdata_complete$CCA_2))\n",
    "  \n",
    "  # Perform the pCADFtest\n",
    "  test_result <- pCADFtest(Y = data_split, max.lag.y = 4, criterion = \"AIC\", crosscorr = 1)\n",
    "  \n",
    "  # Perform the Simes test\n",
    "  simes_result <- Simes(test_result, c(0.01, 0.05, 0.10))\n",
    "  \n",
    "  # Print the variable name and the Simes test results\n",
    "  cat(\"Variable:\", var, \"\\n\")\n",
    "  cat(\"Simes Test Results (0.01, 0.05, 0.10):\", simes_result, \"\\n\\n\")\n",
    "}\n"
   ]
  },
  {
   "cell_type": "code",
   "execution_count": null,
   "id": "089552dc",
   "metadata": {
    "vscode": {
     "languageId": "r"
    }
   },
   "outputs": [],
   "source": []
  }
 ],
 "metadata": {
  "kernelspec": {
   "display_name": "R",
   "language": "R",
   "name": "ir"
  },
  "language_info": {
   "codemirror_mode": "r",
   "file_extension": ".r",
   "mimetype": "text/x-r-source",
   "name": "R",
   "pygments_lexer": "r",
   "version": "4.4.1"
  }
 },
 "nbformat": 4,
 "nbformat_minor": 5
}
