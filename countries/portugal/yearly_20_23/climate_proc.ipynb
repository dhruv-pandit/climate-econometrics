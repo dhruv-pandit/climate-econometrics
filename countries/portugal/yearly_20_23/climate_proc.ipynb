{
 "cells": [
  {
   "cell_type": "code",
   "execution_count": 4,
   "id": "94f0f173",
   "metadata": {},
   "outputs": [],
   "source": [
    "import pandas as pd\n",
    "import geopandas as gpd\n",
    "import xarray as xr\n",
    "import xagg"
   ]
  },
  {
   "cell_type": "code",
   "execution_count": 15,
   "id": "a27fd8a6",
   "metadata": {},
   "outputs": [],
   "source": [
    "coap_mun = gpd.read_file(r'/Users/dhruvnovaims/Library/Mobile Documents/com~apple~CloudDocs/Documents/GitHub/climate-econometrics/countries/portugal/municipality_data/caop_MUN/Cont_Mun_CAOP2023.shp')\n",
    "coap_mun = coap_mun.to_crs(\"EPSG:4326\")"
   ]
  },
  {
   "cell_type": "code",
   "execution_count": 16,
   "id": "1bbc46e9",
   "metadata": {},
   "outputs": [],
   "source": [
    "west, south, east, north = coap_mun.total_bounds\n",
    "PORTUGAL_BBOX = {\n",
    "    \"min_lat\": south,  # Minimum latitude\n",
    "    \"max_lat\": north,  # Maximum latitude\n",
    "    \"min_lon\": west,   # Minimum longitude\n",
    "    \"max_lon\": east    # Maximum longitude\n",
    "}\n"
   ]
  },
  {
   "cell_type": "code",
   "execution_count": 10,
   "id": "4bc74998",
   "metadata": {},
   "outputs": [
    {
     "data": {
      "text/html": [
       "<div>\n",
       "<style scoped>\n",
       "    .dataframe tbody tr th:only-of-type {\n",
       "        vertical-align: middle;\n",
       "    }\n",
       "\n",
       "    .dataframe tbody tr th {\n",
       "        vertical-align: top;\n",
       "    }\n",
       "\n",
       "    .dataframe thead th {\n",
       "        text-align: right;\n",
       "    }\n",
       "</style>\n",
       "<table border=\"1\" class=\"dataframe\">\n",
       "  <thead>\n",
       "    <tr style=\"text-align: right;\">\n",
       "      <th></th>\n",
       "      <th>fid</th>\n",
       "      <th>DICO</th>\n",
       "      <th>Municipio</th>\n",
       "      <th>Distrito</th>\n",
       "      <th>N_Freguesi</th>\n",
       "      <th>NUTSIII</th>\n",
       "      <th>NUTSII</th>\n",
       "      <th>NUTSI</th>\n",
       "      <th>Alt_Max</th>\n",
       "      <th>Alt_Min</th>\n",
       "      <th>Area_ha</th>\n",
       "      <th>Perim_km</th>\n",
       "      <th>geometry</th>\n",
       "    </tr>\n",
       "  </thead>\n",
       "  <tbody>\n",
       "    <tr>\n",
       "      <th>0</th>\n",
       "      <td>1.0</td>\n",
       "      <td>0101</td>\n",
       "      <td>Águeda</td>\n",
       "      <td>Aveiro</td>\n",
       "      <td>11.0</td>\n",
       "      <td>Região de Aveiro</td>\n",
       "      <td>Centro</td>\n",
       "      <td>Continente</td>\n",
       "      <td>762.0</td>\n",
       "      <td>4.0</td>\n",
       "      <td>33527.44</td>\n",
       "      <td>105.0</td>\n",
       "      <td>POLYGON ((-20560.758 113803.912, -20550.798 11...</td>\n",
       "    </tr>\n",
       "    <tr>\n",
       "      <th>1</th>\n",
       "      <td>2.0</td>\n",
       "      <td>0102</td>\n",
       "      <td>Albergaria-a-Velha</td>\n",
       "      <td>Aveiro</td>\n",
       "      <td>6.0</td>\n",
       "      <td>Região de Aveiro</td>\n",
       "      <td>Centro</td>\n",
       "      <td>Continente</td>\n",
       "      <td>425.0</td>\n",
       "      <td>0.0</td>\n",
       "      <td>15882.50</td>\n",
       "      <td>82.0</td>\n",
       "      <td>POLYGON ((-26966.491 123573.381, -26964.759 12...</td>\n",
       "    </tr>\n",
       "    <tr>\n",
       "      <th>2</th>\n",
       "      <td>3.0</td>\n",
       "      <td>0103</td>\n",
       "      <td>Anadia</td>\n",
       "      <td>Aveiro</td>\n",
       "      <td>10.0</td>\n",
       "      <td>Região de Aveiro</td>\n",
       "      <td>Centro</td>\n",
       "      <td>Continente</td>\n",
       "      <td>525.0</td>\n",
       "      <td>13.0</td>\n",
       "      <td>21663.48</td>\n",
       "      <td>75.0</td>\n",
       "      <td>POLYGON ((-17449.514 93729.645, -17450.254 937...</td>\n",
       "    </tr>\n",
       "    <tr>\n",
       "      <th>3</th>\n",
       "      <td>4.0</td>\n",
       "      <td>0104</td>\n",
       "      <td>Arouca</td>\n",
       "      <td>Aveiro</td>\n",
       "      <td>16.0</td>\n",
       "      <td>Área Metropolitana do Porto</td>\n",
       "      <td>Norte</td>\n",
       "      <td>Continente</td>\n",
       "      <td>1222.0</td>\n",
       "      <td>50.0</td>\n",
       "      <td>32910.52</td>\n",
       "      <td>118.0</td>\n",
       "      <td>POLYGON ((-7133.618 149431.412, -7096.198 1494...</td>\n",
       "    </tr>\n",
       "    <tr>\n",
       "      <th>4</th>\n",
       "      <td>5.0</td>\n",
       "      <td>0105</td>\n",
       "      <td>Aveiro</td>\n",
       "      <td>Aveiro</td>\n",
       "      <td>10.0</td>\n",
       "      <td>Região de Aveiro</td>\n",
       "      <td>Centro</td>\n",
       "      <td>Continente</td>\n",
       "      <td>78.0</td>\n",
       "      <td>0.0</td>\n",
       "      <td>19757.57</td>\n",
       "      <td>77.0</td>\n",
       "      <td>POLYGON ((-42619.981 117138.132, -42536.222 11...</td>\n",
       "    </tr>\n",
       "  </tbody>\n",
       "</table>\n",
       "</div>"
      ],
      "text/plain": [
       "   fid  DICO           Municipio Distrito  N_Freguesi  \\\n",
       "0  1.0  0101              Águeda   Aveiro        11.0   \n",
       "1  2.0  0102  Albergaria-a-Velha   Aveiro         6.0   \n",
       "2  3.0  0103              Anadia   Aveiro        10.0   \n",
       "3  4.0  0104              Arouca   Aveiro        16.0   \n",
       "4  5.0  0105              Aveiro   Aveiro        10.0   \n",
       "\n",
       "                       NUTSIII  NUTSII       NUTSI  Alt_Max  Alt_Min  \\\n",
       "0             Região de Aveiro  Centro  Continente    762.0      4.0   \n",
       "1             Região de Aveiro  Centro  Continente    425.0      0.0   \n",
       "2             Região de Aveiro  Centro  Continente    525.0     13.0   \n",
       "3  Área Metropolitana do Porto   Norte  Continente   1222.0     50.0   \n",
       "4             Região de Aveiro  Centro  Continente     78.0      0.0   \n",
       "\n",
       "    Area_ha  Perim_km                                           geometry  \n",
       "0  33527.44     105.0  POLYGON ((-20560.758 113803.912, -20550.798 11...  \n",
       "1  15882.50      82.0  POLYGON ((-26966.491 123573.381, -26964.759 12...  \n",
       "2  21663.48      75.0  POLYGON ((-17449.514 93729.645, -17450.254 937...  \n",
       "3  32910.52     118.0  POLYGON ((-7133.618 149431.412, -7096.198 1494...  \n",
       "4  19757.57      77.0  POLYGON ((-42619.981 117138.132, -42536.222 11...  "
      ]
     },
     "execution_count": 10,
     "metadata": {},
     "output_type": "execute_result"
    }
   ],
   "source": [
    "coap_mun.head()"
   ]
  },
  {
   "cell_type": "code",
   "execution_count": null,
   "id": "a1cddccc",
   "metadata": {},
   "outputs": [],
   "source": [
    "# 2) Dissolve municipalities up to the district level\n",
    "districts_gdf = coap_mun.dissolve(\n",
    "    by=\"Distrito\",          # group key\n",
    "    as_index=False,         # keep 'distrito' as a column\n",
    "    aggfunc=\"first\"         # how to aggregate non-geometry columns (adjust as needed)\n",
    ")\n",
    "# Get centroids\n"
   ]
  },
  {
   "cell_type": "code",
   "execution_count": 19,
   "id": "e511232d",
   "metadata": {},
   "outputs": [
    {
     "data": {
      "text/plain": [
       "<Axes: >"
      ]
     },
     "execution_count": 19,
     "metadata": {},
     "output_type": "execute_result"
    },
    {
     "data": {
      "image/png": "[encoded data removed]",
      "text/plain": [
       "<Figure size 640x480 with 1 Axes>"
      ]
     },
     "metadata": {},
     "output_type": "display_data"
    }
   ],
   "source": [
    "districts_gdf.plot()"
   ]
  },
  {
   "cell_type": "markdown",
   "id": "0c60e3d1",
   "metadata": {},
   "source": [
    "## Climate Points Load"
   ]
  },
  {
   "cell_type": "markdown",
   "id": "9186360a",
   "metadata": {},
   "source": [
    "### Fire"
   ]
  },
  {
   "cell_type": "markdown",
   "id": "1eeb731f",
   "metadata": {},
   "source": [
    "#### Fire 79-21"
   ]
  },
  {
   "cell_type": "code",
   "execution_count": 20,
   "id": "5d8982b3",
   "metadata": {},
   "outputs": [],
   "source": [
    "fwi_df = pd.read_parquet(r'/Volumes/Dhruv_External_Disk/climate_data/fire/fire_weather_index_portugal_1979_2021.parquet')"
   ]
  },
  {
   "cell_type": "code",
   "execution_count": 22,
   "id": "17813098",
   "metadata": {},
   "outputs": [],
   "source": [
    "high_fire_days = pd.read_parquet(r'/Volumes/Dhruv_External_Disk/climate_data/fire/high_fire_days_portugal_1979_2021.parquet')"
   ]
  },
  {
   "cell_type": "markdown",
   "id": "744ada46",
   "metadata": {},
   "source": [
    "#### 22 - 23"
   ]
  },
  {
   "cell_type": "code",
   "execution_count": 27,
   "id": "7d089a8f",
   "metadata": {},
   "outputs": [
    {
     "name": "stderr",
     "output_type": "stream",
     "text": [
      "/Library/Frameworks/Python.framework/Versions/3.12/lib/python3.12/site-packages/cfgrib/xarray_plugin.py:131: FutureWarning: In a future version of xarray decode_timedelta will default to False rather than None. To silence this warning, set decode_timedelta to True, False, or a 'CFTimedeltaCoder' instance.\n",
      "  vars, attrs, coord_names = xr.conventions.decode_cf_variables(\n"
     ]
    },
    {
     "name": "stdout",
     "output_type": "stream",
     "text": [
      "Saved daily_fwi.parquet\n"
     ]
    },
    {
     "name": "stderr",
     "output_type": "stream",
     "text": [
      "/Library/Frameworks/Python.framework/Versions/3.12/lib/python3.12/site-packages/cfgrib/xarray_plugin.py:131: FutureWarning: In a future version of xarray decode_timedelta will default to False rather than None. To silence this warning, set decode_timedelta to True, False, or a 'CFTimedeltaCoder' instance.\n",
      "  vars, attrs, coord_names = xr.conventions.decode_cf_variables(\n",
      "/Library/Frameworks/Python.framework/Versions/3.12/lib/python3.12/site-packages/cfgrib/xarray_plugin.py:131: FutureWarning: In a future version of xarray decode_timedelta will default to False rather than None. To silence this warning, set decode_timedelta to True, False, or a 'CFTimedeltaCoder' instance.\n",
      "  vars, attrs, coord_names = xr.conventions.decode_cf_variables(\n"
     ]
    }
   ],
   "source": [
    "import os\n",
    "\n",
    "# Folder with GRIB files\n",
    "folder = \"/Volumes/Dhruv_External_Disk/climate_data/fire/raw/fwi\"\n",
    "\n",
    "dfs = []\n",
    "\n",
    "for file in os.listdir(folder):\n",
    "    if file.endswith(\".grib\") or file.endswith(\".grb\"):\n",
    "        path = os.path.join(folder, file)\n",
    "        ds = xr.open_dataset(path, engine=\"cfgrib\")\n",
    "\n",
    "        # Drop unneeded variables if present\n",
    "        for var in [\"step\", \"surface\", \"valid_time\"]:\n",
    "            if var in ds:\n",
    "                ds = ds.drop_vars(var)\n",
    "\n",
    "        # Rename variable fwinx -> fwi\n",
    "        if \"fwinx\" in ds:\n",
    "            ds = ds.rename({\"fwinx\": \"fwi\"})\n",
    "\n",
    "        # Convert to dataframe (multi-index -> columns)\n",
    "        df = ds.to_dataframe().reset_index()\n",
    "\n",
    "        # Filter by bbox\n",
    "        df = df[\n",
    "            (df[\"latitude\"] >= PORTUGAL_BBOX[\"min_lat\"]) &\n",
    "            (df[\"latitude\"] <= PORTUGAL_BBOX[\"max_lat\"]) &\n",
    "            (df[\"longitude\"] >= PORTUGAL_BBOX[\"min_lon\"]) &\n",
    "            (df[\"longitude\"] <= PORTUGAL_BBOX[\"max_lon\"])\n",
    "        ]\n",
    "\n",
    "        dfs.append(df)\n",
    "\n",
    "# Concatenate all files\n",
    "df_all = pd.concat(dfs, ignore_index=True)\n",
    "\n",
    "# Export to parquet\n",
    "df_all.to_parquet(\"/Volumes/Dhruv_External_Disk/climate_data/fire/fwi_portugal_22_24.parquet\", index=False)\n",
    "print(\"Saved daily_fwi.parquet\")\n"
   ]
  },
  {
   "cell_type": "code",
   "execution_count": 34,
   "id": "cac24b7c",
   "metadata": {},
   "outputs": [
    {
     "name": "stdout",
     "output_type": "stream",
     "text": [
      "Saved monthly_avg_fwi.parquet and monthly_highfire_days.parquet\n"
     ]
    }
   ],
   "source": [
    "\n",
    "# Load parquet\n",
    "df = pd.read_parquet(\"/Volumes/Dhruv_External_Disk/climate_data/fire/fwi_portugal_22_24.parquet\")\n",
    "\n",
    "\n",
    "# Monthly average FWI per gridpoint\n",
    "monthly_avg = (\n",
    "    df\n",
    "    .groupby([\n",
    "        pd.Grouper(key=\"time\", freq=\"M\"),\n",
    "        \"latitude\",\n",
    "        \"longitude\"\n",
    "    ])[\"fwi\"]\n",
    "    .mean()\n",
    "    .reset_index()\n",
    ")\n",
    "\n",
    "# Monthly count of high fire days (FWI > 30)\n",
    "monthly_highfire = (\n",
    "    df.assign(high_fire=(df[\"fwi\"] > 30).astype(int))\n",
    "    .groupby([\n",
    "        pd.Grouper(key=\"time\", freq=\"M\"),\n",
    "        \"latitude\",\n",
    "        \"longitude\"\n",
    "    ])[\"high_fire\"]\n",
    "    .sum()\n",
    "    .reset_index()\n",
    "    .rename(columns={\"high_fire\": \"high_fire_days\"})\n",
    ")\n",
    "monthly_avg[\"time\"] = monthly_avg[\"time\"].dt.to_period(\"M\").dt.to_timestamp()\n",
    "monthly_highfire[\"time\"] = monthly_highfire[\"time\"].dt.to_period(\"M\").dt.to_timestamp()\n",
    "\n",
    "# Save outputs\n",
    "monthly_avg.to_parquet(\"/Volumes/Dhruv_External_Disk/climate_data/fire/fwi_monthly_pt_22_24.parquet\", index=False)\n",
    "monthly_highfire.to_parquet(\"/Volumes/Dhruv_External_Disk/climate_data/fire/monthly_pt_22_24_highfire_days.parquet\", index=False)\n",
    "\n",
    "print(\"Saved monthly_avg_fwi.parquet and monthly_highfire_days.parquet\")\n"
   ]
  },
  {
   "cell_type": "code",
   "execution_count": 32,
   "id": "85d2a2dc",
   "metadata": {},
   "outputs": [
    {
     "data": {
      "application/vnd.microsoft.datawrangler.viewer.v0+json": {
       "columns": [
        {
         "name": "index",
         "rawType": "int64",
         "type": "integer"
        },
        {
         "name": "time",
         "rawType": "datetime64[ns]",
         "type": "datetime"
        },
        {
         "name": "lon",
         "rawType": "float64",
         "type": "float"
        },
        {
         "name": "lat",
         "rawType": "float64",
         "type": "float"
        },
        {
         "name": "fwi",
         "rawType": "float32",
         "type": "float"
        }
       ],
       "ref": "d3d7ba6d-408d-467a-885d-6f2b323c2259",
       "rows": [
        [
         "9292",
         "1979-01-01 00:00:00",
         "-9.5",
         "37.0",
         "0.0"
        ],
        [
         "9293",
         "1979-01-01 00:00:00",
         "-9.5",
         "37.25",
         "0.0"
        ],
        [
         "9294",
         "1979-01-01 00:00:00",
         "-9.5",
         "37.5",
         "0.0"
        ],
        [
         "9295",
         "1979-01-01 00:00:00",
         "-9.5",
         "37.75",
         "0.0"
        ],
        [
         "9296",
         "1979-01-01 00:00:00",
         "-9.5",
         "38.0",
         "0.0"
        ],
        [
         "9297",
         "1979-01-01 00:00:00",
         "-9.5",
         "38.25",
         "0.0"
        ],
        [
         "9298",
         "1979-01-01 00:00:00",
         "-9.5",
         "38.5",
         "1.8164237"
        ],
        [
         "9299",
         "1979-01-01 00:00:00",
         "-9.5",
         "38.75",
         "1.7639825"
        ],
        [
         "9300",
         "1979-01-01 00:00:00",
         "-9.5",
         "39.0",
         "1.080708"
        ],
        [
         "9301",
         "1979-01-01 00:00:00",
         "-9.5",
         "39.25",
         "1.2620604"
        ],
        [
         "9302",
         "1979-01-01 00:00:00",
         "-9.5",
         "39.5",
         "0.0"
        ],
        [
         "9303",
         "1979-01-01 00:00:00",
         "-9.5",
         "39.75",
         "0.0"
        ],
        [
         "9304",
         "1979-01-01 00:00:00",
         "-9.5",
         "40.0",
         "0.0"
        ],
        [
         "9305",
         "1979-01-01 00:00:00",
         "-9.5",
         "40.25",
         "0.0"
        ],
        [
         "9306",
         "1979-01-01 00:00:00",
         "-9.5",
         "40.5",
         "0.0"
        ],
        [
         "9307",
         "1979-01-01 00:00:00",
         "-9.5",
         "40.75",
         "0.0"
        ],
        [
         "9308",
         "1979-01-01 00:00:00",
         "-9.5",
         "41.0",
         "0.0"
        ],
        [
         "9309",
         "1979-01-01 00:00:00",
         "-9.5",
         "41.25",
         "0.0"
        ],
        [
         "9310",
         "1979-01-01 00:00:00",
         "-9.5",
         "41.5",
         "0.0"
        ],
        [
         "9311",
         "1979-01-01 00:00:00",
         "-9.5",
         "41.75",
         "0.0"
        ],
        [
         "9312",
         "1979-01-01 00:00:00",
         "-9.5",
         "42.0",
         "0.0"
        ],
        [
         "9477",
         "1979-01-01 00:00:00",
         "-9.25",
         "37.0",
         "2.2377396"
        ],
        [
         "9478",
         "1979-01-01 00:00:00",
         "-9.25",
         "37.25",
         "1.8581038"
        ],
        [
         "9479",
         "1979-01-01 00:00:00",
         "-9.25",
         "37.5",
         "0.0"
        ],
        [
         "9480",
         "1979-01-01 00:00:00",
         "-9.25",
         "37.75",
         "0.0"
        ],
        [
         "9481",
         "1979-01-01 00:00:00",
         "-9.25",
         "38.0",
         "0.0"
        ],
        [
         "9482",
         "1979-01-01 00:00:00",
         "-9.25",
         "38.25",
         "1.6310092"
        ],
        [
         "9483",
         "1979-01-01 00:00:00",
         "-9.25",
         "38.5",
         "1.6310092"
        ],
        [
         "9484",
         "1979-01-01 00:00:00",
         "-9.25",
         "38.75",
         "1.3862638"
        ],
        [
         "9485",
         "1979-01-01 00:00:00",
         "-9.25",
         "39.0",
         "0.9845317"
        ],
        [
         "9486",
         "1979-01-01 00:00:00",
         "-9.25",
         "39.25",
         "1.1599565"
        ],
        [
         "9487",
         "1979-01-01 00:00:00",
         "-9.25",
         "39.5",
         "1.4291682"
        ],
        [
         "9488",
         "1979-01-01 00:00:00",
         "-9.25",
         "39.75",
         "1.3547736"
        ],
        [
         "9489",
         "1979-01-01 00:00:00",
         "-9.25",
         "40.0",
         "1.6071826"
        ],
        [
         "9490",
         "1979-01-01 00:00:00",
         "-9.25",
         "40.25",
         "1.4782093"
        ],
        [
         "9491",
         "1979-01-01 00:00:00",
         "-9.25",
         "40.5",
         "0.40488482"
        ],
        [
         "9492",
         "1979-01-01 00:00:00",
         "-9.25",
         "40.75",
         "0.0"
        ],
        [
         "9493",
         "1979-01-01 00:00:00",
         "-9.25",
         "41.0",
         "0.0"
        ],
        [
         "9494",
         "1979-01-01 00:00:00",
         "-9.25",
         "41.25",
         "0.0"
        ],
        [
         "9495",
         "1979-01-01 00:00:00",
         "-9.25",
         "41.5",
         "0.0"
        ],
        [
         "9496",
         "1979-01-01 00:00:00",
         "-9.25",
         "41.75",
         "0.30429307"
        ],
        [
         "9497",
         "1979-01-01 00:00:00",
         "-9.25",
         "42.0",
         "0.25355133"
        ],
        [
         "9662",
         "1979-01-01 00:00:00",
         "-9.0",
         "37.0",
         "2.3233843"
        ],
        [
         "9663",
         "1979-01-01 00:00:00",
         "-9.0",
         "37.25",
         "1.8367965"
        ],
        [
         "9664",
         "1979-01-01 00:00:00",
         "-9.0",
         "37.5",
         "1.5820944"
        ],
        [
         "9665",
         "1979-01-01 00:00:00",
         "-9.0",
         "37.75",
         "0.0"
        ],
        [
         "9666",
         "1979-01-01 00:00:00",
         "-9.0",
         "38.0",
         "1.1871079"
        ],
        [
         "9667",
         "1979-01-01 00:00:00",
         "-9.0",
         "38.25",
         "1.3628862"
        ],
        [
         "9668",
         "1979-01-01 00:00:00",
         "-9.0",
         "38.5",
         "1.3628862"
        ],
        [
         "9669",
         "1979-01-01 00:00:00",
         "-9.0",
         "38.75",
         "1.1841453"
        ]
       ],
       "shape": {
        "columns": 4,
        "rows": 151704
       }
      },
      "text/html": [
       "<div>\n",
       "<style scoped>\n",
       "    .dataframe tbody tr th:only-of-type {\n",
       "        vertical-align: middle;\n",
       "    }\n",
       "\n",
       "    .dataframe tbody tr th {\n",
       "        vertical-align: top;\n",
       "    }\n",
       "\n",
       "    .dataframe thead th {\n",
       "        text-align: right;\n",
       "    }\n",
       "</style>\n",
       "<table border=\"1\" class=\"dataframe\">\n",
       "  <thead>\n",
       "    <tr style=\"text-align: right;\">\n",
       "      <th></th>\n",
       "      <th>time</th>\n",
       "      <th>lon</th>\n",
       "      <th>lat</th>\n",
       "      <th>fwi</th>\n",
       "    </tr>\n",
       "  </thead>\n",
       "  <tbody>\n",
       "    <tr>\n",
       "      <th>9292</th>\n",
       "      <td>1979-01-01</td>\n",
       "      <td>-9.50</td>\n",
       "      <td>37.00</td>\n",
       "      <td>0.000000</td>\n",
       "    </tr>\n",
       "    <tr>\n",
       "      <th>9293</th>\n",
       "      <td>1979-01-01</td>\n",
       "      <td>-9.50</td>\n",
       "      <td>37.25</td>\n",
       "      <td>0.000000</td>\n",
       "    </tr>\n",
       "    <tr>\n",
       "      <th>9294</th>\n",
       "      <td>1979-01-01</td>\n",
       "      <td>-9.50</td>\n",
       "      <td>37.50</td>\n",
       "      <td>0.000000</td>\n",
       "    </tr>\n",
       "    <tr>\n",
       "      <th>9295</th>\n",
       "      <td>1979-01-01</td>\n",
       "      <td>-9.50</td>\n",
       "      <td>37.75</td>\n",
       "      <td>0.000000</td>\n",
       "    </tr>\n",
       "    <tr>\n",
       "      <th>9296</th>\n",
       "      <td>1979-01-01</td>\n",
       "      <td>-9.50</td>\n",
       "      <td>38.00</td>\n",
       "      <td>0.000000</td>\n",
       "    </tr>\n",
       "    <tr>\n",
       "      <th>...</th>\n",
       "      <td>...</td>\n",
       "      <td>...</td>\n",
       "      <td>...</td>\n",
       "      <td>...</td>\n",
       "    </tr>\n",
       "    <tr>\n",
       "      <th>25831238</th>\n",
       "      <td>2021-12-01</td>\n",
       "      <td>-6.25</td>\n",
       "      <td>41.00</td>\n",
       "      <td>1.074700</td>\n",
       "    </tr>\n",
       "    <tr>\n",
       "      <th>25831239</th>\n",
       "      <td>2021-12-01</td>\n",
       "      <td>-6.25</td>\n",
       "      <td>41.25</td>\n",
       "      <td>0.946599</td>\n",
       "    </tr>\n",
       "    <tr>\n",
       "      <th>25831240</th>\n",
       "      <td>2021-12-01</td>\n",
       "      <td>-6.25</td>\n",
       "      <td>41.50</td>\n",
       "      <td>1.425238</td>\n",
       "    </tr>\n",
       "    <tr>\n",
       "      <th>25831241</th>\n",
       "      <td>2021-12-01</td>\n",
       "      <td>-6.25</td>\n",
       "      <td>41.75</td>\n",
       "      <td>2.211312</td>\n",
       "    </tr>\n",
       "    <tr>\n",
       "      <th>25831242</th>\n",
       "      <td>2021-12-01</td>\n",
       "      <td>-6.25</td>\n",
       "      <td>42.00</td>\n",
       "      <td>2.024569</td>\n",
       "    </tr>\n",
       "  </tbody>\n",
       "</table>\n",
       "<p>151704 rows × 4 columns</p>\n",
       "</div>"
      ],
      "text/plain": [
       "               time   lon    lat       fwi\n",
       "9292     1979-01-01 -9.50  37.00  0.000000\n",
       "9293     1979-01-01 -9.50  37.25  0.000000\n",
       "9294     1979-01-01 -9.50  37.50  0.000000\n",
       "9295     1979-01-01 -9.50  37.75  0.000000\n",
       "9296     1979-01-01 -9.50  38.00  0.000000\n",
       "...             ...   ...    ...       ...\n",
       "25831238 2021-12-01 -6.25  41.00  1.074700\n",
       "25831239 2021-12-01 -6.25  41.25  0.946599\n",
       "25831240 2021-12-01 -6.25  41.50  1.425238\n",
       "25831241 2021-12-01 -6.25  41.75  2.211312\n",
       "25831242 2021-12-01 -6.25  42.00  2.024569\n",
       "\n",
       "[151704 rows x 4 columns]"
      ]
     },
     "execution_count": 32,
     "metadata": {},
     "output_type": "execute_result"
    }
   ],
   "source": [
    "fwi_df"
   ]
  },
  {
   "cell_type": "code",
   "execution_count": 36,
   "id": "7ff79b34",
   "metadata": {},
   "outputs": [],
   "source": [
    "fwi_df = fwi_df.rename(columns={'lon':'longitude', 'lat':'latitude'})\n",
    "fwi_df = pd.concat([fwi_df, monthly_avg])"
   ]
  },
  {
   "cell_type": "code",
   "execution_count": 37,
   "id": "da958545",
   "metadata": {},
   "outputs": [],
   "source": [
    "high_fire_days = fwi_df.rename(columns={'lon':'longitude', 'lat':'latitude'})\n",
    "high_fire_days = pd.concat([fwi_df, monthly_highfire])"
   ]
  },
  {
   "cell_type": "code",
   "execution_count": 38,
   "id": "ef001170",
   "metadata": {},
   "outputs": [],
   "source": [
    "# Ensure datetime\n",
    "fwi_df[\"time\"] = pd.to_datetime(fwi_df[\"time\"])\n",
    "high_fire_days[\"time\"] = pd.to_datetime(high_fire_days[\"time\"])\n",
    "\n",
    "# Filter by date range\n",
    "mask1 = (fwi_df[\"time\"] >= \"2000-01-01\") & (fwi_df[\"time\"] <= \"2023-12-01\")\n",
    "mask2 = (high_fire_days[\"time\"] >= \"2000-01-01\") & (high_fire_days[\"time\"] <= \"2023-12-01\")\n",
    "\n",
    "fwi_df = fwi_df.loc[mask1]\n",
    "high_fire_days = high_fire_days.loc[mask2]"
   ]
  },
  {
   "cell_type": "code",
   "execution_count": null,
   "id": "cf2b21d6",
   "metadata": {},
   "outputs": [],
   "source": [
    "high_fire_days = high_fire_days.drop(columns=['fwi'])\n",
    "\n",
    "fwi_df = fwi_df.reset_index().drop(columns=['index'])\n",
    "high_fire_days = high_fire_days.reset_index().drop(columns=['index'])"
   ]
  },
  {
   "cell_type": "code",
   "execution_count": 91,
   "id": "d2eca434",
   "metadata": {},
   "outputs": [],
   "source": [
    "def df_to_unique_ds(df, lat=\"latitude\", lon=\"longitude\", time=\"time\",\n",
    "                    round_decimals=4, agg=\"mean\"):\n",
    "    df = df.copy()\n",
    "    df[time] = pd.to_datetime(df[time])\n",
    "    # optional: snap coords to grid to avoid 1e-15 drift\n",
    "    df[lat] = df[lat].round(round_decimals)\n",
    "    df[lon] = df[lon].round(round_decimals)\n",
    "    # collapse duplicates across all numeric columns\n",
    "    df = (df.groupby([time, lat, lon], as_index=False)\n",
    "            .agg(agg, numeric_only=True))\n",
    "    return xr.Dataset.from_dataframe(df.set_index([time, lat, lon]).sort_index())\n",
    "\n",
    "# use it\n",
    "fire_ds = [df_to_unique_ds(df) for df in [fwi_df, high_fire_days]]"
   ]
  },
  {
   "cell_type": "code",
   "execution_count": 92,
   "id": "e0f0d5e1",
   "metadata": {},
   "outputs": [
    {
     "name": "stdout",
     "output_type": "stream",
     "text": [
      "creating polygons for each pixel...\n",
      "lat/lon bounds not found in dataset; they will be created.\n",
      "Found 20 break(s)/jump(s) in lat (i.e., grid doesn't cover whole planet); replacing grid cell width(s) with preceding grid cell width(s) at breakpoint.\n",
      "Found 13 break(s)/jump(s) in lon (i.e., grid doesn't cover whole planet); replacing grid cell width(s) with preceding grid cell width(s) at breakpoint.\n",
      "calculating overlaps between pixels and output polygons...\n",
      "success!\n",
      "aggregating fwi...\n",
      "all variables aggregated to polygons!\n",
      "creating polygons for each pixel...\n",
      "lat/lon bounds not found in dataset; they will be created.\n",
      "Found 20 break(s)/jump(s) in lat (i.e., grid doesn't cover whole planet); replacing grid cell width(s) with preceding grid cell width(s) at breakpoint.\n",
      "Found 13 break(s)/jump(s) in lon (i.e., grid doesn't cover whole planet); replacing grid cell width(s) with preceding grid cell width(s) at breakpoint.\n",
      "calculating overlaps between pixels and output polygons...\n"
     ]
    },
    {
     "name": "stderr",
     "output_type": "stream",
     "text": [
      "/Library/Frameworks/Python.framework/Versions/3.12/lib/python3.12/site-packages/xagg/auxfuncs.py:167: SomeNanWarning: One or more grid cells in variable fwi have inconsistent nans along the dimension(s) time (i.e., one or more grid cells are nan for some but not all coordinates of the dimension(s)). This means that grid cell weights will be different for different coordinates along time. The aggregation calculation may therefore be incorrect, since it aggregates over different grid cells for  the same polgyon for different coordinates of the dimension(s)time.\n",
      "  warnings.warn('One or more grid cells in variable '+var+' have inconsistent nans along the dimension(s) '+\n"
     ]
    },
    {
     "name": "stdout",
     "output_type": "stream",
     "text": [
      "success!\n",
      "aggregating high_fire_days...\n",
      "all variables aggregated to polygons!\n"
     ]
    }
   ],
   "source": [
    "# Convert to xarray\n",
    "fwi_agg = [\n",
    "    xagg.aggregate(ds, xagg.pixel_overlaps(ds, districts_gdf)).to_dataframe()\n",
    "    for ds in fire_ds]\n",
    "\n"
   ]
  },
  {
   "cell_type": "markdown",
   "id": "6752915a",
   "metadata": {},
   "source": [
    "### Temperature"
   ]
  },
  {
   "cell_type": "code",
   "execution_count": 93,
   "id": "cd124cf5",
   "metadata": {},
   "outputs": [
    {
     "name": "stdout",
     "output_type": "stream",
     "text": [
      "creating polygons for each pixel...\n",
      "lat/lon bounds not found in dataset; they will be created.\n",
      "calculating overlaps between pixels and output polygons...\n",
      "success!\n",
      "aggregating num_heatwaves...\n",
      "all variables aggregated to polygons!\n",
      "creating polygons for each pixel...\n",
      "lat/lon bounds not found in dataset; they will be created.\n",
      "calculating overlaps between pixels and output polygons...\n",
      "success!\n",
      "aggregating frost_days...\n",
      "all variables aggregated to polygons!\n",
      "creating polygons for each pixel...\n",
      "lat/lon bounds not found in dataset; they will be created.\n",
      "calculating overlaps between pixels and output polygons...\n",
      "success!\n",
      "aggregating hot_days...\n",
      "all variables aggregated to polygons!\n",
      "creating polygons for each pixel...\n",
      "lat/lon bounds not found in dataset; they will be created.\n",
      "calculating overlaps between pixels and output polygons...\n",
      "success!\n",
      "aggregating num_tropical_nights...\n",
      "all variables aggregated to polygons!\n"
     ]
    }
   ],
   "source": [
    "heatwaves_df = pd.read_parquet(r'/Volumes/Dhruv_External_Disk/climate_data/temperature/monthly_data/heatwaves_portugal_1940_2023.parquet')\n",
    "frost_df = pd.read_parquet('/Volumes/Dhruv_External_Disk/climate_data/temperature/monthly_data/frost_portugal_1940_2023.parquet')\n",
    "hot_days = pd.read_parquet('/Volumes/Dhruv_External_Disk/climate_data/temperature/monthly_data/hot_days_portugal_1940_2023.parquet')\n",
    "tropical_df = pd.read_parquet('/Volumes/Dhruv_External_Disk/climate_data/temperature/monthly_data/tropical_nights_portugal_1940_2023.parquet')\n",
    "temp_df = [heatwaves_df, frost_df, hot_days, tropical_df]\n",
    "# Filter each df in place\n",
    "temp_df = [\n",
    "    df.loc[(df[\"time\"] >= \"2000-01-01\") & (df[\"time\"] <= \"2023-12-01\")]\n",
    "    for df in [heatwaves_df, frost_df, hot_days, tropical_df]\n",
    "]\n",
    "# assuming each df has columns: [\"time\", \"latitude\", \"longitude\", ...metrics...]\n",
    "temp_ds = [\n",
    "    xr.Dataset.from_dataframe(\n",
    "        df.assign(time=pd.to_datetime(df[\"time\"]))\n",
    "          .set_index([\"time\", \"lat\", \"lon\"])\n",
    "          .sort_index()\n",
    "    )\n",
    "    for df in temp_df\n",
    "]\n",
    "# Convert to xarray\n",
    "temp_agg = [\n",
    "    xagg.aggregate(ds, xagg.pixel_overlaps(ds, districts_gdf)).to_dataframe()\n",
    "    for ds in temp_ds]\n",
    "\n"
   ]
  },
  {
   "cell_type": "markdown",
   "id": "07daecf2",
   "metadata": {},
   "source": [
    "### Rain"
   ]
  },
  {
   "cell_type": "code",
   "execution_count": 94,
   "id": "8f485404",
   "metadata": {},
   "outputs": [
    {
     "name": "stdout",
     "output_type": "stream",
     "text": [
      "creating polygons for each pixel...\n",
      "lat/lon bounds not found in dataset; they will be created.\n",
      "calculating overlaps between pixels and output polygons...\n",
      "success!\n",
      "aggregating cdd...\n",
      "all variables aggregated to polygons!\n",
      "creating polygons for each pixel...\n",
      "lat/lon bounds not found in dataset; they will be created.\n",
      "calculating overlaps between pixels and output polygons...\n",
      "success!\n",
      "aggregating max_5_day_...\n",
      "all variables aggregated to polygons!\n",
      "creating polygons for each pixel...\n",
      "lat/lon bounds not found in dataset; they will be created.\n",
      "calculating overlaps between pixels and output polygons...\n",
      "success!\n",
      "aggregating extreme_tp_tot...\n",
      "all variables aggregated to polygons!\n"
     ]
    }
   ],
   "source": [
    "#tp_99 = pd.read_parquet(r'/Volumes/Dhruv_External_Disk/climate_data/precipitation/historical/monthly/_tp99_thresholds.parquet')\n",
    "cdd = pd.read_parquet(r'/Volumes/Dhruv_External_Disk/climate_data/precipitation/historical/monthly/dry_days_portugal_1940_2023_25DEG.parquet')\n",
    "max_5 = pd.read_parquet(r'/Volumes/Dhruv_External_Disk/climate_data/precipitation/historical/monthly/max_5_day_.parquet')\n",
    "ex_tp_tot = pd.read_parquet(r'/Volumes/Dhruv_External_Disk/climate_data/precipitation/historical/monthly/extreme_tp_tot.parquet')\n",
    "# Filter each df in place\n",
    "tp_sources = [\n",
    "    df.rename(columns={\"lat\": \"latitude\", \"lon\": \"longitude\", 'month':'time'})\n",
    "    if any(col in df.columns for col in [\"lat\", \"lon\", 'month']) else df\n",
    "    for df in [cdd, max_5, ex_tp_tot]\n",
    "]\n",
    "bbox = PORTUGAL_BBOX  # uses min_lat/max_lat/min_lon/max_lon\n",
    "\n",
    "tp_ds = []\n",
    "for df in tp_sources:\n",
    "    df = df.assign(time=pd.to_datetime(df[\"time\"], utc=False))\n",
    "    df = df.loc[\n",
    "        df[\"time\"].between(\"2000-01-01\", \"2023-12-01\") &\n",
    "        df[\"latitude\"].between(bbox[\"min_lat\"], bbox[\"max_lat\"]) &\n",
    "        df[\"longitude\"].between(bbox[\"min_lon\"], bbox[\"max_lon\"])\n",
    "    ]\n",
    "    ds = xr.Dataset.from_dataframe(\n",
    "        df.set_index([\"time\", \"latitude\", \"longitude\"]).sort_index()\n",
    "    )\n",
    "    tp_ds.append(ds)\n",
    "\n",
    "# aggregate each dataset; returns DataFrames\n",
    "tp_agg = [\n",
    "    xagg.aggregate(ds, xagg.pixel_overlaps(ds, districts_gdf)).to_dataframe()\n",
    "    for ds in tp_ds\n",
    "]\n",
    "\n"
   ]
  },
  {
   "cell_type": "markdown",
   "id": "d464a080",
   "metadata": {},
   "source": [
    "## Merge"
   ]
  },
  {
   "cell_type": "code",
   "execution_count": null,
   "id": "211ad3e3",
   "metadata": {},
   "outputs": [
    {
     "name": "stdout",
     "output_type": "stream",
     "text": [
      "(5184, 11)\n",
      "Index(['time', 'Distrito', 'fwi', 'high_fire_days', 'cdd', 'max_5_day_',\n",
      "       'extreme_tp_tot', 'num_heatwaves', 'frost_days', 'hot_days',\n",
      "       'num_tropical_nights'],\n",
      "      dtype='object')\n"
     ]
    }
   ],
   "source": [
    "from functools import reduce\n",
    "\n",
    "lists_of_dfs = [fwi_agg, tp_agg, temp_agg]\n",
    "\n",
    "drop_cols = ['fid', 'DICO', 'Municipio', 'N_Freguesi', 'NUTSIII',\n",
    "             'NUTSII', 'NUTSI', 'Alt_Max', 'Alt_Min', \n",
    "             'Area_ha', 'Perim_km', 'poly_idx', 'index']  # add 'index'\n",
    "\n",
    "key_cols = [\"time\", \"Distrito\"]\n",
    "\n",
    "all_dfs = []\n",
    "for i, dfs in enumerate(lists_of_dfs):\n",
    "    for j, df in enumerate(dfs):\n",
    "        # reset once\n",
    "        df = df.reset_index()\n",
    "        # drop junk cols\n",
    "        df = df.drop(columns=[c for c in drop_cols if c in df.columns])\n",
    "        # identify value cols\n",
    "        value_cols = [c for c in df.columns if c not in key_cols]\n",
    "        all_dfs.append(df[key_cols + [f\"{c}\" for c in value_cols]])\n",
    "\n",
    "merged = reduce(\n",
    "    lambda left, right: pd.merge(left, right, on=key_cols, how=\"outer\"),\n",
    "    all_dfs\n",
    ")\n",
    "\n",
    "print(merged.shape)\n",
    "print(merged.columns)\n"
   ]
  },
  {
   "cell_type": "code",
   "execution_count": 107,
   "id": "6cab6b06",
   "metadata": {},
   "outputs": [],
   "source": [
    "# ensure datetime\n",
    "merged[\"time\"] = pd.to_datetime(merged[\"time\"])\n",
    "\n",
    "# get year column\n",
    "merged[\"year\"] = merged[\"time\"].dt.year\n",
    "\n",
    "value_cols = [c for c in merged.columns if c not in [\"time\", \"year\", \"Distrito\"]]\n",
    "\n",
    "# annual average\n",
    "annual_mean = (\n",
    "    merged.groupby([\"year\", \"Distrito\"], as_index=False)[value_cols]\n",
    "          .mean()\n",
    ")\n",
    "\n",
    "# annual median\n",
    "annual_median = (\n",
    "    merged.groupby([\"year\", \"Distrito\"], as_index=False)[value_cols]\n",
    "          .median()\n",
    ")\n",
    "\n",
    "# annual sum\n",
    "annual_sum = (\n",
    "    merged.groupby([\"year\", \"Distrito\"], as_index=False)[value_cols]\n",
    "          .sum()\n",
    ")\n"
   ]
  },
  {
   "cell_type": "code",
   "execution_count": 110,
   "id": "6aa12776",
   "metadata": {},
   "outputs": [
    {
     "name": "stdout",
     "output_type": "stream",
     "text": [
      "/Users/dhruvnovaims/Library/Mobile Documents/com~apple~CloudDocs/Documents/GitHub/climate-econometrics/countries/portugal/yearly_20_23\n"
     ]
    }
   ],
   "source": [
    "print(os.getcwd())"
   ]
  },
  {
   "cell_type": "code",
   "execution_count": 118,
   "id": "cb226e2d",
   "metadata": {},
   "outputs": [],
   "source": [
    "\n",
    "annual_mean.to_excel(f\"annual_mean_weather.xlsx\")\n",
    "annual_median.to_excel(f\"annual_median_weather.xlsx\")\n",
    "annual_sum.to_excel(f\"annual_sum_weather.xlsx\")"
   ]
  },
  {
   "cell_type": "code",
   "execution_count": null,
   "id": "80b5364a",
   "metadata": {},
   "outputs": [],
   "source": []
  }
 ],
 "metadata": {
  "kernelspec": {
   "display_name": "Python 3",
   "language": "python",
   "name": "python3"
  },
  "language_info": {
   "codemirror_mode": {
    "name": "ipython",
    "version": 3
   },
   "file_extension": ".py",
   "mimetype": "text/x-python",
   "name": "python",
   "nbconvert_exporter": "python",
   "pygments_lexer": "ipython3",
   "version": "3.12.5"
  }
 },
 "nbformat": 4,
 "nbformat_minor": 5
}
