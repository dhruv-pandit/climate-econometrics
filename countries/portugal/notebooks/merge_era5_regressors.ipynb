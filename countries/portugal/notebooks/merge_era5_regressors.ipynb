{
 "cells": [
  {
   "cell_type": "code",
   "execution_count": 2,
   "metadata": {},
   "outputs": [],
   "source": [
    "import pandas as pd\n",
    "import geopandas as gpd"
   ]
  },
  {
   "cell_type": "markdown",
   "metadata": {},
   "source": [
    "## Load Processed Era5 Data"
   ]
  },
  {
   "cell_type": "code",
   "execution_count": 6,
   "metadata": {},
   "outputs": [],
   "source": [
    "mun_gdf = gpd.read_file(r'../../../countries/portugal/datasets/municipality_data/municipalities-shapefile-2/concelhos.shp')\n",
    "erA5_std_mun_df = pd.read_excel(r'../../../countries/portugal/datasets/era5/excel/quarterly/weighted_std_mun.xlsx', index_col=0)\n",
    "erA5_hist_mun_df = pd.read_excel(r'../../../countries/portugal/datasets/era5/excel/quarterly/weighted_hist_dev_mun.xlsx', index_col=0)"
   ]
  },
  {
   "cell_type": "markdown",
   "metadata": {},
   "source": [
    "### Obtain Missing Municipalities"
   ]
  },
  {
   "cell_type": "code",
   "execution_count": 7,
   "metadata": {},
   "outputs": [],
   "source": [
    "mun_metadata  = pd.read_excel(r'../../../countries/portugal/datasets/municipality_data/concelhos-metadata.xlsx', dtype={'dicofre' : 'string'})\n",
    "mun_metadata = mun_metadata[['dicofre','designacao']]\n",
    "mun_gdf = mun_gdf.merge(mun_metadata, left_on='CCA_2', right_on='dicofre').drop(columns='NAME_2')\n",
    "mun_gdf = mun_gdf.rename(columns={'designacao': 'NAME_2'})"
   ]
  },
  {
   "cell_type": "markdown",
   "metadata": {},
   "source": [
    "### Obtaining the districts and Municipalities Data"
   ]
  },
  {
   "cell_type": "code",
   "execution_count": 8,
   "metadata": {},
   "outputs": [],
   "source": [
    "mainland = mun_gdf[~mun_gdf['NAME_1'].isin(['Azores', 'Madeira'])]\n",
    "# Grouping and dissolving the municipalities by district\n",
    "districts_gdf = mainland.dissolve(by='NAME_1', as_index=False)\n",
    "districts_gdf = districts_gdf[['NAME_1', 'NAME_2', 'HASC_2','CCA_2', 'geometry']]\n",
    "municipalities_mainland = mainland[['NAME_2', 'HASC_2','CCA_2', 'geometry']]\n",
    "districts_gdf.rename(columns={'HASC_2' : 'district_id'}, inplace=True)\n",
    "municipalities_mainland = municipalities_mainland.rename(columns={'HASC_2' : 'district_id'})"
   ]
  },
  {
   "cell_type": "markdown",
   "metadata": {},
   "source": [
    "### Merge Municipalities"
   ]
  },
  {
   "cell_type": "code",
   "execution_count": 9,
   "metadata": {},
   "outputs": [],
   "source": [
    "erA5_hist_mun_df = erA5_hist_mun_df.merge(municipalities_mainland, on='district_id')\n",
    "erA5_std_mun_df = erA5_std_mun_df.merge(municipalities_mainland, on='district_id')"
   ]
  },
  {
   "cell_type": "markdown",
   "metadata": {},
   "source": [
    "### Format Time"
   ]
  },
  {
   "cell_type": "code",
   "execution_count": 10,
   "metadata": {},
   "outputs": [],
   "source": [
    "erA5_hist_mun_df.time = pd.to_datetime(erA5_hist_mun_df.time).dt.to_period(\"Q\")\n",
    "erA5_std_mun_df.time = pd.to_datetime(erA5_std_mun_df.time).dt.to_period(\"Q\")"
   ]
  },
  {
   "cell_type": "markdown",
   "metadata": {},
   "source": [
    "### Obtain Lags"
   ]
  },
  {
   "cell_type": "code",
   "execution_count": null,
   "metadata": {},
   "outputs": [
    {
     "data": {
      "text/plain": [
       "Index(['district_id', 'time', 't2m_wtd', 'msl_wtd', 'stl2_wtd', 'sp_wtd',\n",
       "       'tp_wtd', 'tp_1000_wtd', 'NAME_2', 'CCA_2', 'geometry'],\n",
       "      dtype='object')"
      ]
     },
     "metadata": {},
     "output_type": "display_data"
    }
   ],
   "source": [
    "erA5_hist_mun_df.columns"
   ]
  },
  {
   "cell_type": "code",
   "execution_count": 11,
   "metadata": {},
   "outputs": [],
   "source": [
    "for var in ['t2m_wtd', 'msl_wtd', 'stl2_wtd', 'sp_wtd', 'tp_wtd', 'tp_1000_wtd']:\n",
    "    for i in range(1, 5):\n",
    "        shift_var_name = f'{var}_L{i}_hd'\n",
    "        erA5_hist_mun_df[shift_var_name] = erA5_hist_mun_df.groupby('district_id')[var].shift(i)\n"
   ]
  },
  {
   "cell_type": "code",
   "execution_count": 12,
   "metadata": {},
   "outputs": [],
   "source": [
    "for var in ['t2m_wtd', 'msl_wtd', 'stl2_wtd', 'sp_wtd', 'tp_wtd', 'tp_1000_wtd']:\n",
    "    for i in range(1, 5):\n",
    "        shift_var_name = f'{var}_L{i}_std'\n",
    "        erA5_std_mun_df[shift_var_name] = erA5_std_mun_df.groupby('district_id')[var].shift(i)"
   ]
  },
  {
   "cell_type": "markdown",
   "metadata": {},
   "source": [
    "## Factor Analysis"
   ]
  },
  {
   "cell_type": "code",
   "execution_count": 13,
   "metadata": {},
   "outputs": [],
   "source": [
    "df_eu_era5_tp = pd.read_excel(r'../../../countries/medit_data/era5-x0.25_timeseries_pr_timeseries_monthly_1950-2022_mean_historical_era5_x0.25_mean.xlsx')\n",
    "df_eu_era5_t2m = pd.read_excel(r'../../../countries/medit_data/era5-x0.25_timeseries_tas_timeseries_monthly_1950-2022_mean_historical_era5_x0.25_mean.xlsx')\n",
    "\n",
    "df_eu_era5_tp = df_eu_era5_tp.melt(id_vars=['time'], var_name='country', value_name='tp')\n",
    "df_eu_era5_t2m = df_eu_era5_t2m.melt(id_vars=['time'], var_name='country', value_name='t2m')\n",
    "\n",
    "df_eu_era5 = df_eu_era5_tp.merge(df_eu_era5_t2m, on = ['time', 'country'])"
   ]
  },
  {
   "cell_type": "markdown",
   "metadata": {},
   "source": [
    "#### HD"
   ]
  },
  {
   "cell_type": "code",
   "execution_count": 17,
   "metadata": {},
   "outputs": [],
   "source": [
    "# Ensure 'time' is in datetime format\n",
    "df_eu_era5['time'] = pd.to_datetime(df_eu_era5['time'], format='%Y-%m')\n",
    "\n",
    "# Filter the data for the date range between 1950-01 and 1980-12\n",
    "historical_eu_era5 = df_eu_era5[(df_eu_era5['time'] >= '1950-01-01') & (df_eu_era5['time'] <= '1980-12-31')]\n",
    "\n",
    "# Group by 'country' and calculate the average 't2m' for each country\n",
    "historical_average_eu_era5_t2m = historical_eu_era5.groupby('country')['t2m'].mean().to_dict()\n",
    "historical_average_eu_era5_tp = historical_eu_era5.groupby('country')['tp'].mean().to_dict()\n"
   ]
  },
  {
   "cell_type": "code",
   "execution_count": 18,
   "metadata": {},
   "outputs": [],
   "source": [
    "df_eu_era5_reduced = df_eu_era5[(df_eu_era5['time'] >= '2004-01-01') & (df_eu_era5['time'] <= '2023-12-31')]"
   ]
  },
  {
   "cell_type": "code",
   "execution_count": 19,
   "metadata": {},
   "outputs": [],
   "source": [
    "# Ensure df_eu_era5_reduced is explicitly a copy if it is a slice of another DataFrame\n",
    "df_eu_era5_reduced = df_eu_era5_reduced.copy()\n",
    "\n",
    "# Subtract the historical average for the 'tp' column using .loc\n",
    "df_eu_era5_reduced['tp_hd'] = df_eu_era5_reduced.apply(\n",
    "    lambda row: row['tp'] - historical_average_eu_era5_tp[row['country']], axis=1\n",
    ")\n",
    "\n",
    "# Subtract the historical average for the 't2m' column using .loc\n",
    "df_eu_era5_reduced['t2m_hd'] = df_eu_era5_reduced.apply(\n",
    "    lambda row: row['t2m'] - historical_average_eu_era5_t2m[row['country']], axis=1\n",
    ")\n"
   ]
  },
  {
   "cell_type": "markdown",
   "metadata": {},
   "source": [
    "#### Resample Time"
   ]
  },
  {
   "cell_type": "code",
   "execution_count": 20,
   "metadata": {},
   "outputs": [
    {
     "data": {
      "text/html": [
       "<div>\n",
       "<style scoped>\n",
       "    .dataframe tbody tr th:only-of-type {\n",
       "        vertical-align: middle;\n",
       "    }\n",
       "\n",
       "    .dataframe tbody tr th {\n",
       "        vertical-align: top;\n",
       "    }\n",
       "\n",
       "    .dataframe thead th {\n",
       "        text-align: right;\n",
       "    }\n",
       "</style>\n",
       "<table border=\"1\" class=\"dataframe\">\n",
       "  <thead>\n",
       "    <tr style=\"text-align: right;\">\n",
       "      <th></th>\n",
       "      <th>time</th>\n",
       "      <th>country</th>\n",
       "      <th>tp</th>\n",
       "      <th>t2m</th>\n",
       "      <th>tp_hd</th>\n",
       "      <th>t2m_hd</th>\n",
       "    </tr>\n",
       "  </thead>\n",
       "  <tbody>\n",
       "    <tr>\n",
       "      <th>648</th>\n",
       "      <td>2004-01-01</td>\n",
       "      <td>ALB</td>\n",
       "      <td>198.23</td>\n",
       "      <td>1.59</td>\n",
       "      <td>84.300618</td>\n",
       "      <td>-10.255457</td>\n",
       "    </tr>\n",
       "    <tr>\n",
       "      <th>649</th>\n",
       "      <td>2004-02-01</td>\n",
       "      <td>ALB</td>\n",
       "      <td>173.52</td>\n",
       "      <td>3.89</td>\n",
       "      <td>59.590618</td>\n",
       "      <td>-7.955457</td>\n",
       "    </tr>\n",
       "    <tr>\n",
       "      <th>650</th>\n",
       "      <td>2004-03-01</td>\n",
       "      <td>ALB</td>\n",
       "      <td>159.36</td>\n",
       "      <td>6.76</td>\n",
       "      <td>45.430618</td>\n",
       "      <td>-5.085457</td>\n",
       "    </tr>\n",
       "    <tr>\n",
       "      <th>651</th>\n",
       "      <td>2004-04-01</td>\n",
       "      <td>ALB</td>\n",
       "      <td>130.73</td>\n",
       "      <td>11.62</td>\n",
       "      <td>16.800618</td>\n",
       "      <td>-0.225457</td>\n",
       "    </tr>\n",
       "    <tr>\n",
       "      <th>652</th>\n",
       "      <td>2004-05-01</td>\n",
       "      <td>ALB</td>\n",
       "      <td>147.94</td>\n",
       "      <td>13.20</td>\n",
       "      <td>34.010618</td>\n",
       "      <td>1.354543</td>\n",
       "    </tr>\n",
       "  </tbody>\n",
       "</table>\n",
       "</div>"
      ],
      "text/plain": [
       "          time country      tp    t2m      tp_hd     t2m_hd\n",
       "648 2004-01-01     ALB  198.23   1.59  84.300618 -10.255457\n",
       "649 2004-02-01     ALB  173.52   3.89  59.590618  -7.955457\n",
       "650 2004-03-01     ALB  159.36   6.76  45.430618  -5.085457\n",
       "651 2004-04-01     ALB  130.73  11.62  16.800618  -0.225457\n",
       "652 2004-05-01     ALB  147.94  13.20  34.010618   1.354543"
      ]
     },
     "execution_count": 20,
     "metadata": {},
     "output_type": "execute_result"
    }
   ],
   "source": [
    "df_eu_era5_reduced.head()\n"
   ]
  },
  {
   "cell_type": "code",
   "execution_count": 21,
   "metadata": {},
   "outputs": [],
   "source": [
    "df_eu_era5_reduced['time'] = pd.to_datetime(df_eu_era5_reduced['time']).copy()\n",
    "\n",
    "\n",
    "# Group by 'country', then resample 'time' within each group to quarterly frequency\n",
    "df_quarterly_era5_eu = df_eu_era5_reduced.groupby('country').resample('Q', on='time').mean(numeric_only=True)\n",
    "\n",
    "# Reset the index to bring 'time' and 'country' back as columns\n",
    "df_quarterly_era5_eu.reset_index(inplace=True)\n",
    "\n",
    "# If needed, reset the index\n",
    "df_quarterly_era5_eu.reset_index(inplace=True)"
   ]
  },
  {
   "cell_type": "code",
   "execution_count": 22,
   "metadata": {},
   "outputs": [
    {
     "data": {
      "text/html": [
       "<div>\n",
       "<style scoped>\n",
       "    .dataframe tbody tr th:only-of-type {\n",
       "        vertical-align: middle;\n",
       "    }\n",
       "\n",
       "    .dataframe tbody tr th {\n",
       "        vertical-align: top;\n",
       "    }\n",
       "\n",
       "    .dataframe thead th {\n",
       "        text-align: right;\n",
       "    }\n",
       "</style>\n",
       "<table border=\"1\" class=\"dataframe\">\n",
       "  <thead>\n",
       "    <tr style=\"text-align: right;\">\n",
       "      <th></th>\n",
       "      <th>index</th>\n",
       "      <th>country</th>\n",
       "      <th>time</th>\n",
       "      <th>tp</th>\n",
       "      <th>t2m</th>\n",
       "      <th>tp_hd</th>\n",
       "      <th>t2m_hd</th>\n",
       "    </tr>\n",
       "  </thead>\n",
       "  <tbody>\n",
       "    <tr>\n",
       "      <th>0</th>\n",
       "      <td>0</td>\n",
       "      <td>ALB</td>\n",
       "      <td>2004Q1</td>\n",
       "      <td>177.036667</td>\n",
       "      <td>4.080000</td>\n",
       "      <td>63.107285</td>\n",
       "      <td>-7.765457</td>\n",
       "    </tr>\n",
       "    <tr>\n",
       "      <th>1</th>\n",
       "      <td>1</td>\n",
       "      <td>ALB</td>\n",
       "      <td>2004Q2</td>\n",
       "      <td>122.886667</td>\n",
       "      <td>14.626667</td>\n",
       "      <td>8.957285</td>\n",
       "      <td>2.781210</td>\n",
       "    </tr>\n",
       "    <tr>\n",
       "      <th>2</th>\n",
       "      <td>2</td>\n",
       "      <td>ALB</td>\n",
       "      <td>2004Q3</td>\n",
       "      <td>67.996667</td>\n",
       "      <td>19.990000</td>\n",
       "      <td>-45.932715</td>\n",
       "      <td>8.144543</td>\n",
       "    </tr>\n",
       "    <tr>\n",
       "      <th>3</th>\n",
       "      <td>3</td>\n",
       "      <td>ALB</td>\n",
       "      <td>2004Q4</td>\n",
       "      <td>135.960000</td>\n",
       "      <td>9.416667</td>\n",
       "      <td>22.030618</td>\n",
       "      <td>-2.428790</td>\n",
       "    </tr>\n",
       "    <tr>\n",
       "      <th>4</th>\n",
       "      <td>4</td>\n",
       "      <td>ALB</td>\n",
       "      <td>2005Q1</td>\n",
       "      <td>158.256667</td>\n",
       "      <td>3.100000</td>\n",
       "      <td>44.327285</td>\n",
       "      <td>-8.745457</td>\n",
       "    </tr>\n",
       "  </tbody>\n",
       "</table>\n",
       "</div>"
      ],
      "text/plain": [
       "   index country    time          tp        t2m      tp_hd    t2m_hd\n",
       "0      0     ALB  2004Q1  177.036667   4.080000  63.107285 -7.765457\n",
       "1      1     ALB  2004Q2  122.886667  14.626667   8.957285  2.781210\n",
       "2      2     ALB  2004Q3   67.996667  19.990000 -45.932715  8.144543\n",
       "3      3     ALB  2004Q4  135.960000   9.416667  22.030618 -2.428790\n",
       "4      4     ALB  2005Q1  158.256667   3.100000  44.327285 -8.745457"
      ]
     },
     "execution_count": 22,
     "metadata": {},
     "output_type": "execute_result"
    }
   ],
   "source": [
    "df_quarterly_era5_eu.time = pd.to_datetime(df_quarterly_era5_eu.time).dt.to_period(\"Q\")\n",
    "df_quarterly_era5_eu.head()"
   ]
  },
  {
   "cell_type": "markdown",
   "metadata": {},
   "source": [
    "### Drop Columns"
   ]
  },
  {
   "cell_type": "code",
   "execution_count": 23,
   "metadata": {},
   "outputs": [],
   "source": [
    "columns_to_drop = erA5_std_mun_df.filter(regex=r'^(stl2_|msl_|sp_)').columns\n",
    "erA5_std_mun_df = erA5_std_mun_df.drop(columns=columns_to_drop)"
   ]
  },
  {
   "cell_type": "code",
   "execution_count": 24,
   "metadata": {},
   "outputs": [],
   "source": [
    "columns_to_drop = erA5_hist_mun_df.filter(regex=r'^(stl2_|msl_|sp_)').columns\n",
    "erA5_hist_mun_df = erA5_hist_mun_df.drop(columns=columns_to_drop)"
   ]
  },
  {
   "cell_type": "markdown",
   "metadata": {},
   "source": [
    "### Perform Factor Analysis"
   ]
  },
  {
   "cell_type": "markdown",
   "metadata": {},
   "source": [
    "#### Perform factor analysis for the `hd` variables"
   ]
  },
  {
   "cell_type": "code",
   "execution_count": 25,
   "metadata": {},
   "outputs": [],
   "source": [
    "import pandas as pd\n",
    "from sklearn.decomposition import FactorAnalysis\n",
    "\n",
    "\n",
    "# Step 1: Ensure 'time' is in datetime format if not already\n",
    "\n",
    "# Step 2: Group by 'time', calculating the mean of 'tp_hd' and 't2m_hd' across all countries for each time period\n",
    "agg_data = df_quarterly_era5_eu.groupby('time')[['tp_hd', 't2m_hd']].mean()\n",
    "\n",
    "# Step 3: Apply Factor Analysis to the aggregated data (one factor per time period)\n",
    "fa_hd = FactorAnalysis(n_components=2, random_state=0)\n",
    "\n",
    "# Fit the model to the aggregated data\n",
    "fa_hd.fit(agg_data)\n",
    "\n",
    "# Transform the data into two factors\n",
    "factors_hd = fa_hd.transform(agg_data)\n",
    "\n",
    "# Step 4: Create a DataFrame for the factors and align with the time index\n",
    "factors_df = pd.DataFrame(factors_hd, index=agg_data.index, columns=['medit_factor_tp', 'medit_factor_t2m'])\n",
    "\n",
    "# # Step 5: Merge the factors back into the original dataframe by 'time'\n",
    "df_quarterly_era5_eu = df_quarterly_era5_eu.merge(factors_df, on='time', how='left')\n"
   ]
  },
  {
   "cell_type": "code",
   "execution_count": 26,
   "metadata": {},
   "outputs": [],
   "source": [
    "for var in ['medit_factor_tp', 'medit_factor_t2m']:\n",
    "    for i in range(1, 5):\n",
    "        shift_var_name = f'{var}_L{i}'\n",
    "        df_quarterly_era5_eu[shift_var_name] = df_quarterly_era5_eu.groupby('country')[var].shift(i)\n",
    "        df_quarterly_era5_eu[shift_var_name] = df_quarterly_era5_eu.groupby('country')[var].shift(i)\n"
   ]
  },
  {
   "cell_type": "markdown",
   "metadata": {},
   "source": [
    "### Normalise District And Concelhos Names"
   ]
  },
  {
   "cell_type": "code",
   "execution_count": 27,
   "metadata": {},
   "outputs": [],
   "source": [
    "import unicodedata\n",
    "\n",
    "# Function to normalize the names\n",
    "def normalize_municipality_name(name):\n",
    "    # Normalize the string (remove diacritical marks)\n",
    "    name_without_diacritics = unicodedata.normalize('NFKD', name).encode('ascii', 'ignore').decode('ascii')\n",
    "    # Convert to lowercase\n",
    "    return name_without_diacritics.lower()\n",
    "\n",
    "# Apply the normalization function to the municipality column\n",
    "#erA5_hist_dist_df.loc[:, 'NAME_2'] = erA5_hist_dist_df['NAME_2'].apply(normalize_municipality_name)\n",
    "#erA5_std_dist_df.loc[:, 'NAME_2'] = erA5_std_dist_df['NAME_2'].apply(normalize_municipality_name)\n",
    "erA5_hist_mun_df.loc[:, 'NAME_2'] = erA5_hist_mun_df['NAME_2'].apply(normalize_municipality_name)\n",
    "erA5_std_mun_df.loc[:, 'NAME_2'] = erA5_std_mun_df['NAME_2'].apply(normalize_municipality_name)\n",
    "# Now the 'municipality' column will have the normalized names\n"
   ]
  },
  {
   "cell_type": "markdown",
   "metadata": {},
   "source": [
    "## Create Final Climate DF"
   ]
  },
  {
   "cell_type": "code",
   "execution_count": 28,
   "metadata": {},
   "outputs": [],
   "source": [
    "erA5_hist_mun_df = erA5_hist_mun_df.rename(columns={'t2m_wtd' : 't2m_wtd_hd', 'msl_wtd' :'msl_wtd_hd', 'stl2_wtd' : 'stl2_wtd_hd',\n",
    "       'sp_wtd' : 'sp_wtd_hd', 'tp_wtd' : 'tp_wtd_hd'})\n",
    "erA5_hist_mun_df = erA5_hist_mun_df.rename(columns={'tp_1000_wtd': 'tp_1000_wtd_hd'})\n",
    "erA5_std_mun_df = erA5_std_mun_df.rename(columns={'t2m_wtd' : 't2m_wtd_std', 'msl_wtd' :'msl_wtd_std', 'stl2_wtd' : 'stl2_wtd_std',\n",
    "       'sp_wtd' : 'sp_wtd_std', 'tp_wtd' : 'tp_wtd_std'})\n",
    "erA5_std_mun_df = erA5_std_mun_df.rename(columns={'tp_1000_wtd': 'tp_1000_wtd_std'})\n"
   ]
  },
  {
   "cell_type": "markdown",
   "metadata": {},
   "source": [
    "### Merge"
   ]
  },
  {
   "cell_type": "code",
   "execution_count": 29,
   "metadata": {},
   "outputs": [
    {
     "data": {
      "text/plain": [
       "Index(['district_id', 'time', 't2m_wtd_std', 'tp_wtd_std', 'tp_1000_wtd_std',\n",
       "       'NAME_2', 'CCA_2', 'geometry', 't2m_wtd_L1_std', 't2m_wtd_L2_std',\n",
       "       't2m_wtd_L3_std', 't2m_wtd_L4_std', 'tp_wtd_L1_std', 'tp_wtd_L2_std',\n",
       "       'tp_wtd_L3_std', 'tp_wtd_L4_std', 'tp_1000_wtd_L1_std',\n",
       "       'tp_1000_wtd_L2_std', 'tp_1000_wtd_L3_std', 'tp_1000_wtd_L4_std'],\n",
       "      dtype='object')"
      ]
     },
     "execution_count": 29,
     "metadata": {},
     "output_type": "execute_result"
    }
   ],
   "source": [
    "erA5_std_mun_df.columns"
   ]
  },
  {
   "cell_type": "code",
   "execution_count": 30,
   "metadata": {},
   "outputs": [],
   "source": [
    "final_era5_df = erA5_hist_mun_df.merge(erA5_std_mun_df[['time', 't2m_wtd_std', 'tp_1000_wtd_std',\n",
    "       'tp_wtd_std', 'NAME_2', 't2m_wtd_L1_std', 't2m_wtd_L2_std', 't2m_wtd_L3_std',\n",
    "       't2m_wtd_L4_std', 'tp_wtd_L1_std', 'tp_wtd_L2_std', 'tp_wtd_L3_std', 'tp_wtd_L4_std', 'tp_1000_wtd_L1_std',\n",
    "       'tp_1000_wtd_L2_std', 'tp_1000_wtd_L3_std', 'tp_1000_wtd_L4_std']], on = ['time', 'NAME_2'])"
   ]
  },
  {
   "cell_type": "code",
   "execution_count": 33,
   "metadata": {},
   "outputs": [],
   "source": [
    "df_quarterly_era5_eu = df_quarterly_era5_eu.drop(columns=['country']).drop_duplicates()\n"
   ]
  },
  {
   "cell_type": "code",
   "execution_count": 34,
   "metadata": {},
   "outputs": [],
   "source": [
    "final_era5_df = pd.merge(final_era5_df, df_quarterly_era5_eu, how='left', on='time')"
   ]
  },
  {
   "cell_type": "code",
   "execution_count": 35,
   "metadata": {},
   "outputs": [
    {
     "data": {
      "text/html": [
       "<div>\n",
       "<style scoped>\n",
       "    .dataframe tbody tr th:only-of-type {\n",
       "        vertical-align: middle;\n",
       "    }\n",
       "\n",
       "    .dataframe tbody tr th {\n",
       "        vertical-align: top;\n",
       "    }\n",
       "\n",
       "    .dataframe thead th {\n",
       "        text-align: right;\n",
       "    }\n",
       "</style>\n",
       "<table border=\"1\" class=\"dataframe\">\n",
       "  <thead>\n",
       "    <tr style=\"text-align: right;\">\n",
       "      <th></th>\n",
       "      <th>district_id</th>\n",
       "      <th>time</th>\n",
       "      <th>t2m_wtd_hd</th>\n",
       "      <th>tp_wtd_hd</th>\n",
       "      <th>tp_1000_wtd_hd</th>\n",
       "      <th>NAME_2</th>\n",
       "      <th>CCA_2</th>\n",
       "      <th>geometry</th>\n",
       "      <th>t2m_wtd_L1_hd</th>\n",
       "      <th>t2m_wtd_L2_hd</th>\n",
       "      <th>...</th>\n",
       "      <th>medit_factor_tp</th>\n",
       "      <th>medit_factor_t2m</th>\n",
       "      <th>medit_factor_tp_L1</th>\n",
       "      <th>medit_factor_tp_L2</th>\n",
       "      <th>medit_factor_tp_L3</th>\n",
       "      <th>medit_factor_tp_L4</th>\n",
       "      <th>medit_factor_t2m_L1</th>\n",
       "      <th>medit_factor_t2m_L2</th>\n",
       "      <th>medit_factor_t2m_L3</th>\n",
       "      <th>medit_factor_t2m_L4</th>\n",
       "    </tr>\n",
       "  </thead>\n",
       "  <tbody>\n",
       "    <tr>\n",
       "      <th>0</th>\n",
       "      <td>PT.AV.AG</td>\n",
       "      <td>1990Q1</td>\n",
       "      <td>-2.837953</td>\n",
       "      <td>-0.001022</td>\n",
       "      <td>-1.021550</td>\n",
       "      <td>agueda</td>\n",
       "      <td>0101</td>\n",
       "      <td>POLYGON ((-8.37635 40.69291, -8.37624 40.69271...</td>\n",
       "      <td>NaN</td>\n",
       "      <td>NaN</td>\n",
       "      <td>...</td>\n",
       "      <td>NaN</td>\n",
       "      <td>NaN</td>\n",
       "      <td>NaN</td>\n",
       "      <td>NaN</td>\n",
       "      <td>NaN</td>\n",
       "      <td>NaN</td>\n",
       "      <td>NaN</td>\n",
       "      <td>NaN</td>\n",
       "      <td>NaN</td>\n",
       "      <td>NaN</td>\n",
       "    </tr>\n",
       "    <tr>\n",
       "      <th>1</th>\n",
       "      <td>PT.AV.AG</td>\n",
       "      <td>1990Q2</td>\n",
       "      <td>2.114756</td>\n",
       "      <td>-0.002236</td>\n",
       "      <td>-2.235930</td>\n",
       "      <td>agueda</td>\n",
       "      <td>0101</td>\n",
       "      <td>POLYGON ((-8.37635 40.69291, -8.37624 40.69271...</td>\n",
       "      <td>-2.837953</td>\n",
       "      <td>NaN</td>\n",
       "      <td>...</td>\n",
       "      <td>NaN</td>\n",
       "      <td>NaN</td>\n",
       "      <td>NaN</td>\n",
       "      <td>NaN</td>\n",
       "      <td>NaN</td>\n",
       "      <td>NaN</td>\n",
       "      <td>NaN</td>\n",
       "      <td>NaN</td>\n",
       "      <td>NaN</td>\n",
       "      <td>NaN</td>\n",
       "    </tr>\n",
       "    <tr>\n",
       "      <th>2</th>\n",
       "      <td>PT.AV.AG</td>\n",
       "      <td>1990Q3</td>\n",
       "      <td>7.842431</td>\n",
       "      <td>-0.002480</td>\n",
       "      <td>-2.479658</td>\n",
       "      <td>agueda</td>\n",
       "      <td>0101</td>\n",
       "      <td>POLYGON ((-8.37635 40.69291, -8.37624 40.69271...</td>\n",
       "      <td>2.114756</td>\n",
       "      <td>-2.837953</td>\n",
       "      <td>...</td>\n",
       "      <td>NaN</td>\n",
       "      <td>NaN</td>\n",
       "      <td>NaN</td>\n",
       "      <td>NaN</td>\n",
       "      <td>NaN</td>\n",
       "      <td>NaN</td>\n",
       "      <td>NaN</td>\n",
       "      <td>NaN</td>\n",
       "      <td>NaN</td>\n",
       "      <td>NaN</td>\n",
       "    </tr>\n",
       "    <tr>\n",
       "      <th>3</th>\n",
       "      <td>PT.AV.AG</td>\n",
       "      <td>1990Q4</td>\n",
       "      <td>-2.779849</td>\n",
       "      <td>0.001644</td>\n",
       "      <td>1.644437</td>\n",
       "      <td>agueda</td>\n",
       "      <td>0101</td>\n",
       "      <td>POLYGON ((-8.37635 40.69291, -8.37624 40.69271...</td>\n",
       "      <td>7.842431</td>\n",
       "      <td>2.114756</td>\n",
       "      <td>...</td>\n",
       "      <td>NaN</td>\n",
       "      <td>NaN</td>\n",
       "      <td>NaN</td>\n",
       "      <td>NaN</td>\n",
       "      <td>NaN</td>\n",
       "      <td>NaN</td>\n",
       "      <td>NaN</td>\n",
       "      <td>NaN</td>\n",
       "      <td>NaN</td>\n",
       "      <td>NaN</td>\n",
       "    </tr>\n",
       "    <tr>\n",
       "      <th>4</th>\n",
       "      <td>PT.AV.AG</td>\n",
       "      <td>1991Q1</td>\n",
       "      <td>-4.932674</td>\n",
       "      <td>0.002001</td>\n",
       "      <td>2.001435</td>\n",
       "      <td>agueda</td>\n",
       "      <td>0101</td>\n",
       "      <td>POLYGON ((-8.37635 40.69291, -8.37624 40.69271...</td>\n",
       "      <td>-2.779849</td>\n",
       "      <td>7.842431</td>\n",
       "      <td>...</td>\n",
       "      <td>NaN</td>\n",
       "      <td>NaN</td>\n",
       "      <td>NaN</td>\n",
       "      <td>NaN</td>\n",
       "      <td>NaN</td>\n",
       "      <td>NaN</td>\n",
       "      <td>NaN</td>\n",
       "      <td>NaN</td>\n",
       "      <td>NaN</td>\n",
       "      <td>NaN</td>\n",
       "    </tr>\n",
       "  </tbody>\n",
       "</table>\n",
       "<p>5 rows × 50 columns</p>\n",
       "</div>"
      ],
      "text/plain": [
       "  district_id    time  t2m_wtd_hd  tp_wtd_hd  tp_1000_wtd_hd  NAME_2 CCA_2  \\\n",
       "0    PT.AV.AG  1990Q1   -2.837953  -0.001022       -1.021550  agueda  0101   \n",
       "1    PT.AV.AG  1990Q2    2.114756  -0.002236       -2.235930  agueda  0101   \n",
       "2    PT.AV.AG  1990Q3    7.842431  -0.002480       -2.479658  agueda  0101   \n",
       "3    PT.AV.AG  1990Q4   -2.779849   0.001644        1.644437  agueda  0101   \n",
       "4    PT.AV.AG  1991Q1   -4.932674   0.002001        2.001435  agueda  0101   \n",
       "\n",
       "                                            geometry  t2m_wtd_L1_hd  \\\n",
       "0  POLYGON ((-8.37635 40.69291, -8.37624 40.69271...            NaN   \n",
       "1  POLYGON ((-8.37635 40.69291, -8.37624 40.69271...      -2.837953   \n",
       "2  POLYGON ((-8.37635 40.69291, -8.37624 40.69271...       2.114756   \n",
       "3  POLYGON ((-8.37635 40.69291, -8.37624 40.69271...       7.842431   \n",
       "4  POLYGON ((-8.37635 40.69291, -8.37624 40.69271...      -2.779849   \n",
       "\n",
       "   t2m_wtd_L2_hd  ...  medit_factor_tp  medit_factor_t2m  medit_factor_tp_L1  \\\n",
       "0            NaN  ...              NaN               NaN                 NaN   \n",
       "1            NaN  ...              NaN               NaN                 NaN   \n",
       "2      -2.837953  ...              NaN               NaN                 NaN   \n",
       "3       2.114756  ...              NaN               NaN                 NaN   \n",
       "4       7.842431  ...              NaN               NaN                 NaN   \n",
       "\n",
       "   medit_factor_tp_L2  medit_factor_tp_L3  medit_factor_tp_L4  \\\n",
       "0                 NaN                 NaN                 NaN   \n",
       "1                 NaN                 NaN                 NaN   \n",
       "2                 NaN                 NaN                 NaN   \n",
       "3                 NaN                 NaN                 NaN   \n",
       "4                 NaN                 NaN                 NaN   \n",
       "\n",
       "   medit_factor_t2m_L1  medit_factor_t2m_L2  medit_factor_t2m_L3  \\\n",
       "0                  NaN                  NaN                  NaN   \n",
       "1                  NaN                  NaN                  NaN   \n",
       "2                  NaN                  NaN                  NaN   \n",
       "3                  NaN                  NaN                  NaN   \n",
       "4                  NaN                  NaN                  NaN   \n",
       "\n",
       "   medit_factor_t2m_L4  \n",
       "0                  NaN  \n",
       "1                  NaN  \n",
       "2                  NaN  \n",
       "3                  NaN  \n",
       "4                  NaN  \n",
       "\n",
       "[5 rows x 50 columns]"
      ]
     },
     "execution_count": 35,
     "metadata": {},
     "output_type": "execute_result"
    }
   ],
   "source": [
    "final_era5_df.head()"
   ]
  },
  {
   "cell_type": "markdown",
   "metadata": {},
   "source": [
    "## New Variables for Model"
   ]
  },
  {
   "cell_type": "code",
   "execution_count": 36,
   "metadata": {},
   "outputs": [],
   "source": [
    "import numpy as np\n",
    "final_era5_df['tp_2_wtd_hd'] = final_era5_df.groupby('district_id')['tp_1000_wtd_hd'].transform(lambda x: x**2)\n",
    "final_era5_df['tp_3_wtd_hd'] = final_era5_df.groupby('district_id')['tp_1000_wtd_hd'].transform(lambda x: x**3)\n",
    "final_era5_df['t2m_2_wtd_hd'] = final_era5_df.groupby('district_id')['t2m_wtd_hd'].transform(lambda x: x**2)\n",
    "final_era5_df['t2m_3_wtd_hd'] = final_era5_df.groupby('district_id')['t2m_wtd_hd'].transform(lambda x: x**3)\n",
    "\n"
   ]
  },
  {
   "cell_type": "code",
   "execution_count": 37,
   "metadata": {},
   "outputs": [],
   "source": [
    "for var in ['tp_2_wtd_hd', 'tp_3_wtd_hd', 't2m_2_wtd_hd', 't2m_3_wtd_hd']:\n",
    "    for i in range(1, 5):\n",
    "        shift_var_name = f'{var}_L{i}'\n",
    "        final_era5_df[shift_var_name] = final_era5_df.groupby('district_id')[var].shift(i)"
   ]
  },
  {
   "cell_type": "code",
   "execution_count": 38,
   "metadata": {},
   "outputs": [],
   "source": [
    "final_era5_df = final_era5_df.drop_duplicates(subset=['NAME_2', 'time'])"
   ]
  },
  {
   "cell_type": "markdown",
   "metadata": {},
   "source": [
    "## Save Data"
   ]
  },
  {
   "cell_type": "code",
   "execution_count": 42,
   "metadata": {},
   "outputs": [],
   "source": [
    "final_era5_df.to_excel(r'../../../countries/portugal/datasets/era5/excel/quarterly/complete_data_mun.xlsx')"
   ]
  }
 ],
 "metadata": {
  "kernelspec": {
   "display_name": "Python 3",
   "language": "python",
   "name": "python3"
  },
  "language_info": {
   "codemirror_mode": {
    "name": "ipython",
    "version": 3
   },
   "file_extension": ".py",
   "mimetype": "text/x-python",
   "name": "python",
   "nbconvert_exporter": "python",
   "pygments_lexer": "ipython3",
   "version": "3.12.5"
  }
 },
 "nbformat": 4,
 "nbformat_minor": 2
}
