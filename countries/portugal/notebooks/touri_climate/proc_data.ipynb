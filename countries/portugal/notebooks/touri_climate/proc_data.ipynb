{
 "cells": [
  {
   "cell_type": "code",
   "execution_count": 1,
   "metadata": {},
   "outputs": [],
   "source": [
    "import pandas as pd"
   ]
  },
  {
   "cell_type": "code",
   "execution_count": 11,
   "metadata": {},
   "outputs": [],
   "source": [
    "tour = pd.read_excel(r'/Users/dhruvnovaims/Downloads/TaJjsIZrdXQbLEPrbL_IitNCRA3507s1FJgCt3hB_78662.xls', skiprows=10)\n",
    "tour = tour.loc[:, ~tour.columns.str.startswith('Unnamed')]"
   ]
  },
  {
   "cell_type": "code",
   "execution_count": 15,
   "metadata": {},
   "outputs": [],
   "source": [
    "melted_df = pd.melt(tour, \n",
    "                    id_vars=['geoname', 'geocode'], \n",
    "                    var_name='date', \n",
    "                    value_name='value')"
   ]
  },
  {
   "cell_type": "code",
   "execution_count": 17,
   "metadata": {},
   "outputs": [],
   "source": [
    "melted_df['date'] = pd.to_datetime(melted_df['date'], format='%B %Y')\n"
   ]
  },
  {
   "cell_type": "code",
   "execution_count": 18,
   "metadata": {},
   "outputs": [
    {
     "data": {
      "text/html": [
       "<div>\n",
       "<style scoped>\n",
       "    .dataframe tbody tr th:only-of-type {\n",
       "        vertical-align: middle;\n",
       "    }\n",
       "\n",
       "    .dataframe tbody tr th {\n",
       "        vertical-align: top;\n",
       "    }\n",
       "\n",
       "    .dataframe thead th {\n",
       "        text-align: right;\n",
       "    }\n",
       "</style>\n",
       "<table border=\"1\" class=\"dataframe\">\n",
       "  <thead>\n",
       "    <tr style=\"text-align: right;\">\n",
       "      <th></th>\n",
       "      <th>geoname</th>\n",
       "      <th>geocode</th>\n",
       "      <th>date</th>\n",
       "      <th>value</th>\n",
       "    </tr>\n",
       "  </thead>\n",
       "  <tbody>\n",
       "    <tr>\n",
       "      <th>0</th>\n",
       "      <td>Portugal</td>\n",
       "      <td>PT</td>\n",
       "      <td>2024-07-01</td>\n",
       "      <td>3208199.0</td>\n",
       "    </tr>\n",
       "    <tr>\n",
       "      <th>1</th>\n",
       "      <td>Continente</td>\n",
       "      <td>1</td>\n",
       "      <td>2024-07-01</td>\n",
       "      <td>2894736.0</td>\n",
       "    </tr>\n",
       "    <tr>\n",
       "      <th>2</th>\n",
       "      <td>Norte</td>\n",
       "      <td>11</td>\n",
       "      <td>2024-07-01</td>\n",
       "      <td>726699.0</td>\n",
       "    </tr>\n",
       "    <tr>\n",
       "      <th>3</th>\n",
       "      <td>Alto Minho</td>\n",
       "      <td>111</td>\n",
       "      <td>2024-07-01</td>\n",
       "      <td>59655.0</td>\n",
       "    </tr>\n",
       "    <tr>\n",
       "      <th>4</th>\n",
       "      <td>Arcos de Valdevez</td>\n",
       "      <td>1111601</td>\n",
       "      <td>2024-07-01</td>\n",
       "      <td>5524.0</td>\n",
       "    </tr>\n",
       "    <tr>\n",
       "      <th>...</th>\n",
       "      <td>...</td>\n",
       "      <td>...</td>\n",
       "      <td>...</td>\n",
       "      <td>...</td>\n",
       "    </tr>\n",
       "    <tr>\n",
       "      <th>18915</th>\n",
       "      <td>Porto Santo</td>\n",
       "      <td>3003201</td>\n",
       "      <td>2020-01-01</td>\n",
       "      <td>1923.0</td>\n",
       "    </tr>\n",
       "    <tr>\n",
       "      <th>18916</th>\n",
       "      <td>Ribeira Brava</td>\n",
       "      <td>3003107</td>\n",
       "      <td>2020-01-01</td>\n",
       "      <td>584.0</td>\n",
       "    </tr>\n",
       "    <tr>\n",
       "      <th>18917</th>\n",
       "      <td>Santa Cruz</td>\n",
       "      <td>3003108</td>\n",
       "      <td>2020-01-01</td>\n",
       "      <td>9973.0</td>\n",
       "    </tr>\n",
       "    <tr>\n",
       "      <th>18918</th>\n",
       "      <td>Santana</td>\n",
       "      <td>3003109</td>\n",
       "      <td>2020-01-01</td>\n",
       "      <td>666.0</td>\n",
       "    </tr>\n",
       "    <tr>\n",
       "      <th>18919</th>\n",
       "      <td>São Vicente</td>\n",
       "      <td>3003110</td>\n",
       "      <td>2020-01-01</td>\n",
       "      <td>1466.0</td>\n",
       "    </tr>\n",
       "  </tbody>\n",
       "</table>\n",
       "<p>18920 rows × 4 columns</p>\n",
       "</div>"
      ],
      "text/plain": [
       "                 geoname  geocode       date      value\n",
       "0               Portugal       PT 2024-07-01  3208199.0\n",
       "1             Continente        1 2024-07-01  2894736.0\n",
       "2                  Norte       11 2024-07-01   726699.0\n",
       "3             Alto Minho      111 2024-07-01    59655.0\n",
       "4      Arcos de Valdevez  1111601 2024-07-01     5524.0\n",
       "...                  ...      ...        ...        ...\n",
       "18915        Porto Santo  3003201 2020-01-01     1923.0\n",
       "18916      Ribeira Brava  3003107 2020-01-01      584.0\n",
       "18917         Santa Cruz  3003108 2020-01-01     9973.0\n",
       "18918            Santana  3003109 2020-01-01      666.0\n",
       "18919        São Vicente  3003110 2020-01-01     1466.0\n",
       "\n",
       "[18920 rows x 4 columns]"
      ]
     },
     "execution_count": 18,
     "metadata": {},
     "output_type": "execute_result"
    }
   ],
   "source": [
    "melted_df"
   ]
  }
 ],
 "metadata": {
  "kernelspec": {
   "display_name": "Python 3",
   "language": "python",
   "name": "python3"
  },
  "language_info": {
   "codemirror_mode": {
    "name": "ipython",
    "version": 3
   },
   "file_extension": ".py",
   "mimetype": "text/x-python",
   "name": "python",
   "nbconvert_exporter": "python",
   "pygments_lexer": "ipython3",
   "version": "3.12.5"
  }
 },
 "nbformat": 4,
 "nbformat_minor": 2
}
